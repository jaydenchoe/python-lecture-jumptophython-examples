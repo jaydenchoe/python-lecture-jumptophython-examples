{
 "cells": [
  {
   "cell_type": "markdown",
   "metadata": {},
   "source": [
    "# 🍳 파이썬 모듈(Module) 완전 정복! 나만의 챗봇 만들기\n",
    "\n",
    "안녕하세요! 코딩의 세계에 첫 발을 내디딘 여러분을 환영합니다. 🎉\n",
    "\n",
    "오늘은 파이썬의 아주 중요한 개념인 **모듈(Module)**에 대해 배워볼 거예요. 어려운 문법 용어 대신, 우리만의 귀여운 챗봇을 직접 만들면서 쉽고 재미있게 알아봅시다! 자, 준비되셨나요?"
   ]
  },
  {
   "cell_type": "markdown",
   "metadata": {},
   "source": [
    "## 🤖 모듈(Module)이 뭔가요?\n",
    "\n",
    "모듈은 파이썬 코드계의 **레고 블록**이라고 생각하면 쉬워요. 우리가 자주 사용하는 기능들(함수, 변수, 클래스)을 **미리 만들어 둔 파이썬 파일(.py)**이죠.\n",
    "\n",
    "이렇게 만들어 둔 모듈(레고 블록)을 필요할 때마다 가져와서(`import`) 조립하면, 아무리 복잡한 프로그램이라도 아주 쉽고 깔끔하게 만들 수 있답니다.\n",
    "\n",
    "오늘은 우리 챗봇의 '두뇌' 역할을 할 모듈을 직접 만들어 볼 거예요!"
   ]
  },
  {
   "cell_type": "markdown",
   "metadata": {},
   "source": [
    "## 🧠 1단계: 챗봇의 두뇌 만들기 (모듈 생성)\n",
    "\n",
    "가장 먼저, 우리 챗봇이 할 여러 가지 말들을 담아둘 '두뇌' 파일을 만들어 볼게요.\n",
    "\n",
    "구글 코랩에서는 특별한 명령어 `%%writefile`을 사용해서 간단하게 파이썬 파일을 만들 수 있어요. 아래 코드를 실행해서 `chatbot_brain.py` 라는 파일을 만들어 봅시다.\n",
    "\n",
    "이 파일이 바로 우리 챗봇의 첫 번째 **모듈**이 되는 거예요! 파이썬에서는 `.py`로 끝나는 모든 파일이 모듈이 될 수 있답니다."
   ]
  },
  {
   "cell_type": "code",
   "execution_count": null,
   "metadata": {},
   "outputs": [],
   "source": [
    "%%writefile chatbot_brain.py\n",
    "# 이 파일의 이름은 chatbot_brain.py 입니다.\n",
    "# 챗봇의 두뇌 역할을 하는 모듈이죠.\n",
    "\n",
    "def say_hello():\n",
    "    return \"안녕하세요! 만나서 반가워요. 😊\"\n",
    "\n",
    "def say_goodbye():\n",
    "    return \"다음에 또 만나요! 안녕! 👋\""
   ]
  },
  {
   "cell_type": "markdown",
   "metadata": {},
   "source": [
    "## 💡 2단계: 챗봇 두뇌 불러오기 (import)\n",
    "\n",
    "자, 이제 방금 만든 `chatbot_brain.py` 모듈을 우리 메인 프로그램으로 불러와 볼게요.\n",
    "\n",
    "모듈을 불러올 때는 `import` 라는 마법의 주문을 사용해요. `import 모듈이름` 형식으로 쓰면 된답니다. 모듈의 함수를 사용할 때는 `모듈이름.함수이름()` 형식으로 점(.)을 찍어서 사용해요.\n",
    "\n",
    "> **⚠️ 주의!** 모듈 이름 뒤에 `.py`는 붙이지 않아요! (`import chatbot_brain.py` (X) -> `import chatbot_brain` (O))"
   ]
  },
  {
   "cell_type": "code",
   "execution_count": null,
   "metadata": {},
   "outputs": [],
   "source": [
    "import chatbot_brain\n",
    "\n",
    "# 모듈의 함수를 사용하려면 \"모듈이름.함수이름()\" 형식으로 호출해요.\n",
    "greeting = chatbot_brain.say_hello()\n",
    "print(greeting)\n",
    "\n",
    "farewell = chatbot_brain.say_goodbye()\n",
    "print(farewell)"
   ]
  },
  {
   "cell_type": "markdown",
   "metadata": {},
   "source": [
    "## ✨ 3단계: 필요한 기능만 쏙쏙 골라오기 (from ... import)\n",
    "\n",
    "때로는 `chatbot_brain.say_hello()` 처럼 매번 모듈 이름을 붙이는 게 조금 길고 귀찮게 느껴질 수 있어요.\n",
    "\n",
    "그럴 땐 `from 모듈이름 import 함수이름` 을 사용해서 필요한 함수만 콕 집어서 가져올 수 있답니다. 이렇게 가져온 함수는 모듈 이름을 붙이지 않고 바로 사용할 수 있어서 코드가 더 간결해져요."
   ]
  },
  {
   "cell_type": "code",
   "execution_count": null,
   "metadata": {},
   "outputs": [],
   "source": [
    "from chatbot_brain import say_hello\n",
    "\n",
    "# 이제 모듈 이름을 붙이지 않고 바로 함수를 사용할 수 있어요!\n",
    "greeting = say_hello()\n",
    "print(greeting)"
   ]
  },
  {
   "cell_type": "markdown",
   "metadata": {},
   "source": [
    "만약 모듈에 있는 **모든** 함수를 가져오고 싶다면 `*` (별표, Asterisk)를 사용할 수 있어요. `*`는 프로그래밍에서 '모든 것'이라는 의미로 자주 사용된답니다."
   ]
  },
  {
   "cell_type": "code",
   "execution_count": null,
   "metadata": {},
   "outputs": [],
   "source": [
    "from chatbot_brain import *\n",
    "\n",
    "# say_hello와 say_goodbye 함수 모두 바로 사용할 수 있어요.\n",
    "print(say_hello())\n",
    "print(say_goodbye())"
   ]
  },
  {
   "cell_type": "markdown",
   "metadata": {},
   "source": [
    "## 🚀 4단계: 모듈의 비밀 스위치! `if __name__ == \"__main__\"`\n",
    "\n",
    "이건 정말 중요하면서도 유용한 개념이에요! 조금 어려워 보이지만, 원리는 간단해요.\n",
    "\n",
    "우리가 만든 `chatbot_brain.py` 파일을 두 가지 용도로 사용하고 싶을 때가 있어요.\n",
    "1.  **모듈 용도:** 다른 파일에서 `import`해서 함수를 가져다 쓰는 용도\n",
    "2.  **실행 용도:** 모듈이 잘 만들어졌는지 테스트하기 위해 직접 실행하는 용도\n",
    "\n",
    "이때 `if __name__ == \"__main__\":` 이라는 비밀 스위치를 사용해요. 파이썬은 파일을 실행하는 방식에 따라 `__name__` 이라는 특별한 변수에 다른 값을 넣어줘요.\n",
    "\n",
    "-   **직접 실행 시:** `python chatbot_brain.py` 처럼 직접 실행하면, `__name__` 변수에는 `\"__main__\"` 이라는 값이 들어있어요.\n",
    "-   **import 될 때:** 다른 파일에서 `import chatbot_brain` 으로 불러오면, `__name__` 변수에는 모듈 이름인 `\"chatbot_brain\"`이 들어있어요.\n",
    "\n",
    "이 원리를 이용해서 **직접 실행할 때만 동작하는 테스트 코드**를 모듈 안에 넣어둘 수 있는 거죠! 아래 코드로 `chatbot_brain.py` 파일을 업그레이드해 봅시다."
   ]
  },
  {
   "cell_type": "code",
   "execution_count": null,
   "metadata": {},
   "outputs": [],
   "source": [
    "%%writefile chatbot_brain.py\n",
    "# chatbot_brain.py (업그레이드 버전)\n",
    "\n",
    "def say_hello():\n",
    "    return \"안녕하세요! 만나서 반가워요. 😊\"\n",
    "\n",
    "def say_goodbye():\n",
    "    return \"다음에 또 만나요! 안녕! 👋\"\n",
    "\n",
    "# 이 파일을 \"직접 실행\"했을 때만 아래 코드가 동작합니다.\n",
    "# import 될 때는 이 부분은 무시돼요!\n",
    "if __name__ == \"__main__\":\n",
    "    print(\"🤖 챗봇 두뇌 모듈 테스트 시작!\")\n",
    "    print(f\"say_hello() 함수 테스트: {say_hello()}\")\n",
    "    print(f\"say_goodbye() 함수 테스트: {say_goodbye()}\")\n",
    "    print(\"🤖 테스트 종료.\")"
   ]
  },
  {
   "cell_type": "markdown",
   "metadata": {},
   "source": [
    "이제 `import` 할 때와 직접 실행할 때 어떻게 다른지 확인해볼까요?\n",
    "\n",
    "먼저 `import`를 해보면, 아까와 달리 테스트 코드가 실행되지 않고 조용한 것을 볼 수 있어요."
   ]
  },
  {
   "cell_type": "code",
   "execution_count": null,
   "metadata": {},
   "outputs": [],
   "source": [
    "print(\"메인 프로그램에서 chatbot_brain 모듈을 import 합니다...\")\n",
    "\n",
    "import chatbot_brain\n",
    "\n",
    "# 모듈을 import만 하면 __name__ == \"__main__\" 부분이 실행되지 않아서 조용해요.\n",
    "print(\"\\n메인 프로그램에서 인사 함수를 호출합니다.\")\n",
    "print(chatbot_brain.say_hello())"
   ]
  },
  {
   "cell_type": "markdown",
   "metadata": {},
   "source": [
    "이번엔 터미널 명령어인 `!`를 이용해 코랩에서 `chatbot_brain.py` 파일을 **직접 실행**해 볼게요. `if __name__ == \"__main__\"` 안에 넣어두었던 테스트 코드가 실행되는 걸 볼 수 있을 거예요!"
   ]
  },
  {
   "cell_type": "code",
   "execution_count": null,
   "metadata": {},
   "outputs": [],
   "source": [
    "!python chatbot_brain.py"
   ]
  },
  {
   "cell_type": "markdown",
   "metadata": {},
   "source": [
    "## 🎨 5단계: 챗봇 프로필 모듈 만들기 (변수, 클래스)\n",
    "\n",
    "모듈에는 함수뿐만 아니라, 챗봇의 이름이나 나이 같은 **정보(변수)**나, 사용자의 정보를 기억하는 **설계도(클래스)**도 담을 수 있어요.\n",
    "\n",
    "이번에는 챗봇의 프로필 정보를 담은 `chatbot_info.py` 모듈을 만들어 볼게요."
   ]
  },
  {
   "cell_type": "code",
   "execution_count": null,
   "metadata": {},
   "outputs": [],
   "source": [
    "%%writefile chatbot_info.py\n",
    "# chatbot_info.py\n",
    "\n",
    "# 챗봇의 정보를 담은 변수\n",
    "BOT_NAME = \"코딩 친구 젬\"\n",
    "BIRTH_YEAR = 2024\n",
    "\n",
    "# 사용자의 정보를 저장하는 클래스 (객체를 만드는 설계도)\n",
    "class User:\n",
    "    def __init__(self, name):\n",
    "        self.name = name\n",
    "\n",
    "    def introduce(self):\n",
    "        return f\"제 이름은 {self.name}입니다.\""
   ]
  },
  {
   "cell_type": "markdown",
   "metadata": {},
   "source": [
    "이제 새로 만든 `chatbot_info` 모듈을 `import` 해서 변수와 클래스를 사용해 봅시다. 다른 모듈을 사용하는 방법과 완전히 똑같아요!"
   ]
  },
  {
   "cell_type": "code",
   "execution_count": null,
   "metadata": {},
   "outputs": [],
   "source": [
    "import chatbot_info\n",
    "from datetime import datetime # 파이썬 기본 내장 모듈인 datetime도 불러와요!\n",
    "\n",
    "# 모듈의 변수 사용하기\n",
    "print(f\"제 이름은 {chatbot_info.BOT_NAME}이에요.\")\n",
    "\n",
    "# datetime 모듈을 사용해서 나이 계산하기\n",
    "current_year = datetime.now().year\n",
    "age = current_year - chatbot_info.BIRTH_YEAR\n",
    "print(f\"저는 {age}살이랍니다.\")\n",
    "\n",
    "# 모듈의 클래스로 객체(인스턴스) 만들기\n",
    "user1 = chatbot_info.User(\"홍길동\") # User 라는 설계도로 user1 이라는 실제 객체를 만들어요.\n",
    "print(user1.introduce())"
   ]
  },
  {
   "cell_type": "markdown",
   "metadata": {},
   "source": [
    "## 🤖 최종 단계: 모든 모듈 조립해서 챗봇 완성하기!\n",
    "\n",
    "자, 이제 우리가 만든 `chatbot_brain`과 `chatbot_info` 두 개의 모듈(레고 블록)을 모두 조립해서 간단한 챗봇 프로그램을 완성해 봅시다.\n",
    "\n",
    "이것이 바로 모듈을 사용하는 가장 큰 이유예요. 각자 다른 기능을 가진 부품(모듈)들을 합쳐서 하나의 멋진 프로그램을 만드는 거죠! 이렇게 하면 코드를 관리하기가 훨씬 쉬워진답니다."
   ]
  },
  {
   "cell_type": "code",
   "execution_count": null,
   "metadata": {},
   "outputs": [],
   "source": [
    "import chatbot_brain\n",
    "import chatbot_info\n",
    "\n",
    "# 챗봇 정보 출력\n",
    "print(f\"안녕하세요! 저는 '{chatbot_info.BOT_NAME}'입니다.\")\n",
    "print(\"무엇을 도와드릴까요?\")\n",
    "print(\"1: 인사하기\")\n",
    "print(\"2: 작별인사하기\")\n",
    "print(\"--------------------\")\n",
    "\n",
    "# 사용자 입력 받기\n",
    "choice = input(\"원하는 기능의 번호를 입력하세요: \")\n",
    "\n",
    "# 사용자의 선택에 따라 다른 기능 실행\n",
    "if choice == '1':\n",
    "    print(chatbot_brain.say_hello())\n",
    "elif choice == '2':\n",
    "    print(chatbot_brain.say_goodbye())\n",
    "else:\n",
    "    print(\"잘못된 번호입니다. 1 또는 2를 입력해주세요.\")"
   ]
  },
  {
   "cell_type": "markdown",
   "metadata": {},
   "source": [
    "---\n",
    "\n",
    "## 🎯 두뇌 트레이닝! 혼자 해보는 연습 문제 (수정본)\n",
    "\n",
    "이제 배운 내용을 바탕으로 직접 코드를 완성해보세요!\n",
    "아래 문제들의 코드 셀에서 `___` 부분을 지우고 알맞은 코드를 채워 넣으면 됩니다."
   ]
  },
  {
   "cell_type": "markdown",
   "metadata": {},
   "source": [
    "**문제 1:** `chatbot_brain` 모듈에 오늘의 추천 메뉴를 알려주는 `recommend_menu()` 함수를 추가하고, 아래 코드에서 호출해보세요."
   ]
  },
  {
   "cell_type": "code",
   "execution_count": null,
   "metadata": {},
   "outputs": [],
   "source": [
    "# `-a` 옵션은 파일의 맨 뒤에 내용을 추가(append)하라는 의미입니다.\n",
    "%%writefile -a chatbot_brain.py\n",
    "\n",
    "def recommend_menu():\n",
    "  return \"오늘 점심은 맛있는 파스타 어떠세요? 🍝\""
   ]
  },
  {
   "cell_type": "code",
   "execution_count": null,
   "metadata": {},
   "outputs": [],
   "source": [
    "import chatbot_brain\n",
    "\n",
    "# ___ 부분을 채워 recommend_menu 함수를 호출하고 결과를 출력하세요.\n",
    "menu = ___\n",
    "print(menu)"
   ]
  },
  {
   "cell_type": "markdown",
   "metadata": {},
   "source": [
    "**문제 2:** `from ... import` 를 사용해서 `chatbot_brain` 모듈의 `say_goodbye` 함수만 가져와서 호출해보세요."
   ]
  },
  {
   "cell_type": "code",
   "execution_count": null,
   "metadata": {},
   "outputs": [],
   "source": [
    "# ___ 부분을 채워 say_goodbye 함수만 import 하세요.\n",
    "from chatbot_brain import ___\n",
    "\n",
    "# ___ 부분을 채워 함수를 호출하고 결과를 출력하세요.\n",
    "print(___)"
   ]
  },
  {
   "cell_type": "markdown",
   "metadata": {},
   "source": [
    "**문제 3:** `chatbot_info` 모듈의 `BOT_NAME` 변수를 `my_bot_name` 이라는 새로운 이름(별명)으로 가져와서 출력해보세요. (`import ... as ...` 사용)"
   ]
  },
  {
   "cell_type": "code",
   "execution_count": null,
   "metadata": {},
   "outputs": [],
   "source": [
    "# ___ 부분을 채워 BOT_NAME 변수를 my_bot_name 으로 import 하세요.\n",
    "from chatbot_info import BOT_NAME as ___\n",
    "\n",
    "print(f\"내 챗봇의 이름은 {my_bot_name}이야!\")"
   ]
  },
  {
   "cell_type": "markdown",
   "metadata": {},
   "source": [
    "**문제 4:** `calculator.py` 라는 새로운 모듈을 만들어보세요. 이 모듈에는 두 숫자를 곱하는 `multiply(a, b)` 함수가 들어있어야 합니다."
   ]
  },
  {
   "cell_type": "code",
   "execution_count": null,
   "metadata": {},
   "outputs": [],
   "source": [
    "# ___ 부분을 채워 calculator.py 파일을 만드세요.\n",
    "%%writefile ___\n",
    "def multiply(a, b):\n",
    "  return a * b"
   ]
  },
  {
   "cell_type": "code",
   "execution_count": null,
   "metadata": {},
   "outputs": [],
   "source": [
    "import calculator\n",
    "print(f\"5 * 3 = {calculator.multiply(5, 3)}\")"
   ]
  },
  {
   "cell_type": "markdown",
   "metadata": {},
   "source": [
    "**문제 5:** 방금 만든 `calculator` 모듈을 `calc` 라는 별명으로 `import` 해서 `multiply` 함수를 사용해보세요."
   ]
  },
  {
   "cell_type": "code",
   "execution_count": null,
   "metadata": {},
   "outputs": [],
   "source": [
    "# ___ 부분을 채워 calculator 모듈을 calc 라는 별명으로 import 하세요.\n",
    "import calculator as ___\n",
    "\n",
    "# ___ 부분을 채워 calc를 이용해 함수를 호출하세요.\n",
    "result = ___.multiply(10, 2)\n",
    "print(f\"10 * 2 = {result}\")"
   ]
  },
  {
   "cell_type": "markdown",
   "metadata": {},
   "source": [
    "**문제 6:** `chatbot_brain` 모듈에 현재 시간을 알려주는 `get_time()` 함수를 추가해보세요. (힌트: `datetime` 모듈을 `chatbot_brain.py` 안에서 `import` 해야 해요!)"
   ]
  },
  {
   "cell_type": "code",
   "execution_count": null,
   "metadata": {},
   "outputs": [],
   "source": [
    "%%writefile -a chatbot_brain.py\n",
    "from datetime import datetime\n",
    "\n",
    "def get_time():\n",
    "  now = datetime.now()\n",
    "  return f\"현재 시간은 {now.hour}시 {now.minute}분입니다. ⏰\""
   ]
  },
  {
   "cell_type": "code",
   "execution_count": null,
   "metadata": {},
   "outputs": [],
   "source": [
    "from chatbot_brain import get_time\n",
    "\n",
    "# ___ 부분을 채워 get_time 함수를 호출하세요.\n",
    "print(___)"
   ]
  },
  {
   "cell_type": "markdown",
   "metadata": {},
   "source": [
    "**문제 7:** `chatbot_info` 모듈의 `User` 클래스를 사용해서, 이름이 \"김코딩\"인 `user2` 객체를 만들고 `introduce()` 메소드를 호출해보세요."
   ]
  },
  {
   "cell_type": "code",
   "execution_count": null,
   "metadata": {},
   "outputs": [],
   "source": [
    "import chatbot_info\n",
    "\n",
    "# ___ 부분을 채워 \"김코딩\" 이라는 이름의 User 객체를 만드세요.\n",
    "user2 = chatbot_info.User(___)\n",
    "\n",
    "# ___ 부분을 채워 user2의 introduce 메소드를 호출하고 결과를 출력하세요.\n",
    "print(___)"
   ]
  },
  {
   "cell_type": "markdown",
   "metadata": {},
   "source": [
    "**문제 8:** `chatbot_brain.py` 파일을 덮어쓰기해서, 직접 실행했을 때만 \"챗봇 두뇌 모듈입니다.\" 라고 출력되도록 `if __name__ == \"__main__\"` 구문을 만들어보세요."
   ]
  },
  {
   "cell_type": "code",
   "execution_count": null,
   "metadata": {},
   "outputs": [],
   "source": [
    "# 이번에는 -a 옵션 없이, 파일을 새로 덮어쓰기 합니다.\n",
    "%%writefile chatbot_brain.py\n",
    "# 기존 함수들은 간략하게 다시 정의합니다.\n",
    "def say_hello(): return \"Hi\"\n",
    "def say_goodbye(): return \"Bye\"\n",
    "\n",
    "# ___ 에 알맞은 코드를 넣어 if __name__ == \"__main__\" 블록을 만드세요.\n",
    "___ __name__ == ___:\n",
    "    print(\"챗봇 두뇌 모듈입니다.\")"
   ]
  },
  {
   "cell_type": "code",
   "execution_count": null,
   "metadata": {},
   "outputs": [],
   "source": [
    "# 아래 코드를 실행해서 테스트해보세요!\n",
    "!python chatbot_brain.py"
   ]
  },
  {
   "cell_type": "markdown",
   "metadata": {},
   "source": [
    "**문제 9:** `greetings.py` 라는 모듈을 만들고 아침인사(`morning`), 점심인사(`afternoon`), 저녁인사(`evening`) 함수를 각각 만들어보세요. 그 다음, `*`를 사용해 모든 함수를 `import`하고 호출해보세요."
   ]
  },
  {
   "cell_type": "code",
   "execution_count": null,
   "metadata": {},
   "outputs": [],
   "source": [
    "%%writefile greetings.py\n",
    "# 여기에 morning, afternoon, evening 함수 3개를 만드세요.\n",
    "def morning():\n",
    "  return \"좋은 아침! ☀️\"\n",
    "def afternoon():\n",
    "  return \"점심 식사는 하셨나요? 🍚\"\n",
    "def evening():\n",
    "  return \"편안한 저녁 되세요. 🌙\""
   ]
  },
  {
   "cell_type": "code",
   "execution_count": null,
   "metadata": {},
   "outputs": [],
   "source": [
    "# ___ 부분을 채워 greetings 모듈의 모든 함수를 import 하세요.\n",
    "from greetings import ___\n",
    "\n",
    "print(morning())\n",
    "print(afternoon())\n",
    "print(evening())"
   ]
  },
  {
   "cell_type": "markdown",
   "metadata": {},
   "source": [
    "**문제 10:** `chatbot_info.py` 모듈에 챗봇의 MBTI를 저장하는 `BOT_MBTI` 라는 변수를 추가하고, 아래 코드에서 출력해보세요."
   ]
  },
  {
   "cell_type": "code",
   "execution_count": null,
   "metadata": {},
   "outputs": [],
   "source": [
    "# chatbot_info.py 파일의 끝에 BOT_MBTI 변수를 추가하세요.\n",
    "%%writefile -a chatbot_info.py\n",
    "\n",
    "___ = \"ENFP\""
   ]
  },
  {
   "cell_type": "code",
   "execution_count": null,
   "metadata": {},
   "outputs": [],
   "source": [
    "# chatbot_info 모듈을 다시 불러와야 최신 변경사항이 적용됩니다.\n",
    "import importlib\n",
    "import chatbot_info\n",
    "importlib.reload(chatbot_info)\n",
    "\n",
    "# ___ 부분을 채워 BOT_MBTI 변수를 출력하세요.\n",
    "print(f\"제 MBTI는 {chatbot_info.___} 랍니다!\")"
   ]
  }
 ],
 "metadata": {
  "colab": {
   "provenance": []
  },
  "kernelspec": {
   "display_name": "base",
   "language": "python",
   "name": "python3"
  },
  "language_info": {
   "name": "python",
   "version": "3.12.11"
  }
 },
 "nbformat": 4,
 "nbformat_minor": 0
}
