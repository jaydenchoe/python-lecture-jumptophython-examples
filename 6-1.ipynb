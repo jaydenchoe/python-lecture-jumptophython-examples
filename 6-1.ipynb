{
 "cells": [
  {
   "cell_type": "markdown",
   "metadata": {},
   "source": [
    "# 🐍 파이썬 쌩초보를 위한 챗봇 만들기 (1탄: 구구단 챗봇)\n",
    "\n",
    "안녕하세요! 코딩을 처음 배우는 여러분을 환영합니다. 🎉\n",
    "\n",
    "파이썬 문법을 막 배우기 시작하면 '이걸로 도대체 뭘 만들 수 있지?'라는 생각이 들곤 해요. 그럴 땐 아주 간단한 프로그램을 직접 만들어보면서 자신감을 얻는 게 최고예요! \n",
    "\n",
    "오늘은 우리만의 첫 번째 프로그램, **구구단 챗봇**을 만들어 볼 거예요. 이 과정을 통해 파이썬의 가장 기본적인 기능들을 쉽고 재미있게 배워봅시다. 프로그램을 만들 땐 '컴퓨터한테 어떤 정보를 주고(입력), 어떤 결과를 받을지(출력)'를 먼저 생각하면 훨씬 쉬워져요."
   ]
  },
  {
   "cell_type": "markdown",
   "metadata": {},
   "source": [
    "## 💬 1단계: 챗봇에게 말하는 법 가르치기 (`print`)\n",
    "\n",
    "가장 먼저, 우리 챗봇이 스스로 말을 하게 만들어야겠죠? 파이썬에서는 `print()` 함수를 사용하면 컴퓨터가 화면에 글자를 보여줄 수 있어요. 괄호 안에 따옴표(`\"\"` 또는 `''`)로 감싸서 원하는 글자를 넣어주면 됩니다."
   ]
  },
  {
   "cell_type": "code",
   "execution_count": null,
   "metadata": {},
   "outputs": [],
   "source": [
    "print(\"안녕! 나는 구구단 챗봇이야.\")\n",
    "print(\"만나서 반가워!\")"
   ]
  },
  {
   "cell_type": "markdown",
   "metadata": {},
   "source": [
    "## 👂 2단계: 챗봇이 우리 말 듣게 하기 (`input`과 변수)\n",
    "\n",
    "챗봇은 대화를 해야 제맛이죠! 이번에는 챗봇이 우리에게 질문하고, 우리가 답한 내용을 기억하게 만들어 볼게요. 사용자의 입력을 받는 기능은 `input()` 함수가 담당해요. 그리고 입력받은 값은 **변수(variable)** 라는 상자에 저장해서 나중에 다시 꺼내 쓸 수 있답니다."
   ]
  },
  {
   "cell_type": "code",
   "execution_count": null,
   "metadata": {},
   "outputs": [],
   "source": [
    "# input() 함수로 사용자에게 질문하고, 입력받은 값을 name 이라는 변수에 저장해요.\n",
    "name = input(\"네 이름은 뭐니? \")\n",
    "\n",
    "# + 기호를 사용해서 변수에 저장된 이름과 다른 글자를 붙여서 인사해줘요.\n",
    "print(name + \", 안녕? 만나서 반가워!\")"
   ]
  },
  {
   "cell_type": "markdown",
   "metadata": {},
   "source": [
    "## 🧠 3단계: 챗봇의 핵심 능력! 구구단 만들기 (함수와 리스트)\n",
    "\n",
    "이제 챗봇의 가장 중요한 능력인 구구단 계산 기능을 만들어볼게요. 특정 기능을 수행하는 코드 묶음을 **함수(function)** 라고 불러요. 함수를 만들어 두면 필요할 때마다 쉽게 불러서 쓸 수 있어요. 여기서는 `gugu` 라는 이름의 함수를 만들어 볼 거예요.\n",
    "\n",
    "구구단의 결과(예: 2, 4, 6, ...)는 여러 개의 값이죠? 이런 값들을 한 곳에 모아두기 위해 **리스트(list)** 라는 데이터 형태를 사용할 거예요. `[]` 대괄호로 만들고, `.append()`를 써서 새로운 값을 추가할 수 있어요."
   ]
  },
  {
   "cell_type": "code",
   "execution_count": null,
   "metadata": {},
   "outputs": [],
   "source": [
    "# gugu 라는 이름의 함수를 만들어요. n이라는 값을 입력으로 받아요.\n",
    "def gugu(n):\n",
    "    # 결과값을 담을 비어있는 리스트를 만들어요.\n",
    "    result = [] \n",
    "\n",
    "    # append를 사용해서 계산 결과를 하나씩 리스트에 추가해요.\n",
    "    # 조금 무식한 방법이지만, 원리를 이해하기엔 좋아요!\n",
    "    result.append(n * 1)\n",
    "    result.append(n * 2)\n",
    "    result.append(n * 3)\n",
    "    result.append(n * 4)\n",
    "    result.append(n * 5)\n",
    "    result.append(n * 6)\n",
    "    result.append(n * 7)\n",
    "    result.append(n * 8)\n",
    "    result.append(n * 9)\n",
    "\n",
    "    # 완성된 결과 리스트를 돌려줘요.\n",
    "    return result\n",
    "\n",
    "# gugu 함수를 불러서 2단을 계산하고, 결과를 화면에 출력해요.\n",
    "print(gugu(2))"
   ]
  },
  {
   "cell_type": "markdown",
   "metadata": {},
   "source": [
    "## ✨ 4단계: 똑똑하게 반복하기 (반복문 `while`)\n",
    "\n",
    "방금 전 코드, `result.append()`를 9번이나 쓰는 건 너무 비효율적이죠? 똑같은 일을 계속 반복할 때, 파이썬에서는 **반복문(loop)** 을 사용하면 코드가 훨씬 짧고 똑똑해져요.\n",
    "\n",
    "`while` 반복문은 특정 조건이 만족되는 동안 계속해서 코드 블록을 실행해요. 여기서는 1부터 9까지 숫자를 1씩 늘려가며 곱셈을 반복하도록 만들 거예요."
   ]
  },
  {
   "cell_type": "code",
   "execution_count": null,
   "metadata": {},
   "outputs": [],
   "source": [
    "# 훨씬 똑똑해진 gugu 함수!\n",
    "def gugu(n):\n",
    "    result = []\n",
    "    i = 1  # i 라는 변수를 1에서 시작해요.\n",
    "    \n",
    "    # i가 10보다 작은 동안 (즉, 9까지) 아래 코드를 계속 반복해요.\n",
    "    while i < 10: \n",
    "        result.append(n * i) \n",
    "        i = i + 1  # i에 1을 더해서 다음 숫자로 넘어가요. 이게 없으면 무한반복! 중요해요!\n",
    "    \n",
    "    return result\n",
    "\n",
    "# 똑똑해진 함수로 3단을 계산하고 출력해봐요.\n",
    "print(gugu(3))"
   ]
  },
  {
   "cell_type": "markdown",
   "metadata": {},
   "source": [
    "## 🤖 5단계: 모든 기능 합체! 진짜 챗봇 완성하기\n",
    "\n",
    "자, 이제 우리가 배운 `print`, `input`, `함수`, `반복문`을 모두 합쳐서 진짜 사용자랑 대화하는 구구단 챗봇을 완성해 봅시다! \n",
    "\n",
    "**중요!** `input()`으로 받은 값은 컴퓨터가 '글자'로 생각해요. 이걸 '숫자'로 바꿔줘야 계산할 수 있겠죠? `int()` 함수가 글자를 정수(integer) 숫자로 바꿔주는 역할을 한답니다."
   ]
  },
  {
   "cell_type": "code",
   "execution_count": null,
   "metadata": {},
   "outputs": [],
   "source": [
    "# 4단계에서 만든 똑똑한 gugu 함수를 그대로 가져와요.\n",
    "def gugu(n):\n",
    "    result = []\n",
    "    i = 1\n",
    "    while i < 10:\n",
    "        result.append(n * i)\n",
    "        i = i + 1\n",
    "    return result\n",
    "\n",
    "# --- 챗봇 대화 시작! ---\n",
    "print(\"안녕! 나는 구구단 챗봇이야. 원하는 구구단을 알려줄게.\")\n",
    "\n",
    "# 사용자에게 질문하고 '글자'로 된 숫자를 입력받아요.\n",
    "dan_str = input(\"몇 단을 보여줄까? 숫자를 입력해 줘: \")\n",
    "\n",
    "# int()를 사용해서 글자를 진짜 숫자로 바꿔줘요.\n",
    "dan_num = int(dan_str)\n",
    "\n",
    "# gugu 함수를 호출해서 구구단 결과를 계산해요.\n",
    "multiplication_table = gugu(dan_num)\n",
    "\n",
    "# 최종 결과를 예쁘게 출력해줘요.\n",
    "print(dan_num, \"단은 바로 이거야!\")\n",
    "print(multiplication_table)"
   ]
  },
  {
   "cell_type": "markdown",
   "metadata": {},
   "source": [
    "--- \n",
    "## ✏️ 챗봇 업그레이드를 위한 10가지 연습문제!\n",
    "\n",
    "이제 기본 개념을 모두 배웠어요. 아래 10가지 연습문제를 풀면서 우리 챗봇을 더 똑똑하고 다양하게 만들어 봅시다! "
   ]
  },
  {
   "cell_type": "markdown",
   "metadata": {},
   "source": [
    "### 문제 1: 구구단 예쁘게 출력하기\n",
    "지금 챗봇은 결과를 `[2, 4, 6, ...]` 처럼 리스트 형태로 보여줘요. 이걸 더 보기 좋게 한 줄씩 `2 * 1 = 2` 형식으로 보여주도록 코드를 수정해볼까요?\n",
    "\n",
    "**힌트:** `for i in range(1, 10):` 을 사용하면 1부터 9까지 반복할 수 있어요. `f-string`을 사용하면 변수와 글자를 합치기 편해요!"
   ]
  },
  {
   "cell_type": "code",
   "execution_count": null,
   "metadata": {},
   "outputs": [],
   "source": [
    "def pretty_gugu(n):\n",
    "  print(f\"{n}단을 예쁘게 보여줄게!\")\n",
    "  for i in range(1, 10):\n",
    "    # f-string을 이용해 \"n * i = 결과\" 형태로 출력하는 코드를 완성하세요.\n",
    "    # 빈칸에 들어가야 할 코드는? n과 i의 곱셈 결과!\n",
    "    print(f\"{n} * {i} = {      }\") \n",
    "\n",
    "dan_num = int(input(\"몇 단을 예쁘게 보여줄까? \"))\n",
    "pretty_gugu(dan_num)"
   ]
  },
  {
   "cell_type": "markdown",
   "metadata": {},
   "source": [
    "### 문제 2: 구구단 거꾸로 출력하기\n",
    "`n * 9` 부터 `n * 1` 순서로 거꾸로 구구단을 출력하는 `reverse_gugu` 함수를 만들어보세요.\n",
    "**힌트:** `range` 함수는 세 번째 숫자로 '증가량'을 조절할 수 있어요. `range(9, 0, -1)`은 9부터 1까지 1씩 감소하라는 뜻이에요."
   ]
  },
  {
   "cell_type": "code",
   "execution_count": null,
   "metadata": {},
   "outputs": [],
   "source": [
    "def reverse_gugu(n):\n",
    "  print(f\"{n}단을 거꾸로 보여줄게!\")\n",
    "  # 9부터 1까지 1씩 감소하며 반복하는 for문을 만드세요.\n",
    "  for i in range(      ,      ,      ): # 빈칸 세 개를 채워보세요\n",
    "    print(f\"{n} * {i} = {n*i}\")\n",
    "\n",
    "dan_num = int(input(\"몇 단을 거꾸로 보여줄까? \"))\n",
    "reverse_gugu(dan_num)"
   ]
  },
  {
   "cell_type": "markdown",
   "metadata": {},
   "source": [
    "### 문제 3: 짝수 결과만 보여주기\n",
    "구구단 결과 중에서 **짝수인 것만** 골라서 출력하는 `even_gugu` 함수를 만들어보세요.\n",
    "\n",
    "**힌트:** `if` 조건문과 나머지 연산자 `%`를 사용해보세요. 어떤 숫자를 2로 나눈 나머지(`number % 2`)가 0이면 그 숫자는 짝수예요."
   ]
  },
  {
   "cell_type": "code",
   "execution_count": null,
   "metadata": {},
   "outputs": [],
   "source": [
    "def even_gugu(n):\n",
    "  print(f\"{n}단 결과 중 짝수만 보여줄게!\")\n",
    "  for i in range(1, 10):\n",
    "    result = n * i\n",
    "    # 만약(if) result를 2로 나눈 나머지가 0이라면, 아래 코드를 실행해요.\n",
    "    if result % 2 ==       : # 빈칸을 채워 짝수인지 확인하는 조건을 만드세요.\n",
    "      print(f\"{n} * {i} = {result}\")\n",
    "\n",
    "dan_num = int(input(\"몇 단의 짝수 결과를 보여줄까? \"))\n",
    "even_gugu(dan_num)"
   ]
  },
  {
   "cell_type": "markdown",
   "metadata": {},
   "source": [
    "### 문제 4: 간단한 인사 챗봇\n",
    "사용자에게 이름과 좋아하는 색깔을 물어보고, \"안녕하세요, [이름]님! [색깔]은 정말 멋진 색이죠!\" 라고 인사하는 챗봇을 만들어보세요.\n",
    "**힌트:** `input()`을 두 번 사용해서 이름과 색깔을 각각 다른 변수에 저장하세요."
   ]
  },
  {
   "cell_type": "code",
   "execution_count": null,
   "metadata": {},
   "outputs": [],
   "source": [
    "print(\"간단한 인사 챗봇입니다.\")\n",
    "name = input(\"이름이 뭐예요? \")\n",
    "color = input(             ) # 좋아하는 색깔을 물어보는 질문으로 빈칸을 채우세요.\n",
    "\n",
    "# f-string을 사용해 name과 color 변수를 넣어 환영 메시지를 완성하세요.\n",
    "print(f\"안녕하세요, {name}님! {color}은(는) 정말 멋진 색이죠!\")"
   ]
  },
  {
   "cell_type": "markdown",
   "metadata": {},
   "source": [
    "### 문제 5: 숫자 더하기 계산기\n",
    "사용자에게 숫자 두 개를 입력받아, 두 숫자의 합을 알려주는 간단한 계산기를 만들어보세요.\n",
    "\n",
    "**힌트:** `input()`으로 받은 값은 글자(string)이므로, `int()`를 사용해 숫자로 바꿔줘야 계산할 수 있어요."
   ]
  },
  {
   "cell_type": "code",
   "execution_count": null,
   "metadata": {},
   "outputs": [],
   "source": [
    "print(\"두 수를 더해주는 계산기입니다.\")\n",
    "num1_str = input(\"첫 번째 숫자를 입력하세요: \")\n",
    "num2_str = input(\"두 번째 숫자를 입력하세요: \")\n",
    "\n",
    "# int()를 사용해 글자를 숫자로 바꿔주세요.\n",
    "num1 = int(         )\n",
    "num2 = int(         )\n",
    "\n",
    "result = num1 + num2\n",
    "print(f\"두 수의 합은 {result} 입니다.\")"
   ]
  },
  {
   "cell_type": "markdown",
   "metadata": {},
   "source": [
    "### 문제 6: 원하는 범위만 구구단 보기\n",
    "사용자에게 '몇 단' 뿐만 아니라 '어디부터 어디까지' 곱할 건지도 물어보는 똑똑한 구구단 챗봇을 만들어보세요.\n",
    "\n",
    "**힌트:** `range(시작숫자, 끝숫자+1)` 처럼 `range`에 변수를 직접 넣어줄 수 있어요."
   ]
  },
  {
   "cell_type": "code",
   "execution_count": null,
   "metadata": {},
   "outputs": [],
   "source": [
    "dan = int(input(\"몇 단을 보여줄까요? \"))\n",
    "start = int(input(\"곱셈을 시작할 숫자는? \"))\n",
    "end = int(input(\"곱셈을 끝낼 숫자는? \"))\n",
    "\n",
    "print(f\"--- {dan}단 ({start}부터 {end}까지) ---\")\n",
    "# for문의 range() 안에 start와 end 변수를 사용해 범위를 지정해주세요.\n",
    "# end까지 포함하려면 end + 1을 해줘야 하는 것을 잊지 마세요!\n",
    "for i in range(      ,      ):\n",
    "  print(f\"{dan} * {i} = {dan * i}\")"
   ]
  },
  {
   "cell_type": "markdown",
   "metadata": {},
   "source": [
    "### 문제 7: 내 목록에 뭐가 있을까?\n",
    "과일 이름이 들어있는 리스트를 만들고, `for` 반복문을 사용해 리스트 안의 모든 과일을 하나씩 출력해보세요.\n",
    "\n",
    "**힌트:** `for item in my_list:` 구문을 사용하면 리스트의 각 항목을 `item` 변수로 받아올 수 있어요."
   ]
  },
  {
   "cell_type": "code",
   "execution_count": null,
   "metadata": {},
   "outputs": [],
   "source": [
    "fruits = [\"사과\", \"바나나\", \"딸기\", \"오렌지\", \"포도\"]\n",
    "\n",
    "print(\"과일 목록에 있는 과일들:\")\n",
    "# fruits 리스트를 반복하는 for문을 완성하세요.\n",
    "for fruit in          : # 빈칸에 반복할 리스트의 이름을 넣으세요.\n",
    "  print(fruit)"
   ]
  },
  {
   "cell_type": "markdown",
   "metadata": {},
   "source": [
    "### 문제 8: 간단한 암호 확인\n",
    "정해진 암호(\"hello1234\")를 입력할 때까지 계속해서 암호를 물어보는 프로그램을 `while` 반복문으로 만들어보세요.\n",
    "\n",
    "**힌트:** `while` 문과 `if` 문을 함께 사용해야 해요. `while True:` 로 무한 반복을 만들고, `if`문으로 암호가 맞는지 확인한 뒤 맞으면 `break`로 반복을 멈출 수 있어요."
   ]
  },
  {
   "cell_type": "code",
   "execution_count": null,
   "metadata": {},
   "outputs": [],
   "source": [
    "password = \"hello1234\"\n",
    "\n",
    "while True: # 계속 반복\n",
    "  user_input = input(\"암호를 입력하세요: \")\n",
    "  # 만약(if) 사용자가 입력한 값이 password와 같다면,\n",
    "  if user_input ==          : # 빈칸에 비교할 변수 이름을 넣으세요.\n",
    "    print(\"로그인 성공!\")\n",
    "    break # 반복문 탈출!\n",
    "  else:\n",
    "    print(\"암호가 틀렸습니다. 다시 시도하세요.\")"
   ]
  },
  {
   "cell_type": "markdown",
   "metadata": {},
   "source": [
    "### 문제 9: 숫자 N개의 평균 구하기\n",
    "사용자에게 몇 개의 숫자를 입력받을지 먼저 물어본 뒤, 그 개수만큼 숫자를 입력받아 평균을 계산해주는 프로그램을 만들어보세요.\n",
    "\n",
    "**힌트:** 숫자를 더할 `total` 변수를 0으로 만들어두고, `for`문 안에서 입력받은 숫자를 계속 더해주세요. 반복이 끝나면 `total`을 개수로 나눠주면 평균이 돼요."
   ]
  },
  {
   "cell_type": "code",
   "execution_count": null,
   "metadata": {},
   "outputs": [],
   "source": [
    "count = int(input(\"몇 개의 숫자를 평균낼까요? \"))\n",
    "total = 0\n",
    "\n",
    "# count 만큼 반복하는 for문을 만드세요.\n",
    "for i in range(      ):\n",
    "  num = int(input(f\"{i+1}번째 숫자를 입력하세요: \"))\n",
    "  # total 변수에 입력받은 num을 계속 더해주세요.\n",
    "  total = total +       \n",
    "\n",
    "average = total / count\n",
    "print(f\"입력한 숫자들의 평균은 {average} 입니다.\")"
   ]
  },
  {
   "cell_type": "markdown",
   "metadata": {},
   "source": [
    "### 문제 10: 도전! 구구단 퀴즈 챗봇\n",
    "사용자가 원하는 구구단 n단을 선택하면, `n * 1` 부터 `n * 9` 까지 차례대로 문제를 내고 사용자의 답을 확인하는 퀴즈 챗봇을 만들어보세요.\n",
    "\n",
    "**힌트:** `for` 문 안에 `input()`과 `if` 문이 모두 들어가야 해요. 사용자의 답과 실제 정답을 비교해서 '정답!' 또는 '땡! 정답은 ...' 이라고 알려주세요."
   ]
  },
  {
   "cell_type": "code",
   "execution_count": null,
   "metadata": {},
   "outputs": [],
   "source": [
    "dan = int(input(\"몇 단 퀴즈를 풀어볼까요? \"))\n",
    "print(f\"--- {dan}단 퀴즈 시작! ---\")\n",
    "\n",
    "for i in range(1, 10):\n",
    "  # f-string을 이용해 사용자에게 문제를 내세요.\n",
    "  user_answer = int(input(f\"{dan} * {i} = ? \"))\n",
    "  correct_answer = dan * i\n",
    "\n",
    "  # 사용자의 답(user_answer)과 실제 정답(correct_answer)이 같은지 비교하는 if문을 만드세요.\n",
    "  if user_answer ==                :\n",
    "    print(\"정답입니다!\")\n",
    "  else:\n",
    "    print(f\"땡! 아쉬워요. 정답은 {correct_answer} 입니다.\")"
   ]
  }
 ],
 "metadata": {
  "colab": {
   "collapsed_sections": [],
   "provenance": []
  },
  "kernelspec": {
   "display_name": "Python 3",
   "name": "python3"
  },
  "language_info": {
   "name": "python"
  }
 },
 "nbformat": 4,
 "nbformat_minor": 0
}
