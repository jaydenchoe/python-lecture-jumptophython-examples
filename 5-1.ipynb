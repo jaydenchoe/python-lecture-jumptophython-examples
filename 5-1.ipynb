{
  "cells": [
    {
      "cell_type": "markdown",
      "metadata": {
        "id": "view-in-github",
        "colab_type": "text"
      },
      "source": [
        "<a href=\"https://colab.research.google.com/github/jaydenchoe/python-lecture-jumptophython-examples/blob/main/5-1.ipynb\" target=\"_parent\"><img src=\"https://colab.research.google.com/assets/colab-badge.svg\" alt=\"Open In Colab\"/></a>"
      ]
    },
    {
      "cell_type": "markdown",
      "metadata": {
        "id": "JSOJ1Z2Y_p8F"
      },
      "source": [
        "# 🐍 파이썬 클래스(Class) 완전 정복: 나만의 챗봇 만들기!\n",
        "\n",
        "안녕하세요! 코딩의 세계에 오신 것을 환영합니다. 🎉\n",
        "\n",
        "오늘은 파이썬의 핵심 개념 중 하나인 **클래스(Class)**에 대해 배워볼 거예요. '클래스'라는 단어가 조금 어렵게 느껴질 수 있지만, 걱정 마세요! 아주 재미있는 '나만의 챗봇 만들기' 예제를 통해 세상에서 가장 쉽게 이해할 수 있도록 도와드릴게요.\n",
        "\n",
        "클래스를 사용하면 마치 로봇을 조립하듯, 체계적이고 멋진 프로그램을 만들 수 있답니다. 자, 그럼 함께 시작해볼까요?"
      ]
    },
    {
      "cell_type": "markdown",
      "metadata": {
        "id": "j3-DDUgEAJcy"
      },
      "source": [
        "## 1. 클래스가 왜 필요할까요? - 계산기 예제\n",
        "\n",
        "만약 우리가 계산기를 여러 개 만들어야 한다고 상상해봅시다. 계산기 A와 계산기 B는 각자 계산한 값을 기억하고 있어야 해요. 함수만 사용해서 만들면 계산기 A의 결과와 계산기 B의 결과를 따로 저장하기가 무척 번거롭습니다.\n",
        "\n",
        "하지만 **클래스**라는 '설계도'를 한 번만 잘 만들어두면, 그 설계도로 계산기를 몇 개든 뚝딱 찍어낼 수 있어요. 각각의 계산기는 서로에게 영향을 주지 않고 자신만의 값을 잘 간직하죠. 챗봇도 마찬가지랍니다! 클래스로 챗봇 설계도를 만들면, '자비스' 챗봇, '프라이데이' 챗봇 등 여러 챗봇을 쉽게 만들 수 있어요."
      ]
    },
    {
      "cell_type": "markdown",
      "metadata": {
        "id": "TfoD1eT3ApUj"
      },
      "source": [
        "## 2. 클래스와 객체: 과자 틀과 과자\n",
        "\n",
        "클래스를 이해하는 가장 좋은 방법은 '과자 틀'과 '과자'를 생각하는 거예요.\n",
        "\n",
        "* **클래스 (Class)**: 🍪 과자를 찍어내는 **과자 틀**이에요. 즉, 어떤 모양과 기능을 가질지 정해놓은 '설계도'죠.\n",
        "* **객체 (Object)**: 🤖 과자 틀로 찍어낸 **과자** 하나하나를 말해요. 클래스라는 설계도로 실제로 만들어 낸 '실체'를 의미합니다. '인스턴스(instance)'라고 부르기도 해요.\n",
        "\n",
        "이제 우리의 첫 번째 챗봇 '설계도'를 만들어 볼까요? 아직은 아무 기능이 없는 텅 빈 클래스지만, 이 설계도로 실제 챗봇 객체를 만드는 것까지 해볼게요."
      ]
    },
    {
      "cell_type": "code",
      "execution_count": null,
      "metadata": {
        "id": "XWv0L65xAuWk"
      },
      "outputs": [],
      "source": [
        "# 'Chatbot'이라는 이름의 클래스(설계도)를 만듭니다.\n",
        "# pass는 '아무것도 하지 않고 그냥 넘어간다'는 뜻이에요.\n",
        "class Chatbot:\n",
        "  pass\n",
        "\n",
        "# Chatbot 설계도로 '자비스'와 '프라이데이'라는 실제 챗봇(객체)을 만듭니다.\n",
        "jarvis = Chatbot()\n",
        "friday = Chatbot()\n",
        "\n",
        "# 자비스와 프라이데이가 정말 만들어졌는지, 그리고 서로 다른 존재인지 확인해봐요.\n",
        "print(jarvis)\n",
        "print(friday)"
      ]
    },
    {
      "cell_type": "markdown",
      "metadata": {
        "id": "s80b1gWMAz3E"
      },
      "source": [
        "## 3. 챗봇에게 데이터 심어주기 (메서드와 객체 변수)\n",
        "\n",
        "지금 우리 챗봇들은 아무런 특징이 없어요. 챗봇에게 '이름'이라는 데이터를 심어줍시다. 클래스 설계도 안에 **메서드(Method)**라는 특별한 함수를 만들어서 이 작업을 할 수 있어요.\n",
        "\n",
        "메서드를 만들 때, 첫 번째 파라미터로 항상 `self`를 써주는데요, 이건 **'객체 자기 자신'**을 가리키는 약속이에요. 예를 들어 `jarvis.set_name(\"자비스\")` 라고 코드를 실행하면, `set_name` 메서드 안의 `self`는 바로 `jarvis` 객체를 의미하게 된답니다.\n",
        "\n",
        "이렇게 `self.name`처럼 `self` 뒤에 붙는 변수를 **객체 변수**라고 불러요. 이 변수는 오직 그 객체만 소유하는 고유한 값이 됩니다."
      ]
    },
    {
      "cell_type": "code",
      "execution_count": null,
      "metadata": {
        "id": "e_bE5XWfA63s"
      },
      "outputs": [],
      "source": [
        "class Chatbot:\n",
        "  # 챗봇의 이름을 설정하는 '메서드'를 만듭니다.\n",
        "  # self는 챗봇 객체 자기 자신을, new_name은 새로 붙일 이름을 의미해요.\n",
        "  def set_name(self, new_name):\n",
        "    # self.name 이라는 객체 변수에 새로운 이름을 저장합니다.\n",
        "    self.name = new_name\n",
        "\n",
        "# 챗봇 객체를 만들고\n",
        "jarvis = Chatbot()\n",
        "\n",
        "# set_name 메서드를 호출해서 이름을 정해줍니다.\n",
        "jarvis.set_name(\"자비스\")\n",
        "\n",
        "# 챗봇의 이름이 잘 저장되었는지 확인해볼까요?\n",
        "print(jarvis.name)"
      ]
    },
    {
      "cell_type": "markdown",
      "metadata": {
        "id": "pB2695wHBJ7f"
      },
      "source": [
        "## 4. 챗봇이 태어날 때 이름 정해주기 (생성자 `__init__`)\n",
        "\n",
        "챗봇을 만들 때마다 `set_name` 메서드를 호출하는 건 조금 번거로워요. 챗봇이 만들어지는 그 순간에! 자동으로! 이름을 딱 정해주면 좋겠죠?\n",
        "\n",
        "이럴 때 사용하는 아주 특별한 메서드가 바로 **생성자(Constructor)**입니다. 파이썬에서는 `__init__` (양쪽에 언더바 2개씩)이라는 이름으로 만들기로 약속했어요.\n",
        "\n",
        "이 `__init__` 메서드는 객체가 생성될 때 딱 한 번, 자동으로 실행됩니다. 그래서 여기에 이름처럼 꼭 필요한 초기값을 설정하는 코드를 넣어두면 아주 편리해요."
      ]
    },
    {
      "cell_type": "code",
      "execution_count": null,
      "metadata": {
        "id": "KqG6E6QJBP6W"
      },
      "outputs": [],
      "source": [
        "class Chatbot:\n",
        "  # 객체가 생성될 때 자동으로 호출되는 생성자 메서드입니다.\n",
        "  def __init__(self, name):\n",
        "    # 생성자에서 바로 객체 변수 self.name을 만듭니다.\n",
        "    self.name = name\n",
        "    print(f\"새로운 챗봇 '{self.name}'이 만들어졌어요!\")\n",
        "\n",
        "# 이제 객체를 만들 때 괄호 안에 바로 이름을 넣어주면 됩니다.\n",
        "jarvis = Chatbot(\"자비스\")\n",
        "friday = Chatbot(\"프라이데이\")\n",
        "\n",
        "# 이름이 잘 설정되었는지 확인해봐요.\n",
        "print(f\"첫 번째 챗봇의 이름은 {jarvis.name}입니다.\")\n",
        "print(f\"두 번째 챗봇의 이름은 {friday.name}입니다.\")"
      ]
    },
    {
      "cell_type": "markdown",
      "metadata": {
        "id": "qR6u-F8bBZxJ"
      },
      "source": [
        "## 5. 챗봇에게 기능 추가하기 (메서드 만들기)\n",
        "\n",
        "이제 우리 챗봇은 이름도 가졌으니, 말을 할 수 있게 해줍시다! 사용자의 질문에 간단하게 대답하는 `answer` 메서드를 추가해볼게요.\n",
        "\n",
        "이처럼 클래스에 다양한 메서드를 추가하면, 우리가 만든 객체가 수행할 수 있는 행동(기능)이 점점 늘어나게 됩니다. 마치 로봇에 팔, 다리, 머리를 붙여주는 것과 같아요!"
      ]
    },
    {
      "cell_type": "code",
      "execution_count": null,
      "metadata": {
        "id": "tD-rRj6aBfYJ"
      },
      "outputs": [],
      "source": [
        "class Chatbot:\n",
        "  def __init__(self, name):\n",
        "    self.name = name\n",
        "\n",
        "  # 질문에 따라 다른 대답을 하는 answer 메서드를 추가해요.\n",
        "  def answer(self, question):\n",
        "    if \"안녕\" in question:\n",
        "      print(f\"안녕하세요! 저는 {self.name}입니다.\")\n",
        "    elif \"이름\" in question:\n",
        "      print(f\"제 이름은 {self.name}이에요.\")\n",
        "    else:\n",
        "      print(\"무슨 말씀인지 잘 모르겠어요.\")\n",
        "\n",
        "jarvis = Chatbot(\"자비스\")\n",
        "\n",
        "# 자비스에게 여러가지 질문을 던져볼까요?\n",
        "jarvis.answer(\"안녕, 만나서 반가워!\")\n",
        "jarvis.answer(\"너의 이름이 뭐니?\")\n",
        "jarvis.answer(\"오늘 날씨 어때?\")"
      ]
    },
    {
      "cell_type": "markdown",
      "metadata": {
        "id": "t1V0c2VXBzG-"
      },
      "source": [
        "## 6. 더 똑똑한 챗봇 만들기 (클래스 상속)\n",
        "\n",
        "만약 기존 `Chatbot`의 기능은 그대로 쓰면서, 계산 기능까지 추가된 새로운 챗봇을 만들고 싶다면 어떻게 할까요? `Chatbot` 클래스의 코드를 전부 복사해서 붙여넣어야 할까요? 아니요! 더 좋은 방법이 있습니다.\n",
        "\n",
        "바로 **상속(Inheritance)**입니다. 상속은 부모 클래스의 모든 기능(메서드, 변수)을 자식 클래스가 그대로 물려받는 거예요. 그리고 자식 클래스에는 새로운 기능을 마음껏 추가할 수 있죠. 이렇게 하면 코드를 재사용할 수 있어 매우 효율적이랍니다!"
      ]
    },
    {
      "cell_type": "code",
      "execution_count": null,
      "metadata": {
        "id": "z9GjT0X6B-oJ"
      },
      "outputs": [],
      "source": [
        "# 기존의 Chatbot 클래스는 그대로 둡니다.\n",
        "class Chatbot:\n",
        "  def __init__(self, name):\n",
        "    self.name = name\n",
        "\n",
        "  def answer(self, question):\n",
        "    if \"안녕\" in question:\n",
        "      print(f\"안녕하세요! 저는 {self.name}입니다.\")\n",
        "    elif \"이름\" in question:\n",
        "      print(f\"제 이름은 {self.name}이에요.\")\n",
        "    else:\n",
        "      print(\"무슨 말씀인지 잘 모르겠어요.\")\n",
        "\n",
        "# 괄호 안에 부모 클래스 이름을 넣어 상속받습니다.\n",
        "class CalcChatbot(Chatbot):\n",
        "\n",
        "  # 계산 기능이라는 새로운 메서드를 추가합니다.\n",
        "  def calculate(self, expression):\n",
        "    # eval 함수는 문자열로 된 계산식을 실행해주는 위험하지만 간단한 함수입니다.\n",
        "    result = eval(expression)\n",
        "    print(f\"계산 결과는 {result}입니다.\")\n",
        "\n",
        "# 계산 챗봇 객체를 만들어봅시다.\n",
        "ultron = CalcChatbot(\"울트론\")\n",
        "\n",
        "# 울트론은 부모에게 물려받은 인사 기능도 할 수 있고,\n",
        "ultron.answer(\"안녕?\")\n",
        "\n",
        "# 자신만의 새로운 기능인 계산도 할 수 있어요!\n",
        "ultron.calculate(\"3 * (4 + 2)\")"
      ]
    },
    {
      "cell_type": "markdown",
      "metadata": {
        "id": "3l3vYQ19CLiI"
      },
      "source": [
        "## 7. 챗봇의 기능 업그레이드! (메서드 오버라이딩)\n",
        "\n",
        "계산 챗봇 `CalcChatbot`의 인사말이 그냥 `Chatbot`과 똑같아서 좀 아쉬워요. \"저는 계산을 할 수 있는 챗봇입니다.\" 라고 자신을 소개하면 더 좋겠죠?\n",
        "\n",
        "이럴 때 **메서드 오버라이딩(Method Overriding)**을 사용합니다. 부모 클래스로부터 물려받은 메서드를 자식 클래스에서 똑같은 이름으로 다시 만드는 거예요. 그러면 자식 클래스의 객체는 부모의 메서드 대신, 자신이 새로 만든 메서드를 사용하게 됩니다. 기능의 업그레이드 버전이라고 생각하면 쉬워요!"
      ]
    },
    {
      "cell_type": "code",
      "execution_count": null,
      "metadata": {
        "id": "k8XvG2KSCQeE"
      },
      "outputs": [],
      "source": [
        "class CalcChatbot(Chatbot):\n",
        "  # 부모에게 물려받은 answer 메서드를 똑같은 이름으로 다시 만듭니다. (오버라이딩)\n",
        "  def answer(self, question):\n",
        "    if \"안녕\" in question:\n",
        "      # 인사말을 더 멋지게 바꿔줍니다.\n",
        "      print(f\"안녕하세요! 저는 계산 전문 챗봇 {self.name}입니다.\")\n",
        "    elif \"이름\" in question:\n",
        "      print(f\"제 이름은 {self.name}이에요. 무엇을 계산해드릴까요?\")\n",
        "    else:\n",
        "      # 부모의 원래 기능이 필요하면 super()를 사용할 수도 있지만, 여기선 그냥 새로 만들게요.\n",
        "      print(\"무슨 말씀인지 잘 모르겠어요. 계산식이라면 제가 잘 알아요!\")\n",
        "\n",
        "  def calculate(self, expression):\n",
        "    result = eval(expression)\n",
        "    print(f\"계산 결과는 {result}입니다.\")\n",
        "\n",
        "ultron = CalcChatbot(\"울트론\")\n",
        "\n",
        "# 이제 울트론은 평범한 챗봇과 다른, 업그레이드된 인사를 합니다.\n",
        "ultron.answer(\"안녕!\")"
      ]
    },
    {
      "cell_type": "markdown",
      "metadata": {
        "id": "3W6kQ97RCW4h"
      },
      "source": [
        "## 8. 모든 챗봇이 공유하는 정보 (클래스 변수)\n",
        "\n",
        "지금까지 우리가 썼던 `self.name` 같은 **객체 변수**는 각각의 챗봇 객체마다 독립적으로 저장되는 값이었어요.\n",
        "\n",
        "이번에는 **클래스 변수**에 대해 알아볼게요. 클래스 변수는 그 클래스로부터 만들어진 **모든 객체들이 함께 공유하는 값**이에요. 예를 들어, \"지금까지 우리가 챗봇을 총 몇 개나 만들었지?\" 를 기록할 때 아주 유용하답니다.\n",
        "\n",
        "클래스 변수는 보통 클래스 선언 바로 아래에 `변수명 = 값` 형태로 만들고, `클래스명.변수명` 으로 접근합니다."
      ]
    },
    {
      "cell_type": "code",
      "execution_count": null,
      "metadata": {
        "id": "T0mUv87-CeL_"
      },
      "outputs": [],
      "source": [
        "class Chatbot:\n",
        "  # 클래스 변수: 모든 챗봇 객체가 이 값을 공유합니다.\n",
        "  chatbot_count = 0\n",
        "\n",
        "  def __init__(self, name):\n",
        "    self.name = name\n",
        "    print(f\"새로운 챗봇 '{self.name}'이 만들어졌어요!\")\n",
        "    # 챗봇이 하나 만들어질 때마다 클래스 변수의 값을 1씩 증가시킵니다.\n",
        "    Chatbot.chatbot_count += 1\n",
        "\n",
        "print(f\"만들기 전: 총 챗봇 수 = {Chatbot.chatbot_count}\")\n",
        "\n",
        "jarvis = Chatbot(\"자비스\")\n",
        "friday = Chatbot(\"프라이데이\")\n",
        "\n",
        "print(f\"만든 후: 총 챗봇 수 = {Chatbot.chatbot_count}\")\n",
        "print(f\"자비스도 총 개수를 알아요: {jarvis.chatbot_count}\")\n",
        "print(f\"프라이데이도 총 개수를 알아요: {friday.chatbot_count}\")"
      ]
    },
    {
      "cell_type": "markdown",
      "metadata": {
        "id": "jYdI24zTGo9x"
      },
      "source": [
        "---"
      ]
    },
    {
      "cell_type": "markdown",
      "metadata": {
        "id": "Y24Uv4xRGqJv"
      },
      "source": [
        "## ⭐️ 혼자 해보는 연습 문제 ⭐️\n",
        "\n",
        "이제 클래스에 대해 자신감이 좀 붙었나요? 아래 10개의 연습 문제를 풀면서 배운 내용을 복습해보세요. 정답은 스스로 찾아보는 과정에서 더 많이 배울 수 있답니다! 💪\n",
        "\n",
        "**힌트**: 각 코드 셀의 `...` 부분을 채워보세요!"
      ]
    },
    {
      "cell_type": "markdown",
      "metadata": {
        "id": "2M07W49jG5Lh"
      },
      "source": [
        "### 문제 1: 강아지 클래스 만들기\n",
        "강아지 객체를 만들 때 `name`과 `breed`(품종)을 입력받는 `Dog` 클래스를 만들어보세요."
      ]
    },
    {
      "cell_type": "code",
      "execution_count": null,
      "metadata": {
        "id": "9xQd0JgOG9bK"
      },
      "outputs": [],
      "source": [
        "class Dog:\n",
        "  def __init__(self, name, breed):\n",
        "    self.name = ...\n",
        "    self.breed = ...\n",
        "\n",
        "# 테스트 코드\n",
        "my_dog = Dog(\"뽀삐\", \"말티즈\")\n",
        "print(f\"우리집 강아지 이름은 {my_dog.name}이고, 품종은 {my_dog.breed}입니다.\")"
      ]
    },
    {
      "cell_type": "markdown",
      "metadata": {
        "id": "w3lTz1YIHJ9m"
      },
      "source": [
        "### 문제 2: 강아지 짖기 메서드\n",
        "문제 1의 `Dog` 클래스에 \"멍멍! 내 이름은 [이름]이야!\" 라고 짖는 `bark` 메서드를 추가해보세요."
      ]
    },
    {
      "cell_type": "code",
      "execution_count": null,
      "metadata": {
        "id": "3c98Y2X_HNiI"
      },
      "outputs": [],
      "source": [
        "class Dog:\n",
        "  def __init__(self, name, breed):\n",
        "    self.name = name\n",
        "    self.breed = breed\n",
        "\n",
        "  def bark(self):\n",
        "    print(f\"내 이름은 {...}이야!\")\n",
        "\n",
        "# 테스트 코드\n",
        "my_dog = Dog(\"뽀삐\", \"말티즈\")\n",
        "my_dog.bark()"
      ]
    },
    {
      "cell_type": "markdown",
      "metadata": {
        "id": "2P2w1uJkHXlJ"
      },
      "source": [
        "### 문제 3: 여러 마리 강아지 만들기\n",
        "`Dog` 클래스로 서로 다른 이름을 가진 강아지 2마리를 만들고, 두 마리 모두 짖게(`bark`) 해보세요."
      ]
    },
    {
      "cell_type": "code",
      "execution_count": null,
      "metadata": {
        "id": "w-78N_nSHb1y"
      },
      "outputs": [],
      "source": [
        "class Dog:\n",
        "  def __init__(self, name, breed):\n",
        "    self.name = name\n",
        "    self.breed = breed\n",
        "  def bark(self):\n",
        "    print(f\"멍멍! 내 이름은 {self.name}이야!\")\n",
        "\n",
        "dog1 = Dog(..., \"시츄\")\n",
        "dog2 = Dog(..., \"푸들\")\n",
        "\n",
        "dog1. ...\n",
        "dog2. ...\n"
      ]
    },
    {
      "cell_type": "markdown",
      "metadata": {
        "id": "Q-V1hPqGHp_I"
      },
      "source": [
        "### 문제 4: 책 클래스 만들기\n",
        "`title`(제목)과 `author`(저자)를 생성자에서 입력받는 `Book` 클래스를 만들어보세요."
      ]
    },
    {
      "cell_type": "code",
      "execution_count": null,
      "metadata": {
        "id": "S1X5035eHsqN"
      },
      "outputs": [],
      "source": [
        "class Book:\n",
        "  def __init__(self, ..., ...):\n",
        "    self.title = title\n",
        "    self.author = author\n",
        "\n",
        "# 테스트 코드\n",
        "my_book = Book(\"점프 투 파이썬\", \"박응용\")\n",
        "print(f\"책 제목: {my_book.title}\")\n",
        "print(f\"저자: {my_book.author}\")"
      ]
    },
    {
      "cell_type": "markdown",
      "metadata": {
        "id": "Xb2V7G0eHw5u"
      },
      "source": [
        "### 문제 5: 책 정보 출력 메서드\n",
        "문제 4의 `Book` 클래스에 \"[책 제목] by [저자]\" 형식으로 책 정보를 출력하는 `describe` 메서드를 추가해보세요."
      ]
    },
    {
      "cell_type": "code",
      "execution_count": null,
      "metadata": {
        "id": "YwVdE8yBH08A"
      },
      "outputs": [],
      "source": [
        "class Book:\n",
        "  def __init__(self, title, author):\n",
        "    self.title = title\n",
        "    self.author = author\n",
        "\n",
        "  def describe(self):\n",
        "    print(f'\"{...}\" by {...}')\n",
        "\n",
        "# 테스트 코드\n",
        "my_book = Book(\"어린왕자\", \"생텍쥐페리\")\n",
        "my_book.describe()"
      ]
    },
    {
      "cell_type": "markdown",
      "metadata": {
        "id": "H4VnO9h5H45b"
      },
      "source": [
        "### 문제 6: 슈퍼 히어로 클래스 (상속)\n",
        "이름(`name`)을 갖는 `Person` 클래스를 만드세요. 그리고 `Person` 클래스를 상속받는 `SuperHero` 클래스를 만들어보세요. (아직은 내용이 비어있어도 됩니다.)"
      ]
    },
    {
      "cell_type": "code",
      "execution_count": null,
      "metadata": {
        "id": "rJj2pU-1H8tX"
      },
      "outputs": [],
      "source": [
        "class Person:\n",
        "  def __init__(self, name):\n",
        "    self.name = name\n",
        "\n",
        "class SuperHero(...):  # Person 클래스를 상속받으세요.\n",
        "  pass\n",
        "\n",
        "# 테스트 코드\n",
        "iron_man = SuperHero(\"토니 스타크\")\n",
        "print(f\"아이언맨의 진짜 이름은 {iron_man.name}입니다.\")"
      ]
    },
    {
      "cell_type": "markdown",
      "metadata": {
        "id": "1o2H7F9pIDmZ"
      },
      "source": [
        "### 문제 7: 슈퍼 히어로 능력 추가\n",
        "문제 6의 `SuperHero` 클래스의 생성자에서 `name` 뿐만 아니라 `superpower`(초능력)도 추가로 입력받도록 만들어보세요. (부모 클래스의 `__init__`을 호출하는 `super().__init__(...)`을 사용해야 합니다.)"
      ]
    },
    {
      "cell_type": "code",
      "execution_count": null,
      "metadata": {
        "id": "7L9cOqD6IGhW"
      },
      "outputs": [],
      "source": [
        "class Person:\n",
        "  def __init__(self, name):\n",
        "    self.name = name\n",
        "\n",
        "class SuperHero(Person):\n",
        "  def __init__(self, name, superpower):\n",
        "    super().__init__(...)\n",
        "    self.superpower = ...\n",
        "\n",
        "# 테스트 코드\n",
        "thor = SuperHero(\"토르\", \"천둥의 힘\")\n",
        "print(f\"{thor.name}의 초능력은 {thor.superpower}입니다.\")"
      ]
    },
    {
      "cell_type": "markdown",
      "metadata": {
        "id": "yEw1Tq3jIKkO"
      },
      "source": [
        "### 문제 8: 슈퍼 히어로 능력 사용하기\n",
        "문제 7의 `SuperHero` 클래스에 \"[초능력]을(를) 사용합니다!\" 라고 출력하는 `use_power` 메서드를 추가해보세요."
      ]
    },
    {
      "cell_type": "code",
      "execution_count": null,
      "metadata": {
        "id": "31C4d23IIOlZ"
      },
      "outputs": [],
      "source": [
        "class Person:\n",
        "  def __init__(self, name):\n",
        "    self.name = name\n",
        "\n",
        "class SuperHero(Person):\n",
        "  def __init__(self, name, superpower):\n",
        "    super().__init__(name)\n",
        "    self.superpower = superpower\n",
        "\n",
        "  def use_power(self):\n",
        "    print(f\"{...}을(를) 사용합니다!\")\n",
        "\n",
        "# 테스트 코드\n",
        "hulk = SuperHero(\"브루스 배너\", \"엄청난 힘\")\n",
        "hulk.use_power()"
      ]
    },
    {
      "cell_type": "markdown",
      "metadata": {
        "id": "q4YxU04vIWB1"
      },
      "source": [
        "### 문제 9: 경찰차 클래스 (오버라이딩)\n",
        "색상(`color`)을 갖는 `Car` 클래스가 있습니다. `Car`를 상속받는 `PoliceCar` 클래스를 만드세요. `PoliceCar`는 만들어질 때 무조건 색상이 \"하얀색\"이 되도록 생성자 메서드를 오버라이딩 해보세요."
      ]
    },
    {
      "cell_type": "code",
      "execution_count": null,
      "metadata": {
        "id": "4yI4sL0dIZdD"
      },
      "outputs": [],
      "source": [
        "class Car:\n",
        "  def __init__(self, color):\n",
        "    self.color = color\n",
        "\n",
        "class PoliceCar(Car):\n",
        "  # __init__ 메서드를 오버라이딩하세요.\n",
        "  def __init__(self):\n",
        "    # 부모 생성자를 호출하며 색상을 '하얀색'으로 고정합니다.\n",
        "    super().__init__(...)\n",
        "\n",
        "# 테스트 코드\n",
        "my_car = Car(\"빨간색\")\n",
        "police_car = PoliceCar()\n",
        "print(f\"내 차 색상: {my_car.color}\")\n",
        "print(f\"경찰차 색상: {police_car.color}\")"
      ]
    },
    {
      "cell_type": "markdown",
      "metadata": {
        "id": "5H0j2Jj8Ik4Z"
      },
      "source": [
        "### 문제 10: 자동차 공장 (클래스 변수)\n",
        "문제 9의 `Car` 클래스에, 자동차가 총 몇 대 만들어졌는지 세는 클래스 변수 `car_count`를 추가하고, 자동차가 한 대 만들어질 때마다 숫자가 1씩 올라가도록 코드를 수정해보세요."
      ]
    },
    {
      "cell_type": "code",
      "execution_count": null,
      "metadata": {
        "id": "XWJ82u5pIqYJ"
      },
      "outputs": [],
      "source": [
        "class Car:\n",
        "  # 클래스 변수를 여기에 선언하세요.\n",
        "  ... = 0\n",
        "\n",
        "  def __init__(self, color):\n",
        "    self.color = color\n",
        "    # 자동차가 만들어질 때마다 클래스 변수를 1 증가시킵니다.\n",
        "    Car.car_count ...\n",
        "\n",
        "class PoliceCar(Car):\n",
        "  def __init__(self):\n",
        "    super().__init__('하얀색')\n",
        "\n",
        "# 테스트 코드\n",
        "car1 = Car(\"파란색\")\n",
        "car2 = Car(\"노란색\")\n",
        "police_car1 = PoliceCar()\n",
        "\n",
        "print(f\"지금까지 만들어진 자동차는 총 {Car.car_count}대입니다.\")\n"
      ]
    }
  ],
  "metadata": {
    "colab": {
      "provenance": [],
      "include_colab_link": true
    },
    "kernelspec": {
      "display_name": "Python 3",
      "name": "python3"
    },
    "language_info": {
      "name": "python"
    }
  },
  "nbformat": 4,
  "nbformat_minor": 0
}