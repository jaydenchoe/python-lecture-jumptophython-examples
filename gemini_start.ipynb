{
  "cells": [
    {
      "cell_type": "markdown",
      "metadata": {
        "id": "view-in-github",
        "colab_type": "text"
      },
      "source": [
        "<a href=\"https://colab.research.google.com/github/jaydenchoe/python-lecture-jumptophython-examples/blob/main/gemini_start.ipynb\" target=\"_parent\"><img src=\"https://colab.research.google.com/assets/colab-badge.svg\" alt=\"Open In Colab\"/></a>"
      ]
    },
    {
      "cell_type": "markdown",
      "metadata": {
        "id": "mhyNFVIQ8bhA"
      },
      "source": [
        "# 🚀 Gemini API 시작하기: 나만의 AI 비서 만들기\n",
        "\n",
        "안녕하세요! Google Colab에서 Gemini API를 사용하는 방법을 배우는 것에 오신 것을 환영합니다. 🎉\n",
        "\n",
        "이 노트북은 여러분이 Gemini API를 사용하여 첫 AI 기반 프로그램을 만들 수 있도록 단계별로 안내합니다. 복잡한 설정 없이, 몇 줄의 Python 코드만으로 강력한 AI 모델의 힘을 경험해볼 수 있습니다.\n",
        "\n",
        "준비물은 딱 하나, 여러분의 호기심입니다! 자, 그럼 Gemini의 세계로 함께 떠나볼까요?"
      ]
    },
    {
      "cell_type": "markdown",
      "metadata": {
        "id": "U68BJT6D8bhC"
      },
      "source": [
        "## 1단계: Gemini API 키 발급받기\n",
        "\n",
        "Gemini API를 사용하려면 먼저 'API 키'라는 비밀 열쇠가 필요해요. 이 키는 여러분의 프로그램이 Google의 AI 모델에 접근할 수 있도록 허가해주는 역할을 합니다.\n",
        "\n",
        "1.  **[Google AI Studio](https://aistudio.google.com/app/apikey?hl=ko)로 이동하세요.**\n",
        "2.  Google 계정으로 로그인합니다.\n",
        "3.  **`Create API key`** 버튼을 눌러 새 키를 만듭니다.\n",
        "4.  생성된 API 키를 복사해서 안전한 곳에 잠시 보관해주세요. 이 키는 비밀번호처럼 다뤄야 하며, 다른 사람에게 노출되지 않도록 주의해야 합니다.\n",
        "\n",
        "**중요 보안 규칙:**\n",
        "- 절대로 소스 코드에 API 키를 직접 넣어서 Git 같은 버전 관리 시스템에 올리지 마세요.\n",
        "- 웹사이트나 모바일 앱처럼 클라이언트 측 코드에 키를 노출시키면 안 됩니다."
      ]
    },
    {
      "cell_type": "markdown",
      "metadata": {
        "id": "kxKq9IVx8bhC"
      },
      "source": [
        "## 2단계: 개발 환경 설정하기\n",
        "\n",
        "이제 파이썬에서 Gemini API를 쉽게 사용할 수 있도록 도와주는 공식 라이브러리(SDK)를 설치해 보겠습니다. Google Colab에서는 `pip` 명령어를 사용해 간단하게 설치할 수 있습니다."
      ]
    },
    {
      "cell_type": "code",
      "execution_count": null,
      "metadata": {
        "id": "ZlXQ2sxd8bhC"
      },
      "outputs": [],
      "source": [
        "# Google 생성형 AI SDK를 설치합니다.\n",
        "# -q는 설치 과정을 조용하게(quiet) 진행하라는 의미이고, -U는 최신 버전으로 업그레이드(upgrade)하라는 의미입니다.\n",
        "!pip install -q -U google-genai"
      ]
    },
    {
      "cell_type": "markdown",
      "metadata": {
        "id": "Yhm4xxyG8bhD"
      },
      "source": [
        "## 3단계: API 키 설정하기 (Colab에서 안전하게)\n",
        "\n",
        "API 키를 코드에 직접 넣는 것은 위험합니다. Google Colab의 '보안 비밀' 기능을 사용하면 키를 안전하게 관리할 수 있습니다.\n",
        "\n",
        "1.  Colab 왼쪽 메뉴에서 **열쇠 모양(🔑) 아이콘**을 클릭하세요.\n",
        "2.  **`+ 새 보안 비밀 추가`**를 누르세요.\n",
        "3.  **이름**에는 `GEMINI_API_KEY`를 입력하고, **값**에는 1단계에서 복사해 둔 여러분의 API 키를 붙여넣으세요.\n",
        "4.  **'노트북 액세스'** 스위치를 켜주세요.\n",
        "\n",
        "이렇게 설정하면, 아래 코드가 실행될 때 라이브러리가 자동으로 여러분의 키를 찾아서 사용하게 됩니다."
      ]
    },
    {
      "cell_type": "code",
      "execution_count": null,
      "metadata": {
        "id": "bwxh8uhZ8bhD"
      },
      "outputs": [],
      "source": [
        "import os\n",
        "from google.colab import userdata\n",
        "import google.generativeai as genai\n",
        "\n",
        "# Colab 보안 비밀에서 API 키를 가져옵니다.\n",
        "api_key = userdata.get('GEMINI_API_KEY')\n",
        "\n",
        "# API 키를 환경 변수로 설정하거나, genai.configure에 직접 전달할 수 있습니다.\n",
        "os.environ['GEMINI_API_KEY'] = api_key\n",
        "\n",
        "# genai 라이브러리를 API 키로 초기화합니다.\n",
        "genai.configure(api_key=api_key)\n",
        "\n",
        "print(\"API 키 설정이 완료되었습니다! ✨\")"
      ]
    },
    {
      "cell_type": "markdown",
      "metadata": {
        "id": "jyb4Hbd28bhD"
      },
      "source": [
        "## 4단계: 첫 번째 AI 요청 보내기\n",
        "\n",
        "모든 준비가 끝났습니다! 이제 Gemini 모델에게 간단한 질문을 던져볼 시간입니다. 우리는 다양한 모델 중에서 빠르고 비용 효율적인 `gemini-2.5-flash-lite` 모델을 사용해 보겠습니다."
      ]
    },
    {
      "cell_type": "code",
      "execution_count": null,
      "metadata": {
        "id": "o5osxwEk8bhD"
      },
      "outputs": [],
      "source": [
        "# 사용할 모델을 선택합니다.\n",
        "model = genai.GenerativeModel('gemini-2.5-flash-lite')\n",
        "\n",
        "# 모델에게 콘텐츠 생성을 요청합니다.\n",
        "response = model.generate_content(\"AI가 어떻게 작동하는지 세 문장으로 설명해줘\")\n",
        "\n",
        "# 모델의 답변(response)에서 텍스트 부분만 출력합니다.\n",
        "print(response.text)"
      ]
    },
    {
      "cell_type": "markdown",
      "metadata": {
        "id": "4l_4zsVz8bhD"
      },
      "source": [
        "## 5단계: 다양한 Gemini 모델 살펴보기\n",
        "\n",
        "Gemini는 여러 가지 모델을 제공하며, 각 모델은 저마다의 강점을 가지고 있습니다.\n",
        "\n",
        "* **2.5 Pro**: 복잡하고 어려운 추론이 필요할 때 사용하는 가장 강력한 모델입니다.\n",
        "* **2.5 Flash**: 속도와 성능 사이의 균형이 가장 잘 잡힌 모델로, 대부분의 작업에 적합합니다.\n",
        "* **2.5 Flash Lite**: 가장 빠른 모델입니다.\n",
        "* **Embeddings**: RAG(검색 증강 생성) 워크플로우를 위해 텍스트를 벡터로 변환하는 데 특화된 모델입니다.\n",
        "\n",
        "작업의 종류와 필요에 따라 적절한 모델을 선택하여 `genai.GenerativeModel('모델이름')` 코드의 모델 이름을 바꿔서 테스트해볼 수 있습니다."
      ]
    },
    {
      "cell_type": "markdown",
      "metadata": {
        "id": "yTRHBvkf8bhD"
      },
      "source": [
        "## ✍️ 혼자 해보는 연습 문제\n",
        "\n",
        "이제 여러분 차례입니다! 아래 문제들은 `prompt` 변수의 내용만 수정하여 Gemini 모델의 다양한 능력을 테스트해보는 간단한 연습 문제입니다. `\"\"\"`와 `\"\"\"` 사이에 원하는 요청을 자유롭게 적어보세요!"
      ]
    },
    {
      "cell_type": "markdown",
      "metadata": {
        "id": "r2QwEyNz8bhD"
      },
      "source": [
        "### 연습문제 1: 시 짓기\n",
        "Gemini에게 '우주'를 주제로 짧은 시를 지어달라고 요청해보세요."
      ]
    },
    {
      "cell_type": "code",
      "execution_count": null,
      "metadata": {
        "id": "P0eaSWXC8bhE"
      },
      "outputs": [],
      "source": [
        "model = genai.GenerativeModel('gemini-2.5-flash-lite')\n",
        "\n",
        "prompt = \"______________\"\n",
        "\n",
        "response = model.generate_content(prompt)\n",
        "print(response.text)"
      ]
    },
    {
      "cell_type": "markdown",
      "metadata": {
        "id": "JJNKWAYy8bhE"
      },
      "source": [
        "### 연습문제 2: 코드 작성하기\n",
        "파이썬으로 \"Hello, World!\"를 출력하는 간단한 함수를 만들어달라고 요청해보세요."
      ]
    },
    {
      "cell_type": "code",
      "execution_count": null,
      "metadata": {
        "id": "Z4FbAq6f8bhE"
      },
      "outputs": [],
      "source": [
        "model = genai.GenerativeModel('gemini-2.5-flash-lite')\n",
        "\n",
        "prompt = \"____________\"\n",
        "\n",
        "response = model.generate_content(prompt)\n",
        "# 코드 출력을 위해 마크다운 형식으로 봅니다.\n",
        "from IPython.display import Markdown\n",
        "display(Markdown(response.text))"
      ]
    },
    {
      "cell_type": "markdown",
      "metadata": {
        "id": "St1EZdtv8bhE"
      },
      "source": [
        "### 연습문제 3: 이메일 초안 작성하기\n",
        "팀 회의 시간을 다음 주 화요일 오후 2시로 정하자는 내용의 간단한 이메일 초안을 작성해달라고 해보세요."
      ]
    },
    {
      "cell_type": "code",
      "execution_count": null,
      "metadata": {
        "id": "6PghBzvO8bhE"
      },
      "outputs": [],
      "source": [
        "model = genai.GenerativeModel('gemini-2.5-flash-lite')\n",
        "\n",
        "prompt = \"_______________\"\n",
        "\n",
        "response = model.generate_content(prompt)\n",
        "print(response.text)"
      ]
    },
    {
      "cell_type": "markdown",
      "metadata": {
        "id": "1Zb0Mw538bhE"
      },
      "source": [
        "### 연습문제 4: 번역하기\n",
        "\"I love programming\"이라는 문장을 한국어로 번역해달라고 요청해보세요."
      ]
    },
    {
      "cell_type": "code",
      "execution_count": null,
      "metadata": {
        "id": "eN8kS9P88bhE"
      },
      "outputs": [],
      "source": [
        "model = genai.GenerativeModel('gemini-2.5-flash-lite')\n",
        "\n",
        "prompt = \"__________________\"\n",
        "\n",
        "response = model.generate_content(prompt)\n",
        "print(response.text)"
      ]
    },
    {
      "cell_type": "markdown",
      "metadata": {
        "id": "WRKft7pa8bhE"
      },
      "source": [
        "### 연습문제 5: 아이디어 얻기\n",
        "주말에 가족과 함께 할 수 있는 재미있는 활동 3가지를 추천해달라고 해보세요."
      ]
    },
    {
      "cell_type": "code",
      "execution_count": null,
      "metadata": {
        "id": "iv7LmDHD8bhE"
      },
      "outputs": [],
      "source": [
        "model = genai.GenerativeModel('gemini-2.5-flash-lite')\n",
        "\n",
        "prompt = \"\"\"주말에 가족과 함께 할 수 있는 재미있는 활동 3가지를 추천해줘.\"\"\"\n",
        "\n",
        "response = model.generate_content(prompt)\n",
        "print(response.text)"
      ]
    },
    {
      "cell_type": "markdown",
      "metadata": {
        "id": "X7dyb11n8bhE"
      },
      "source": [
        "### 연습문제 6: 개념 설명 요청하기\n",
        "'클라우드 컴퓨팅'이 무엇인지 초등학생도 이해할 수 있도록 쉽게 설명해달라고 해보세요."
      ]
    },
    {
      "cell_type": "code",
      "execution_count": null,
      "metadata": {
        "id": "f2NkjPFt8bhE"
      },
      "outputs": [],
      "source": [
        "model = genai.GenerativeModel('gemini-2.5-flash-lite')\n",
        "\n",
        "prompt = \"____________\"\n",
        "\n",
        "response = model.generate_content(prompt)\n",
        "print(response.text)"
      ]
    },
    {
      "cell_type": "markdown",
      "metadata": {
        "id": "4-UPKCvw8bhE"
      },
      "source": [
        "### 연습문제 7: 목록 만들기\n",
        "건강한 아침 식사 메뉴 5가지를 목록 형태로 만들어달라고 요청해보세요."
      ]
    },
    {
      "cell_type": "code",
      "execution_count": null,
      "metadata": {
        "id": "6q-lbYJV8bhE"
      },
      "outputs": [],
      "source": [
        "model = genai.GenerativeModel('gemini-2.5-flash-lite')\n",
        "\n",
        "prompt = \"__________________\"\n",
        "\n",
        "response = model.generate_content(prompt)\n",
        "print(response.text)"
      ]
    },
    {
      "cell_type": "markdown",
      "metadata": {
        "id": "N8lMbZ5T8bhE"
      },
      "source": [
        "### 연습문제 8: 역할극하기\n",
        "Gemini가 친절한 여행 가이드가 되어서, 서울에서 꼭 가봐야 할 장소 한 곳을 소개해달라고 해보세요."
      ]
    },
    {
      "cell_type": "code",
      "execution_count": null,
      "metadata": {
        "id": "mF6fUnDj8bhE"
      },
      "outputs": [],
      "source": [
        "model = genai.GenerativeModel('gemini-2.5-flash-lite')\n",
        "\n",
        "prompt = \"__________________\"\n",
        "\n",
        "response = model.generate_content(prompt)\n",
        "print(response.text)"
      ]
    },
    {
      "cell_type": "markdown",
      "metadata": {
        "id": "z3IBUBH18bhE"
      },
      "source": [
        "### 연습문제 9: 문장 요약하기\n",
        "아래 문단을 세 줄로 요약해달라고 요청해보세요. '인공지능은 컴퓨터가 인간처럼 학습하고, 추론하고, 문제를 해결할 수 있도록 하는 기술입니다. 머신러닝과 딥러닝은 인공지능의 핵심 분야로, 대량의 데이터를 분석하여 패턴을 찾고 미래를 예측하는 데 사용됩니다. 오늘날 인공지능은 의료, 금융, 자율주행차 등 우리 삶의 많은 영역에서 중요한 역할을 하고 있습니다.'"
      ]
    },
    {
      "cell_type": "code",
      "execution_count": null,
      "metadata": {
        "id": "uNFkwREy8bhE"
      },
      "outputs": [],
      "source": [
        "model = genai.GenerativeModel('gemini-2.5-flash-lite')\n",
        "\n",
        "prompt = \"\"\"\n",
        "-------------\n",
        "-------------\n",
        "-------------\n",
        "-------------\n",
        "\"\"\"\n",
        "\n",
        "response = model.generate_content(prompt)\n",
        "print(response.text)"
      ]
    },
    {
      "cell_type": "markdown",
      "metadata": {
        "id": "VMKNieE68bhF"
      },
      "source": [
        "### 연습문제 10: 이름 짓기\n",
        "새로 나온 스마트 화분에 어울릴 만한 창의적인 이름 3개를 제안해달라고 해보세요."
      ]
    },
    {
      "cell_type": "code",
      "execution_count": null,
      "metadata": {
        "id": "jfB0kZ1S8bhF"
      },
      "outputs": [],
      "source": [
        "model = genai.GenerativeModel('gemini-2.5-flash-lite')\n",
        "\n",
        "prompt = \"_______________________\"\n",
        "\n",
        "response = model.generate_content(prompt)\n",
        "print(response.text)"
      ]
    }
  ],
  "metadata": {
    "kernelspec": {
      "display_name": "Python 3",
      "language": "python",
      "name": "python3"
    },
    "language_info": {
      "codemirror_mode": {
        "name": "ipython",
        "version": 3
      },
      "file_extension": ".py",
      "mimetype": "text/x-python",
      "name": "python",
      "nbconvert_exporter": "python",
      "pygments_lexer": "ipython3",
      "version": "3.10.6"
    },
    "colab": {
      "provenance": [],
      "include_colab_link": true
    }
  },
  "nbformat": 4,
  "nbformat_minor": 0
}