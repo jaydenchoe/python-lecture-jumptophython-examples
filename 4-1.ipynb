{
 "cells": [
  {
   "cell_type": "markdown",
   "metadata": {},
   "source": [
    "# 🤖 파이썬 함수(Function)로 나만의 챗봇 만들기 🤖\n",
    "\n",
    "안녕하세요! 코딩의 세계에 오신 것을 환영합니다. 🎉\n",
    "\n",
    "오늘은 파이썬의 아주 중요하고 재미있는 개념인 **함수(Function)**에 대해 배워볼 거예요. 함수를 이용하면 마치 레고 블록을 조립하듯 코드를 만들 수 있답니다. 오늘은 특별히 간단한 챗봇을 만들어보면서 함수와 친해져 볼게요!"
   ]
  },
  {
   "cell_type": "markdown",
   "metadata": {},
   "source": [
    "## 1. 함수가 뭐예요? 🤔\n",
    "\n",
    "함수는 \"**입력**을 주면 정해진 일을 하고 **결과(출력)**를 돌려주는 기계\"라고 생각하면 쉬워요. \n",
    "\n",
    "믹서기를 생각해 볼까요? 과일(입력)을 넣고 버튼을 누르면, 윙~ 갈아서 맛있는 주스(출력)를 만들어주죠? 여기서 믹서기가 바로 함수와 같은 역할을 하는 거예요.\n",
    "\n",
    "프로그래밍에서 함수를 쓰면 좋은 점은 이래요:\n",
    "* **코드가 깔끔해져요:** 여기저기 흩어져 있는 코드를 기능별로 착착 정리할 수 있어요. \n",
    "* **반복을 줄여줘요:** 똑같은 코드를 여러 번 쓸 필요 없이, 필요할 때마다 함수를 불러오기만 하면 돼요. \n",
    "\n",
    "자, 그럼 우리 챗봇이 처음 인사를 건네는 함수를 만들어 볼까요?"
   ]
  },
  {
   "cell_type": "code",
   "execution_count": null,
   "metadata": {},
   "outputs": [],
   "source": [
    "# 'chatbot_hello' 라는 이름의 함수를 정의(define)해요.\n",
    "# def는 'define'의 줄임말로, 지금부터 함수를 만들겠다고 선언하는 거예요. \n",
    "def chatbot_hello():\n",
    "  # 이 함수가 할 일은 \"안녕하세요!\" 라고 출력하는 거예요.\n",
    "  print(\"챗봇: 안녕하세요! 만나서 반가워요.\")\n",
    "\n",
    "# 이제 우리가 만든 함수를 불러서(호출해서) 실행해볼까요?\n",
    "chatbot_hello()"
   ]
  },
  {
   "cell_type": "markdown",
   "metadata": {},
   "source": [
    "## 2. 함수에게 재료(입력)를 줘봐요: 매개변수와 인수\n",
    "\n",
    "챗봇이 내 이름까지 불러주면서 인사하면 더 실감 나겠죠? 함수에 이름을 전달하려면 어떻게 해야 할까요?\n",
    "\n",
    "바로 함수를 만들 때 괄호 `()` 안에 **매개변수(parameter)**라는 이름표를 붙여주는 거예요. 이 이름표는 함수로 들어올 입력값을 담는 그릇이에요. \n",
    "\n",
    "그리고 함수를 부를 때, 이 그릇에 담아줄 실제 값, 예를 들어 '철수' 같은 값을 **인수(argument)**라고 불러요. \n",
    "\n",
    "**매개변수** = 이름표 붙인 빈 그릇 🥣\n",
    "**인수** = 그릇에 담을 진짜 음식 🍓"
   ]
  },
  {
   "cell_type": "code",
   "execution_count": null,
   "metadata": {},
   "outputs": [],
   "source": [
    "# 'user_name' 이라는 매개변수(그릇)를 가진 함수를 만들어요.\n",
    "def greet_user(user_name):\n",
    "  print(f\"챗봇: 안녕하세요, {user_name}님! 오늘 기분은 어떠신가요?\")\n",
    "\n",
    "# 이제 함수를 부를 때 '홍길동' 이라는 인수(음식)를 전달해볼게요.\n",
    "greet_user(\"홍길동\")\n",
    "\n",
    "greet_user(\"제니\")"
   ]
  },
  {
   "cell_type": "markdown",
   "metadata": {},
   "source": [
    "## 3. 함수가 만들어 낸 결과물(출력): return\n",
    "\n",
    "함수는 `print()`처럼 화면에 뭔가를 보여주는 일도 할 수 있지만, 계산 결과 같은 값을 만들어서 함수 바깥으로 내보내는 일을 더 많이 해요. 이때 사용하는 명령어가 바로 `return`이에요. \n",
    "\n",
    "`return`을 사용하면 함수가 어떤 값을 \"반환한다\"고 말해요. 반환된 값은 다른 변수에 저장해서 또 쓸 수 있답니다.\n",
    "\n",
    "우리 챗봇에게 두 숫자를 더하는 계산기 기능을 만들어 줘 볼까요?"
   ]
  },
  {
   "cell_type": "code",
   "execution_count": null,
   "metadata": {},
   "outputs": [],
   "source": [
    "# 두 개의 숫자 a, b를 매개변수로 받아요.\n",
    "def add_numbers(a, b):\n",
    "  print(\"챗봇: 두 숫자를 더해드릴게요!\")\n",
    "  # a와 b를 더한 결과를 함수 바깥으로 돌려줘요 (반환해요).\n",
    "  return a + b\n",
    "\n",
    "# add_numbers 함수를 호출하고, 그 결과(return 값)를 result라는 변수에 저장해요.\n",
    "sum_result = add_numbers(5, 10)\n",
    "\n",
    "# result 변수에 저장된 값을 출력해봐요.\n",
    "print(f\"사용자: 5 더하기 10은 몇이야?\")\n",
    "print(f\"챗봇: 정답은 {sum_result} 입니다!\")"
   ]
  },
  {
   "cell_type": "markdown",
   "metadata": {},
   "source": [
    "### 잠깐! `print`와 `return`은 뭐가 다른가요?\n",
    "\n",
    "초보자들이 많이 헷갈리는 부분이에요! \n",
    "- `print()`: 그냥 화면에 보여주고 끝! 함수 밖에서는 그 값을 다시 쓸 수 없어요.\n",
    "- `return`: 함수가 만든 값을 함수 바깥 세상으로 넘겨주는 것! 변수에 저장해서 계속 쓸 수 있어요.\n",
    "\n",
    "아래 코드를 실행해서 차이점을 직접 확인해보세요!"
   ]
  },
  {
   "cell_type": "code",
   "execution_count": null,
   "metadata": {},
   "outputs": [],
   "source": [
    "# return이 없는 함수\n",
    "def print_only_add(a, b):\n",
    "  print(f\"두 수의 합은 {a+b}입니다.\")\n",
    "\n",
    "# return이 있는 함수\n",
    "def return_add(a, b):\n",
    "  return a + b\n",
    "\n",
    "print(\"--- print만 있는 함수 실행 ---\")\n",
    "result_print = print_only_add(3, 4)\n",
    "print(f\"함수가 돌려준 값: {result_print}\") # None이 출력돼요. 돌려준 값이 없다는 뜻! \n",
    "\n",
    "print(\"\\n--- return이 있는 함수 실행 ---\")\n",
    "result_return = return_add(3, 4)\n",
    "print(f\"함수가 돌려준 값: {result_return}\") # 7이 잘 출력되죠?"
   ]
  },
  {
   "cell_type": "markdown",
   "metadata": {},
   "source": [
    "## 4. 옵션은 미리 정해둘게요: 기본(Default) 매개변수\n",
    "\n",
    "가끔은 함수에 값을 꼭 전달하지 않아도, 기본으로 설정된 값을 쓰고 싶을 때가 있어요. 예를 들어 챗봇의 언어를 설정하는 기능을 만드는데, 대부분 한국어를 쓸 테니 기본값으로 '한국어'를 지정해두는 거죠. \n",
    "\n",
    "이럴 때 **기본 매개변수**를 사용해요. `매개변수이름=기본값` 형태로 씁니다."
   ]
  },
  {
   "cell_type": "code",
   "execution_count": null,
   "metadata": {},
   "outputs": [],
   "source": [
    "# language 매개변수에 기본값으로 '한국어'를 설정해요.\n",
    "def chatbot_setting(name, language=\"한국어\"):\n",
    "  print(f\"챗봇({name}): 언어 설정이 '{language}'(으)로 완료되었습니다.\")\n",
    "\n",
    "# language 값을 따로 주지 않으면? -> 기본값 '한국어'가 사용돼요.\n",
    "chatbot_setting(\"알파\")\n",
    "\n",
    "# language 값을 'English'로 직접 주면? -> 기본값 대신 'English'가 사용돼요.\n",
    "chatbot_setting(\"Bravo\", language=\"English\")"
   ]
  },
  {
   "cell_type": "markdown",
   "metadata": {},
   "source": [
    "## 5. 입력값이 몇 개가 될지 모르겠어요: `*args` 와 `**kwargs`\n",
    "\n",
    "만약 챗봇에게 내가 좋아하는 음식을 말하는데, 1개를 말할 수도 있고 10개를 말할 수도 있다면 어떡할까요? 매개변수를 10개 만들어 둘 수도 없고... \n",
    "\n",
    "이럴 때 마법 같은 도구가 있어요! 바로 `*`와 `**` 입니다.\n",
    "\n",
    "### 여러 개의 입력을 순서대로 받을 때: `*args`\n",
    "매개변수 이름 앞에 `*`를 붙이면, 들어오는 인수들을 전부 모아서 **튜플(Tuple)**이라는 꾸러미로 만들어줘요. \n",
    "관습적으로 `*args` 라고 많이 써요. (arguments의 약자)"
   ]
  },
  {
   "cell_type": "code",
   "execution_count": null,
   "metadata": {},
   "outputs": [],
   "source": [
    "def list_my_favorites(*args):\n",
    "  print(\"챗봇: 당신이 좋아하는 것들은...\")\n",
    "  # args는 튜플 꾸러미이므로, for문을 사용해 하나씩 꺼내볼 수 있어요.\n",
    "  for item in args:\n",
    "    print(f\"- {item}\")\n",
    "  print(\"이군요! 좋은 취향이에요.\")\n",
    "\n",
    "list_my_favorites(\"코딩\", \"영화보기\", \"산책\")\n",
    "print(\"----------\")\n",
    "list_my_favorites(\"떡볶이\")"
   ]
  },
  {
   "cell_type": "markdown",
   "metadata": {},
   "source": [
    "### 여러 개의 입력을 이름표와 함께 받을 때: `**kwargs`\n",
    "매개변수 이름 앞에 `**`를 붙이면, `이름='값'` 형태로 들어오는 인수들을 전부 모아서 **딕셔너리(Dictionary)**라는 꾸러미로 만들어줘요. \n",
    "관습적으로 `**kwargs` 라고 많이 써요. (keyword arguments의 약자)"
   ]
  },
  {
   "cell_type": "code",
   "execution_count": null,
   "metadata": {},
   "outputs": [],
   "source": [
    "def create_user_profile(**kwargs):\n",
    "  print(\"--- 챗봇: 사용자 프로필 생성 ---\")\n",
    "  # kwargs는 딕셔너리 꾸러미이므로, .items()를 사용해 key와 value를 꺼내볼 수 있어요.\n",
    "  for key, value in kwargs.items():\n",
    "    print(f\"* {key}: {value}\")\n",
    "  print(\"---------------------------\")\n",
    "\n",
    "create_user_profile(이름=\"김파이\", 나이=20, 직업=\"학생\")\n",
    "print(\"\\n\")\n",
    "create_user_profile(이름=\"이코딩\", 도시=\"서울\", 취미=[\"독서\", \"게임\"], MBTI=\"ENFP\")"
   ]
  },
  {
   "cell_type": "markdown",
   "metadata": {},
   "source": [
    "## ⭐️ 혼자 해보는 챗봇 기능 만들기 ⭐️\n",
    "\n",
    "이제 배운 내용을 활용해서 챗봇의 기능을 직접 만들어볼 시간이에요! \n",
    "아래 문제들의 코드 셀에서 `___` 부분을 채워서 코드를 완성해보세요!"
   ]
  },
  {
   "cell_type": "markdown",
   "metadata": {},
   "source": [
    "### 연습문제 1: 간단한 응원 메시지 보내기\n",
    "호출하면 \"오늘도 힘내세요! 파이팅!\" 이라고 출력하는 `cheer_up` 함수를 만들어보세요. (입력 X, 출력 X)"
   ]
  },
  {
   "cell_type": "code",
   "execution_count": null,
   "metadata": {},
   "outputs": [],
   "source": [
    "def ___():\n",
    "  print(\"챗봇: 오늘도 힘내세요! 파이팅!\")\n",
    "\n",
    "# 아래 코드로 함수를 호출해서 테스트해보세요\n",
    "cheer_up()"
   ]
  },
  {
   "cell_type": "markdown",
   "metadata": {},
   "source": [
    "### 연습문제 2: 날씨 알려주기\n",
    "날씨(예: \"맑음\")를 인수로 받아서 \"오늘의 날씨는 ___ 입니다.\" 라고 출력하는 `tell_weather` 함수를 만들어보세요. (입력 O, 출력 X)"
   ]
  },
  {
   "cell_type": "code",
   "execution_count": null,
   "metadata": {},
   "outputs": [],
   "source": [
    "def tell_weather(___):\n",
    "  print(f\"챗봇: 오늘의 날씨는 {weather} 입니다.\")\n",
    "\n",
    "# 아래 코드로 함수를 호출해서 테스트해보세요\n",
    "tell_weather(\"화창해요 ☀️\")"
   ]
  },
  {
   "cell_type": "markdown",
   "metadata": {},
   "source": [
    "### 연습문제 3: 나이 계산하기\n",
    "태어난 연도(year)를 인수로 받아서, 현재 나이를 계산해서 **반환(return)**하는 `calculate_age` 함수를 만들어보세요. (올해는 2025년이라고 가정할게요!)"
   ]
  },
  {
   "cell_type": "code",
   "execution_count": null,
   "metadata": {},
   "outputs": [],
   "source": [
    "def calculate_age(year):\n",
    "  age = 2025 - year + 1\n",
    "  return ___\n",
    "\n",
    "# 아래 코드로 함수를 호출해서 테스트해보세요\n",
    "my_age = calculate_age(2005)\n",
    "print(f\"챗봇: 당신의 나이는 {my_age}살이군요!\")"
   ]
  },
  {
   "cell_type": "markdown",
   "metadata": {},
   "source": [
    "### 연습문제 4: 메뉴 추천하기\n",
    "음식 종류(`category`)를 인수로 받아서 메뉴를 추천하는 `recommend_menu` 함수를 만들어보세요. `category`의 기본값은 \"한식\"으로 설정해주세요."
   ]
  },
  {
   "cell_type": "code",
   "execution_count": null,
   "metadata": {},
   "outputs": [],
   "source": [
    "def recommend_menu(category=___):\n",
    "  if category == \"한식\":\n",
    "    print(\"챗봇: 오늘은 김치찌개 어떠세요?\")\n",
    "  elif category == \"중식\":\n",
    "    print(\"챗봇: 짜장면이 좋겠네요!\")\n",
    "  else:\n",
    "    print(f\"챗봇: {category} 메뉴는... 파스타를 추천해요!\")\n",
    "\n",
    "# 아래 코드로 함수를 호출해서 테스트해보세요\n",
    "recommend_menu() # 기본값 테스트\n",
    "recommend_menu(\"중식\")\n",
    "recommend_menu(\"양식\")"
   ]
  },
  {
   "cell_type": "markdown",
   "metadata": {},
   "source": [
    "### 연습문제 5: 쇼핑 리스트 만들기\n",
    "여러 개의 쇼핑 아이템을 인수로 받아서 (`*args` 사용) 리스트를 출력해주는 `make_shopping_list` 함수를 만들어보세요."
   ]
  },
  {
   "cell_type": "code",
   "execution_count": null,
   "metadata": {},
   "outputs": [],
   "source": [
    "def make_shopping_list(____):\n",
    "  print(\"--- 쇼핑 리스트 ---\")\n",
    "  for item in items:\n",
    "    print(f\"- {item}\")\n",
    "  print(\"-------------------\")\n",
    "\n",
    "# 아래 코드로 함수를 호출해서 테스트해보세요\n",
    "make_shopping_list(\"계란\", \"우유\", \"치즈\", \"토마토\")"
   ]
  },
  {
   "cell_type": "markdown",
   "metadata": {},
   "source": [
    "### 연습문제 6: 자기소개 문장 만들기\n",
    "이름(name)과 나이(age)를 인수로 받아서 \"제 이름은 __이고, 나이는 __살입니다.\" 라는 문장을 **반환(return)**하는 `introduce_myself` 함수를 만들어보세요."
   ]
  },
  {
   "cell_type": "code",
   "execution_count": null,
   "metadata": {},
   "outputs": [],
   "source": [
    "def introduce_myself(name, ___):\n",
    "  sentence = f\"제 이름은 {name}이고, 나이는 {age}살입니다.\"\n",
    "  return ___\n",
    "\n",
    "# 아래 코드로 함수를 호출해서 테스트해보세요\n",
    "intro = introduce_myself(\"김코딩\", 25)\n",
    "print(intro)"
   ]
  },
  {
   "cell_type": "markdown",
   "metadata": {},
   "source": [
    "### 연습문제 7: 간단한 예약 시스템\n",
    "예약 정보를 `**kwargs`로 받아서 출력하는 `make_reservation` 함수를 만들어 보세요."
   ]
  },
  {
   "cell_type": "code",
   "execution_count": null,
   "metadata": {},
   "outputs": [],
   "source": [
    "def make_reservation(____):\n",
    "  print(\"챗봇: 예약 정보입니다.\")\n",
    "  for key, value in info.items():\n",
    "    print(f\"> {key}: {value}\")\n",
    "\n",
    "# 아래 코드로 함수를 호출해서 테스트해보세요\n",
    "make_reservation(예약자=\"이파이\", 날짜=\"10월 26일\", 시간=\"오후 7시\", 인원=3)"
   ]
  },
  {
   "cell_type": "markdown",
   "metadata": {},
   "source": [
    "### 연습문제 8: 숫자 리스트의 평균 구하기\n",
    "여러 개의 숫자를 `*args`로 받아서 모든 숫자의 평균을 구해 **반환(return)**하는 `calculate_average` 함수를 만들어보세요. (힌트: 합계는 `sum(숫자들)`, 개수는 `len(숫자들)`)"
   ]
  },
  {
   "cell_type": "code",
   "execution_count": null,
   "metadata": {},
   "outputs": [],
   "source": [
    "def calculate_average(____):\n",
    "  total = sum(numbers)\n",
    "  count = len(numbers)\n",
    "  average = total / count\n",
    "  return ___\n",
    "\n",
    "# 아래 코드로 함수를 호출해서 테스트해보세요\n",
    "avg = calculate_average(10, 20, 30, 40, 50)\n",
    "print(f\"숫자들의 평균은 {avg} 입니다.\")"
   ]
  },
  {
   "cell_type": "markdown",
   "metadata": {},
   "source": [
    "### 연습문제 9: 인사말과 작별인사\n",
    "두 개의 값을 반환하는 함수를 만들어볼까요? 이름(name)을 인수로 받아서, `\"___님, 환영합니다!\"` 와 `\"다음에 또 만나요, ___님!\"` 두 개의 문장을 **반환(return)**하는 `greet_and_farewell` 함수를 만들어보세요."
   ]
  },
  {
   "cell_type": "code",
   "execution_count": null,
   "metadata": {},
   "outputs": [],
   "source": [
    "def greet_and_farewell(name):\n",
    "  greeting = f\"{name}님, 환영합니다!\"\n",
    "  farewell = f\"다음에 또 만나요, {name}님!\"\n",
    "  return greeting, ___\n",
    "\n",
    "# 아래 코드로 함수를 호출해서 테스트해보세요\n",
    "# 함수가 2개의 값을 반환하면, 이렇게 변수 2개로 각각 받을 수 있어요!\n",
    "welcome_message, goodbye_message = greet_and_farewell(\"박해커\")\n",
    "print(welcome_message)\n",
    "print(goodbye_message)"
   ]
  },
  {
   "cell_type": "markdown",
   "metadata": {},
   "source": [
    "### 연습문제 10: 람다(lambda)로 간단한 계산기 만들기\n",
    "`lambda`를 이용해서 두 숫자 `x`, `y`를 곱하는 간단한 함수 `multiplier`를 만들어보세요."
   ]
  },
  {
   "cell_type": "code",
   "execution_count": null,
   "metadata": {},
   "outputs": [],
   "source": [
    "# lambda 매개변수: 표현식\n",
    "multiplier = lambda x, y: ___\n",
    "\n",
    "# 아래 코드로 함수를 호출해서 테스트해보세요\n",
    "result = multiplier(7, 8)\n",
    "print(f\"7 곱하기 8은 {result} 입니다.\")"
   ]
  },
  {
   "cell_type": "markdown",
   "metadata": {},
   "source": [
    "## 모든 문제를 해결하셨나요? 축하합니다! 🎉\n",
    "\n",
    "이제 여러분은 파이썬 함수의 기본을 마스터했어요! 함수를 자유자재로 사용하면 훨씬 더 복잡하고 멋진 프로그램을 만들 수 있을 거예요. 앞으로도 즐겁게 코딩 여행을 계속해나가길 응원합니다!"
   ]
  }
 ],
 "metadata": {
  "kernelspec": {
   "display_name": "base",
   "language": "python",
   "name": "python3"
  },
  "language_info": {
   "codemirror_mode": {
    "name": "ipython",
    "version": 3
   },
   "file_extension": ".py",
   "mimetype": "text/x-python",
   "name": "python",
   "nbconvert_exporter": "python",
   "pygments_lexer": "ipython3",
   "version": "3.12.11"
  }
 },
 "nbformat": 4,
 "nbformat_minor": 4
}