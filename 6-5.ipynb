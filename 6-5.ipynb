{
 "cells": [
  {
   "cell_type": "markdown",
   "metadata": {},
   "source": [
    "# 🤖 파이썬으로 나만의 첫 챗봇 만들기 (기초편)\n",
    "\n",
    "안녕하세요! 코딩의 세계에 오신 것을 환영합니다. 🎉\n",
    "\n",
    "이 노트북에서는 파이썬의 아주 기초적인 문법을 사용해서, 텍스트를 깔끔하게 정리해주는 간단한 챗봇을 만들어 볼 거예요. 어려운 이론은 잠시 잊고, 재미있는 예제를 따라 하면서 코딩과 친해져 봐요! "
   ]
  },
  {
   "cell_type": "markdown",
   "metadata": {},
   "source": [
    "## 1단계: 챗봇과 인사하기 (`print`)"
   ]
  },
  {
   "cell_type": "markdown",
   "metadata": {},
   "source": [
    "모든 프로그램의 시작은 \"출력\"입니다. 화면에 글자를 보여주는 거죠. 파이썬에서는 `print()`라는 명령어를 사용해서 괄호 `()` 안에 보여주고 싶은 내용을 넣으면, 챗봇이 우리에게 말을 걸게 할 수 있어요. \n",
    "\n",
    "아래 코드 셀의 ▶️ (재생) 버튼을 눌러서 직접 실행해보세요!"
   ]
  },
  {
   "cell_type": "code",
   "execution_count": null,
   "metadata": {},
   "outputs": [],
   "source": [
    "print(\"안녕하세요! 저는 텍스트를 예쁘게 정리해주는 봇입니다.\")\n",
    "print(\"정리가 필요한 문장을 저에게 알려주세요!\")"
   ]
  },
  {
   "cell_type": "markdown",
   "metadata": {},
   "source": [
    "## 2단계: 챗봇에게 정보 기억시키기 (변수)"
   ]
  },
  {
   "cell_type": "markdown",
   "metadata": {},
   "source": [
    "챗봇이 우리가 준 정보를 기억하게 하려면 '변수'라는 상자가 필요해요. 변수는 이름표를 붙인 상자라고 생각하면 쉬워요. 상자에 데이터를 넣어두고, 필요할 때마다 이름표를 불러서 사용할 수 있죠.\n",
    "\n",
    "여기서는 `messy_text` 라는 이름의 상자(변수)에, 정리가 필요한 문장을 넣어볼게요. 문장 안에 있는 `\\t`는 '탭(Tab)' 문자를 의미하는 특수 기호랍니다. 키보드의 Tab 키를 누른 것과 같아요."
   ]
  },
  {
   "cell_type": "code",
   "execution_count": null,
   "metadata": {},
   "outputs": [],
   "source": [
    "# 'messy_text'라는 변수에 탭(\\t)이 포함된 문장을 저장해요.\n",
    "messy_text = \"파이썬은\\t정말\\t재미있어\"\n",
    "\n",
    "# 변수에 저장된 내용을 출력해볼까요?\n",
    "print(messy_text)"
   ]
  },
  {
   "cell_type": "markdown",
   "metadata": {},
   "source": [
    "## 3단계: 챗봇의 마법! 글자 바꾸기 (`replace`)"
   ]
  },
  {
   "cell_type": "markdown",
   "metadata": {},
   "source": [
    "이제 챗봇의 가장 중요한 능력을 가르쳐 줄 시간이에요! 바로 글자를 바꾸는 마법, `.replace()` 입니다.\n",
    "\n",
    "`replace('바꿀글자', '새로운글자')` 와 같은 형태로 사용해서, 문장 안의 특정 글자를 다른 글자로 전부 바꿀 수 있어요. 우리는 지저분한 탭 문자(`\\t`)를 깔끔한 공백 문자 4개(`'    '`)로 바꿔볼게요."
   ]
  },
  {
   "cell_type": "code",
   "execution_count": null,
   "metadata": {},
   "outputs": [],
   "source": [
    "# 이전에 만들었던 messy_text 변수를 가져와요.\n",
    "messy_text = \"파이썬은\\t정말\\t재미있어\"\n",
    "\n",
    "# .replace()를 사용해서 '\\t'를 공백 4개로 바꿔주고, 결과를 'clean_text' 변수에 저장해요.\n",
    "clean_text = messy_text.replace('\\t', '    ')\n",
    "\n",
    "print(\"--- 바꾸기 전 ---\")\n",
    "print(messy_text)\n",
    "\n",
    "print(\"--- 바꾼 후 ---\")\n",
    "print(clean_text)"
   ]
  },
  {
   "cell_type": "markdown",
   "metadata": {},
   "source": [
    "## 4단계: 파일 읽고 쓰기 (파일 입출력)"
   ]
  },
  {
   "cell_type": "markdown",
   "metadata": {},
   "source": [
    "만약 정리할 내용이 아주 길어서 파일에 저장되어 있다면 어떨까요? 챗봇이 파일을 직접 읽고, 정리한 내용을 새로운 파일에 써주면 정말 편리하겠죠?\n",
    "\n",
    "파이썬의 `open()` 함수를 사용하면 파일을 열 수 있어요.\n",
    "- `open('파일이름', 'w')` : 파일을 쓰기(write) 모드로 열어요. (새로운 내용 덮어쓰기)\n",
    "- `open('파일이름', 'r')` : 파일을 읽기(read) 모드로 열어요.\n",
    "\n",
    "먼저, 정리할 내용이 담긴 `source.txt` 파일을 만들어볼게요."
   ]
  },
  {
   "cell_type": "code",
   "execution_count": null,
   "metadata": {},
   "outputs": [],
   "source": [
    "# 'w' 모드로 파일을 열고, 내용을 작성해요.\n",
    "# with 구문을 사용하면 파일을 다 쓴 후에 자동으로 닫아줘서 편리해요.\n",
    "with open('source.txt', 'w') as f:\n",
    "    f.write(\"Life\\tis\\ttoo short\\n\")\n",
    "    f.write(\"You\\tneed\\tpython\\n\")\n",
    "\n",
    "print(\"'source.txt' 파일이 생성되었어요!\")"
   ]
  },
  {
   "cell_type": "markdown",
   "metadata": {},
   "source": [
    "파일이 잘 만들어졌는지 코랩 왼쪽의 파일 아이콘(📁)을 눌러 확인해보세요! `source.txt` 파일이 보일 거예요.\n",
    "\n",
    "이제 `source.txt` 파일을 읽어서, 탭을 공백으로 바꾼 뒤, `result.txt`라는 새 파일에 저장하는 코드를 완성해볼게요."
   ]
  },
  {
   "cell_type": "code",
   "execution_count": null,
   "metadata": {},
   "outputs": [],
   "source": [
    "# 1. 'source.txt' 파일을 읽기('r') 모드로 열어서 내용을 읽어와요.\n",
    "with open('source.txt', 'r') as f:\n",
    "    tab_content = f.read()\n",
    "\n",
    "# 2. 읽어온 내용(tab_content)에서 탭을 공백 4개로 바꿔요.\n",
    "space_content = tab_content.replace('\\t', '    ')\n",
    "\n",
    "# 3. 'result.txt' 파일을 쓰기('w') 모드로 열어서 변경된 내용을 저장해요.\n",
    "with open('result.txt', 'w') as f:\n",
    "    f.write(space_content)\n",
    "\n",
    "print(\"'result.txt' 파일에 결과가 저장되었어요! 파일을 열어 확인해보세요.\")"
   ]
  },
  {
   "cell_type": "markdown",
   "metadata": {},
   "source": [
    "## 짝짝짝! 나만의 챗봇 완성!\n",
    "\n",
    "축하합니다! 여러분은 이제 파이썬으로 아래와 같은 일을 할 수 있게 되었어요.\n",
    "\n",
    "✅ `print()`로 화면에 글자 출력하기\n",
    "✅ `변수`에 데이터 저장하기\n",
    "✅ `.replace()`로 글자 바꾸기\n",
    "✅ `open()`으로 파일을 읽고 쓰기\n",
    "\n",
    "이것만으로도 정말 많은 일을 할 수 있답니다! 이제 배운 내용을 복습해볼 수 있는 간단한 연습문제를 풀어보며 실력을 더 키워봐요. 💪"
   ]
  },
  {
   "cell_type": "markdown",
   "metadata": {},
   "source": [
    "---"
   ]
  },
  {
   "cell_type": "markdown",
   "metadata": {},
   "source": [
    "## ✏️ 혼자 해보는 연습문제"
   ]
  },
  {
   "cell_type": "markdown",
   "metadata": {},
   "source": [
    "### 문제 1: 자기소개하기\n",
    "\n",
    "`print()`를 사용해서 여러분의 이름과 나이를 출력하는 자기소개 문장을 만들어보세요."
   ]
  },
  {
   "cell_type": "code",
   "execution_count": null,
   "metadata": {},
   "outputs": [],
   "source": [
    "# 빈칸에 여러분의 이름과 나이를 넣어 코드를 완성하세요.\n",
    "name = \"__채울 부분__\"\n",
    "age = \"__채울 부분__\"\n",
    "\n",
    "print(\"제 이름은 \" + name + \"이고, 나이는 \" + age + \"살입니다.\")"
   ]
  },
  {
   "cell_type": "markdown",
   "metadata": {},
   "source": [
    "### 문제 2: 좋아하는 과일\n",
    "\n",
    "`fruit` 라는 변수에 여러분이 가장 좋아하는 과일 이름을 저장하고 출력해보세요."
   ]
  },
  {
   "cell_type": "code",
   "execution_count": null,
   "metadata": {},
   "outputs": [],
   "source": [
    "# 빈칸에 좋아하는 과일을 적어 코드를 완성하세요.\n",
    "fruit = \"__채울 부분__\"\n",
    "\n",
    "print(\"제가 가장 좋아하는 과일은 \" + fruit + \"입니다.\")"
   ]
  },
  {
   "cell_type": "markdown",
   "metadata": {},
   "source": [
    "### 문제 3: 오타 고치기\n",
    "\n",
    "`'파이썬은 어려워'` 라는 문장에서 `'어려워'`를 `'쉬워'`로 바꿔서 출력해보세요."
   ]
  },
  {
   "cell_type": "code",
   "execution_count": null,
   "metadata": {},
   "outputs": [],
   "source": [
    "wrong_sentence = \"파이썬은 어려워\"\n",
    "\n",
    "# .replace()를 사용해서 빈칸을 채워보세요.\n",
    "correct_sentence = wrong_sentence.replace(\"__채울 부분__\", \"__채울 부분__\")\n",
    "\n",
    "print(correct_sentence)"
   ]
  },
  {
   "cell_type": "markdown",
   "metadata": {},
   "source": [
    "### 문제 4: 쉼표를 공백으로 바꾸기\n",
    "\n",
    "과일 목록이 쉼표(`,`)로 구분되어 있어요. 쉼표를 공백(` `)으로 바꿔서 출력해보세요."
   ]
  },
  {
   "cell_type": "code",
   "execution_count": null,
   "metadata": {},
   "outputs": [],
   "source": [
    "items = \"사과,바나나,딸기,포도\"\n",
    "\n",
    "# 쉼표(,)를 공백(' ')으로 바꿔보세요.\n",
    "fixed_items = items.replace(\"__채울 부분__\", \" \")\n",
    "\n",
    "print(fixed_items)"
   ]
  },
  {
   "cell_type": "markdown",
   "metadata": {},
   "source": [
    "### 문제 5: 느낌표 추가하기\n",
    "\n",
    "`'안녕'` 이라는 단어를 `'안녕!'` 으로 바꿔보세요."
   ]
  },
  {
   "cell_type": "code",
   "execution_count": null,
   "metadata": {},
   "outputs": [],
   "source": [
    "text = \"안녕\"\n",
    "\n",
    "# '안녕'을 '안녕!'으로 바꿔보세요.\n",
    "text_with_exclamation = text.replace(\"안녕\", \"__채울 부분__\")\n",
    "\n",
    "print(text_with_exclamation)"
   ]
  },
  {
   "cell_type": "markdown",
   "metadata": {},
   "source": [
    "### 문제 6: 파일에 내 좌우명 쓰기\n",
    "\n",
    "`motto.txt` 라는 파일을 만들고, 파일 안에 여러분의 좌우명을 써보세요."
   ]
  },
  {
   "cell_type": "code",
   "execution_count": null,
   "metadata": {},
   "outputs": [],
   "source": [
    "# 빈칸에 파일 이름과 여러분의 좌우명을 넣어 코드를 완성하세요.\n",
    "with open(\"__채울 부분__\", \"w\") as f:\n",
    "    f.write(\"__여기에 좌우명을 쓰세요__\")\n",
    "\n",
    "print(\"motto.txt 파일 저장 완료!\")"
   ]
  },
  {
   "cell_type": "markdown",
   "metadata": {},
   "source": [
    "### 문제 7: 줄바꿈 문자 사용하기\n",
    "\n",
    "`'첫째 줄\\n둘째 줄'` 처럼, 글자 중간에 `\\n`을 넣으면 줄을 바꿀 수 있어요. 이를 이용해서 `multiline.txt` 파일에 여러 줄의 글을 써보세요."
   ]
  },
  {
   "cell_type": "code",
   "execution_count": null,
   "metadata": {},
   "outputs": [],
   "source": [
    "# '\\n'을 사용해서 애국가 1절을 파일에 써보세요.\n",
    "lyrics = \"동해물과 백두산이 마르고 닳도록\\n하느님이 보우하사 우리나라 만세\"\n",
    "\n",
    "with open(\"multiline.txt\", \"__채울 부분__\") as f:\n",
    "    f.write(lyrics)\n",
    "\n",
    "print(\"multiline.txt 파일 저장 완료!\")"
   ]
  },
  {
   "cell_type": "markdown",
   "metadata": {},
   "source": [
    "### 문제 8: 파일 읽어서 출력하기\n",
    "\n",
    "방금 만든 `motto.txt` 파일을 읽어서, 그 내용을 화면에 출력해보세요."
   ]
  },
  {
   "cell_type": "code",
   "execution_count": null,
   "metadata": {},
   "outputs": [],
   "source": [
    "# 빈칸을 채워 'motto.txt' 파일을 읽고 내용을 출력하세요.\n",
    "with open(\"__채울 부분__\", \"r\") as f:\n",
    "    content = f.read()\n",
    "\n",
    "print(content)"
   ]
  },
  {
   "cell_type": "markdown",
   "metadata": {},
   "source": [
    "### 문제 9: 특정 단어를 다른 단어로 바꿔서 새 파일에 저장하기\n",
    "\n",
    "먼저 `'나는 파이썬이 싫어'` 라고 적힌 `bad.txt` 파일을 만드세요. 그 다음, 이 파일을 읽어서 `'싫어'`를 `'좋아'`로 바꾼 뒤, `good.txt` 파일에 저장해보세요."
   ]
  },
  {
   "cell_type": "code",
   "execution_count": null,
   "metadata": {},
   "outputs": [],
   "source": [
    "# 1. bad.txt 파일 만들기\n",
    "with open(\"bad.txt\", \"w\") as f:\n",
    "    f.write(\"나는 파이썬이 싫어\")\n",
    "\n",
    "# 2. bad.txt 파일 읽기\n",
    "with open(\"bad.txt\", \"r\") as f:\n",
    "    bad_text = f.read()\n",
    "\n",
    "# 3. '싫어'를 '좋아'로 바꾸기 (빈칸 채우기)\n",
    "good_text = bad_text.replace(\"싫어\", \"__채울 부분__\")\n",
    "\n",
    "# 4. good.txt 파일에 저장하기 (빈칸 채우기)\n",
    "with open(\"__채울 부분__\", \"w\") as f:\n",
    "    f.write(good_text)\n",
    "\n",
    "print(\"good.txt 파일 저장 완료! 내용을 확인해보세요.\")"
   ]
  },
  {
   "cell_type": "markdown",
   "metadata": {},
   "source": [
    "### 문제 10: 모든 공백 없애기\n",
    "\n",
    "`'파 이 썬 공 부 는 재 미 있 어 요'` 라는 문장에서 모든 공백(`' '`)을 없애고(`''`) 출력해보세요."
   ]
  },
  {
   "cell_type": "code",
   "execution_count": null,
   "metadata": {},
   "outputs": [],
   "source": [
    "sentence_with_spaces = \"파 이 썬 공 부 는 재 미 있 어 요\"\n",
    "\n",
    "# 공백(' ')을 빈 문자열('')로 바꿔서 없애보세요.\n",
    "sentence_no_spaces = sentence_with_spaces.replace(\" \", \"__채울 부분__\")\n",
    "\n",
    "print(sentence_no_spaces)"
   ]
  }
 ],
 "metadata": {
  "colab": {
   "provenance": []
  },
  "kernelspec": {
   "display_name": "Python 3",
   "name": "python3"
  },
  "language_info": {
   "name": "python"
  }
 },
 "nbformat": 4,
 "nbformat_minor": 0
}