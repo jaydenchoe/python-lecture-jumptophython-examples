{
 "cells": [
  {
   "cell_type": "markdown",
   "metadata": {},
   "source": [
    "# 🤖 파이썬으로 세상에서 제일 쉬운 챗봇 만들기\n",
    "\n",
    "안녕하세요! 코딩을 처음 시작하는 여러분을 위해, 파이썬의 기본 문법과 **표준 라이브러리**를 사용해서 재미있는 챗봇을 만들어 볼 거예요. 딱딱한 이론 공부보다 직접 만들어보면서 배우는 게 훨씬 재미있겠죠? 자, 그럼 우리만의 챗봇 친구를 만들러 가볼까요? 🚀\n",
    "\n",
    "### **라이브러리가 뭔가요?**\n",
    "**라이브러리(Library)**는 '도서관'이라는 뜻처럼, 전 세계의 파이썬 고수들이 미리 만들어 둔 유용한 기능들의 모음이에요. 우리가 모든 기능을 처음부터 만들 필요 없이, 이 라이브러리를 '가져와서(import)' 바로 사용할 수 있답니다. 정말 편리하죠? 오늘은 이 라이브러리들 중에서 가장 기본적이고 재미있는 몇 가지를 배워볼 거예요."
   ]
  },
  {
   "cell_type": "markdown",
   "metadata": {},
   "source": [
    "## 🤖 1단계: 내 마음대로 대답하는 챗봇 만들기 (`random` 모듈)\n",
    "\n",
    "챗봇이 매번 똑같은 대답만 하면 재미없겠죠? `random` 라이브러리를 사용하면 여러 답변 후보 중에서 무작위로 하나를 골라 대답하게 할 수 있어요. 진짜 사람처럼 보이게 하는 첫걸음이랍니다!\n",
    "\n",
    "여기서는 `random.choice()` 함수를 사용할 거예요. 이 함수는 리스트(여러 개의 값을 모아놓은 목록)에서 무작위로 하나를 뽑아주는 역할을 해요."
   ]
  },
  {
   "cell_type": "code",
   "execution_count": null,
   "metadata": {},
   "outputs": [],
   "source": [
    "# random 라이브러리를 가져옵니다.\n",
    "import random\n",
    "\n",
    "# 챗봇의 답변 목록을 리스트로 만듭니다.\n",
    "answers = [\n",
    "    \"정말요? 신기하네요!😲\",\n",
    "    \"음... 그건 좀 더 생각해 볼게요.\",\n",
    "    \"하하하, 재미있는 이야기네요!😂\",\n",
    "    \"오늘 날씨가 참 좋죠?\",\n",
    "    \"배고프네요. 점심 뭐 먹을까요?\"\n",
    "]\n",
    "\n",
    "# 사용자의 입력을 받는 부분입니다.\n",
    "question = input(\"하고 싶은 말을 입력해보세요: \")\n",
    "\n",
    "# 답변 목록(answers)에서 무작위로 하나를 선택합니다.\n",
    "chosen_answer = random.choice(answers)\n",
    "\n",
    "# 선택된 답변을 화면에 출력합니다.\n",
    "print(chosen_answer)"
   ]
  },
  {
   "cell_type": "markdown",
   "metadata": {},
   "source": [
    "## 🕒 2단계: 생각하는 척! 시간도 알려주는 챗봇 (`time` 모듈)\n",
    "\n",
    "이번에는 `time` 라이브러리를 사용해서 챗봇을 좀 더 사람처럼 만들어 볼게요. `time.sleep()` 함수를 사용하면 잠시 멈췄다가 대답하게 해서 마치 생각하는 듯한 효과를 줄 수 있어요. 또, \"지금 몇 시야?\"라고 물으면 현재 시간을 알려주는 똑똑한 기능도 추가해 볼 거예요!\n",
    "\n",
    "- `time.sleep(초)`: 괄호 안에 넣은 숫자(초)만큼 프로그램 실행을 잠시 멈춥니다.\n",
    "- `time.ctime()`: 현재 날짜와 시간을 사람이 읽기 쉬운 형태로 보여줍니다."
   ]
  },
  {
   "cell_type": "code",
   "execution_count": null,
   "metadata": {},
   "outputs": [],
   "source": [
    "# time 라이브러리를 가져옵니다.\n",
    "import time\n",
    "\n",
    "# 사용자의 입력을 받습니다.\n",
    "question = input(\"하고 싶은 말을 입력해보세요 (예: 지금 몇 시야?): \")\n",
    "\n",
    "# 만약 사용자가 '시간' 또는 '몇 시'를 물어본다면\n",
    "if \"시간\" in question or \"몇 시\" in question:\n",
    "    print(\"지금 시간은...\")\n",
    "    time.sleep(1) # 1초 동안 생각하는 척!\n",
    "    print(time.ctime() + \" 입니다.\")\n",
    "else:\n",
    "    print(\"음...\")\n",
    "    time.sleep(2) # 2초 동안 생각하는 척!\n",
    "    print(\"글쎄요, 잘 모르겠네요.😅\")"
   ]
  },
  {
   "cell_type": "markdown",
   "metadata": {},
   "source": [
    "## 📅 3단계: 기념일 계산기 챗봇 (`datetime` 모듈)\n",
    "\n",
    "파이썬의 `datetime` 라이브러리를 사용하면 날짜와 관련된 거의 모든 계산을 할 수 있어요. \"크리스마스까지 며칠 남았어?\" 같은 질문에 척척 대답하는 챗봇을 만들어 봅시다. 두 날짜의 차이를 빼기(-) 연산 하나로 간단하게 계산할 수 있답니다.\n",
    "\n",
    "- `datetime.date(연, 월, 일)`: 특정 날짜 정보를 만듭니다.\n",
    "- `datetime.date.today()`: 오늘 날짜 정보를 가져옵니다."
   ]
  },
  {
   "cell_type": "code",
   "execution_count": null,
   "metadata": {},
   "outputs": [],
   "source": [
    "# datetime 라이브러리를 가져옵니다.\n",
    "import datetime\n",
    "\n",
    "print(\"기념일까지 며칠 남았는지 계산해 줄게요!\")\n",
    "\n",
    "# 사용자로부터 연, 월, 일 정보를 숫자로 입력받습니다.\n",
    "year = int(input(\"연도를 입력하세요: \"))\n",
    "month = int(input(\"월을 입력하세요: \"))\n",
    "day = int(input(\"일을 입력하세요: \"))\n",
    "\n",
    "# 오늘 날짜와 목표 날짜를 만듭니다.\n",
    "today = datetime.date.today()\n",
    "target_day = datetime.date(year, month, day)\n",
    "\n",
    "# 두 날짜의 차이를 계산합니다.\n",
    "diff = target_day - today\n",
    "\n",
    "# 남은 날짜(diff.days)를 출력합니다.\n",
    "print(f\"그날까지 {diff.days}일 남았어요!🗓️\")"
   ]
  },
  {
   "cell_type": "markdown",
   "metadata": {},
   "source": [
    "## ✨ 4단계: 똑똑해진 챗봇 합체하기!\n",
    "\n",
    "이제 앞에서 배운 기능들을 모두 합쳐서 하나의 그럴듯한 챗봇을 완성해 봅시다! 사용자의 말에 따라 임의의 대답도 하고, 시간도 알려주고, 기념일 계산도 해주는 만능 챗봇이에요. `while True:` 구문을 사용하면 사용자가 '종료'라고 말하기 전까지 챗봇이 계속 실행되도록 만들 수 있습니다."
   ]
  },
  {
   "cell_type": "code",
   "execution_count": null,
   "metadata": {},
   "outputs": [],
   "source": [
    "import random\n",
    "import time\n",
    "import datetime\n",
    "\n",
    "answers = [\n",
    "    \"네, 듣고 있어요. 계속 말씀하세요.\",\n",
    "    \"흥미로운데요? 좀 더 자세히 알려주세요.\",\n",
    "    \"그렇군요! 😄\"\n",
    "]\n",
    "\n",
    "# 챗봇 시작\n",
    "print(\"안녕하세요! 저는 당신의 친구 챗봇입니다. (종료하려면 '종료'라고 입력하세요)\")\n",
    "\n",
    "# 무한 반복 시작\n",
    "while True:\n",
    "    question = input(\"YOU > \")\n",
    "\n",
    "    if \"종료\" in question:\n",
    "        print(\"챗봇 > 다음에 또 만나요! 안녕~\")\n",
    "        break # 반복 중단\n",
    "\n",
    "    elif \"시간\" in question or \"몇 시\" in question:\n",
    "        print(\"챗봇 > 지금 시간은...\")\n",
    "        time.sleep(1)\n",
    "        print(\"챗봇 > \" + time.ctime() + \" 입니다.\")\n",
    "\n",
    "    elif \"며칠 남았\" in question or \"디데이\" in question:\n",
    "        today = datetime.date.today()\n",
    "        # 올해 크리스마스를 목표 날짜로 설정\n",
    "        christmas = datetime.date(today.year, 12, 25)\n",
    "        diff = christmas - today\n",
    "        print(f\"챗봇 > 올해 크리스마스까지는 {diff.days}일 남았어요! 🎄\")\n",
    "\n",
    "    else:\n",
    "        chosen_answer = random.choice(answers)\n",
    "        print(\"챗봇 > \" + chosen_answer)\n"
   ]
  },
  {
   "cell_type": "markdown",
   "metadata": {},
   "source": [
    "--- \n",
    "## 🎯 혼자 해보는 연습문제\n",
    "\n",
    "이제부턴 여러분 차례예요! 아래 문제들을 스스로 풀어보면서 오늘 배운 내용을 복습해 보세요. 정답은 없으니 자유롭게 코드를 수정하고 실행해 보세요. 중요한 부분은 `___` 로 비워두었으니, 알맞은 코드나 값으로 채워 넣어 보세요!"
   ]
  },
  {
   "cell_type": "markdown",
   "metadata": {},
   "source": [
    "### 문제 1: 오늘의 점심 메뉴 뽑기\n",
    "\n",
    "점심 메뉴 고르기 어려우시죠? `random.choice()`를 사용해서 오늘의 점심 메뉴를 추천해 주는 프로그램을 만들어보세요."
   ]
  },
  {
   "cell_type": "code",
   "execution_count": null,
   "metadata": {},
   "outputs": [],
   "source": [
    "import random\n",
    "\n",
    "lunch_menu = [\"돈까스\", \"제육볶음\", \"오므라이스\", \"김치찌개\", \"초밥\"]\n",
    "\n",
    "choice = random.choice(_____)\n",
    "\n",
    "print(f\"오늘의 추천 점심 메뉴는?! 바로... {choice}입니다! 🍚\")"
   ]
  },
  {
   "cell_type": "markdown",
   "metadata": {},
   "source": [
    "### 문제 2: 1~100 사이의 행운의 숫자 뽑기\n",
    "\n",
    "`random.randint(시작, 끝)` 함수는 시작과 끝 숫자 사이의 정수(integer) 중 하나를 무작위로 뽑아줍니다. 이 함수를 사용해서 행운의 숫자를 뽑아보세요."
   ]
  },
  {
   "cell_type": "code",
   "execution_count": null,
   "metadata": {},
   "outputs": [],
   "source": [
    "import random\n",
    "\n",
    "lucky_number = random.randint(____, ____)\n",
    "\n",

    "print(f\"오늘의 행운의 숫자는 {lucky_number}입니다! 🍀\")"
   ]
  },
  {
   "cell_type": "markdown",
   "metadata": {},
   "source": [
    "### 문제 3: 3초 카운트다운 타이머\n",
    "\n",
    "`time.sleep()`을 사용해서 3, 2, 1 하고 숫자를 세는 카운트다운 프로그램을 만들어보세요."
   ]
  },
  {
   "cell_type": "code",
   "execution_count": null,
   "metadata": {},
   "outputs": [],
   "source": [
    "import time\n",
    "\n",
    "print(\"3초 카운트다운을 시작합니다!\")\n",
    "print(3)\n",
    "time.sleep(____) # 1초 쉬기\n",
    "print(2)\n",
    "time.sleep(____) # 1초 쉬기\n",
    "print(1)\n",
    "time.sleep(____) # 1초 쉬기\n",
    "print(\"발사! 🚀\")"
   ]
  },
  {
   "cell_type": "markdown",
   "metadata": {},
   "source": [
    "### 문제 4: 원하는 형식으로 날짜 출력하기\n",
    "\n",
    "`time.strftime()` 함수를 사용하면 날짜와 시간을 우리가 원하는 형식으로 예쁘게 만들 수 있어요. `%Y`는 연도, `%m`은 월, `%d`는 일을 의미합니다. 'YYYY-MM-DD' 형식으로 오늘 날짜를 출력해보세요."
   ]
  },
  {
   "cell_type": "code",
   "execution_count": null,
   "metadata": {},
   "outputs": [],
   "source": [
    "import time\n",
    "\n",
    "# %Y: 연도, %m: 월, %d: 일\n",
    "formatted_date = time.strftime(\"____-____-____\")\n",
    "\n",
    "print(f\"오늘 날짜는 {formatted_date} 입니다.\")"
   ]
  },
  {
   "cell_type": "markdown",
   "metadata": {},
   "source": [
    "### 문제 5: 올해는 며칠이나 지났을까?\n",
    "\n",
    "`datetime`을 사용해서 올해 1월 1일부터 오늘까지 며칠이 지났는지 계산해보세요."
   ]
  },
  {
   "cell_type": "code",
   "execution_count": null,
   "metadata": {},
   "outputs": [],
   "source": [
    "import datetime\n",
    "\n",
    "today = datetime.date.today()\n",
    "start_of_year = datetime.date(today.year, ___, ___)\n",
    "\n",
    "passed_days = today - start_of_year\n",
    "\n",
    "print(f\"올해는 시작된 지 {passed_days.days}일 지났습니다.\")"
   ]
  },
  {
   "cell_type": "markdown",
   "metadata": {},
   "source": [
    "### 문제 6: 어린이날은 무슨 요일일까?\n",
    "\n",
    "`weekday()` 함수는 날짜의 요일을 숫자로 알려줘요 (월요일=0, 화요일=1, ..., 일요일=6). 올해 어린이날(5월 5일)이 무슨 요일인지 알아보세요."
   ]
  },
  {
   "cell_type": "code",
   "execution_count": null,
   "metadata": {},
   "outputs": [],
   "source": [
    "import datetime\n",
    "\n",
    "days_of_week = [\"월요일\", \"화요일\", \"수요일\", \"목요일\", \"금요일\", \"토요일\", \"일요일\"]\n",
    "\n",
    "today = datetime.date.today()\n",
    "childrens_day = datetime.date(today.year, 5, 5)\n",
    "\n",
    "day_index = childrens_day.weekday()\n",
    "\n",
    "print(f\"올해 어린이날은 {days_of_week[_____]}입니다!\")"
   ]
  },
  {
   "cell_type": "markdown",
   "metadata": {},
   "source": [
    "### 문제 7: 로또 번호 생성기\n",
    "\n",
    "`random.sample(리스트, 개수)` 함수는 리스트에서 원하는 개수만큼 중복 없이 값을 뽑아줍니다. 1부터 45까지의 숫자 중 6개를 뽑아 로또 번호를 만들어보세요."
   ]
  },
  {
   "cell_type": "code",
   "execution_count": null,
   "metadata": {},
   "outputs": [],
   "source": [
    "import random\n",
    "\n",
    "# 1부터 45까지의 숫자가 담긴 리스트\n",
    "numbers = list(range(1, 46))\n",
    "\n",
    "# numbers 리스트에서 중복 없이 6개 뽑기\n",
    "lotto_numbers = random.sample(____, ____)\n",
    "lotto_numbers.sort() # 번호를 오름차순으로 정렬\n",
    "\n",
    "print(f\"이번 주 로또 추천 번호는 {lotto_numbers} 입니다. 행운을 빌어요! 💰\")"
   ]
  },
  {
   "cell_type": "markdown",
   "metadata": {},
   "source": [
    "### 문제 8: 나만의 명언 챗봇\n",
    "\n",
    "힘이 되는 명언을 랜덤으로 보여주는 챗봇을 만들어보세요. `time.sleep()`으로 잠시 생각하는 시간도 추가해보세요."
   ]
  },
  {
   "cell_type": "code",
   "execution_count": null,
   "metadata": {},
   "outputs": [],
   "source": [
    "import random\n",
    "import time\n",
    "\n",
    "quotes = [\n",
    "    \"성공의 비결은 단 한 가지, 잘할 수 있는 일에 광적으로 집중하는 것이다.\",\n",
    "    \"가장 큰 위험은 위험 없는 삶이다.\",\n",
    "    \"오늘 걷지 않으면 내일은 뛰어야 한다.\"\n",
    "]\n",
    "\n",
    "print(\"당신에게 힘이 될 명언을 알려드릴게요.\")\n",
    "time.sleep(____) # 2초 기다리기\n",
    "\n",
    "today_quote = random.choice(_____)\n",
    "\n",
    "print(today_quote)"
   ]
  },
  {
   "cell_type": "markdown",
   "metadata": {},
   "source": [
    "### 문제 9: 100일 뒤 날짜 계산하기\n",
    "\n",
    "`datetime.timedelta(days=숫자)`는 날짜를 더하거나 뺄 때 사용해요. 오늘부터 100일 뒤는 며칠인지 계산해보세요."
   ]
  },
  {
   "cell_type": "code",
   "execution_count": null,
   "metadata": {},
   "outputs": [],
   "source": [
    "import datetime\n",
    "\n",
    "today = datetime.date.today()\n",
    "hundred_days = datetime.timedelta(days=____)\n",
    "\n",
    "date_after_100_days = today + hundred_days\n",
    "\n",
    "print(f\"오늘로부터 100일 뒤는 {date_after_100_days} 입니다.\")"
   ]
  },
  {
   "cell_type": "markdown",
   "metadata": {},
   "source": [
    "### 문제 10: 챗봇 기능 추가하기\n",
    "\n",
    "4단계에서 만들었던 챗봇 코드에 새로운 기능을 추가해 봅시다. 사용자가 \"안녕\"이라고 말하면 \"만나서 반가워요.\"라고 대답하도록 `elif`(else if) 문을 추가해보세요."
   ]
  },
  {
   "cell_type": "code",
   "execution_count": null,
   "metadata": {},
   "outputs": [],
   "source": [
    "import random\n",
    "import time\n",
    "\n",
    "print(\"챗봇과 대화를 시작합니다. (종료하려면 '종료'라고 입력하세요)\")\n",
    "\n",
    "while True:\n",
    "    question = input(\"YOU > \")\n",
    "\n",
    "    if \"종료\" in question:\n",
    "        print(\"챗봇 > 다음에 또 만나요! 안녕~\")\n",
    "        break\n",
    "\n",
    "    # 아래에 새로운 조건을 추가해보세요!\n",
    "    elif \"안녕\" in question:\n",
    "      print(\"챗봇 > ____\")\n",
    "\n",
    "    elif \"시간\" in question or \"몇 시\" in question:\n",
    "        print(\"챗봇 > \" + time.ctime() + \" 입니다.\")\n",
    "\n",
    "    else:\n",
    "        print(\"챗봇 > \" + random.choice([\"그렇군요.\", \"재미있네요.\", \"좀 더 생각해볼게요.\"]))"
   ]
  }
 ],
 "metadata": {
  "colab": {
   "collapsed_sections": [],
   "provenance": []
  },
  "kernelspec": {
   "display_name": "Python 3",
   "name": "python3"
  },
  "language_info": {
   "name": "python"
  }
 },
 "nbformat": 4,
 "nbformat_minor": 0
}