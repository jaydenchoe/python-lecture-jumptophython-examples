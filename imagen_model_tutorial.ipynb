{
 "cells": [
  {
   "cell_type": "markdown",
   "metadata": {},
   "source": [
    "# 🎨 Imagen API로 나만의 AI 아트 만들기\n",
    "\n",
    "안녕하세요! 텍스트 설명만으로 놀라운 이미지를 만들어내는 Google의 Imagen 모델 사용법을 배우는 것에 오신 것을 환영합니다. 🎉\n",
    "\n",
    "이 Colab 노트북을 통해, 여러분은 간단한 Python 코드로 고품질 이미지를 생성하는 방법을 배우게 됩니다. 상상하는 모든 것을 시각적인 현실로 만들어 보세요. \"붉은 스케이트보드를 든 로봇\"부터 \"인상주의 화풍으로 그린 풍력 발전소\"까지, 가능성은 무한합니다.\n",
    "\n",
    "준비되셨나요? 이제 여러분의 창의력을 발휘할 시간입니다!"
   ]
  },
  {
   "cell_type": "markdown",
   "metadata": {},
   "source": [
    "## 1단계: API 키 준비 및 라이브러리 설치\n",
    "\n",
    "텍스트를 생성했던 Gemini API와 동일한 환경을 사용합니다. API 키가 이미 준비되었다고 가정하고, 먼저 필요한 라이브러리를 설치하겠습니다."
   ]
  },
  {
   "cell_type": "code",
   "execution_count": null,
   "metadata": {},
   "outputs": [],
   "source": [
    "# Google 생성형 AI SDK를 설치합니다.\n",
    "!pip install -q -U google-genai"
   ]
  },
  {
   "cell_type": "markdown",
   "metadata": {},
   "source": [
    "## 2단계: API 키 설정하기 (Colab에서 안전하게)\n",
    "\n",
    "Google Colab의 '보안 비밀' 기능을 사용하여 API 키를 안전하게 설정합니다.\n",
    "\n",
    "1.  Colab 왼쪽 메뉴에서 **열쇠 모양(🔑) 아이콘**을 클릭하세요.\n",
    "2.  **`+ 새 보안 비밀 추가`**를 누르세요.\n",
    "3.  **이름**에는 `GEMINI_API_KEY`를, **값**에는 발급받은 API 키를 붙여넣으세요.\n",
    "4.  **'노트북 액세스'** 스위치를 켜주세요.\n",
    "\n",
    "아래 코드는 이렇게 저장된 키를 불러와 라이브러리를 설정하는 역할을 합니다."
   ]
  },
  {
   "cell_type": "code",
   "execution_count": null,
   "metadata": {},
   "outputs": [],
   "source": [
    "import os\n",
    "from google.colab import userdata\n",
    "import google.generativeai as genai\n",
    "from google.generativeai import types\n",
    "from PIL import Image\n",
    "from io import BytesIO\n",
    "\n",
    "try:\n",
    "    # Colab 보안 비밀에서 API 키를 가져옵니다.\n",
    "    api_key = userdata.get('GEMINI_API_KEY')\n",
    "    os.environ['GEMINI_API_KEY'] = api_key\n",
    "    genai.configure(api_key=api_key)\n",
    "    print(\"API 키 설정이 완료되었습니다! ✨\")\n",
    "except Exception as e:\n",
    "    print(\"🚨 API 키를 설정하는 데 실패했습니다. Colab의 '보안 비밀' 설정을 확인해주세요.\")"
   ]
  },
  {
   "cell_type": "markdown",
   "metadata": {},
   "source": [
    "## 3단계: 첫 번째 이미지 생성하기\n",
    "\n",
    "이제 모든 준비가 끝났습니다. `client.models.generate_images()` 함수를 사용해 첫 이미지를 만들어 봅시다. 가장 중요한 파라미터는 `model`과 `prompt`입니다.\n",
    "\n",
    "- **`model`**: 사용할 Imagen 모델의 이름을 지정합니다. (예: `imagen-4.0-generate-001`)\n",
    "- **`prompt`**: 만들고 싶은 이미지에 대한 텍스트 설명입니다. 영어로 작성해야 합니다."
   ]
  },
  {
   "cell_type": "code",
   "execution_count": null,
   "metadata": {},
   "outputs": [],
   "source": [
    "# genai 클라이언트를 초기화합니다.\n",
    "client = genai.Client()\n",
    "\n",
    "# 이미지 생성을 요청합니다.\n",
    "response = client.models.generate_images(\n",
    "    model='imagen-4.0-generate-001', # 사용할 모델\n",
    "    prompt='A photorealistic image of a robot holding a red skateboard', # 이미지 설명\n",
    ")\n",
    "\n",
    "# 생성된 이미지를 화면에 표시합니다.\n",
    "for img in response.generated_images:\n",
    "    img.image.show()"
   ]
  },
  {
   "cell_type": "markdown",
   "metadata": {},
   "source": [
    "## 4단계: 생성 옵션으로 결과물 제어하기\n",
    "\n",
    "`config` 파라미터를 사용하면 이미지 생성 과정을 더 세밀하게 제어할 수 있습니다.\n",
    "\n",
    "- `number_of_images`: 생성할 이미지의 개수를 1에서 4 사이로 지정합니다.\n",
    "- `aspect_ratio`: 이미지의 가로세로 비율을 설정합니다. `\"1:1\"`, `\"16:9\"`, `\"9:16\"` 등이 가능합니다.\n",
    "- `person_generation`: 사람 이미지 생성 여부를 설정합니다. 기본값은 성인만 허용하는 `\"allow_adult\"`입니다."
   ]
  },
  {
   "cell_type": "code",
   "execution_count": null,
   "metadata": {},
   "outputs": [],
   "source": [
    "response = client.models.generate_images(\n",
    "    model='imagen-4.0-generate-001',\n",
    "    prompt='A cozy cabin in the woods during a snowy night, with warm light coming from the windows.',\n",
    "    config=types.GenerateImagesConfig(\n",
    "        number_of_images=2,          # 이미지를 2개 생성합니다.\n",
    "        aspect_ratio=\"16:9\"          # 와이드스크린 (16:9) 비율로 설정합니다.\n",
    "    )\n",
    ")\n",
    "\n",
    "for img in response.generated_images:\n",
    "    img.image.show()"
   ]
  },
  {
   "cell_type": "markdown",
   "metadata": {},
   "source": [
    "## 5단계: 좋은 프롬프트 작성의 기본\n",
    "\n",
    "원하는 이미지를 얻으려면 프롬프트를 잘 작성하는 것이 매우 중요합니다. 좋은 프롬프트는 보통 다음 세 가지 요소를 포함합니다.\n",
    "\n",
    "1.  **주제 (Subject)**: 이미지의 핵심이 되는 대상입니다. (예: a cat, a futuristic car)\n",
    "2.  **배경/맥락 (Context/Background)**: 주제가 놓일 환경입니다. (예: sitting on a bookshelf, driving on a neon-lit city street)\n",
    "3.  **스타일 (Style)**: 이미지의 전체적인 화풍이나 느낌입니다. (예: watercolor painting, realistic photography, cartoon style)\n",
    "\n",
    "**예시:** `A sketch (스타일) of a modern apartment building (주제) surrounded by skyscrapers (배경)`\n",
    "\n",
    "처음에는 간단하게 시작해서, 생성된 이미지를 보며 점차 세부사항(형용사, 특정 조명, 카메라 각도 등)을 추가해 나가는 것이 좋습니다."
   ]
  },
  {
   "cell_type": "markdown",
   "metadata": {},
   "source": [
    "## 6단계: 이미지에 텍스트 추가하기\n",
    "\n",
    "Imagen은 이미지 안에 텍스트를 넣는 기능도 지원합니다. 프롬프트에 원하는 텍스트를 따옴표로 감싸서 명시하면 됩니다.\n",
    "\n",
    "- **간단하게 유지하세요**: 텍스트는 짧을수록 좋습니다.\n",
    "- **반복 시도하세요**: 원하는 결과가 나올 때까지 몇 번 다시 생성해야 할 수 있습니다."
   ]
  },
  {
   "cell_type": "code",
   "execution_count": null,
   "metadata": {},
   "outputs": [],
   "source": [
    "response = client.models.generate_images(\n",
    "    model='imagen-4.0-generate-001',\n",
    "    prompt=\"\"\"A logo for a coffee shop named 'Morning Brew'. The style should be minimalist and modern.\"\"\",\n",
    "    config=types.GenerateImagesConfig(number_of_images=2)\n",
    ")\n",
    "\n",
    "for img in response.generated_images:\n",
    "    img.image.show()"
   ]
  },
  {
   "cell_type": "markdown",
   "metadata": {},
   "source": [
    "## ✍️ 나만의 아트 갤러리 만들기 (연습 문제)\n",
    "\n",
    "이제 여러분이 직접 프롬프트를 만들어 볼 차례입니다! 아래 문제들의 `prompt` 변수와 `config` 설정을 자유롭게 바꿔보며 멋진 이미지를 생성해보세요."
   ]
  },
  {
   "cell_type": "markdown",
   "metadata": {},
   "source": [
    "### 연습문제 1: 사실적인 동물 사진\n",
    "선글라스를 쓴 골든 리트리버의 '폴라로이드 사진'을 만들어보세요."
   ]
  },
  {
   "cell_type": "code",
   "execution_count": null,
   "metadata": {},
   "outputs": [],
   "source": [
    "prompt_1 = \"\"\"___\"\"\" # 이 부분을 채워보세요. 예: A polaroid photo of a golden retriever wearing sunglasses\n",
    "\n",
    "response = client.models.generate_images(\n",
    "    model='imagen-4.0-generate-001',\n",
    "    prompt=prompt_1,\n",
    "    config=types.GenerateImagesConfig(number_of_images=1, aspect_ratio=\"1:1\")\n",
    ")\n",
    "response.generated_images[0].image.show()"
   ]
  },
  {
   "cell_type": "markdown",
   "metadata": {},
   "source": [
    "### 연습문제 2: 스마트폰 배경화면 만들기\n",
    "거대한 초고층 빌딩을 '디지털 렌더링' 스타일로 그리고, 스마트폰 배경화면에 적합하도록 세로가 긴 `9:16` 비율로 생성해보세요."
   ]
  },
  {
   "cell_type": "code",
   "execution_count": null,
   "metadata": {},
   "outputs": [],
   "source": [
    "prompt_2 = \"\"\"___\"\"\" # 이 부분을 채워보세요.\n",
    "\n",
    "response = client.models.generate_images(\n",
    "    model='imagen-4.0-generate-001',\n",
    "    prompt=prompt_2,\n",
    "    config=types.GenerateImagesConfig(\n",
    "        number_of_images=1,\n",
    "        aspect_ratio=\"___\" # 비율을 채워보세요.\n",
    "    )\n",
    ")\n",
    "response.generated_images[0].image.show()"
   ]
  },
  {
   "cell_type": "markdown",
   "metadata": {},
   "source": [
    "### 연습문제 3: 특정 화가 스타일 흉내내기\n",
    "풍력 발전소를 '인상주의 회화' 스타일로 그려보세요."
   ]
  },
  {
   "cell_type": "code",
   "execution_count": null,
   "metadata": {},
   "outputs": [],
   "source": [
    "prompt_3 = \"\"\"An impressionist painting of a wind farm.\"\"\"\n",
    "\n",
    "response = client.models.generate_images(\n",
    "    model='imagen-4.0-generate-001',\n",
    "    prompt=prompt_3\n",
    ")\n",
    "response.generated_images[0].image.show()"
   ]
  },
  {
   "cell_type": "markdown",
   "metadata": {},
   "source": [
    "### 연습문제 4: 로고 디자인하기\n",
    "'Silo'라는 텍스트를 포함하는 소프트웨어 회사의 '모던한 로고'를 단색 배경 위에 생성해보세요."
   ]
  },
  {
   "cell_type": "code",
   "execution_count": null,
   "metadata": {},
   "outputs": [],
   "source": [
    "prompt_4 = \"\"\"___\"\"\" # 이 부분을 채워보세요.\n",
    "\n",
    "response = client.models.generate_images(\n",
    "    model='imagen-4.0-generate-001',\n",
    "    prompt=prompt_4,\n",
    "    config=types.GenerateImagesConfig(number_of_images=2)\n",
    ")\n",
    "for img in response.generated_images:\n",
    "    img.image.show()"
   ]
  },
  {
   "cell_type": "markdown",
   "metadata": {},
   "source": [
    "### 연습문제 5: 상상 속의 물건 만들기\n",
    "'치즈로 만든 더플 백' 이미지를 생성해보세요."
   ]
  },
  {
   "cell_type": "code",
   "execution_count": null,
   "metadata": {},
   "outputs": [],
   "source": [
    "prompt_5 = \"\"\"A duffle bag made of cheese.\"\"\"\n",
    "\n",
    "response = client.models.generate_images(\n",
    "    model='imagen-4.0-generate-001',\n",
    "    prompt=prompt_5\n",
    ")\n",
    "response.generated_images[0].image.show()"
   ]
  },
  {
   "cell_type": "markdown",
   "metadata": {},
   "source": [
    "### 연습문제 6: 특정 카메라 기법 사용하기\n",
    "'어안 렌즈'로 찍은 뉴욕 거리 사진을 만들어보세요."
   ]
  },
  {
   "cell_type": "code",
   "execution_count": null,
   "metadata": {},
   "outputs": [],
   "source": [
    "prompt_6 = \"\"\"___\"\"\" # 이 부분을 채워보세요. 예: A photo of a New York street taken with a fisheye lens\n",
    "\n",
    "response = client.models.generate_images(\n",
    "    model='imagen-4.0-generate-001',\n",
    "    prompt=prompt_6\n",
    ")\n",
    "response.generated_images[0].image.show()"
   ]
  },
  {
   "cell_type": "markdown",
   "metadata": {},
   "source": [
    "### 연습문제 7: 조명 효과 주기\n",
    "해변에 앉아 있는 남성의 사진을 '황금 시간(golden hour) 조명' 효과를 주어 생성해보세요. 가로가 긴 `16:9` 비율로 만들어보세요."
   ]
  },
  {
   "cell_type": "code",
   "execution_count": null,
   "metadata": {},
   "outputs": [],
   "source": [
    "prompt_7 = \"\"\"A close-up of a man sitting on a beach, with golden hour lighting.\"\"\"\n",
    "config_7 = types.GenerateImagesConfig(\n",
    "    number_of_images=1,\n",
    "    aspect_ratio=\"___\" # 비율을 채워보세요.\n",
    ")\n",
    "\n",
    "response = client.models.generate_images(\n",
    "    model='imagen-4.0-generate-001',\n",
    "    prompt=prompt_7,\n",
    "    config=config_7\n",
    ")\n",
    "response.generated_images[0].image.show()"
   ]
  },
  {
   "cell_type": "markdown",
   "metadata": {},
   "source": [
    "### 연습문제 8: 흑백 사진 만들기\n",
    "피아노를 연주하는 손가락을 클로즈업한 '흑백 영화' 느낌의 사진을 만들어보세요."
   ]
  },
  {
   "cell_type": "code",
   "execution_count": null,
   "metadata": {},
   "outputs": [],
   "source": [
    "prompt_8 = \"\"\"___\"\"\" # 이 부분을 채워보세요.\n",
    "\n",
    "response = client.models.generate_images(\n",
    "    model='imagen-4.0-generate-001',\n",
    "    prompt=prompt_8\n",
    ")\n",
    "response.generated_images[0].image.show()"
   ]
  },
  {
   "cell_type": "markdown",
   "metadata": {},
   "source": [
    "### 연습문제 9: 포스터 만들기\n",
    "'Summerland'라는 제목과 'Summer never felt so good'라는 슬로건이 들어간 포스터를 만들어보세요."
   ]
  },
  {
   "cell_type": "code",
   "execution_count": null,
   "metadata": {},
   "outputs": [],
   "source": [
    "prompt_9 = \"\"\"A poster with the title 'Summerland' in bold font, and below this text is the slogan 'Summer never felt so good'. The background is a beautiful beach scene.\"\"\"\n",
    "\n",
    "response = client.models.generate_images(\n",
    "    model='imagen-4.0-generate-001',\n",
    "    prompt=prompt_9\n",
    ")\n",
    "response.generated_images[0].image.show()"
   ]
  },
  {
   "cell_type": "markdown",
   "metadata": {},
   "source": [
    "### 연습문제 10: 자유롭게 창작하기\n",
    "지금까지 배운 모든 기법을 활용하여 여러분이 상상하는 가장 멋진 이미지를 만들어보세요! 주제, 스타일, 구도, 조명 등 모든 것을 자유롭게 조합해보세요."
   ]
  },
  {
   "cell_type": "code",
   "execution_count": null,
   "metadata": {},
   "outputs": [],
   "source": [
    "prompt_10 = \"\"\"___\"\"\" # 여러분의 상상력을 마음껏 펼쳐보세요!\n",
    "config_10 = types.GenerateImagesConfig(\n",
    "    number_of_images=1, # 원하는 대로 수정해보세요.\n",
    "    aspect_ratio=\"1:1\" # 원하는 대로 수정해보세요.\n",
    ")\n",
    "\n",
    "response = client.models.generate_images(\n",
    "    model='imagen-4.0-generate-001',\n",
    "    prompt=prompt_10,\n",
    "    config=config_10\n",
    ")\n",
    "response.generated_images[0].image.show()"
   ]
  }
 ],
 "metadata": {
  "kernelspec": {
   "display_name": "Python 3",
   "language": "python",
   "name": "python3"
  },
  "language_info": {
   "codemirror_mode": {
    "name": "ipython",
    "version": 3
   },
   "file_extension": ".py",
   "mimetype": "text/x-python",
   "name": "python",
   "nbconvert_exporter": "python",
   "pygments_lexer": "ipython3",
   "version": "3.10.6"
  }
 },
 "nbformat": 4,
 "nbformat_minor": 4
}