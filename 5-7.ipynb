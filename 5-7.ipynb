{
 "cells": [
  {
   "cell_type": "markdown",
   "metadata": {},
   "source": [
    "# 파이썬 챗봇 만들기 🤖 - 초보자도 쉽게 따라하는 코딩 첫걸음\n",
    "\n",
    "안녕하세요! 파이썬 코딩의 세계에 오신 것을 환영합니다. 🎉\n",
    "\n",
    "이곳에서는 아주 간단한 챗봇을 함께 만들어보면서 파이썬의 기초 문법을 쉽고 재미있게 배워볼 거예요. 코딩이 처음이라도 전혀 걱정하지 마세요! 한 단계, 한 단계 따라오다 보면 어느새 나만의 챗봇과 대화하고 있는 자신을 발견하게 될 거예요."
   ]
  },
  {
   "cell_type": "markdown",
   "metadata": {},
   "source": [
    "## 1. 파이썬에게 새로운 능력을! - 외부 라이브러리 설치하기 (`pip`)\n",
    "\n",
    "파이썬은 이미 강력하지만, '외부 라이브러리'라는 멋진 도구들을 설치하면 훨씬 더 많은 일을 할 수 있어요. 마치 스마트폰에 새로운 앱을 설치하는 것과 같죠.\n",
    "\n",
    "이 라이브러리들을 설치할 때 사용하는 명령어가 바로 `pip` 입니다. 우리는 `pip`를 사용해서 챗봇을 더 사람처럼 만들어 줄 아주 특별한 라이브러리, `Faker`를 설치해 볼 거예요.\n",
    "\n",
    "아래 코드 셀의 ▶️ 버튼을 눌러서 `Faker`를 설치해 보세요!"
   ]
  },
  {
   "cell_type": "code",
   "execution_count": null,
   "metadata": {},
   "outputs": [],
   "source": [
    "!pip install Faker"
   ]
  },
  {
   "cell_type": "markdown",
   "metadata": {},
   "source": [
    "## 2. 챗봇에게 사람처럼 말하는 법 가르치기 (`Faker`)\n",
    "\n",
    "방금 설치한 `Faker` 라이브러리는 이름, 주소, 직업 등 진짜 같은 가짜 정보를 만들어주는 재미있는 도구예요. 이걸 사용하면 우리 챗봇이 마치 많은 사람을 아는 것처럼 똑똑하게 말할 수 있게 된답니다.\n",
    "\n",
    "먼저, 파이썬에게 \"이제부터 Faker 라이브러리를 사용할 거야!\"라고 알려줘야 해요. 이걸 **'import'** 라고 부릅니다. 그리고 한국어 정보를 만들 수 있도록 `ko-KR` 설정을 해줄게요."
   ]
  },
  {
   "cell_type": "code",
   "execution_count": null,
   "metadata": {},
   "outputs": [],
   "source": [
    "# Faker 라이브러리를 가져옵니다.\n",
    "from faker import Faker\n",
    "\n",
    "# 한국어 가짜 정보를 만들도록 설정합니다.\n",
    "fake = Faker('ko-KR') "
   ]
  },
  {
   "cell_type": "markdown",
   "metadata": {},
   "source": [
    "### 나만의 첫 챗봇: '안녕' 챗봇\n",
    "\n",
    "이제 모든 준비가 끝났어요! 챗봇이 여러분의 이름을 물어보고, 가짜 친구의 이름을 소개해주는 간단한 대화를 만들어 볼게요.\n",
    "\n",
    "- `input()` : 사용자에게 질문을 하고, 키보드 입력을 기다리는 명령어예요.\n",
    "- `fake.name()` : Faker를 사용해 가짜 한국어 이름을 뚝딱 만들어줘요.\n",
    "- `print()` : 화면에 글자를 보여주는 명령어예요."
   ]
  },
  {
   "cell_type": "code",
   "execution_count": null,
   "metadata": {},
   "outputs": [],
   "source": [
    "# input()을 사용해 이름을 물어보고, 그 답을 my_name 이라는 변수에 저장해요.\n",
    "my_name = input(\"안녕! 이름이 뭐야? \")\n",
    "\n",
    "# fake.name()으로 가짜 친구 이름을 만들어서 friend_name 이라는 변수에 저장해요.\n",
    "friend_name = fake.name()\n",
    "\n",
    "# print()와 f-string(f\"...\")을 사용해서 자연스러운 문장을 만들어요.\n",
    "print(f\"만나서 반가워, {my_name}! 나는 {friend_name}이라고 해.\")"
   ]
  },
  {
   "cell_type": "markdown",
   "metadata": {},
   "source": [
    "### 챗봇 업그레이드: 친구 정보 더 알려주기\n",
    "\n",
    "`Faker`는 이름 말고도 직업(`job()`), 회사 이름(`company()`) 등 다양한 정보를 만들 수 있어요. 이걸 활용해서 챗봇이 소개해준 친구에 대해 더 자세한 설명을 하도록 만들어 볼까요?"
   ]
  },
  {
   "cell_type": "code",
   "execution_count": null,
   "metadata": {},
   "outputs": [],
   "source": [
    "# 새로운 가짜 친구의 이름, 직업, 회사를 만들어요.\n",
    "friend_name = fake.name()\n",
    "friend_job = fake.job()\n",
    "friend_company = fake.company()\n",
    "\n",
    "# 더 자세한 정보를 담아서 친구를 소개해줘요.\n",
    "print(f\"내 친구 {friend_name}를 소개해줄게.\")\n",
    "print(f\"{friend_company}에서 일하는 멋진 {friend_job}야!\")"
   ]
  },
  {
   "cell_type": "markdown",
   "metadata": {},
   "source": [
    "## 3. 챗봇을 똑똑하게 만들기! - 방정식 풀기 (`sympy`)\n",
    "\n",
    "이번에는 챗봇에게 수학 문제를 푸는 능력을 선물해 줄 거예요. `sympy`는 사람이 연필로 풀듯이 복잡한 수학 방정식을 풀어주는 아주 스마트한 라이브러리랍니다.\n",
    "\n",
    "먼저 `pip`으로 `sympy`를 설치해볼까요?"
   ]
  },
  {
   "cell_type": "code",
   "execution_count": null,
   "metadata": {},
   "outputs": [],
   "source": [
    "!pip install sympy"
   ]
  },
  {
   "cell_type": "markdown",
   "metadata": {},
   "source": [
    "### 똑똑이 챗봇: 돈 계산 문제 풀어주기 💰\n",
    "\n",
    "우리 챗봇이 다음과 같은 문제를 풀어주도록 만들어 볼게요.\n",
    "\n",
    "**문제:** \"내가 가진 돈의 2/5를 사용해서 1,760원짜리 학용품을 샀어. 남은 돈은 얼마일까?\"\n",
    "\n",
    "이 문제를 풀려면 '방정식'이라는 것을 세워야 해요. `sympy`를 이용하면 이 과정을 파이썬 코드로 쉽게 작성할 수 있습니다."
   ]
  },
  {
   "cell_type": "code",
   "execution_count": null,
   "metadata": {},
   "outputs": [],
   "source": [
    "# sympy 라이브러리와 분수를 정확하게 계산하기 위한 Fraction을 가져와요.\n",
    "import sympy\n",
    "from fractions import Fraction\n",
    "\n",
    "# 챗봇이 문제 푸는 것처럼 보이게 글자를 출력해요.\n",
    "print(\"음... 어려운 문제네. 내가 한번 풀어볼게!\")\n",
    "print(\"가지고 있던 돈을 'x'라고 해보자.\")\n",
    "\n",
    "# 1. 미지수 x를 만들어요. (우리가 구하고 싶은 '원래 있던 돈')\n",
    "x = sympy.symbols(\"x\")\n",
    "\n",
    "# 2. 방정식을 세워요. (x의 2/5는 1760원이다)\n",
    "equation = sympy.Eq(x * Fraction('2/5'), 1760)\n",
    "print(f\"방정식을 세우면 '{equation}' 이구나!\")\n",
    "\n",
    "# 3. 방정식을 풀어요.\n",
    "result = sympy.solve(equation)\n",
    "total_money = result[0] # solve의 결과는 리스트([4400])라서 첫 번째 값을 꺼내야 해요.\n",
    "print(f\"x를 구했어! 원래 가지고 있던 돈은 {total_money}원이야.\")\n",
    "\n",
    "# 4. 남은 돈을 계산해요.\n",
    "remaining_money = total_money - 1760\n",
    "print(f\"그럼 남은 돈은 {total_money} - 1760 = {remaining_money}원이네!\")"
   ]
  },
  {
   "cell_type": "markdown",
   "metadata": {},
   "source": [
    "🥳 **축하합니다!** 🥳\n",
    "\n",
    "여러분은 챗봇에게 가짜 정보를 만들어 대화하는 능력과, 수학 방정식을 푸는 능력까지 가르쳤어요. 정말 대단해요! 이제 파이썬의 기초를 확실히 다지기 위해 몇 가지 연습문제를 풀어볼까요?"
   ]
  },
  {
   "cell_type": "markdown",
   "metadata": {},
   "source": [
    "---"
   ]
  },
  {
   "cell_type": "markdown",
   "metadata": {},
   "source": [
    "## 🚀 실력 쑥쑥! 혼자 해보는 연습문제 10가지 🚀\n",
    "\n",
    "아래 문제들을 직접 풀어보면서 배운 내용을 복습해 보세요. 코드의 빈칸(`___`)을 채우거나, `...` 부분을 수정해서 완성하면 됩니다!"
   ]
  },
  {
   "cell_type": "markdown",
   "metadata": {},
   "source": [
    "### 문제 1: 화면에 \"챗봇 만들기 참 쉽다!\" 출력하기\n",
    "\n",
    "`print()` 함수를 사용해서 주어진 문장을 화면에 출력해 보세요."
   ]
  },
  {
   "cell_type": "code",
   "execution_count": null,
   "metadata": {},
   "outputs": [],
   "source": [
    "print(\"...\")"
   ]
  },
  {
   "cell_type": "markdown",
   "metadata": {},
   "source": [
    "### 문제 2: 이름 물어보고 답하기\n",
    "\n",
    "`input()`으로 이름을 물어본 뒤, `f-string`을 사용해서 \"오, {입력받은 이름}님 멋진 이름이네요!\"라고 출력해 보세요."
   ]
  },
  {
   "cell_type": "code",
   "execution_count": null,
   "metadata": {},
   "outputs": [],
   "source": [
    "user_name = input(\"당신의 이름은 무엇인가요? \")\n",
    "print(f\"오, {___}님 멋진 이름이네요!\")"
   ]
  },
  {
   "cell_type": "markdown",
   "metadata": {},
   "source": [
    "### 문제 3: 챗봇이 가고 싶은 나라 말하게 하기\n",
    "\n",
    "`Faker`를 사용해서 가짜 **국가명**을 만들고, \"저는 {국가명}에 가보고 싶어요!\" 라고 출력해 보세요. 어떤 함수를 써야 할까요?"
   ]
  },
  {
   "cell_type": "code",
   "execution_count": null,
   "metadata": {},
   "outputs": [],
   "source": [
    "from faker import Faker\n",
    "fake = Faker('ko-KR')\n",
    "\n",
    "# fake 객체의 country() 함수를 사용해 보세요.\n",
    "country_name = fake.country()\n",
    "\n",
    "print(f\"저는 {___}에 가보고 싶어요!\")"
   ]
  },
  {
   "cell_type": "markdown",
   "metadata": {},
   "source": [
    "### 문제 4: 가짜 이메일 주소 만들어보기\n",
    "\n",
    "`Faker`를 사용해서 가짜 **이메일 주소**를 만들고 출력해 보세요."
   ]
  },
  {
   "cell_type": "code",
   "execution_count": null,
   "metadata": {},
   "outputs": [],
   "source": [
    "# fake 객체의 email() 함수를 사용해 보세요.\n",
    "fake_email = fake.___()\n",
    "print(f\"제 비밀 이메일은 {fake_email} 입니다. (물론 가짜예요!)\")"
   ]
  },
  {
   "cell_type": "markdown",
   "metadata": {},
   "source": [
    "### 문제 5: 사용자에게 어울리는 회사 이름 지어주기\n",
    "\n",
    "사용자의 이름을 `input()`으로 입력받고, `Faker`로 **회사명**을 만들어서 \"{이름}님은 나중에 '{회사명}' 같은 멋진 회사를 만들 것 같아요!\" 라고 출력해 보세요."
   ]
  },
  {
   "cell_type": "code",
   "execution_count": null,
   "metadata": {},
   "outputs": [],
   "source": [
    "user_name = input(\"이름을 알려주세요! \")\n",
    "future_company = fake.company()\n",
    "\n",
    "print(f\"{...}님은 나중에 '{...}' 같은 멋진 회사를 만들 것 같아요!\")"
   ]
  },
  {
   "cell_type": "markdown",
   "metadata": {},
   "source": [
    "### 문제 6: 1부터 100 사이의 행운의 숫자 뽑기\n",
    "\n",
    "`Faker`의 `pyint()` 함수를 사용해서 1부터 100 사이의 임의의 정수(숫자)를 뽑고, \"오늘의 행운의 숫자는 {숫자} 입니다!\" 라고 출력해 보세요."
   ]
  },
  {
   "cell_type": "code",
   "execution_count": null,
   "metadata": {},
   "outputs": [],
   "source": [
    "# pyint() 함수에 최솟값(min_value)과 최댓값(max_value)을 알려줘야 해요.\n",
    "lucky_number = fake.pyint(min_value=___, max_value=___)\n",
    "\n",
    "print(f\"오늘의 행운의 숫자는 {lucky_number} 입니다!\")"
   ]
  },
  {
   "cell_type": "markdown",
   "metadata": {},
   "source": [
    "### 문제 7: 똑똑이 챗봇에게 간단한 방정식 풀게 하기 (x + 5 = 10)\n",
    "\n",
    "`sympy`를 이용해서 `x + 5 = 10` 방정식의 해를 구해 출력해 보세요."
   ]
  },
  {
   "cell_type": "code",
   "execution_count": null,
   "metadata": {},
   "outputs": [],
   "source": [
    "import sympy\n",
    "\n",
    "x = sympy.symbols(\"x\")\n",
    "\n",
    "# sympy.Eq()를 사용해서 방정식을 만들어 보세요. 등호의 왼쪽과 오른쪽 값을 넣어주면 됩니다.\n",
    "equation = sympy.Eq(x + 5, ___)\n",
    "\n",
    "result = sympy.solve(equation)\n",
    "print(f\"x + 5 = 10의 정답은 x = {result} 입니다.\")"
   ]
  },
  {
   "cell_type": "markdown",
   "metadata": {},
   "source": [
    "### 문제 8: 곱셈 방정식도 문제 없어요! (3 * x = 12)\n",
    "\n",
    "이번에는 곱셈 방정식을 `sympy`로 풀어보세요. 파이썬에서 곱셈은 `*` 기호를 사용합니다."
   ]
  },
  {
   "cell_type": "code",
   "execution_count": null,
   "metadata": {},
   "outputs": [],
   "source": [
    "import sympy\n",
    "\n",
    "x = sympy.symbols(\"x\")\n",
    "\n",
    "equation = sympy.Eq(3 * x, ___)\n",
    "result = sympy.solve(equation)\n",
    "\n",
    "print(f\"3 * x = 12의 정답은 x = {result} 입니다.\")"
   ]
  },
  {
   "cell_type": "markdown",
   "metadata": {},
   "source": [
    "### 문제 9: 가짜 한국 주소 만들어보기\n",
    "\n",
    "`Faker`를 사용해서 랜덤한 **한국 주소**를 만들고 출력해 보세요."
   ]
  },
  {
   "cell_type": "code",
   "execution_count": null,
   "metadata": {},
   "outputs": [],
   "source": [
    "# fake 객체의 address() 함수를 사용해 보세요.\n",
    "korean_address = fake.___()\n",
    "print(f\"랜덤 주소: {korean_address}\")"
   ]
  },
  {
   "cell_type": "markdown",
   "metadata": {},
   "source": [
    "### 문제 10: 배운 것 총동원! 공감 챗봇 만들기\n",
    "\n",
    "사용자에게 좋아하는 색깔을 `input()`으로 물어본 뒤, `Faker`로 가짜 **이름**을 하나 만들어서 \"와, {색깔} 좋아하시는군요! 제 친구 {가짜 이름}도 그 색을 좋아해요!\" 라고 출력하는 공감 챗봇을 만들어보세요."
   ]
  },
  {
   "cell_type": "code",
   "execution_count": null,
   "metadata": {},
   "outputs": [],
   "source": [
    "user_color = input(\"어떤 색을 가장 좋아하세요? \")\n",
    "\n",
    "# 가짜 이름을 만들어 변수에 저장하세요.\n",
    "random_name = fake.name()\n",
    "\n",
    "# f-string의 빈칸을 채워 문장을 완성하세요.\n",
    "print(f\"와, {___} 색을 좋아하시는군요! 제 친구 {___}도 그 색을 좋아해요!\")"
   ]
  }
 ],
 "metadata": {
  "colab": {
   "provenance": []
  },
  "kernelspec": {
   "display_name": "Python 3",
   "name": "python3"
  },
  "language_info": {
   "name": "python"
  }
 },
 "nbformat": 4,
 "nbformat_minor": 5
}