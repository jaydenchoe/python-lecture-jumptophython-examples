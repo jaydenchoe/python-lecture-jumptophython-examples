{
 "cells": [
  {
   "cell_type": "markdown",
   "metadata": {},
   "source": [
    "# 🤖 튼튼한 챗봇 만들기: 파이썬 예외 처리 (초급)\n",
    "\n",
    "안녕하세요! 이번 시간에는 프로그래밍의 필수 스킬, **예외 처리(Exception Handling)**에 대해 배워보겠습니다. 🚀\n",
    "\n",
    "우리가 만드는 챗봇이 사용자와 대화하다가 예상치 못한 입력이나 상황을 만나면 어떻게 될까요? 프로그램이 그냥 멈춰버리면 정말 당황스럽겠죠? 예외 처리는 바로 이럴 때 프로그램이 멈추지 않고, 우아하게 대처하도록 만드는 기술입니다.\n",
    "\n",
    "마치 챗봇에게 \"만약 이런 문제가 생기면, 이렇게 대처하렴!\" 하고 미리 알려주는 것과 같아요. 아주 쉽고 재미있는 챗봇 예제로 함께 배워봅시다!"
   ]
  },
  {
   "cell_type": "markdown",
   "metadata": {},
   "source": [
    "## 1. 오류는 언제 발생할까요?\n",
    "\n",
    "코드를 짜다 보면 다양한 오류를 만나게 됩니다. 챗봇을 만들 때 흔히 만날 수 있는 오류 3가지를 먼저 살펴볼게요.\n",
    "\n",
    "1.  **`ZeroDivisionError`**: 0으로 숫자를 나누려고 할 때 발생합니다.\n",
    "2.  **`IndexError`**: 리스트나 튜플에서 없는 순서의 값을 찾으려고 할 때 발생합니다.\n",
    "3.  **`ValueError`**: 보통 숫자를 입력해야 하는데 문자를 입력하는 등, 값 자체가 잘못되었을 때 발생합니다."
   ]
  },
  {
   "cell_type": "code",
   "execution_count": null,
   "metadata": {},
   "outputs": [],
   "source": [
    "# 1. ZeroDivisionError 예시\n",
    "# 사용자에게 숫자를 받아 100을 나누는 계산기 기능\n",
    "user_input = 0\n",
    "# print(100 / user_input) # 이 코드의 주석을 풀고 실행하면 오류가 발생해요!\n",
    "\n",
    "# 2. IndexError 예시\n",
    "# 챗봇이 할 수 있는 인사는 2개 뿐인데...\n",
    "greetings = [\"안녕!\", \"반가워!\"]\n",
    "# print(greetings[2]) # 3번째 인사를 하려고 하면 오류가 발생해요!\n",
    "\n",
    "# 3. ValueError 예시\n",
    "# 사용자의 나이를 물어보는 기능\n",
    "age = \"열살\" # 사용자가 숫자가 아닌 문자로 답했어요.\n",
    "# print(int(age)) # 문자를 숫자로 바꾸려고 하니 오류가 발생해요!"
   ]
  },
  {
   "cell_type": "markdown",
   "metadata": {},
   "source": [
    "## 2. 오류를 다루는 기본 방법: `try` 와 `except`\n",
    "\n",
    "오류가 날 것 같은 코드를 `try` 블록 안에 넣고, 만약 오류가 발생했을 때 실행할 코드를 `except` 블록 안에 넣어주면 됩니다. 이렇게 하면 오류가 발생해도 프로그램이 멈추지 않아요!\n",
    "\n",
    "```python\n",
    "try:\n",
    "    # 오류가 발생할 가능성이 있는 코드\n",
    "except:\n",
    "    # 오류가 발생했을 때 실행할 코드\n",
    "```\n",
    "\n",
    "챗봇이 사용자에게 나이를 묻는 상황에 적용해 볼까요?"
   ]
  },
  {
   "cell_type": "code",
   "execution_count": null,
   "metadata": {},
   "outputs": [],
   "source": [
    "try:\n",
    "    age_input = input(\"나이를 숫자로 입력해주세요: \") # '스무살' 이라고 입력해보세요.\n",
    "    age = int(age_input)\n",
    "    print(f\"내년에는 {age + 1}살이 되시는군요!\")\n",
    "except:\n",
    "    print(\"앗! 숫자로 입력해야 해요. 😥\")"
   ]
  },
  {
   "cell_type": "markdown",
   "metadata": {},
   "source": [
    "### 특정 오류만 콕 집어서 처리하기\n",
    "\n",
    "어떤 종류의 오류가 발생했는지에 따라 다르게 대처하고 싶을 때가 있어요. `except` 뒤에 오류의 종류를 써주면 됩니다. `as`를 이용하면 오류 메시지도 확인할 수 있어요.\n",
    "\n",
    "```python\n",
    "try:\n",
    "    # ...\n",
    "except ValueError as e:\n",
    "    # ValueError가 발생했을 때만 실행\n",
    "    print(f\"값에 문제가 있어요: {e}\")\n",
    "```"
   ]
  },
  {
   "cell_type": "code",
   "execution_count": null,
   "metadata": {},
   "outputs": [],
   "source": [
    "try:\n",
    "    num_input = input(\"나눌 숫자를 입력해주세요: \") # '0' 또는 '빵' 이라고 입력해보세요.\n",
    "    num = int(num_input)\n",
    "    result = 10 / num\n",
    "    print(f\"10을 {num}으로 나누면 {result}입니다.\")\n",
    "except ValueError:\n",
    "    print(\"숫자를 입력해야 나눌 수 있어요!\")\n",
    "except ZeroDivisionError:\n",
    "    print(\"0으로는 나눌 수 없어요!\")"
   ]
  },
  {
   "cell_type": "markdown",
   "metadata": {},
   "source": [
    "### 여러 오류를 한 번에 처리하기\n",
    "\n",
    "여러 종류의 오류에 대해 똑같이 처리하고 싶다면, 괄호 `()` 로 묶어서 한 번에 처리할 수도 있습니다."
   ]
  },
  {
   "cell_type": "code",
   "execution_count": null,
   "metadata": {},
   "outputs": [],
   "source": [
    "chatbot_responses = [\"네, 그러세요.\", \"알겠습니다.\"]\n",
    "\n",
    "try:\n",
    "    # 사용자에게 숫자 입력을 받아서, 그 숫자에 해당하는 인덱스의 답변을 출력\n",
    "    choice = input(\"원하는 답변 번호를 입력하세요 (0 또는 1): \") # '2' 또는 '하나'를 입력해보세요.\n",
    "    index = int(choice)\n",
    "    print(chatbot_responses[index])\n",
    "except (ValueError, IndexError) as e:\n",
    "    print(f\"입력이 잘못되었거나 없는 답변 번호입니다. ({e})\")"
   ]
  },
  {
   "cell_type": "markdown",
   "metadata": {},
   "source": [
    "## 3. 오류가 없을 때만 실행: `else`\n",
    "\n",
    "`try` 블록에서 아무런 오류가 발생하지 않았을 때만 특정 코드를 실행하고 싶다면 `else`를 사용할 수 있습니다. `except` 바로 다음에 씁니다."
   ]
  },
  {
   "cell_type": "code",
   "execution_count": null,
   "metadata": {},
   "outputs": [],
   "source": [
    "try:\n",
    "    age_input = input(\"당신의 나이를 알려주세요: \")\n",
    "    age = int(age_input)\n",
    "except ValueError:\n",
    "    print(\"나이는 숫자로만 입력해주세요.\")\n",
    "else:\n",
    "    # try 블록이 성공적으로 실행되었을 때만 이 부분이 실행됩니다.\n",
    "    print(\"입력 감사합니다!\")\n",
    "    if age < 20:\n",
    "        print(\"미성년자시군요.\")\n",
    "    else:\n",
    "        print(\"성인이시군요.\")"
   ]
  },
  {
   "cell_type": "markdown",
   "metadata": {},
   "source": [
    "## 4. 오류 여부와 상관없이 항상 실행: `finally`\n",
    "\n",
    "`finally` 블록 안의 코드는 `try` 블록에서 오류가 발생하든, 발생하지 않든 상관없이 **항상** 마지막에 실행됩니다. 대화 내용을 저장하거나, 사용한 파일을 닫는 등 마무리 작업에 유용하게 쓰입니다."
   ]
  },
  {
   "cell_type": "code",
   "execution_count": null,
   "metadata": {},
   "outputs": [],
   "source": [
    "try:\n",
    "    user_input = input(\"아무 말이나 입력해보세요: \")\n",
    "    num = int(user_input) # 숫자를 입력하면 성공, 문자를 입력하면 실패\n",
    "    print(\"숫자를 입력하셨네요.\")\n",
    "except ValueError:\n",
    "    print(\"문자를 입력하셨네요.\")\n",
    "finally:\n",
    "    print(\"대화를 시도해 주셔서 감사합니다. 챗봇을 종료합니다.\")"
   ]
  },
  {
   "cell_type": "markdown",
   "metadata": {},
   "source": [
    "## 5. 일부러 오류 발생시키기: `raise`\n",
    "\n",
    "가끔은 특정 조건에서 일부러 오류를 발생시켜야 할 때가 있습니다. 예를 들어, 우리 챗봇이 비속어를 사용하지 못하게 막고 싶을 때, 비속어가 감지되면 오류를 일으켜서 경고를 주는 거죠. 이때 `raise` 명령어를 사용합니다."
   ]
  },
  {
   "cell_type": "code",
   "execution_count": null,
   "metadata": {},
   "outputs": [],
   "source": [
    "def check_nickname(nick):\n",
    "    if nick == '바보':\n",
    "        raise ValueError(\"비속어는 닉네임으로 사용할 수 없습니다.\")\n",
    "    print(f\"'{nick}' 님, 환영합니다!\")\n",
    "\n",
    "try:\n",
    "    check_nickname(\"천사\")\n",
    "    check_nickname(\"바보\") # 여기서 오류가 발생합니다!\n",
    "except ValueError as e:\n",
    "    print(f\"닉네임 설정 오류: {e}\")"
   ]
  },
  {
   "cell_type": "markdown",
   "metadata": {},
   "source": [
    "## 6. 나만의 오류 만들기: Custom Exception\n",
    "\n",
    "파이썬에 기본으로 있는 오류들(`ValueError` 등) 말고, 우리 챗봇만의 특별한 오류를 만들 수도 있습니다. `Exception` 클래스를 상속받아서 만들어요. 이렇게 하면 오류의 의미를 더 명확하게 할 수 있습니다.\n",
    "\n",
    "예를 들어, 챗봇이 너무 긴 메시지를 받으면 처리할 수 없다고 알려주는 `MessageTooLongError`를 만들어 봅시다."
   ]
  },
  {
   "cell_type": "code",
   "execution_count": null,
   "metadata": {},
   "outputs": [],
   "source": [
    "# 1. 나만의 오류 클래스 만들기\n",
    "class MessageTooLongError(Exception):\n",
    "    # 오류가 발생했을 때 보여줄 메시지를 설정\n",
    "    def __str__(self):\n",
    "        return \"메시지는 10글자 이내로 작성해주세요.\"\n",
    "\n",
    "# 2. 챗봇의 메시지 처리 함수\n",
    "def process_message(msg):\n",
    "    if len(msg) > 10:\n",
    "        raise MessageTooLongError() # 우리가 만든 오류를 발생시킴!\n",
    "    print(f\"메시지 수신 완료: {msg}\")\n",
    "\n",
    "# 3. 테스트\n",
    "try:\n",
    "    process_message(\"안녕하세요\")\n",
    "    process_message(\"오늘 날씨가 정말 좋네요!\") # 이 메시지는 너무 길어요!\n",
    "except MessageTooLongError as e:\n",
    "    print(f\"챗봇 오류: {e}\")"
   ]
  },
  {
   "cell_type": "markdown",
   "metadata": {},
   "source": [
    "---"
   ]
  },
  {
   "cell_type": "markdown",
   "metadata": {},
   "source": [
    "## 🚀 혼자 해보는 연습 문제 🚀\n",
    "\n",
    "이제 배운 내용을 바탕으로 챗봇을 더 튼튼하게 만들어 봅시다! \n",
    "각 문제 아래의 코드 셀에 비어있는 부분을 채워서 실행해보세요."
   ]
  },
  {
   "cell_type": "markdown",
   "metadata": {},
   "source": [
    "### 문제 1: `IndexError` 처리하기\n",
    "\n",
    "챗봇의 답변 목록은 3개(`0, 1, 2`)입니다. 사용자가 `3`을 입력했을 때 `IndexError`가 발생합니다. 이 오류를 잡아서 \"선택지에 없는 번호입니다.\"라고 출력하게 만드세요."
   ]
  },
  {
   "cell_type": "code",
   "execution_count": null,
   "metadata": {},
   "outputs": [],
   "source": [
    "answers = [\"네, 좋아요.\", \"음, 글쎄요.\", \"다시 생각해볼게요.\"]\n",
    "\n",
    "try:\n",
    "    choice = 3\n",
    "    print(answers[choice])\n",
    "except IndexError:\n",
    "    # 여기에 오류 메시지를 출력하는 코드를 작성하세요.\n",
    "    print(\"선택지에 없는 번호입니다.\")"
   ]
  },
  {
   "cell_type": "markdown",
   "metadata": {},
   "source": [
    "### 문제 2: `KeyError` 처리하기\n",
    "\n",
    "딕셔너리(dictionary)에 없는 키를 찾을 때 `KeyError`가 발생합니다. 사용자가 '취미'를 물었을 때, 챗봇의 `info` 딕셔너리에 '취미'가 없으므로 오류가 납니다. \"저는 그런 정보가 없어요.\"라고 답하게 만드세요."
   ]
  },
  {
   "cell_type": "code",
   "execution_count": null,
   "metadata": {},
   "outputs": [],
   "source": [
    "chatbot_info = {\"이름\": \"젬\", \"나이\": 1}\n",
    "\n",
    "try:\n",
    "    question = \"취미\"\n",
    "    print(chatbot_info[question])\n",
    "except KeyError:\n",
    "    # 여기에 오류 메시지를 출력하는 코드를 작성하세요.\n",
    "    print(\"저는 그런 정보가 없어요.\")"
   ]
  },
  {
   "cell_type": "markdown",
   "metadata": {},
   "source": [
    "### 문제 3: `else` 사용하기\n",
    "\n",
    "사용자가 입력한 값이 숫자인 경우에만 \"정상적으로 처리되었습니다.\"라고 출력하고 싶습니다. `try-except-else` 구문을 완성하세요."
   ]
  },
  {
   "cell_type": "code",
   "execution_count": null,
   "metadata": {},
   "outputs": [],
   "source": [
    "try:\n",
    "    user_num = input(\"좋아하는 숫자를 입력하세요: \")\n",
    "    num = int(user_num) # '오' 라고 입력해서 오류를 테스트해보세요.\n",
    "except ValueError:\n",
    "    print(\"숫자만 입력할 수 있습니다.\")\n",
    "else:\n",
    "    # 여기에 성공 메시지를 출력하는 코드를 작성하세요.\n",
    "    print(\"정상적으로 처리되었습니다.\")"
   ]
  },
  {
   "cell_type": "markdown",
   "metadata": {},
   "source": [
    "### 문제 4: `finally` 사용하기\n",
    "\n",
    "사용자가 점수를 숫자로 잘 입력하든, 문자로 잘못 입력하든 상관없이 항상 \"설문에 참여해주셔서 감사합니다.\"라는 메시지를 출력하고 싶습니다. `finally` 블록을 완성하세요."
   ]
  },
  {
   "cell_type": "code",
   "execution_count": null,
   "metadata": {},
   "outputs": [],
   "source": [
    "try:\n",
    "    score_input = input(\"챗봇 만족도 점수를 1~5 사이로 입력해주세요: \")\n",
    "    score = int(score_input)\n",
    "except ValueError:\n",
    "    print(\"점수는 숫자로 입력해야 합니다.\")\n",
    "finally:\n",
    "    # 여기에 항상 실행될 코드를 작성하세요.\n",
    "    print(\"설문에 참여해주셔서 감사합니다.\")"
   ]
  },
  {
   "cell_type": "markdown",
   "metadata": {},
   "source": [
    "### 문제 5: 여러 오류 한번에 처리하기\n",
    "\n",
    "아래 코드는 사용자가 문자를 입력하면 `ValueError`가, `0`을 입력하면 `ZeroDivisionError`가 발생할 수 있습니다. 두 오류를 하나의 `except` 블록에서 잡아서 \"입력이 잘못되었습니다.\"라고 출력하세요."
   ]
  },
  {
   "cell_type": "code",
   "execution_count": null,
   "metadata": {},
   "outputs": [],
   "source": [
    "try:\n",
    "    num_str = input(\"100을 나눌 숫자를 입력하세요: \")\n",
    "    result = 100 / int(num_str)\n",
    "    print(f\"결과는 {result} 입니다.\")\n",
    "except (ValueError, ZeroDivisionError):\n",
    "    # 여기에 오류 메시지를 출력하는 코드를 작성하세요.\n",
    "    print(\"입력이 잘못되었습니다.\")"
   ]
  },
  {
   "cell_type": "markdown",
   "metadata": {},
   "source": [
    "### 문제 6: 오류 그냥 넘어가기 `pass`\n",
    "\n",
    "챗봇의 설정 파일(`settings.txt`)을 읽으려고 시도하지만, 파일이 없으면 `FileNotFoundError`가 발생합니다. 파일이 없을 경우엔 아무것도 하지 않고 그냥 넘어가고 싶습니다. `except` 블록에 `pass`를 사용하세요."
   ]
  },
  {
   "cell_type": "code",
   "execution_count": null,
   "metadata": {},
   "outputs": [],
   "source": [
    "try:\n",
    "    with open('settings.txt', 'r') as f:\n",
    "        print(\"설정 파일을 성공적으로 읽었습니다.\")\n",
    "except FileNotFoundError:\n",
    "    # 여기에 오류를 무시하고 넘어가는 코드를 작성하세요.\n",
    "    pass\n",
    "\n",
    "print(\"프로그램은 계속 진행됩니다.\")"
   ]
  },
  {
   "cell_type": "markdown",
   "metadata": {},
   "source": [
    "### 문제 7: `raise`로 오류 발생시키기\n",
    "\n",
    "챗봇의 `set_level` 함수는 레벨을 1~5 사이로만 설정할 수 있습니다. 만약 1~5를 벗어나는 숫자가 들어오면 `ValueError`를 발생시키고 \"레벨은 1~5 사이여야 합니다.\" 라는 메시지를 담아 보내세요."
   ]
  },
  {
   "cell_type": "code",
   "execution_count": null,
   "metadata": {},
   "outputs": [],
   "source": [
    "def set_level(level):\n",
    "    if not 1 <= level <= 5:\n",
    "        # 여기에 ValueError를 발생시키는 코드를 작성하세요.\n",
    "        raise ValueError(\"레벨은 1~5 사이여야 합니다.\")\n",
    "    print(f\"챗봇 레벨이 {level}(으)로 설정되었습니다.\")\n",
    "\n",
    "try:\n",
    "    set_level(3)\n",
    "    set_level(10)\n",
    "except ValueError as e:\n",
    "    print(f\"오류: {e}\")"
   ]
  },
  {
   "cell_type": "markdown",
   "metadata": {},
   "source": [
    "### 문제 8: 나만의 오류 만들기\n",
    "\n",
    "챗봇이 너무 쉬운 질문(\"안녕\")을 받으면 대답을 거부하는 `TooSimpleQuestionError`를 만들어보세요. `Exception`을 상속받아 클래스를 정의하면 됩니다."
   ]
  },
  {
   "cell_type": "code",
   "execution_count": null,
   "metadata": {},
   "outputs": [],
   "source": [
    "# 여기에 TooSimpleQuestionError 클래스를 정의하세요.\n",
    "class TooSimpleQuestionError(Exception):\n",
    "    pass\n",
    "\n",
    "def answer_question(question):\n",
    "    if question == \"안녕\":\n",
    "        raise TooSimpleQuestionError()\n",
    "    print(\"흥미로운 질문이네요!\")\n",
    "\n",
    "try:\n",
    "    answer_question(\"파이썬이 뭐야?\")\n",
    "    answer_question(\"안녕\")\n",
    "except TooSimpleQuestionError:\n",
    "    print(\"좀 더 의미있는 질문을 해주세요!\")"
   ]
  },
  {
   "cell_type": "markdown",
   "metadata": {},
   "source": [
    "### 문제 9: 나만의 오류에 메시지 추가하기\n",
    "\n",
    "8번 문제에서 만든 `TooSimpleQuestionError`에 `__str__` 메서드를 추가해서, 오류가 발생했을 때 \"너무 간단한 질문에는 답할 수 없어요.\" 라는 메시지가 자동으로 출력되게 만드세요."
   ]
  },
  {
   "cell_type": "code",
   "execution_count": null,
   "metadata": {},
   "outputs": [],
   "source": [
    "class TooSimpleQuestionError(Exception):\n",
    "    # 여기에 __str__ 메서드를 추가해서 오류 메시지를 반환하게 하세요.\n",
    "    def __str__(self):\n",
    "        return \"너무 간단한 질문에는 답할 수 없어요.\"\n",
    "\n",
    "def answer_question(question):\n",
    "    if question == \"안녕\":\n",
    "        raise TooSimpleQuestionError()\n",
    "    print(\"흥미로운 질문이네요!\")\n",
    "\n",
    "try:\n",
    "    answer_question(\"안녕\")\n",
    "except TooSimpleQuestionError as e:\n",
    "    print(f\"오류 발생: {e}\")"
   ]
  },
  {
   "cell_type": "markdown",
   "metadata": {},
   "source": [
    "### 문제 10: `try-except-else-finally` 종합하기\n",
    "\n",
    "지금까지 배운 모든 것을 합쳐봅시다. 사용자로부터 비밀번호(숫자 4자리)를 입력받는 코드를 완성하세요.\n",
    "* **`try`**: 입력값을 정수로 변환합니다.\n",
    "* **`except`**: 정수로 변환할 수 없으면 `ValueError`를 잡아 \"숫자만 입력하세요.\"를 출력합니다.\n",
    "* **`else`**: 오류가 없었다면 \"비밀번호가 설정되었습니다.\"를 출력합니다.\n",
    "* **`finally`**: 성공하든 실패하든 \"인증 시도를 종료합니다.\"를 출력합니다."
   ]
  },
  {
   "cell_type": "code",
   "execution_count": null,
   "metadata": {},
   "outputs": [],
   "source": [
    "try:\n",
    "    pw_input = input(\"사용할 비밀번호(숫자)를 입력하세요: \")\n",
    "    password = int(pw_input)\n",
    "except ValueError:\n",
    "    # 여기에 except 블록 내용을 채우세요.\n",
    "    print(\"숫자만 입력하세요.\")\n",
    "else:\n",
    "    # 여기에 else 블록 내용을 채우세요.\n",
    "    print(\"비밀번호가 설정되었습니다.\")\n",
    "finally:\n",
    "    # 여기에 finally 블록 내용을 채우세요.\n",
    "    print(\"인증 시도를 종료합니다.\")"
   ]
  },
  {
   "cell_type": "markdown",
   "metadata": {},
   "source": [
    "## 모든 문제를 해결하셨나요? 정말 대단합니다!\n",
    "\n",
    "이제 여러분은 웬만한 오류에도 당황하지 않고 대처할 수 있는, 훨씬 더 튼튼하고 안정적인 프로그램을 만들 수 있게 되었습니다. 예외 처리는 좋은 프로그래머가 되기 위한 아주 중요한 습관입니다! 👍"
   ]
  }
 ],
 "metadata": {
  "colab": {
   "collapsed_sections": [],
   "provenance": []
  },
  "kernelspec": {
   "display_name": "Python 3",
   "name": "python3"
  },
  "language_info": {
   "name": "python"
  }
 },
 "nbformat": 4,
 "nbformat_minor": 0
}