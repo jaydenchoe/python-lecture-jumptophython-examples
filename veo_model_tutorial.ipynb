{
 "cells": [
  {
   "cell_type": "markdown",
   "metadata": {},
   "source": [
    "# 🤖 나만의 AI 영상 제작 챗봇 만들기 (with Gemini API) 🎬\n",
    "\n",
    "안녕하세요! 코딩의 세계에 오신 것을 환영합니다. 🎉\n",
    "\n",
    "오늘은 파이썬의 기초 문법을 배우면서, 마치 챗봇과 대화하듯 텍스트를 입력하면 멋진 동영상을 만들어주는 프로그램을 만들어 볼 거예요. Google의 최첨단 인공지능 모델인 'Veo'를 사용해서 말이죠! 코딩이 처음이라도 괜찮아요. 아주 쉽게 차근차근 따라 할 수 있도록 준비했습니다. 자, 그럼 시작해볼까요?"
   ]
  },
  {
   "cell_type": "markdown",
   "metadata": {},
   "source": [
    "## 1단계: 우리 챗봇을 위한 두뇌(AI) 연결 준비하기\n",
    "\n",
    "가장 먼저, 우리 프로그램이 Google의 인공지능(Veo)과 대화할 수 있도록 연결 통로를 만들어줘야 해요. 필요한 프로그램을 설치하고, 우리만 사용할 수 있는 비밀 키(API 키)를 등록하는 과정이에요.\n",
    "\n",
    "1.  **프로그램 설치:** 아래 코드 셀을 실행해서 `google-generativeai` 라는 라이브러리를 설치해 주세요. 라이브러리는 유용한 기능들을 모아놓은 '도구 상자' 같은 거예요.\n",
    "2.  **API 키 발급:** [여기](https://aistudio.google.com/app/apikey)를 클릭해서 여러분의 고유한 API 키를 발급받으세요. (구글 계정 로그인이 필요해요)\n",
    "3.  **API 키 입력:** 발급받은 키를 복사해서 아래 코드 셀의 `\"여기에 여러분의 API 키를 붙여넣으세요\"` 부분에 붙여넣어 주세요."
   ]
  },
  {
   "cell_type": "code",
   "execution_count": null,
   "metadata": {},
   "outputs": [],
   "source": [
    "# 1. 필요한 도구 상자(라이브러리) 설치하기\n",
    "!pip install google-generativeai\n",
    "\n",
    "# 2. 파이썬에게 우리가 어떤 도구를 사용할 건지 알려주기\n",
    "import google.generativeai as genai\n",
    "import time\n",
    "\n",
    "# 3. 구글 AI와 연결하기 위한 비밀 키 설정하기\n",
    "# 중요: 발급받은 여러분의 API 키로 바꿔주세요!\n",
    "api_key = \"여기에 여러분의 API 키를 붙여넣으세요\"\n",
    "genai.configure(api_key=api_key)\n",
    "\n",
    "print(\"🎉 AI 연결 준비 완료! 다음 단계로 넘어가세요.\")"
   ]
  },
  {
   "cell_type": "markdown",
   "metadata": {},
   "source": [
    "## 2단계: 챗봇에게 영상 아이디어 전달하기 (변수와 문자열)\n",
    "\n",
    "이제 AI에게 어떤 영상을 만들고 싶은지 알려줄 차례예요. 프로그래밍에서는 이런 텍스트 데이터를 '문자열'이라고 부르고, 이 문자열을 담아두는 상자를 '변수'라고 불러요.\n",
    "\n",
    "`prompt` 라는 이름의 변수(상자)에 우리가 만들고 싶은 영상에 대한 설명을 문자열(텍스트)로 담아볼게요. 아래 예시에서는 \"멋진 사자가 사바나에 서 있는 영화같은 장면\"을 만들어달라고 요청하고 있어요."
   ]
  },
  {
   "cell_type": "code",
   "execution_count": null,
   "metadata": {},
   "outputs": [],
   "source": [
    "# prompt 라는 이름의 변수에 만들고 싶은 영상 설명을 저장해요.\n",
    "prompt = \"A cinematic shot of a majestic lion in the savannah.\"\n",
    "\n",
    "# 변수에 내용이 잘 저장되었는지 출력해서 확인해볼까요?\n",
    "print(\"챗봇에게 전달할 아이디어:\", prompt)"
   ]
  },
  {
   "cell_type": "markdown",
   "metadata": {},
   "source": [
    "## 3단계: \"영상 만들어줘!\" 챗봇에게 명령하기 (함수 호출)\n",
    "\n",
    "이제 진짜로 AI에게 영상 제작을 요청하는 명령어를 실행해볼 거예요. `genai.generate_video()` 라는 함수(명령어 모음)를 사용할 거예요. 이 함수에게 우리가 준비한 영상 아이디어(`prompt`)를 전달해주면 돼요.\n",
    "\n",
    "영상 제작은 시간이 좀 걸리는 작업이라, AI는 일단 \"알겠어, 만들기 시작할게!\" 라는 의미로 `operation`이라는 '접수증'을 바로 돌려줘요."
   ]
  },
  {
   "cell_type": "code",
   "execution_count": null,
   "metadata": {},
   "outputs": [],
   "source": [
    "print(\"🤖 AI에게 영상 제작을 요청합니다...\")\n",
    "\n",
    "# Veo 모델을 사용해서 영상 생성을 시작하라고 명령해요.\n",
    "operation = genai.generate_video(\n",
    "    model=\"models/veo\", # Veo 모델을 사용하겠다고 지정\n",
    "    prompt=prompt,      # 위에서 만든 영상 아이디어를 전달\n",
    ")\n",
    "\n",
    "print(\"✅ 영상 제작 접수 완료! 이제 영상이 완성되기를 기다려요.\")"
   ]
  },
  {
   "cell_type": "markdown",
   "metadata": {},
   "source": [
    "## 4단계: 영상이 완성될 때까지 기다리기 (while 반복문)\n",
    "\n",
    "영상 제작은 보통 몇 분 정도 걸려요. 그래서 우리는 \"영상이 완성될 때까지 10초마다 확인해줘\" 라고 컴퓨터에게 시켜야 해요. 이럴 때 사용하는 것이 `while` 반복문이에요. `while`은 특정 조건이 만족될 때까지 괄호 안의 코드를 계속 반복해서 실행해요.\n",
    "\n",
    "여기서는 `operation.done` (접수증에 '완료'라고 찍혔니?) 이 `False`인 동안, 즉 아직 영상이 만들어지는 중인 동안 계속 \"대기 중...\" 메시지를 출력하고 10초씩 쉴 거예요."
   ]
  },
  {
   "cell_type": "code",
   "execution_count": null,
   "metadata": {},
   "outputs": [],
   "source": [
    "print(\"⏳ 영상이 완성될 때까지 10초마다 상태를 확인합니다.\")\n",
    "\n",
    "# 작업이 완료(done)될 때까지 아래 코드를 반복해요.\n",
    "while not operation.done:\n",
    "    print(\"대기 중...\")\n",
    "    time.sleep(10) # 10초 동안 잠시 쉬기\n",
    "\n",
    "print(\"✨ 영상 제작이 완료되었습니다! ✨\")"
   ]
  },
  {
   "cell_type": "markdown",
   "metadata": {},
   "source": [
    "## 5단계: 완성된 영상 확인하고 저장하기!\n",
    "\n",
    "드디어 영상이 완성됐어요! 이제 완성된 영상 데이터를 가져와서 우리 컴퓨터에 `my_first_video.mp4` 라는 이름의 파일로 저장해볼게요.\n",
    "\n",
    "코드를 실행하고 나면, 왼쪽 파일 탐색기(폴더 아이콘)에 동영상 파일이 생성된 것을 볼 수 있어요. 파일을 더블클릭해서 우리가 만든 멋진 영상을 확인해보세요!"
   ]
  },
  {
   "cell_type": "code",
   "execution_count": null,
   "metadata": {},
   "outputs": [],
   "source": [
    "# 완성된 영상 결과물 가져오기\n",
    "result = operation.result\n",
    "generated_video = result.video\n",
    "\n",
    "# 파일로 저장하기\n",
    "video_file_name = \"my_first_video.mp4\"\n",
    "with open(video_file_name, 'wb') as f:\n",
    "    f.write(generated_video.blob)\n",
    "\n",
    "print(f\"'{video_file_name}' 이름으로 영상이 저장되었어요!\")\n",
    "print(\"왼쪽 폴더 아이콘을 눌러 파일을 확인하고 다운로드할 수 있습니다.\")"
   ]
  },
  {
   "cell_type": "markdown",
   "metadata": {},
   "source": [
    "---"
   ]
  },
  {
   "cell_type": "markdown",
   "metadata": {},
   "source": [
    "## 🚀 혼자 해보기: 나만의 영상 만들기 연습! 🚀\n",
    "\n",
    "이제 기본 원리를 배웠으니, 여러분이 직접 AI 영상 감독이 되어볼 시간이에요! 아래 10가지 미션을 해결하면서 다양한 영상을 만들어보세요. 코드의 일부만 수정하면 되니 겁먹지 말고 도전해보세요!"
   ]
  },
  {
   "cell_type": "markdown",
   "metadata": {},
   "source": [
    "### 연습문제 1: 춤추는 로봇\n",
    "강아지 대신 '춤추는 로봇' 영상을 만들어보세요. `prompt` 변수의 내용만 바꿔주면 돼요."
   ]
  },
  {
   "cell_type": "code",
   "execution_count": null,
   "metadata": {},
   "outputs": [],
   "source": [
    "prompt = \"여기에 '춤추는 로봇'에 대한 설명을 영어로 적어보세요.\" # <-- 이 부분을 수정하세요\n",
    "\n",
    "print(\"요청할 프롬프트:\", prompt)\n",
    "\n",
    "# 아래 코드는 그대로 실행하면 됩니다.\n",
    "operation = genai.generate_video(model=\"models/veo\", prompt=prompt)\n",
    "while not operation.done:\n",
    "    print(\"대기 중...\")\n",
    "    time.sleep(10)\n",
    "result = operation.result\n",
    "generated_video = result.video\n",
    "with open('robot_video.mp4', 'wb') as f:\n",
    "    f.write(generated_video.blob)\n",
    "print(\"'robot_video.mp4'로 영상이 저장되었습니다!\")"
   ]
  },
  {
   "cell_type": "markdown",
   "metadata": {},
   "source": [
    "### 연습문제 2: 하늘을 나는 고양이\n",
    "'하늘을 나는 귀여운 고양이' 영상을 만들어보세요."
   ]
  },
  {
   "cell_type": "code",
   "execution_count": null,
   "metadata": {},
   "outputs": [],
   "source": [
    "prompt = \"A cute cat flying in the sky\" # <-- 이 설명을 더 멋지게 바꿔보세요. 예를 들어 'A fluffy cat with wings flying through fluffy clouds'\n",
    "\n",
    "print(\"요청할 프롬프트:\", prompt)\n",
    "\n",
    "# 아래 코드는 그대로 실행하면 됩니다.\n",
    "operation = genai.generate_video(model=\"models/veo\", prompt=prompt)\n",
    "while not operation.done:\n",
    "    print(\"대기 중...\")\n",
    "    time.sleep(10)\n",
    "result = operation.result\n",
    "generated_video = result.video\n",
    "with open('cat_video.mp4', 'wb') as f:\n",
    "    f.write(generated_video.blob)\n",
    "print(\"'cat_video.mp4'로 영상이 저장되었습니다!\")"
   ]
  },
  {
   "cell_type": "markdown",
   "metadata": {},
   "source": [
    "### 연습문제 3: 대화가 있는 영상 만들기\n",
    "AI는 대화도 만들 수 있어요! 프롬프트에 `A man says, 'This must be the place.'` 와 같이 따옴표를 넣어 대사를 추가해보세요."
   ]
  },
  {
   "cell_type": "code",
   "execution_count": null,
   "metadata": {},
   "outputs": [],
   "source": [
    "prompt = \"Two astronauts on Mars. One says, 'Houston, we have arrived.'\" # <-- 이 대사를 원하는 내용으로 바꿔보세요.\n",
    "\n",
    "print(\"요청할 프롬프트:\", prompt)\n",
    "\n",
    "# 아래 코드는 그대로 실행하면 됩니다.\n",
    "operation = genai.generate_video(model=\"models/veo\", prompt=prompt)\n",
    "while not operation.done:\n",
    "    print(\"대기 중...\")\n",
    "    time.sleep(10)\n",
    "result = operation.result\n",
    "generated_video = result.video\n",
    "with open('dialog_video.mp4', 'wb') as f:\n",
    "    f.write(generated_video.blob)\n",
    "print(\"'dialog_video.mp4'로 영상이 저장되었습니다!\")"
   ]
  },
  {
   "cell_type": "markdown",
   "metadata": {},
   "source": [
    "### 연습문제 4: 음향 효과 추가하기\n",
    "이번엔 소리를 추가해볼까요? `(A loud car engine roars)` 처럼 괄호 안에 소리 설명을 넣어보세요."
   ]
  },
  {
   "cell_type": "code",
   "execution_count": null,
   "metadata": {},
   "outputs": [],
   "source": [
    "prompt = \"A red sports car speeds down a highway. (Sound of a powerful engine and tires screeching)\" # <-- 음향 효과를 바꿔보세요\n",
    "\n",
    "print(\"요청할 프롬프트:\", prompt)\n",
    "\n",
    "# 아래 코드는 그대로 실행하면 됩니다.\n",
    "operation = genai.generate_video(model=\"models/veo\", prompt=prompt)\n",
    "while not operation.done:\n",
    "    print(\"대기 중...\")\n",
    "    time.sleep(10)\n",
    "result = operation.result\n",
    "generated_video = result.video\n",
    "with open('sfx_video.mp4', 'wb') as f:\n",
    "    f.write(generated_video.blob)\n",
    "print(\"'sfx_video.mp4'로 영상이 저장되었습니다!\")"
   ]
  },
  {
   "cell_type": "markdown",
   "metadata": {},
   "source": [
    "### 연습문제 5: 애니메이션 스타일로 만들기\n",
    "실사 영상이 아니라 만화같은 영상을 만들고 싶다면? 프롬프트에 `3D animation style` 이나 `anime style` 같은 키워드를 추가해보세요."
   ]
  },
  {
   "cell_type": "code",
   "execution_count": null,
   "metadata": {},
   "outputs": [],
   "source": [
    "prompt = \"A cute snow leopard walking through a winter forest, in a 3D animation style\" # <-- '3D animation style'을 다른 스타일로 바꿔보세요\n",
    "\n",
    "print(\"요청할 프롬프트:\", prompt)\n",
    "\n",
    "# 아래 코드는 그대로 실행하면 됩니다.\n",
    "operation = genai.generate_video(model=\"models/veo\", prompt=prompt)\n",
    "while not operation.done:\n",
    "    print(\"대기 중...\")\n",
    "    time.sleep(10)\n",
    "result = operation.result\n",
    "generated_video = result.video\n",
    "with open('animation_video.mp4', 'wb') as f:\n",
    "    f.write(generated_video.blob)\n",
    "print(\"'animation_video.mp4'로 영상이 저장되었습니다!\")"
   ]
  },
  {
   "cell_type": "markdown",
   "metadata": {},
   "source": [
    "### 연습문제 6: 흑백 필름 느낌으로 만들기\n",
    "`black and white, film noir style` 키워드를 사용해서 고전 영화 느낌의 영상을 만들어보세요."
   ]
  },
  {
   "cell_type": "code",
   "execution_count": null,
   "metadata": {},
   "outputs": [],
   "source": [
    "prompt = \"A detective walking down a rainy street at night, black and white, film noir style\" # <-- 이 프롬프트에 어울리는 다른 장면을 상상해서 바꿔보세요\n",
    "\n",
    "print(\"요청할 프롬프트:\", prompt)\n",
    "\n",
    "# 아래 코드는 그대로 실행하면 됩니다.\n",
    "operation = genai.generate_video(model=\"models/veo\", prompt=prompt)\n",
    "while not operation.done:\n",
    "    print(\"대기 중...\")\n",
    "    time.sleep(10)\n",
    "result = operation.result\n",
    "generated_video = result.video\n",
    "with open('bnw_video.mp4', 'wb') as f:\n",
    "    f.write(generated_video.blob)\n",
    "print(\"'bnw_video.mp4'로 영상이 저장되었습니다!\")"
   ]
  },
  {
   "cell_type": "markdown",
   "metadata": {},
   "source": [
    "### 연습문제 7: 카메라 움직임 지정하기\n",
    "`drone shot`, `close-up shot`, `wide shot` 같은 카메라 용어를 사용해서 더 역동적인 영상을 만들어보세요."
   ]
  },
  {
   "cell_type": "code",
   "execution_count": null,
   "metadata": {},
   "outputs": [],
   "source": [
    "prompt = \"A drone shot flying over a beautiful waterfall in a lush jungle\" # <-- 'drone shot'을 'close-up shot' 등으로 바꿔보세요\n",
    "\n",
    "print(\"요청할 프롬프트:\", prompt)\n",
    "\n",
    "# 아래 코드는 그대로 실행하면 됩니다.\n",
    "operation = genai.generate_video(model=\"models/veo\", prompt=prompt)\n",
    "while not operation.done:\n",
    "    print(\"대기 중...\")\n",
    "    time.sleep(10)\n",
    "result = operation.result\n",
    "generated_video = result.video\n",
    "with open('camera_video.mp4', 'wb') as f:\n",
    "    f.write(generated_video.blob)\n",
    "print(\"'camera_video.mp4'로 영상이 저장되었습니다!\")"
   ]
  },
  {
   "cell_type": "markdown",
   "metadata": {},
   "source": [
    "### 연습문제 8: 영상 해상도 높이기\n",
    "`resolution` 옵션을 사용해서 더 높은 화질(1080p)의 영상을 만들 수 있어요. 단, 1080p는 가로가 긴 영상(`aspect_ratio='16:9'`)에서만 가능해요."
   ]
  },
  {
   "cell_type": "code",
   "execution_count": null,
   "metadata": {},
   "outputs": [],
   "source": [
    "prompt = \"A majestic eagle soaring over mountains, 1080p, cinematic\"\n",
    "resolution = \"1080p\" # <-- 이 값을 \"720p\"로 바꿔서 실행하고 화질을 비교해보세요.\n",
    "\n",
    "print(f\"요청할 프롬프트: {prompt}, 해상도: {resolution}\")\n",
    "\n",
    "operation = genai.generate_video(\n",
    "    model=\"models/veo\", \n",
    "    prompt=prompt,\n",
    "    resolution=resolution # 해상도 옵션 추가\n",
    "    )\n",
    "while not operation.done:\n",
    "    print(\"대기 중...\")\n",
    "    time.sleep(10)\n",
    "result = operation.result\n",
    "generated_video = result.video\n",
    "with open('high_res_video.mp4', 'wb') as f:\n",
    "    f.write(generated_video.blob)\n",
    "print(\"'high_res_video.mp4'로 영상이 저장되었습니다!\")"
   ]
  },
  {
   "cell_type": "markdown",
   "metadata": {},
   "source": [
    "### 연습문제 9: 세로 영상 만들기 (스마트폰용)\n",
    "틱톡이나 쇼츠처럼 세로로 긴 영상을 만들고 싶다면? `aspect_ratio` 옵션을 `'9:16'` 으로 바꿔보세요."
   ]
  },
  {
   "cell_type": "code",
   "execution_count": null,
   "metadata": {},
   "outputs": [],
   "source": [
    "prompt = \"A person walking on a beautiful beach at sunset\"\n",
    "aspect_ratio = '9:16' # <-- 이 값을 '16:9'로 바꿔서 비교해보세요.\n",
    "\n",
    "print(f\"요청할 프롬프트: {prompt}, 화면비율: {aspect_ratio}\")\n",
    "\n",
    "operation = genai.generate_video(\n",
    "    model=\"models/veo\", \n",
    "    prompt=prompt,\n",
    "    aspect_ratio=aspect_ratio # 화면 비율 옵션 추가\n",
    "    )\n",
    "while not operation.done:\n",
    "    print(\"대기 중...\")\n",
    "    time.sleep(10)\n",
    "result = operation.result\n",
    "generated_video = result.video\n",
    "with open('vertical_video.mp4', 'wb') as f:\n",
    "    f.write(generated_video.blob)\n",
    "print(\"'vertical_video.mp4'로 영상이 저장되었습니다!\")"
   ]
  },
  {
   "cell_type": "markdown",
   "metadata": {},
   "source": [
    "### 연습문제 10: 자유롭게 상상해서 만들기!\n",
    "지금까지 배운 모든 것을 활용해서 여러분이 상상하는 최고의 영상을 만들어보세요! 스타일, 카메라, 대사, 음향 효과 등을 모두 조합해서 멋진 작품을 완성해보세요."
   ]
  },
  {
   "cell_type": "code",
   "execution_count": null,
   "metadata": {},
   "outputs": [],
   "source": [
    "# 여러분의 상상력을 발휘해서 아래 변수들을 채워보세요!\n",
    "my_prompt = \"A time-lapse of a flower blooming, close-up shot\"\n",
    "my_resolution = \"1080p\"\n",
    "my_aspect_ratio = \"16:9\"\n",
    "\n",
    "print(f\"요청할 프롬프트: {my_prompt}\")\n",
    "\n",
    "operation = genai.generate_video(\n",
    "    model=\"models/veo\", \n",
    "    prompt=my_prompt,\n",
    "    resolution=my_resolution,\n",
    "    aspect_ratio=my_aspect_ratio\n",
    "    )\n",
    "\n",
    "while not operation.done:\n",
    "    print(\"대기 중...\")\n",
    "    time.sleep(10)\n",
    "\n",
    "result = operation.result\n",
    "generated_video = result.video\n",
    "\n",
    "with open('my_masterpiece.mp4', 'wb') as f:\n",
    "    f.write(generated_video.blob)\n",
    "\n",
    "print(\"축하합니다! 'my_masterpiece.mp4' 영상이 완성되었습니다!\")"
   ]
  }
 ],
 "metadata": {
  "colab": {
   "provenance": []
  },
  "kernelspec": {
   "display_name": "Python 3",
   "name": "python3"
  },
  "language_info": {
   "name": "python"
  }
 },
 "nbformat": 4,
 "nbformat_minor": 0
}