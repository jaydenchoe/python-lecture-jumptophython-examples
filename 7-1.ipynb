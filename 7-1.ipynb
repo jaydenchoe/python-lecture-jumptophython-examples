{
 "cells": [
  {
   "cell_type": "markdown",
   "metadata": {},
   "source": [
    "# 쉽고 재미있는 파이썬 챗봇 만들기 🤖: 유니코드와 인코딩 배우기\n",
    "\n",
    "안녕하세요! 코딩의 세계에 오신 것을 환영합니다. 🎉\n",
    "\n",
    "오늘은 파이썬으로 아주 간단한 챗봇을 만들면서 중요한 개념인 **'유니코드'**와 **'인코딩'**에 대해 배워볼 거예요. \"컴퓨터는 0과 1밖에 모른다\"는 말 들어보셨나요? 그런데 어떻게 컴퓨터는 '가', '나', '다'나 'A', 'B', 'C' 같은 글자를 알아볼 수 있을까요? 바로 글자마다 고유한 숫자를 붙여주기로 약속했기 때문이에요. 예를 들어 'A'는 65번, 'B'는 66번처럼요. 이런 약속들의 모음을 **'문자 셋(character set)'**이라고 불러요.\n",
    "\n",
    "**유니코드(Unicode)**는 전 세계의 모든 글자(한글, 영어, 일본어, 이모지 Emoji까지! 🌍)를 모아놓은 거대한 문자 셋이랍니다. 파이썬은 이 똑똑한 유니코드를 사용해서 우리가 어떤 언어로 코드를 작성하든 다 알아들을 수 있어요.\n",
    "\n",
    "자, 그럼 우리만의 챗봇을 만들면서 유니코드가 어떻게 작동하는지 직접 체험해볼까요?"
   ]
  },
  {
   "cell_type": "markdown",
   "metadata": {},
   "source": [
    "## 1단계: 챗봇의 첫인사! - `print()` 함수와 문자열\n",
    "\n",
    "모든 프로그램의 시작은 \"Hello, world!\"죠? 우리 챗봇도 인사를 시켜봅시다. `print()` 함수는 괄호 안에 있는 내용을 화면에 보여주는 역할을 해요. 그리고 파이썬에서 글자들은 따옴표(`\"` 또는 `'`)로 감싸서 표현하는데, 이걸 **문자열(string)**이라고 불러요. \n",
    "\n",
    "파이썬은 유니코드를 사용하기 때문에 한글, 영어, 일본어를 섞어 써도 아무 문제가 없답니다. 아래 코드 셀을 선택하고 `Shift + Enter` 키를 눌러서 실행해보세요!"
   ]
  },
  {
   "cell_type": "code",
   "execution_count": null,
   "metadata": {},
   "outputs": [],
   "source": [
    "print(\"안녕하세요! 저는 파이썬 챗봇입니다. 🤖\")\n",
    "print(\"Hello, nice to meet you! はじめまして！\")"
   ]
  },
  {
   "cell_type": "markdown",
   "metadata": {},
   "source": [
    "## 2단계: 챗봇과 대화하기 - `input()` 함수로 사용자 입력받기\n",
    "\n",
    "챗봇이 말만 하면 재미없죠? 이제 우리가 챗봇에게 말을 걸어볼 차례예요. `input()` 함수는 사용자로부터 글자를 입력받을 수 있게 해줘요. 입력받은 내용은 **변수(variable)**라는 상자에 저장해서 나중에 다시 쓸 수 있답니다.\n",
    "\n",
    "아래 코드를 실행하고, 챗봇의 질문에 여러분의 이름을 답해 보세요."
   ]
  },
  {
   "cell_type": "code",
   "execution_count": null,
   "metadata": {},
   "outputs": [],
   "source": [
    "user_name = input(\"당신의 이름은 무엇인가요? \")\n",
    "\n",
    "print(f\"와, {user_name}님! 만나서 반가워요.\")"
   ]
  },
  {
   "cell_type": "markdown",
   "metadata": {},
   "source": [
    "## 3단계: 컴퓨터의 언어로 번역하기 - 인코딩(Encoding)\n",
    "\n",
    "우리가 쓰는 '안녕' 같은 유니코드 문자열은 사람이 보기엔 편하지만, 파일에 저장하거나 인터넷으로 보내려면 컴퓨터가 알아듣는 언어, 즉 **바이트(byte)** 형태로 바꿔줘야 해요. 이 과정을 **인코딩(encoding)**이라고 불러요. 마치 우리가 쓴 편지(유니코드)를 우체국에서 보내기 위해 특별한 봉투(바이트)에 담는 것과 같아요.\n",
    "\n",
    "가장 널리 쓰이는 인코딩 방식은 `utf-8`이에요. 문자열 뒤에 `.encode('utf-8')`을 붙이면 어떻게 변하는지 볼까요?"
   ]
  },
  {
   "cell_type": "code",
   "execution_count": null,
   "metadata": {},
   "outputs": [],
   "source": [
    "message = \"안녕, 파이썬!\"\n",
    "\n",
    "# 'utf-8' 방식으로 메시지를 컴퓨터가 알아듣는 바이트로 변환(인코딩)해요.\n",
    "encoded_message = message.encode('utf-8')\n",
    "\n",
    "print(f\"우리가 쓴 글자: {message}\")\n",
    "print(f\"컴퓨터의 언어(바이트)로 인코딩된 결과: {encoded_message}\")\n",
    "print(f\"바이트 문자열의 타입은? {type(encoded_message)}\")"
   ]
  },
  {
   "cell_type": "markdown",
   "metadata": {},
   "source": [
    "## 4단계: 다시 사람의 언어로! - 디코딩(Decoding)\n",
    "\n",
    "컴퓨터가 바이트 형태의 데이터를 받았다면, 이걸 다시 사람이 읽을 수 있는 유니코드 문자열로 풀어줘야겠죠? 이 과정을 **디코딩(decoding)**이라고 해요. 인코딩할 때 썼던 방식(`utf-8`)과 똑같은 방식으로 디코딩해야 글자가 깨지지 않고 잘 보여요.\n",
    "\n",
    "아까 우리가 바이트로 바꿨던 `encoded_message`를 다시 원래대로 되돌려 봅시다!"
   ]
  },
  {
   "cell_type": "code",
   "execution_count": null,
   "metadata": {},
   "outputs": [],
   "source": [
    "# 위 코드 셀에서 만들었던 바이트 문자열\n",
    "encoded_message = b'\\xec\\x95\\x88\\xeb\\x85\\x95, \\xed\\x8c\\x8c\\xec\\x9d\\xb4\\xec\\x8d\\xac!'\n",
    "\n",
    "# 'utf-8' 방식으로 바이트를 다시 사람이 읽을 수 있는 글자로 변환(디코딩)해요.\n",
    "decoded_message = encoded_message.decode('utf-8')\n",
    "\n",
    "print(f\"컴퓨터의 언어(바이트): {encoded_message}\")\n",
    "print(f\"사람의 언어로 디코딩된 결과: {decoded_message}\")"
   ]
  },
  {
   "cell_type": "markdown",
   "metadata": {},
   "source": [
    "### 잠깐, 만약 다른 방식으로 디코딩하면?\n",
    "과거에 한글을 위해 많이 사용되던 `euc-kr` 방식으로 인코딩된 바이트를 `utf-8`로 디코딩하려고 하면 어떻게 될까요? 컴퓨터가 번역 방법을 헷갈려서 에러가 발생하거나 글자가 완전히 깨져 보일 거예요."
   ]
  },
  {
   "cell_type": "code",
   "execution_count": null,
   "metadata": {},
   "outputs": [],
   "source": [
    "# '한글'이라는 글자를 'euc-kr' 방식으로 인코딩\n",
    "euc_kr_encoded = '한글'.encode('euc-kr')\n",
    "print(f\"'한글'을 euc-kr로 인코딩하면: {euc_kr_encoded}\")\n",
    "\n",
    "# 이제 이걸 'utf-8'로 디코딩 해봅시다.\n",
    "try:\n",
    "    euc_kr_encoded.decode('utf-8')\n",
    "except UnicodeDecodeError as e:\n",
    "    print(\"\\n앗! 잘못된 방식으로 디코딩하려니 에러가 발생했어요!\")\n",
    "    print(f\"에러 메시지: {e}\")"
   ]
  },
  {
   "cell_type": "markdown",
   "metadata": {},
   "source": [
    "## 5단계: 챗봇의 메모장 기능 - 파일에 쓰고 읽기\n",
    "\n",
    "이제 인코딩과 디코딩 개념을 이용해서 챗봇에게 메모 기능을 만들어 줄게요! 우리가 쓴 메모를 파일에 저장했다가(인코딩), 필요할 때 다시 불러오는(디코딩) 거예요.\n",
    "\n",
    "파일을 다룰 땐 `open()` 함수를 사용하는데, 이때 `encoding='utf-8'` 옵션을 꼭 넣어줘야 한글이 깨지지 않아요. 이 옵션을 빼먹으면 운영체제 기본 인코딩(예: 윈도우의 'cp949')으로 처리되어 다른 컴퓨터에서 파일을 열 때 문제가 생길 수 있어요."
   ]
  },
  {
   "cell_type": "code",
   "execution_count": null,
   "metadata": {},
   "outputs": [],
   "source": [
    "# 1. 챗봇에게 메모 남기기 (파일에 쓰기)\n",
    "memo = input(\"챗봇에게 남길 메모를 작성해주세요: \")\n",
    "\n",
    "# 'memo.txt'라는 이름의 파일을 쓰기('w') 모드로, 인코딩은 'utf-8'로 열어요.\n",
    "with open('memo.txt', 'w', encoding='utf-8') as f:\n",
    "    f.write(memo) # f.write가 내부적으로 인코딩을 처리해줘요.\n",
    "\n",
    "print(\"\\n메모를 성공적으로 저장했어요!\")\n",
    "\n",
    "print(\"--------------------------------\")\n",
    "\n",
    "# 2. 챗봇이 메모 읽어주기 (파일에서 읽기)\n",
    "print(\"저장된 메모를 불러올게요...\\n\")\n",
    "\n",
    "# 'memo.txt' 파일을 이번엔 읽기('r') 모드로 열어요.\n",
    "with open('memo.txt', 'r', encoding='utf-8') as f:\n",
    "    saved_memo = f.read() # f.read가 내부적으로 디코딩을 처리해줘요.\n",
    "\n",
    "print(\"챗봇이 기억하는 메모: \")\n",
    "print(saved_memo)"
   ]
  },
  {
   "cell_type": "markdown",
   "metadata": {},
   "source": [
    "## 👑 축하합니다!\n",
    "\n",
    "여러분은 방금 파이썬으로 챗봇과 대화하고, 인코딩과 디코딩의 원리를 배우고, 파일에 정보를 저장하고 읽어오는 방법까지 모두 마스터했어요! 정말 대단해요! 🥳\n",
    "\n",
    "이제 아래의 연습 문제들을 풀면서 배운 내용을 복습해 보세요. 빈칸 `____`을 채워 넣기만 하면 되니 부담 없이 도전해 보세요!"
   ]
  },
  {
   "cell_type": "markdown",
   "metadata": {},
   "source": [
    "---"
   ]
  },
  {
   "cell_type": "markdown",
   "metadata": {},
   "source": [
    "## ✏️ 혼자 해보는 연습 문제"
   ]
  },
  {
   "cell_type": "markdown",
   "metadata": {},
   "source": [
    "### 문제 1: 여러분의 고향을 화면에 출력하기\n",
    "빈칸에 여러분의 고향을 적고 `print` 함수로 출력해보세요."
   ]
  },
  {
   "cell_type": "code",
   "execution_count": null,
   "metadata": {},
   "outputs": [],
   "source": [
    "hometown = \"____\"\n",
    "print(f\"저의 고향은 {hometown}입니다.\")"
   ]
  },
  {
   "cell_type": "markdown",
   "metadata": {},
   "source": [
    "### 문제 2: 좋아하는 음식 입력받기\n",
    " `input` 함수를 사용해서 좋아하는 음식을 입력받고, \"제가 제일 좋아하는 음식은 OOO입니다.\" 라고 출력해보세요."
   ]
  },
  {
   "cell_type": "code",
   "execution_count": null,
   "metadata": {},
   "outputs": [],
   "source": [
    "favorite_food = ____(\"가장 좋아하는 음식은 무엇인가요? \")\n",
    "print(f\"제가 제일 좋아하는 음식은 {favorite_food}입니다.\")"
   ]
  },
  {
   "cell_type": "markdown",
   "metadata": {},
   "source": [
    "### 문제 3: '코딩'이라는 단어 인코딩하기\n",
    "문자열 '코딩'을 `utf-8` 방식으로 인코딩해서 `encoded_word` 변수에 저장하고 출력해보세요."
   ]
  },
  {
   "cell_type": "code",
   "execution_count": null,
   "metadata": {},
   "outputs": [],
   "source": [
    "word = \"코딩\"\n",
    "encoded_word = word.____('utf-8')\n",
    "print(f\"'{word}'를 인코딩하면: {encoded_word}\")"
   ]
  },
  {
   "cell_type": "markdown",
   "metadata": {},
   "source": [
    "### 문제 4: 바이트를 다시 글자로 디코딩하기\n",
    "아래 `byte_string`은 '파이썬'을 `utf-8`로 인코딩한 결과입니다. 이걸 다시 디코딩해서 `decoded_string` 변수에 저장하고 출력해보세요."
   ]
  },
  {
   "cell_type": "code",
   "execution_count": null,
   "metadata": {},
   "outputs": [],
   "source": [
    "byte_string = b'\\xed\\x8c\\x8c\\xec\\x9d\\xb4\\xec\\x8d\\xac'\n",
    "decoded_string = byte_string.decode('____')\n",
    "print(f\"{byte_string}을 디코딩하면: {decoded_string}\")"
   ]
  },
  {
   "cell_type": "markdown",
   "metadata": {},
   "source": [
    "### 문제 5: 자기소개를 파일에 저장하기\n",
    "자기소개 문장을 `intro.txt` 파일에 `utf-8` 인코딩으로 저장해보세요."
   ]
  },
  {
   "cell_type": "code",
   "execution_count": null,
   "metadata": {},
   "outputs": [],
   "source": [
    "my_intro = \"안녕하세요, 코딩을 배우고 있는 OOO입니다.\"\n",
    "\n",
    "with open('intro.txt', 'w', encoding='____') as f:\n",
    "    f.____(my_intro)"
   ]
  },
  {
   "cell_type": "markdown",
   "metadata": {},
   "source": [
    "### 문제 6: 파일에서 자기소개 읽어오기\n",
    "방금 저장한 `intro.txt` 파일을 `utf-8`로 읽어서 내용을 출력해보세요."
   ]
  },
  {
   "cell_type": "code",
   "execution_count": null,
   "metadata": {},
   "outputs": [],
   "source": [
    "with open('____', 'r', encoding='utf-8') as f:\n",
    "    intro_from_file = f.read()\n",
    "\n",
    "print(intro_from_file)"
   ]
  },
  {
   "cell_type": "markdown",
   "metadata": {},
   "source": [
    "### 문제 7: 다른 방식으로 인코딩해보기\n",
    "문자열 '컴퓨터'를 `euc-kr` 방식으로 인코딩하고 결과를 출력해보세요."
   ]
  },
  {
   "cell_type": "code",
   "execution_count": null,
   "metadata": {},
   "outputs": [],
   "source": [
    "word = \"컴퓨터\"\n",
    "encoded_euckr = word.encode('____')\n",
    "print(f\"'컴퓨터'를 euc-kr로 인코딩하면: {encoded_euckr}\")"
   ]
  },
  {
   "cell_type": "markdown",
   "metadata": {},
   "source": [
    "### 문제 8: 입력과 출력을 한 번에\n",
    "사용자에게 나이를 `input`으로 물어보고, `f-string`을 사용해서 \"제 나이는 OO살입니다.\"라고 출력해보세요."
   ]
  },
  {
   "cell_type": "code",
   "execution_count": null,
   "metadata": {},
   "outputs": [],
   "source": [
    "age = input(\"나이가 어떻게 되세요? \")\n",
    "print(f\"제 나이는 {____}살입니다.\")"
   ]
  },
  {
   "cell_type": "markdown",
   "metadata": {},
   "source": [
    "### 문제 9: 데이터 타입 확인하기\n",
    "문자열 \"Hello\"를 `utf-8`로 인코딩한 결과의 데이터 타입이 `bytes`가 맞는지 `type()` 함수로 확인해보세요."
   ]
  },
  {
   "cell_type": "code",
   "execution_count": null,
   "metadata": {},
   "outputs": [],
   "source": [
    "hello_bytes = \"Hello\".encode('utf-8')\n",
    "print(____(hello_bytes))"
   ]
  },
  {
   "cell_type": "markdown",
   "metadata": {},
   "source": [
    "### 문제 10: 간단한 메아리 챗봇 만들기\n",
    "사용자가 입력한 말을 그대로 따라 하는 챗봇을 만들어보세요. 사용자가 '종료'라고 입력하면 프로그램이 멈추도록 `if` 문과 `break`를 사용해보세요."
   ]
  },
  {
   "cell_type": "code",
   "execution_count": null,
   "metadata": {},
   "outputs": [],
   "source": [
    "while True:\n",
    "    user_input = input(\"하고 싶은 말을 해보세요 (끝내려면 '종료' 입력): \")\n",
    "    \n",
    "    if user_input == '종료':\n",
    "        print(\"챗봇을 종료합니다.\")\n",
    "        ____ # 반복문을 멈추는 명령어\n",
    "    else:\n",
    "        print(f\"메아리: {user_input}\")"
   ]
  }
 ],
 "metadata": {
  "colab": {
   "provenance": []
  },
  "kernelspec": {
   "display_name": "Python 3",
   "name": "python3"
  },
  "language_info": {
   "name": "python"
  }
 },
 "nbformat": 4,
 "nbformat_minor": 5
}