{
  "nbformat": 4,
  "nbformat_minor": 0,
  "metadata": {
    "colab": {
      "provenance": []
    },
    "kernelspec": {
      "name": "python3",
      "display_name": "Python 3"
    },
    "language_info": {
      "name": "python"
    }
  },
  "cells": [
    {
      "cell_type": "markdown",
      "source": [
        "<h1>🤖 파이썬으로 나만의 챗봇 만들기: 함수와 입출력 완전 정복!</h1>\n",
        "\n",
        "안녕하세요! 파이썬 코딩의 세계에 오신 것을 환영합니다.\n",
        "\n",
        "오늘은 파이썬의 핵심 기능인 **함수**와 **입출력**을 배우면서, 여러분만의 첫 번째 챗봇을 만들어 볼 거예요. 딱딱한 문법 공부가 아니라, 재미있는 챗봇을 만들면서 자연스럽게 파이썬과 친해지는 시간이 될 거예요. 자, 그럼 시작해 볼까요?"
      ],
      "metadata": {
        "id": "q9fLg2sJtA7x"
      }
    },
    {
      "cell_type": "markdown",
      "source": [
        "## 💬 파트 1: 챗봇과 첫인사하기 (기본 출력과 입력)"
      ],
      "metadata": {
        "id": "7wFf2w05tA7z"
      }
    },
    {
      "cell_type": "markdown",
      "source": [
        "### 화면에 글자 나타내기: `print()`\n",
        "\n",
        "모든 프로그램의 시작은 화면에 무언가를 보여주는 것이죠. 파이썬에서는 `print()`라는 명령어를 사용해서 원하는 글자나 숫자를 화면에 출력할 수 있습니다. 챗봇이 우리에게 처음으로 인사를 건네게 만들어 봅시다."
      ],
      "metadata": {
        "id": "9xRg_wTktA70"
      }
    },
    {
      "cell_type": "code",
      "source": [
        "print(\"안녕! 나는 너의 첫 챗봇, 파이 라고 해.\")\n",
        "print(\"만나서 반가워!\")"
      ],
      "metadata": {
        "id": "eJj5oQkbtA71"
      },
      "execution_count": null,
      "outputs": []
    },
    {
      "cell_type": "markdown",
      "source": [
        "### 사용자의 대답 듣기: `input()`\n",
        "\n",
        "챗봇이 말만 하면 재미없겠죠? 이제 우리가 챗봇에게 대답할 차례입니다. `input()` 함수는 프로그램이 잠시 멈추고 사용자가 키보드로 무언가 입력하기를 기다려요. 우리가 입력한 내용은 변수라는 상자에 저장해서 나중에 다시 쓸 수 있답니다.\n",
        "\n",
        "**⭐ 중요!**: `input()`으로 받은 모든 내용은 일단 **문자열(string)** 로 취급된다는 점을 기억하세요!"
      ],
      "metadata": {
        "id": "j-JmJj4KtA73"
      }
    },
    {
      "cell_type": "code",
      "source": [
        "# input 괄호 안에 질문을 넣으면 사용자에게 질문을 보여줘요.\n",
        "my_name = input(\"너의 이름은 뭐니? \")\n",
        "\n",
        "# + 기호를 사용해서 문자열들을 합칠 수 있어요.\n",
        "print(\"우와, \" + my_name + \"! 정말 멋진 이름이구나.\")"
      ],
      "metadata": {
        "id": "Vf8i1pLbtA74"
      },
      "execution_count": null,
      "outputs": []
    },
    {
      "cell_type": "markdown",
      "source": [
        "## 🧠 파트 2: 똑똑한 챗봇의 비밀, 함수(Function) 배우기"
      ],
      "metadata": {
        "id": "l9w5YVqStA76"
      }
    },
    {
      "cell_type": "markdown",
      "source": [
        "### 함수가 뭐예요? \n",
        "\n",
        "함수는 '반복되는 코드를 하나로 묶어주는 마법 상자'예요. 마치 과일(입력)을 넣으면 주스(결과)가 나오는 믹서기처럼, 함수에 어떤 값을 넣으면 정해진 작업을 처리하고 결과를 뱉어내죠. 함수를 사용하면 코드를 여러 번 쓸 필요가 없어서 편리하고, 프로그램 전체 구조를 파악하기 쉬워진답니다.\n",
        "\n",
        "파이썬에서는 `def` 라는 키워드로 함수를 만들어요."
      ],
      "metadata": {
        "id": "B9dM2nUHtA77"
      }
    },
    {
      "cell_type": "markdown",
      "source": [
        "### 형태 1: 입력도 없고, 결과도 없는 함수\n",
        "가장 단순한 형태의 함수예요. 그냥 정해진 동작만 수행하죠. 예를 들면, 항상 똑같은 인사를 하는 함수처럼요."
      ],
      "metadata": {
        "id": "k_oY002rtA78"
      }
    },
    {
      "cell_type": "code",
      "source": [
        "# 'say_hi' 라는 이름의 함수를 정의(define)합니다.\n",
        "def say_hi():\n",
        "  print(\"언제나 활기차게, 안녕!\")\n",
        "\n",
        "# 만든 함수를 사용하려면 함수의 이름을 불러주면 돼요. এটাকে '함수를 호출한다'고 말해요.\n",
        "say_hi()"
      ],
      "metadata": {
        "id": "yE7Fj7vPtA79"
      },
      "execution_count": null,
      "outputs": []
    },
    {
      "cell_type": "markdown",
      "source": [
        "### 형태 2: 입력은 있고, 결과는 없는 함수\n",
        "\n",
        "이번엔 함수에 정보를 전달해볼까요? 함수의 `()` 괄호 안에 **매개변수(parameter)** 라는 변수를 만들면, 함수를 호출할 때 값을 전달받을 수 있어요. 이 값으로 함수 안에서 다양한 작업을 할 수 있죠. 예를 들어, 이름을 전달받아 그 이름으로 인사하는 함수를 만들 수 있어요."
      ],
      "metadata": {
        "id": "59l1-P7atA7-"
      }
    },
    {
      "cell_type": "code",
      "source": [
        "# 'user_name' 이라는 매개변수를 가진 함수를 정의합니다.\n",
        "def greet_by_name(user_name):\n",
        "  print(\"반가워, \" + user_name + \"!\")\n",
        "\n",
        "# 함수를 호출할 때 \"김코딩\" 이라는 실제 값(인수, argument)을 전달합니다.\n",
        "greet_by_name(\"김코딩\")\n",
        "greet_by_name(\"이파이\")"
      ],
      "metadata": {
        "id": "zVpI_UoVtA7_"
      },
      "execution_count": null,
      "outputs": []
    },
    {
      "cell_type": "markdown",
      "source": [
        "### 형태 3: 입력은 없고, 결과만 있는 함수\n",
        "\n",
        "함수가 어떤 동작을 하는 대신, 결과값을 밖으로 내보낼 수도 있어요. 이때 `return` 이라는 명령어를 사용해요. `return`을 사용하면 함수의 최종 결과물을 변수에 저장하는 등 다양하게 활용할 수 있답니다."
      ],
      "metadata": {
        "id": "3vW3w2IotA8A"
      }
    },
    {
      "cell_type": "code",
      "source": [
        "# 호출될 때마다 오늘의 추천 메뉴를 알려주는(반환하는) 함수\n",
        "def get_today_menu():\n",
        "  return \"오늘 저녁은 치킨이 좋겠어!\"\n",
        "\n",
        "# 함수가 반환한 값을 'recommendation' 변수에 저장합니다.\n",
        "recommendation = get_today_menu()\n",
        "\n",
        "print(recommendation)"
      ],
      "metadata": {
        "id": "f5Qv-Ua8tA8B"
      },
      "execution_count": null,
      "outputs": []
    },
    {
      "cell_type": "markdown",
      "source": [
        "### 형태 4: 입력도 있고, 결과도 있는 함수\n",
        "\n",
        "가장 일반적이고 강력한 형태의 함수예요. 입력을 받아, 무언가 처리하고, 그 결과를 반환하죠. 우리 챗봇의 핵심 기능이 될 거예요. 사용자의 질문에 따라 다른 대답을 만들어주는 함수를 만들어봅시다."
      ],
      "metadata": {
        "id": "F5YtVb1VtA8D"
      }
    },
    {
      "cell_type": "code",
      "source": [
        "def get_chatbot_response(question):\n",
        "  if \"안녕\" in question:\n",
        "    return \"응, 안녕!\"\n",
        "  elif \"이름\" in question:\n",
        "    return \"내 이름은 파이야.\"\n",
        "  elif \"날씨\" in question:\n",
        "    return \"오늘은 코딩하기 딱 좋은 날씨야!\"\n",
        "  else:\n",
        "    return \"음... 그건 잘 모르겠는걸?\"\n",
        "\n",
        "# 함수를 호출해서 그 결과를 바로 출력해봅시다.\n",
        "print(get_chatbot_response(\"오늘 날씨 어때?\"))\n",
        "print(get_chatbot_response(\"네 이름이 뭐니?\"))\n",
        "print(get_chatbot_response(\"심심하다.\"))"
      ],
      "metadata": {
        "id": "l9f067LktA8E"
      },
      "execution_count": null,
      "outputs": []
    },
    {
      "cell_type": "markdown",
      "source": [
        "## 🚀 파트 3: 챗봇의 능력 업그레이드! (다양한 함수 활용)"
      ],
      "metadata": {
        "id": "iN36Vd06tA8F"
      }
    },
    {
      "cell_type": "markdown",
      "source": [
        "### 입력값이 몇 개가 될지 모를 때: `*args`\n",
        "\n",
        "만약 함수에 전달할 값의 개수가 2개가 될지, 5개가 될지, 100개가 될지 모른다면 어떻게 할까요? 이럴 땐 매개변수 이름 앞에 별표(`*`)를 붙여주면 돼요. 그러면 파이썬이 들어오는 모든 값을 하나의 튜플(tuple)로 묶어서 전달해준답니다. 챗봇에게 내가 좋아하는 것들을 개수 제한 없이 알려주는 함수를 만들어볼까요?"
      ],
      "metadata": {
        "id": "0DkCg53jtA8G"
      }
    },
    {
      "cell_type": "code",
      "source": [
        "# 매개변수 이름은 보통 *args 라고 쓰지만, *hobbies 처럼 다른 이름을 써도 돼요.\n",
        "def tell_my_favorites(*hobbies):\n",
        "  print(\"내가 좋아하는 것들을 알려줄게!\")\n",
        "  for hobby in hobbies:\n",
        "    print(\"- \" + hobby)\n",
        "\n",
        "tell_my_favorites(\"코딩\", \"독서\", \"산책\")\n",
        "print(\"-----\")\n",
        "tell_my_favorites(\"영화보기\", \"음악듣기\")"
      ],
      "metadata": {
        "id": "C-h4y62qtA8H"
      },
      "execution_count": null,
      "outputs": []
    },
    {
      "cell_type": "markdown",
      "source": [
        "### 매개변수에 미리 값 설정하기 (기본값)\n",
        "\n",
        "함수의 매개변수에 미리 기본값을 설정해 둘 수 있어요. 만약 함수를 호출할 때 이 값을 빼먹으면, 파이썬이 설정된 기본값을 대신 사용하죠. 자기소개 함수를 만드는데, 사는 도시를 말하기 싫어하는 사람을 위해 기본값을 설정해볼까요?\n",
        "\n",
        "**⭐ 주의!**: 기본값이 있는 매개변수는 항상 기본값이 없는 매개변수 뒤에 와야 해요!"
      ],
      "metadata": {
        "id": "e_z2dF1atA8I"
      }
    },
    {
      "cell_type": "code",
      "source": [
        "def introduce_me(name, age, city=\"비밀도시\"):\n",
        "  print(f\"이름: {name}\")\n",
        "  print(f\"나이: {age}\")\n",
        "  print(f\"사는 곳: {city}\")\n",
        "\n",
        "# city 값을 생략하면 기본값 \"비밀도시\"가 사용돼요.\n",
        "print(\"--- 자기소개 1 ---\")\n",
        "introduce_me(\"김코딩\", 20)\n",
        "\n",
        "# city 값을 직접 지정해주면 그 값이 사용돼요.\n",
        "print(\"\\n--- 자기소개 2 ---\")\n",
        "introduce_me(\"이파이\", 25, city=\"부산\")"
      ],
      "metadata": {
        "id": "iYwB2j79tA8J"
      },
      "execution_count": null,
      "outputs": []
    },
    {
      "cell_type": "markdown",
      "source": [
        "## 💾 파트 4: 챗봇의 기억력! 파일에 대화 저장하고 불러오기"
      ],
      "metadata": {
        "id": "G8u-4g-HtA8K"
      }
    },
    {
      "cell_type": "markdown",
      "source": [
        "### 파일에 대화 내용 쓰기 (Write - 'w')\n",
        "\n",
        "지금까지 만든 챗봇은 프로그램을 끄면 대화 내용을 모두 잊어버려요. 챗봇과의 소중한 대화를 저장하려면 **파일**을 사용해야 해요.\n",
        "파이썬에서는 `open()` 함수로 파일을 열고, `write()`로 내용을 쓴 다음, `close()`로 닫아주어야 합니다.\n",
        "\n",
        "하지만 `close()`를 깜빡 잊는 실수를 막기 위해, 보통 `with` 구문을 사용해요. `with` 블록이 끝나면 파이썬이 알아서 파일을 닫아주거든요. 정말 편리하죠?\n",
        "\n",
        "파일을 열 때는 어떤 **모드(mode)** 로 열지 정해야 해요. `'w'` 모드는 파일에 내용을 새로 쓸 때 사용해요. 파일이 없으면 새로 만들고, 만약 이미 내용이 있다면 **싹 지우고 새로 쓰니 주의해야 해요!**\n",
        "\n",
        "**⭐ 한글이 깨지지 않게 저장하려면?**: `open()` 함수에 `encoding=\"utf-8\"` 옵션을 꼭 넣어주세요!"
      ],
      "metadata": {
        "id": "g-3-Q-qXtA8L"
      }
    },
    {
      "cell_type": "code",
      "source": [
        "conversation = \"\"\n",
        "conversation += \"파이: 안녕! 무슨 일이야?\\n\"\n",
        "conversation += \"나: 그냥, 파이썬 공부하고 있어.\\n\"\n",
        "conversation += \"파이: 오, 멋진데!\\n\"\n",
        "\n",
        "# \"chat.txt\" 라는 이름의 파일을 쓰기 모드('w')로 엽니다.\n",
        "with open(\"chat.txt\", \"w\", encoding=\"utf-8\") as f:\n",
        "  f.write(conversation)\n",
        "\n",
        "print(\"'chat.txt' 파일에 대화 내용이 저장되었어요!\")"
      ],
      "metadata": {
        "id": "q11eU3H6tA8M"
      },
      "execution_count": null,
      "outputs": []
    },
    {
      "cell_type": "markdown",
      "source": [
        "### 파일에 대화 내용 이어쓰기 (Append - 'a')\n",
        "\n",
        "기존의 대화는 그대로 두고, 새로운 대화만 추가하고 싶을 때도 있겠죠? 그럴 땐 `'a'` (Append) 모드를 사용하면 돼요. 파일의 맨 끝에 새로운 내용을 이어 붙여준답니다."
      ],
      "metadata": {
        "id": "Qz5J1o5XtA8N"
      }
    },
    {
      "cell_type": "code",
      "source": [
        "new_conversation = \"나: 함수는 좀 어려운 것 같아.\\n\"\n",
        "new_conversation += \"파이: 괜찮아, 금방 익숙해질 거야!\\n\"\n",
        "\n",
        "# \"chat.txt\" 파일을 추가 모드('a')로 엽니다.\n",
        "with open(\"chat.txt\", \"a\", encoding=\"utf-8\") as f:\n",
        "  f.write(new_conversation)\n",
        "\n",
        "print(\"'chat.txt' 파일에 새로운 대화가 추가되었어요!\")"
      ],
      "metadata": {
        "id": "7T4H_43BtA8O"
      },
      "execution_count": null,
      "outputs": []
    },
    {
      "cell_type": "markdown",
      "source": [
        "### 파일에서 대화 내용 불러오기 (Read - 'r')\n",
        "\n",
        "이제 저장된 대화 내용을 다시 불러와 볼까요? 파일을 읽을 때는 `'r'` (Read) 모드를 사용해요.\n",
        "파일의 내용을 읽는 방법은 여러 가지가 있지만, `for` 문을 사용하는 것이 가장 간단하고 파이썬다운 방법이랍니다."
      ],
      "metadata": {
        "id": "1m0t3mUctA8P"
      }
    },
    {
      "cell_type": "code",
      "source": [
        "print(\"--- 지난 대화 불러오기 ---\")\n",
        "\n",
        "# \"chat.txt\" 파일을 읽기 모드('r')로 엽니다.\n",
        "with open(\"chat.txt\", \"r\", encoding=\"utf-8\") as f:\n",
        "  for line in f:\n",
        "    # print 함수는 기본적으로 출력 후 줄바꿈을 하기 때문에, end='' 옵션으로 중복 줄바꿈을 방지해요.\n",
        "    print(line, end='')\n"
      ],
      "metadata": {
        "id": "gV-8VvNptA8Q"
      },
      "execution_count": null,
      "outputs": []
    },
    {
      "cell_type": "markdown",
      "source": [
        "## 👑 최종 실습: 배운 내용으로 챗봇 완성하기"
      ],
      "metadata": {
        "id": "0pGv55IxtA8R"
      }
    },
    {
      "cell_type": "markdown",
      "source": [
        "자, 이제 앞에서 배운 `print`, `input`, `함수`, `파일 입출력`을 모두 합쳐서 간단한 챗봇 프로그램을 만들어 봅시다!\n",
        "\n",
        "이 챗봇은 다음과 같이 동작할 거예요:\n",
        "1. 사용자에게 인사를 하고 입력을 기다립니다.\n",
        "2. 사용자의 입력에 따라 미리 정해진 답변을 해줍니다.\n",
        "3. 사용자가 '종료'라고 입력하면, 그때까지의 대화 내용을 `final_chat.txt` 파일에 저장하고 프로그램을 끝냅니다."
      ],
      "metadata": {
        "id": "G8u-4g-HtA8R2"
      }
    },
    {
      "cell_type": "code",
      "source": [
        "# 답변을 생성하는 함수\n",
        "def get_response(user_input):\n",
        "    if \"안녕\" in user_input:\n",
        "        return \"만나서 반가워!\"\n",
        "    elif \"이름\" in user_input:\n",
        "        return \"내 이름은 파이야. 잘 부탁해!\"\n",
        "    elif \"취미\" in user_input:\n",
        "        return \"나는 다른 사람들과 대화하는 걸 좋아해.\"\n",
        "    else:\n",
        "        return \"미안, 아직 배우는 중이라 잘 모르겠어.\"\n",
        "\n",
        "# 대화 기록을 저장할 리스트\n",
        "chat_history = []\n",
        "\n",
        "print(\"챗봇 파이입니다! '종료'를 입력하면 대화를 마칩니다.\")\n",
        "\n",
        "# '무한 루프'를 만들어 사용자가 '종료'를 입력할 때까지 계속 대화합니다.\n",
        "while True:\n",
        "    # 1. 사용자 입력 받기\n",
        "    user_message = input(\"나: \")\n",
        "\n",
        "    # 2. '종료' 조건 확인\n",
        "    if user_message == \"종료\":\n",
        "        print(\"파이: 알았어, 다음에 또 만나!\")\n",
        "        break\n",
        "\n",
        "    # 3. 챗봇 답변 생성하기\n",
        "    bot_message = get_response(user_message)\n",
        "    print(f\"파이: {bot_message}\")\n",
        "\n",
        "    # 4. 대화 내용 기록하기\n",
        "    chat_history.append(f\"나: {user_message}\")\n",
        "    chat_history.append(f\"파이: {bot_message}\")\n",
        "\n",
        "# 5. 대화가 끝나면 파일에 저장하기\n",
        "with open(\"final_chat.txt\", \"w\", encoding=\"utf-8\") as f:\n",
        "    for line in chat_history:\n",
        "        f.write(line + \"\\n\")\n",
        "\n",
        "print(\"\\n--- 대화 내용이 'final_chat.txt' 파일에 저장되었습니다. ---\")"
      ],
      "metadata": {
        "id": "kUaK99v0uO0I"
      },
      "execution_count": null,
      "outputs": []
    },
    {
      "cell_type": "markdown",
      "source": [
        "## 🏋️‍♀️ 혼자 해보기: 챗봇 능력 강화 훈련! (연습문제 10개)"
      ],
      "metadata": {
        "id": "e_z2dF1atA8J2"
      }
    },
    {
      "cell_type": "markdown",
      "source": [
        "이제 직접 코드를 수정하며 배운 내용을 복습해봅시다! 아래 문제들의 빈칸(`____`)을 채워 코드를 완성하고 실행해보세요."
      ],
      "metadata": {
        "id": "F5YtVb1VtA8D2"
      }
    },
    {
      "cell_type": "markdown",
      "source": [
        "**문제 1: 챗봇의 자기소개 문장 출력하기**\n",
        "\n",
        "`print()` 함수를 사용해서 \"나는 파이썬을 배우는 챗봇이야.\" 라는 문장을 출력해보세요."
      ],
      "metadata": {
        "id": "l9f067LktA8E2"
      }
    },
    {
      "cell_type": "code",
      "source": [
        "____(\"나는 파이썬을 배우는 챗봇이야.\")"
      ],
      "metadata": {
        "id": "iN36Vd06tA8F2"
      },
      "execution_count": null,
      "outputs": []
    },
    {
      "cell_type": "markdown",
      "source": [
        "**문제 2: 사용자에게 좋아하는 과일을 물어보고 답하기**\n",
        "\n",
        "`input()`을 사용해서 \"어떤 과일을 가장 좋아해?\" 라고 물어보고, 답변을 `fruit` 변수에 저장한 뒤, \"나도 [과일이름] 좋아해!\" 라고 출력해보세요."
      ],
      "metadata": {
        "id": "0DkCg53jtA8G2"
      }
    },
    {
      "cell_type": "code",
      "source": [
        "fruit = ____(\"어떤 과일을 가장 좋아해? \")\n",
        "print(\"나도 \" + fruit + \" 좋아해!\")"
      ],
      "metadata": {
        "id": "C-h4y62qtA8H2"
      },
      "execution_count": null,
      "outputs": []
    },
    {
      "cell_type": "markdown",
      "source": [
        "**문제 3: 두 숫자를 더해주는 함수 만들기**\n",
        "\n",
        "두 개의 숫자(`a`, `b`)를 매개변수로 받아서, 두 숫자의 합을 `print`하는 `add_numbers` 함수를 완성하세요."
      ],
      "metadata": {
        "id": "G8u-4g-HtA8K2"
      }
    },
    {
      "cell_type": "code",
      "source": [
        "def add_numbers(a, b):\n",
        "  print(f\"{a}와 {b}를 더하면 {a + b}이야.\")\n",
        "\n",
        "# 함수 호출 테스트\n",
        "add_numbers(5, ____)"
      ],
      "metadata": {
        "id": "g-3-Q-qXtA8L2"
      },
      "execution_count": null,
      "outputs": []
    },
    {
      "cell_type": "markdown",
      "source": [
        "**문제 4: 날씨 정보를 '반환'하는 함수 만들기**\n",
        "\n",
        "\"오늘은 날씨가 맑아!\" 라는 문자열을 `return`하는 `get_weather` 함수를 완성하세요."
      ],
      "metadata": {
        "id": "q11eU3H6tA8M2"
      }
    },
    {
      "cell_type": "code",
      "source": [
        "def get_weather():\n",
        "  ____ \"오늘은 날씨가 맑아!\"\n",
        "\n",
        "today_weather = get_weather()\n",
        "print(today_weather)"
      ],
      "metadata": {
        "id": "7T4H_43BtA8O2"
      },
      "execution_count": null,
      "outputs": []
    },
    {
      "cell_type": "markdown",
      "source": [
        "**문제 5: 태어난 년도를 물어보고 나이 알려주기 (문자 -> 숫자 변환!)**\n",
        "\n",
        "`input()`으로 받은 태어난 년도(문자열)를 `int()`를 사용해 숫자(정수)로 바꾸고, 2025년 기준 나이를 계산해서 출력해보세요."
      ],
      "metadata": {
        "id": "Qz5J1o5XtA8N2"
      }
    },
    {
      "cell_type": "code",
      "source": [
        "birth_year_str = input(\"몇 년도에 태어났니? \")\n",
        "birth_year_num = ____(birth_year_str)\n",
        "age = 2025 - birth_year_num + 1\n",
        "print(f\"그럼 너는 올해 {age}살이구나!\")"
      ],
      "metadata": {
        "id": "1m0t3mUctA8P2"
      },
      "execution_count": null,
      "outputs": []
    },
    {
      "cell_type": "markdown",
      "source": [
        "**문제 6: 자기소개 함수에 기본값 설정하기**\n",
        "\n",
        "자기소개 함수에서 `mbti`를 입력받지 않으면, 기본값으로 \"아직 잘 몰라\"가 출력되도록 빈칸을 채워보세요."
      ],
      "metadata": {
        "id": "0pGv55IxtA8R3"
      }
    },
    {
      "cell_type": "code",
      "source": [
        "def my_profile(name, mbti=____):\n",
        "    print(f\"내 이름은 {name}이고, MBTI는 {mbti}야.\")\n",
        "\n",
        "my_profile(\"김코딩\", \"ENFP\")\n",
        "my_profile(\"이파이\")"
      ],
      "metadata": {
        "id": "kUaK99v0uO0I2"
      },
      "execution_count": null,
      "outputs": []
    },
    {
      "cell_type": "markdown",
      "source": [
        "**문제 7: 받은 숫자들을 모두 곱해주는 계산기 함수 만들기 (`*args`)**\n",
        "\n",
        "여러 개의 숫자를 입력받아 모두 곱한 결과를 `return`하는 `multiply_all` 함수를 완성하세요."
      ],
      "metadata": {
        "id": "e_z2dF1atA8J3"
      }
    },
    {
      "cell_type": "code",
      "source": [
        "def multiply_all(*numbers):\n",
        "    result = 1\n",
        "    for num in ____:\n",
        "        result = result * num\n",
        "    return result\n",
        "\n",
        "print(multiply_all(1, 2, 3))     # 결과: 6\n",
        "print(multiply_all(10, 20))    # 결과: 200"
      ],
      "metadata": {
        "id": "F5YtVb1VtA8D3"
      },
      "execution_count": null,
      "outputs": []
    },
    {
      "cell_type": "markdown",
      "source": [
        "**문제 8: 오늘의 목표를 'goal.txt' 파일에 새로 저장하기**\n",
        "\n",
        "사용자에게 오늘의 목표를 입력받아 `goal.txt` 파일에 **새로 쓰는(w)** 코드를 완성하세요."
      ],
      "metadata": {
        "id": "l9f067LktA8E3"
      }
    },
    {
      "cell_type": "code",
      "source": [
        "my_goal = input(\"오늘의 목표는 뭐야? \")\n",
        "with open(\"goal.txt\", ____, encoding=\"utf-8\") as f:\n",
        "    f.write(f\"오늘의 목표: {my_goal}\")\n",
        "\n",
        "print(\"목표가 'goal.txt' 파일에 저장되었어!\")"
      ],
      "metadata": {
        "id": "iN36Vd06tA8F3"
      },
      "execution_count": null,
      "outputs": []
    },
    {
      "cell_type": "markdown",
      "source": [
        "**문제 9: 'goal.txt' 파일의 내용 읽어오기**\n",
        "\n",
        "방금 저장한 'goal.txt' 파일을 **읽기(r)** 모드로 열어서 내용을 출력하는 코드를 완성하세요."
      ],
      "metadata": {
        "id": "0DkCg53jtA8G3"
      }
    },
    {
      "cell_type": "code",
      "source": [
        "with open(\"goal.txt\", ____, encoding=\"utf-8\") as f:\n",
        "    content = f.read()\n",
        "    print(content)"
      ],
      "metadata": {
        "id": "C-h4y62qtA8H3"
      },
      "execution_count": null,
      "outputs": []
    },
    {
      "cell_type": "markdown",
      "source": [
        "**문제 10: 'goal.txt' 파일에 새로운 목표 추가하기**\n",
        "\n",
        "'goal.txt' 파일에 원래 있던 내용은 그대로 두고, 새로운 목표를 **추가(a)** 하는 코드를 완성하세요."
      ],
      "metadata": {
        "id": "G8u-4g-HtA8K3"
      }
    },
    {
      "cell_type": "code",
      "source": [
        "new_goal = input(\"추가할 목표가 있어? \")\n",
        "with open(\"goal.txt\", ____, encoding=\"utf-8\") as f:\n",
        "    f.write(f\"\\n추가 목표: {new_goal}\")\n",
        "\n",
        "print(\"'goal.txt' 파일에 새로운 목표가 추가되었어! 내용을 다시 확인해봐!\")"
      ],
      "metadata": {
        "id": "g-3-Q-qXtA8L3"
      },
      "execution_count": null,
      "outputs": []
    }
  ]
}