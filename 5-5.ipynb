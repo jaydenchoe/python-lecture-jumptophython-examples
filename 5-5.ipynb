{
 "cells": [
  {
   "cell_type": "markdown",
   "metadata": {},
   "source": [
    "# 🤖 챗봇의 초능력! 파이썬 내장 함수 마스터하기 (초급)\n",
    "\n",
    "안녕하세요! 코딩 초보자 여러분, 환영합니다! 🥳\n",
    "\n",
    "오늘은 파이썬이 처음부터 가지고 있는 아주 특별한 능력, **내장 함수(Built-in Functions)**에 대해 배워볼 거예요. 내장 함수는 우리가 `import` 같은 별도의 명령 없이 언제 어디서든 바로 불러서 쓸 수 있는 기본 도구와 같아요.\n",
    "\n",
    "마치 우리 챗봇이 태어날 때부터 가지고 있는 계산 능력, 글자 수 세는 능력, 데이터 정렬 능력 같은 '초능력'들이라고 생각하면 쉬워요. 이 능력들을 잘 활용하면 챗봇을 훨씬 더 똑똑하고 유용하게 만들 수 있답니다. 자, 그럼 챗봇의 초능력들을 하나씩 알아볼까요?"
   ]
  },
  {
   "cell_type": "markdown",
   "metadata": {},
   "source": [
    "## 1. 챗봇의 기본 계산 능력 (숫자 다루기)\n",
    "챗봇에게 계산기 기능을 만들어 줄 때 꼭 필요한 함수들입니다. 사용자의 점수를 분석하거나 간단한 계산을 해줄 수 있어요.\n",
    "\n",
    "- `abs(x)`: 숫자의 절댓값(양수)을 구해요.\n",
    "- `max(...)`, `min(...)`: 여러 숫자나 리스트에서 가장 큰 값과 가장 작은 값을 찾아요.\n",
    "- `sum(...)`: 리스트나 튜플 안의 모든 숫자를 더해요.\n",
    "- `round(x, n)`: 숫자를 반올림해요. (n은 소수점 자릿수)\n",
    "- `pow(x, y)`: x의 y제곱을 계산해요. (x^y)\n",
    "- `divmod(a, b)`: a를 b로 나눈 몫과 나머지를 한 번에 구해요."
   ]
  },
  {
   "cell_type": "code",
   "execution_count": null,
   "metadata": {},
   "outputs": [],
   "source": [
    "user_scores = [80, 95, 72, 100, 88]\n",
    "\n",
    "# 가장 높은 점수와 가장 낮은 점수 찾기\n",
    "print(f\"최고 점수: {max(user_scores)}\")\n",
    "print(f\"최저 점수: {min(user_scores)}\")\n",
    "\n",
    "# 점수 총합 구하기\n",
    "print(f\"점수 총합: {sum(user_scores)}\")\n",
    "\n",
    "# 점수 평균 구하기 (총합 / 개수), 소수점 첫째 자리까지 반올림\n",
    "average = sum(user_scores) / len(user_scores)\n",
    "print(f\"점수 평균: {round(average, 1)}\")\n",
    "\n",
    "# 몫과 나머지 구하기 (100분을 7명의 학생에게 나눠줄 때)\n",
    "quotient, remainder = divmod(100, 7)\n",
    "print(f\"한 명당 {quotient}분씩, {remainder}분이 남아요.\")"
   ]
  },
  {
   "cell_type": "markdown",
   "metadata": {},
   "source": [
    "## 2. 챗봇의 데이터 변신술 (형태 바꾸기)\n",
    "사용자가 입력한 데이터는 기본적으로 '문자열' 형태입니다. 이걸 계산할 수 있는 '숫자'로 바꾸거나, 관리하기 쉽게 '리스트'로 바꾸는 등 자유자재로 형태를 바꿔야 할 때가 많아요.\n",
    "\n",
    "- `str(x)`: 어떤 값이든 문자열로 바꿔요.\n",
    "- `int(x)`: 문자열이나 소수를 정수로 바꿔요.\n",
    "- `list(x)`: 문자열이나 튜플 등을 리스트로 바꿔요.\n",
    "- `tuple(x)`: 리스트 등을 튜플로 바꿔요."
   ]
  },
  {
   "cell_type": "code",
   "execution_count": null,
   "metadata": {},
   "outputs": [],
   "source": [
    "# 사용자는 숫자를 입력했지만, input() 함수는 항상 문자열로 받습니다.\n",
    "user_input_age = \"20\"\n",
    "print(f\"그냥 받은 정보: {user_input_age}, 타입: {type(user_input_age)}\")\n",
    "\n",
    "# 계산을 위해 문자열을 정수(int)로 변신!\n",
    "age = int(user_input_age)\n",
    "print(f\"10년 뒤 나이: {age + 10}\")\n",
    "\n",
    "# '안녕' 이라는 단어를 글자 하나하나가 담긴 리스트로 변신!\n",
    "word = \"안녕\"\n",
    "word_list = list(word)\n",
    "print(f\"'{word}' -> {word_list}\")"
   ]
  },
  {
   "cell_type": "markdown",
   "metadata": {},
   "source": [
    "## 3. 챗봇의 자기 분석 능력 (데이터 속성 파악)\n",
    "챗봇이 자신이 다루는 데이터가 어떤 것인지 스스로 파악하는 능력입니다. 메시지의 길이를 재거나, 데이터의 종류를 확인하는 등 내부 상태를 점검할 때 필요해요.\n",
    "\n",
    "- `len(x)`: 글자의 개수, 리스트의 항목 개수 등 길이를 재요.\n",
    "- `type(x)`: 데이터가 숫자인지, 문자인지, 리스트인지 종류를 알려줘요.\n",
    "- `isinstance(object, class)`: 객체가 특정 클래스(타입)의 인스턴스인지 확인해요. (True/False)\n",
    "- `dir(x)`: 이 데이터를 가지고 어떤 일(함수)들을 할 수 있는지 목록을 보여줘요."
   ]
  },
  {
   "cell_type": "code",
   "execution_count": null,
   "metadata": {},
   "outputs": [],
   "source": [
    "message = \"오늘 날씨 어때?\"\n",
    "print(f\"메시지 길이: {len(message)}\")\n",
    "\n",
    "items = [\"사과\", \"바나나\", 100]\n",
    "print(f\"items의 타입: {type(items)}\")\n",
    "print(f\"items는 리스트가 맞나요? {isinstance(items, list)}\")\n",
    "\n",
    "# 리스트가 할 수 있는 능력들(함수)을 살펴봅시다.\n",
    "print(\"리스트의 능력들:\")\n",
    "print(dir(items))"
   ]
  },
  {
   "cell_type": "markdown",
   "metadata": {},
   "source": [
    "## 4. 챗봇의 정리정돈 기술 (반복 데이터 처리)\n",
    "여러 개의 데이터를 순서대로 처리하거나, 정렬하거나, 두 종류의 데이터를 하나로 짝지을 때 아주 유용한 기술들입니다.\n",
    "\n",
    "- `range(start, stop, step)`: 특정 범위의 숫자들을 만들어내요. `for`문과 찰떡궁합!\n",
    "- `enumerate(x)`: 리스트의 항목에 순서 번호(인덱스)를 붙여줘요.\n",
    "- `sorted(x)`: 데이터를 순서대로 정렬해서 새로운 리스트를 만들어요.\n",
    "- `zip(a, b, ...)`: 여러 리스트의 같은 순서에 있는 항목끼리 짝을 지어줘요."
   ]
  },
  {
   "cell_type": "code",
   "execution_count": null,
   "metadata": {},
   "outputs": [],
   "source": [
    "# 1. 메뉴 보여주기 (enumerate)\n",
    "menu = [\"영화 예매\", \"맛집 추천\", \"날씨 정보\"]\n",
    "print(\"원하는 메뉴를 선택하세요:\")\n",
    "for index, item in enumerate(menu):\n",
    "    print(f\"{index+1}. {item}\")\n",
    "\n",
    "# 2. 유저 랭킹 정렬하기 (sorted)\n",
    "scores = [120, 300, 90, 500]\n",
    "ranked_scores = sorted(scores, reverse=True) # reverse=True는 내림차순(높은 순)\n",
    "print(f\"\\n랭킹: {ranked_scores}\")\n",
    "\n",
    "# 3. 유저와 점수 짝짓기 (zip)\n",
    "users = [\"Alice\", \"Bob\", \"Charlie\"]\n",
    "user_scores = [95, 80, 100]\n",
    "user_score_pairs = list(zip(users, user_scores))\n",
    "print(f\"\\n유저와 점수: {user_score_pairs}\")"
   ]
  },
  {
   "cell_type": "markdown",
   "metadata": {},
   "source": [
    "## 5. 챗봇의 일괄 처리 능력 (함수형 프로그래밍)\n",
    "여러 데이터에 똑같은 작업을 한 번에 적용하거나, 특정 조건에 맞는 데이터만 골라낼 때 코드를 아주 간결하게 만들어주는 멋진 기능입니다.\n",
    "\n",
    "- `map(함수, 데이터)`: 데이터의 각 항목에 '함수'를 하나씩 적용해줘요.\n",
    "- `filter(함수, 데이터)`: 데이터의 각 항목을 '함수'로 테스트해서, 통과(True)하는 것들만 모아줘요."
   ]
  },
  {
   "cell_type": "code",
   "execution_count": null,
   "metadata": {},
   "outputs": [],
   "source": [
    "# 사용자가 콤마로 구분해서 숫자를 입력했다고 상상해봅시다.\n",
    "num_strings = [\"1\", \"2\", \"3\", \"4\", \"5\"]\n",
    "\n",
    "# map을 사용해 모든 문자열을 한번에 정수로 변환!\n",
    "numbers = list(map(int, num_strings))\n",
    "print(f\"문자열 리스트: {num_strings}\")\n",
    "print(f\"정수 리스트로 변환: {numbers}\")\n",
    "\n",
    "# filter를 사용해 짝수만 골라내기!\n",
    "def is_even(n):\n",
    "    return n % 2 == 0\n",
    "\n",
    "even_numbers = list(filter(is_even, numbers))\n",
    "print(f\"위 리스트에서 짝수만: {even_numbers}\")\n",
    "\n",
    "# lambda를 쓰면 더 간단해져요!\n",
    "odd_numbers = list(filter(lambda n: n % 2 != 0, numbers))\n",
    "print(f\"위 리스트에서 홀수만: {odd_numbers}\")"
   ]
  },
  {
   "cell_type": "markdown",
   "metadata": {},
   "source": [
    "## 6. 챗봇의 암호 해독 능력 (문자 & 코드 변환)\n",
    "챗봇에게 '개발자 모드' 같은 재미있는 기능을 만들어 줄 수 있습니다. 문자를 컴퓨터가 아는 숫자로, 또는 그 숫자를 다시 문자로 바꾸는 기능입니다.\n",
    "\n",
    "- `ord(문자)`: 문자 하나를 유니코드 숫자 값으로 바꿔요.\n",
    "- `chr(숫자)`: 유니코드 숫자 값을 해당하는 문자로 바꿔요.\n",
    "- `hex(숫자)`, `oct(숫자)`: 숫자를 16진수, 8진수 문자열로 바꿔요."
   ]
  },
  {
   "cell_type": "code",
   "execution_count": null,
   "metadata": {},
   "outputs": [],
   "source": [
    "# '가' 라는 글자의 유니코드 값 알아보기\n",
    "code_ga = ord('가')\n",
    "print(f\"'가'의 코드값: {code_ga}\")\n",
    "\n",
    "# 그 코드값을 다시 글자로 바꾸기\n",
    "char_ga = chr(code_ga)\n",
    "print(f\"{code_ga}에 해당하는 글자: {char_ga}\")\n",
    "\n",
    "# 100이라는 숫자를 16진수와 8진수로 보기\n",
    "print(f\"100의 16진수: {hex(100)}\")\n",
    "print(f\"100의 8진수: {oct(100)}\")"
   ]
  },
  {
   "cell_type": "markdown",
   "metadata": {},
   "source": [
    "## 7. 챗봇의 조건 판단 능력 (참/거짓 확인)\n",
    "여러 조건들을 한 번에 확인해서 판단할 때 사용합니다.\n",
    "\n",
    "- `all(리스트)`: 리스트의 모든 항목이 참(True)일 때만 `True`를 반환해요.\n",
    "- `any(리스트)`: 리스트의 항목 중 하나라도 참(True)이면 `True`를 반환해요."
   ]
  },
  {
   "cell_type": "code",
   "execution_count": null,
   "metadata": {},
   "outputs": [],
   "source": [
    "checklist1 = [True, True, True]\n",
    "checklist2 = [True, False, True]\n",
    "checklist3 = [0, \"\", []] # 파이썬에서 0, 빈 문자열, 빈 리스트는 False로 취급돼요\n",
    "\n",
    "# 모든 항목이 다 통과했나? (all)\n",
    "print(f\"checklist1 모두 통과? {all(checklist1)}\")\n",
    "print(f\"checklist2 모두 통과? {all(checklist2)}\")\n",
    "\n",
    "# 하나라도 통과한 게 있나? (any)\n",
    "print(f\"checklist2 하나라도 통과? {any(checklist2)}\")\n",
    "print(f\"checklist3 하나라도 통과? {any(checklist3)}\")"
   ]
  },
  {
   "cell_type": "markdown",
   "metadata": {},
   "source": [
    "## 8. 챗봇의 소통과 실행 능력 (외부와의 연결)\n",
    "사용자와 직접 대화하고, 파일을 읽고 쓰거나, 심지어 문자열로 된 코드를 실행하는 강력한 능력입니다.\n",
    "\n",
    "- `input()`: 사용자로부터 키보드 입력을 받아요.\n",
    "- `open()`: 파일을 열어서 읽거나 쓸 수 있게 해줘요.\n",
    "- `eval()`: 문자열로 된 파이썬 코드를 계산해서 결과를 알려줘요. **(주의: 보안에 매우 취약할 수 있어 사용에 주의가 필요합니다!)**"
   ]
  },
  {
   "cell_type": "code",
   "execution_count": null,
   "metadata": {},
   "outputs": [],
   "source": [
    "# input으로 사용자 이름 받기\n",
    "user_name = input(\"이름이 무엇인가요? \")\n",
    "print(f\"반가워요, {user_name}님!\")\n",
    "\n",
    "# eval로 간단한 계산기 흉내내기\n",
    "formula = input(\"계산할 식을 입력해보세요 (예: 100 * 2): \")\n",
    "try:\n",
    "    result = eval(formula)\n",
    "    print(f\"계산 결과: {result}\")\n",
    "except Exception as e:\n",
    "    print(f\"계산할 수 없는 식이에요. 오류: {e}\")"
   ]
  },
  {
   "cell_type": "markdown",
   "metadata": {},
   "source": [
    "---"
   ]
  },
  {
   "cell_type": "markdown",
   "metadata": {},
   "source": [
    "## 🚀 혼자 해보는 연습 문제 🚀\n",
    "\n",
    "이제 배운 초능력(내장 함수)들을 사용해서 챗봇의 기능을 직접 만들어 봅시다! \n",
    "각 문제 아래의 코드 셀에 비어있는 부분을 채워서 실행해보세요."
   ]
  },
  {
   "cell_type": "markdown",
   "metadata": {},
   "source": [
    "### 문제 1: 평균 구하기\n",
    "\n",
    "어떤 게임의 스테이지별 클리어 시간(초)이 리스트로 주어졌습니다. `sum()`과 `len()`을 사용해서 평균 클리어 시간을 계산하고 출력하세요."
   ]
  },
  {
   "cell_type": "code",
   "execution_count": null,
   "metadata": {},
   "outputs": [],
   "source": [
    "clear_times = [120, 85, 93, 152, 70]\n",
    "\n",
    "# 총 시간(합계)을 계산하세요.\n",
    "total_time = sum(clear_times)\n",
    "\n",
    "# 스테이지 개수(길이)를 계산하세요.\n",
    "num_stages = len(clear_times)\n",
    "\n",
    "average_time = total_time / num_stages\n",
    "print(f\"평균 클리어 시간: {average_time}초\")"
   ]
  },
  {
   "cell_type": "markdown",
   "metadata": {},
   "source": [
    "### 문제 2: 메시지 길이 제한 확인하기\n",
    "\n",
    "챗봇은 20글자가 넘는 긴 메시지는 처리할 수 없다고 가정합니다. `len()`을 사용해서 사용자 메시지가 20글자 이하인지 `True`/`False`로 출력하세요."
   ]
  },
  {
   "cell_type": "code",
   "execution_count": null,
   "metadata": {},
   "outputs": [],
   "source": [
    "user_message = \"오늘 저녁 메뉴로 맛있는 파스타를 추천해 줄 수 있니?\"\n",
    "\n",
    "# 메시지의 길이를 재서 20 이하인지 비교하세요.\n",
    "is_ok = len(user_message) <= 20\n",
    "\n",
    "print(f\"메시지 길이 제한 통과 여부: {is_ok}\")"
   ]
  },
  {
   "cell_type": "markdown",
   "metadata": {},
   "source": [
    "### 문제 3: 쇼핑 리스트 정렬하기\n",
    "\n",
    "사용자가 입력한 쇼핑 리스트가 있습니다. `sorted()` 함수를 사용해서 알파벳 순서로 정렬한 결과를 출력하세요."
   ]
  },
  {
   "cell_type": "code",
   "execution_count": null,
   "metadata": {},
   "outputs": [],
   "source": [
    "shopping_list = [\"우유\", \"계란\", \"사과\", \"빵\"]\n",
    "\n",
    "# shopping_list를 정렬하세요.\n",
    "sorted_list = sorted(shopping_list)\n",
    "\n",
    "print(f\"정렬된 쇼핑 리스트: {sorted_list}\")"
   ]
  },
  {
   "cell_type": "markdown",
   "metadata": {},
   "source": [
    "### 문제 4: 유저와 직업 짝짓기\n",
    "\n",
    "유저 이름 리스트와 직업 리스트가 따로 있습니다. `zip()` 함수를 사용해서 이름과 직업을 짝지은 리스트를 만드세요."
   ]
  },
  {
   "cell_type": "code",
   "execution_count": null,
   "metadata": {},
   "outputs": [],
   "source": [
    "users = [\"김코딩\", \"이파이\", \"박자바\"]\n",
    "jobs = [\"개발자\", \"데이터 분석가\", \"디자이너\"]\n",
    "\n",
    "# 두 리스트를 zip으로 묶고, 결과를 list로 변환하세요.\n",
    "user_jobs = list(zip(users, jobs))\n",
    "\n",
    "print(user_jobs)"
   ]
  },
  {
   "cell_type": "markdown",
   "metadata": {},
   "source": [
    "### 문제 5: 5글자 이상인 단어만 골라내기\n",
    "\n",
    "단어 리스트에서 `filter()`와 `lambda`를 사용해서 길이가 5 이상인 단어들만 골라낸 리스트를 만드세요."
   ]
  },
  {
   "cell_type": "code",
   "execution_count": null,
   "metadata": {},
   "outputs": [],
   "source": [
    "words = [\"apple\", \"banana\", \"kiwi\", \"strawberry\", \"cat\"]\n",
    "\n",
    "# filter와 lambda를 사용해서 조건에 맞는 단어만 골라내세요.\n",
    "long_words = list(filter(lambda w: len(w) >= 5, words))\n",
    "\n",
    "print(f\"5글자 이상인 단어: {long_words}\")"
   ]
  },
  {
   "cell_type": "markdown",
   "metadata": {},
   "source": [
    "### 문제 6: 모든 숫자를 2배로 만들기\n",
    "\n",
    "숫자 리스트의 모든 항목을 2배로 만든 새로운 리스트를 `map()`과 `lambda`를 사용해서 만드세요."
   ]
  },
  {
   "cell_type": "code",
   "execution_count": null,
   "metadata": {},
   "outputs": [],
   "source": [
    "numbers = [10, 20, 30, 40, 50]\n",
    "\n",
    "# map과 lambda를 사용해서 각 숫자를 2배로 만드세요.\n",
    "doubled_numbers = list(map(lambda n: n * 2, numbers))\n",
    "\n",
    "print(f\"2배가 된 숫자들: {doubled_numbers}\")"
   ]
  },
  {
   "cell_type": "markdown",
   "metadata": {},
   "source": [
    "### 문제 7: 할 일 목록 보여주기\n",
    "\n",
    "할 일 목록(리스트)을 `enumerate()`를 사용해서 \"1. 파이썬 공부\" 와 같은 형식으로 번호를 붙여 출력하세요. (번호는 1부터 시작하게 해주세요.)"
   ]
  },
  {
   "cell_type": "code",
   "execution_count": null,
   "metadata": {},
   "outputs": [],
   "source": [
    "todo_list = [\"파이썬 공부\", \"저녁 식사\", \"운동하기\"]\n",
    "\n",
    "print(\"오늘의 할 일:\")\n",
    "# for와 enumerate를 사용해서 번호와 할 일을 함께 출력하세요.\n",
    "for i, todo in enumerate(todo_list):\n",
    "    print(f\"{i+1}. {todo}\")"
   ]
  },
  {
   "cell_type": "markdown",
   "metadata": {},
   "source": [
    "### 문제 8: 시험 합격 여부 판단하기\n",
    "\n",
    "모든 과목 점수가 60점 이상이어야 합격입니다. `all()`과 리스트 컴프리헨션을 사용해서 합격 여부를 `True`/`False`로 판단하세요."
   ]
  },
  {
   "cell_type": "code",
   "execution_count": null,
   "metadata": {},
   "outputs": [],
   "source": [
    "scores = [88, 92, 75, 100, 59] # 59점 때문에 불합격이 예상돼요.\n",
    "\n",
    "# 모든 점수가 60 이상인지 확인하는 코드를 작성하세요.\n",
    "is_passed = all([s >= 60 for s in scores])\n",
    "\n",
    "print(f\"시험 합격 여부: {is_passed}\")"
   ]
  },
  {
   "cell_type": "markdown",
   "metadata": {},
   "source": [
    "### 문제 9: 소수점 둘째자리까지 반올림하기\n",
    "\n",
    "챗봇이 계산한 원주율 값이 `3.14159265` 일 때, `round()` 함수를 사용해서 소수점 둘째자리까지만 표시되도록 반올림하세요."
   ]
  },
  {
   "cell_type": "code",
   "execution_count": null,
   "metadata": {},
   "outputs": [],
   "source": [
    "pi_value = 3.14159265\n",
    "\n",
    "# pi_value를 소수점 둘째자리까지 반올림하세요.\n",
    "rounded_pi = round(pi_value, 2)\n",
    "\n",
    "print(f\"반올림된 원주율: {rounded_pi}\")"
   ]
  },
  {
   "cell_type": "markdown",
   "metadata": {},
   "source": [
    "### 문제 10: 닉네임을 아스키 코드로 바꾸기\n",
    "\n",
    "사용자 닉네임 \"ace\"의 각 글자를 `ord()`를 사용해서 아스키 코드(유니코드) 숫자로 바꾼 리스트를 만들어보세요."
   ]
  },
  {
   "cell_type": "code",
   "execution_count": null,
   "metadata": {},
   "outputs": [],
   "source": [
    "nickname = \"ace\"\n",
    "ascii_codes = []\n",
    "\n",
    "# for 문을 사용해 nickname의 각 글자를 아스키 코드로 바꾸고 리스트에 추가하세요.\n",
    "for char in nickname:\n",
    "    ascii_codes.append(ord(char))\n",
    "\n",
    "print(f\"'{nickname}'의 아스키 코드: {ascii_codes}\")"
   ]
  },
  {
   "cell_type": "markdown",
   "metadata": {},
   "source": [
    "## 모든 문제를 해결하셨나요? 정말 멋져요!\n",
    "\n",
    "오늘 여러분은 파이썬의 강력한 기본 도구인 내장 함수들을 많이 배웠습니다. 이제 이 '초능력'들을 자유자재로 사용해서 더 똑똑하고, 더 유연하고, 더 편리한 챗봇과 프로그램을 만들 수 있을 거예요! 👍"
   ]
  }
 ],
 "metadata": {
  "colab": {
   "collapsed_sections": [],
   "provenance": []
  },
  "kernelspec": {
   "display_name": "Python 3",
   "name": "python3"
  },
  "language_info": {
   "name": "python"
  }
 },
 "nbformat": 4,
 "nbformat_minor": 0
}