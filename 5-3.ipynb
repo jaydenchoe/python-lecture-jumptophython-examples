{
 "cells": [
  {
   "cell_type": "markdown",
   "metadata": {},
   "source": [
    "# 🤖 파이썬 패키지로 나만의 챗봇 만들기 (초급)\n",
    "\n",
    "안녕하세요! 코딩을 처음 시작하는 여러분을 환영합니다. 🎉\n",
    "\n",
    "오늘은 파이썬의 **패키지(Package)** 라는 개념을 배워볼 거예요. 패키지는 여러 파이썬 파일(모듈)들을 폴더(디렉터리)로 정리해서 관리하는 방법이에요. 마치 여러 종류의 장난감을 종류별로 상자에 담아 정리하는 것과 같답니다.\n",
    "\n",
    "우리는 '인사하는 기능', '질문에 답하는 기능' 등을 각각 다른 파일에 만들어두고, '나만의 챗봇'이라는 큰 패키지로 묶어서 체계적으로 챗봇을 만들어 볼 거예요. 아주 쉽고 재미있을 테니 잘 따라와 주세요!"
   ]
  },
  {
   "cell_type": "markdown",
   "metadata": {},
   "source": [
    "## 1단계: 챗봇 패키지 구조 만들기\n",
    "\n",
    "가장 먼저, 우리 챗봇의 뼈대가 될 폴더와 파일들을 만들 거예요. 코딩에서는 이런 구조를 정말 중요하게 생각해요. 어디에 뭐가 있는지 알아야 필요할 때 바로바로 꺼내 쓸 수 있으니까요.\n",
    "\n",
    "Google Colab 환경에서는 아래처럼 `!` 문자를 명령어 앞에 붙여서 폴더를 만들거나 파일을 생성할 수 있습니다.\n",
    "\n",
    "우리 챗봇의 구조는 이렇습니다:\n",
    "```\n",
    "my_chatbot/              (가장 큰 챗봇 패키지 폴더)\n",
    "├── __init__.py          (이 폴더가 패키지라고 알려주는 마법의 파일)\n",
    "│\n",
    "├── greetings/           (인사 관련 기능들을 모아둘 폴더)\n",
    "│   ├── __init__.py\n",
    "│   └── hello.py         (안녕! 이라고 말하는 기능이 담길 파일)\n",
    "│\n",
    "└── responses/           (대답 관련 기능들을 모아둘 폴더)\n",
    "    ├── __init__.py\n",
    "    └── questions.py     (질문을 하는 기능이 담길 파일)\n",
    "```\n",
    "\n",
    "아래 코드 셀을 실행해서 이 구조를 한 번에 만들어 봅시다!"
   ]
  },
  {
   "cell_type": "code",
   "execution_count": null,
   "metadata": {},
   "outputs": [],
   "source": [
    "# 챗봇 패키지를 위한 폴더들을 생성합니다.\n",
    "!mkdir -p my_chatbot/greetings\n",
    "!mkdir -p my_chatbot/responses\n",
    "\n",
    "# 각 폴더가 파이썬 패키지임을 알려주는 __init__.py 파일을 생성합니다. (내용은 비워둡니다)\n",
    "!touch my_chatbot/__init__.py\n",
    "!touch my_chatbot/greetings/__init__.py\n",
    "!touch my_chatbot/responses/__init__.py\n",
    "\n",
    "# 실제 기능이 들어갈 파이썬(.py) 파일들을 생성합니다.\n",
    "!touch my_chatbot/greetings/hello.py\n",
    "!touch my_chatbot/responses/questions.py\n",
    "\n",
    "print(\"🤖 챗봇 패키지 구조 완성!\")"
   ]
  },
  {
   "cell_type": "markdown",
   "metadata": {},
   "source": [
    "## 2단계: 챗봇 기능 채우기\n",
    "\n",
    "이제 비어있는 파이썬 파일 안에 실제 코드를 채워 넣어 우리 챗봇에게 말을 가르쳐 줄 시간이에요. `%%writefile`이라는 명령어를 사용하면 코드 셀의 내용을 파일로 바로 저장할 수 있어요.\n",
    "\n",
    "먼저, `hello.py` 파일에는 \"안녕하세요!\"를 출력하는 `say_hello` 함수를 만들어 줄게요."
   ]
  },
  {
   "cell_type": "code",
   "execution_count": null,
   "metadata": {},
   "outputs": [],
   "source": [
    "%%writefile my_chatbot/greetings/hello.py\n",
    "\n",
    "# 인사하는 기능을 담당하는 파일입니다.\n",
    "def say_hello():\n",
    "    print(\"안녕하세요! 챗봇입니다. 🤖\")"
   ]
  },
  {
   "cell_type": "markdown",
   "metadata": {},
   "source": [
    "다음으로 `questions.py` 파일에는 \"오늘 기분은 어떠세요?\"라고 묻는 `ask_feeling` 함수를 만들겠습니다."
   ]
  },
  {
   "cell_type": "code",
   "execution_count": null,
   "metadata": {},
   "outputs": [],
   "source": [
    "%%writefile my_chatbot/responses/questions.py\n",
    "\n",
    "# 질문하는 기능을 담당하는 파일입니다.\n",
    "def ask_feeling():\n",
    "    print(\"오늘 기분은 어떠세요? 😊\")"
   ]
  },
  {
   "cell_type": "markdown",
   "metadata": {},
   "source": [
    "## 3단계: 패키지 속 챗봇 기능 불러와서 사용하기 (import)\n",
    "\n",
    "`import`는 다른 파일에 있는 코드를 \"가져와서 사용하겠다\"고 선언하는 명령어예요. 우리가 만든 챗봇의 기능을 사용하려면 `import`를 해야 합니다. 방법은 여러 가지가 있어요.\n",
    "\n",
    "### 방법 1: 전체 경로를 다 써서 가져오기\n",
    "가장 기본적인 방법입니다. `import 패키지.폴더.파일` 형식으로 불러온 뒤, `패키지.폴더.파일.함수()` 형식으로 사용합니다."
   ]
  },
  {
   "cell_type": "code",
   "execution_count": null,
   "metadata": {},
   "outputs": [],
   "source": [
    "import my_chatbot.greetings.hello\n",
    "\n",
    "my_chatbot.greetings.hello.say_hello()"
   ]
  },
  {
   "cell_type": "markdown",
   "metadata": {},
   "source": [
    "### 방법 2: `from ... import ...`로 필요한 부분만 쏙!\n",
    "매번 긴 경로를 다 쓰기 귀찮을 수 있어요. `from`을 사용하면 경로를 줄여서 코드를 더 깔끔하게 만들 수 있습니다.\n",
    "\n",
    "`from 패키지.폴더 import 파일` 형식으로 불러오면, `파일.함수()` 로 간단하게 사용할 수 있습니다."
   ]
  },
  {
   "cell_type": "code",
   "execution_count": null,
   "metadata": {},
   "outputs": [],
   "source": [
    "from my_chatbot.greetings import hello\n",
    "\n",
    "hello.say_hello()"
   ]
  },
  {
   "cell_type": "markdown",
   "metadata": {},
   "source": [
    "### 방법 3: `from ... import ...`로 함수를 직접 가져오기\n",
    "가장 간단한 방법! `from 패키지.폴더.파일 import 함수` 형식으로 불러오면, `함수()` 이름만으로 바로 사용할 수 있어요. 아주 편리하죠?"
   ]
  },
  {
   "cell_type": "code",
   "execution_count": null,
   "metadata": {},
   "outputs": [],
   "source": [
    "from my_chatbot.greetings.hello import say_hello\n",
    "\n",
    "say_hello()"
   ]
  },
  {
   "cell_type": "markdown",
   "metadata": {},
   "source": [
    "## 4단계: `__init__.py` 파일의 마법\n",
    "\n",
    "아까 만들었던 `__init__.py` 파일 기억나나요? 이 파일은 그냥 폴더를 패키지로 만들어주는 역할만 하는 게 아니에요. 아주 유용한 마법을 부릴 수 있답니다!\n",
    "\n",
    "### 마법 1: 패키지 초기화 메시지 보여주기\n",
    "가장 바깥쪽 `my_chatbot/__init__.py` 파일에 코드를 추가해 봅시다. 패키지가 처음 `import` 될 때 딱 한 번 실행되는 코드를 넣을 수 있어요. 챗봇 엔진이 시작된다는 메시지를 넣어볼게요."
   ]
  },
  {
   "cell_type": "code",
   "execution_count": null,
   "metadata": {},
   "outputs": [],
   "source": [
    "%%writefile my_chatbot/__init__.py\n",
    "\n",
    "print(\"나만의 챗봇 엔진을 시작합니다...\")"
   ]
  },
  {
   "cell_type": "markdown",
   "metadata": {},
   "source": [
    "이제 `my_chatbot` 패키지 안의 아무 기능이나 `import` 해보세요. 우리가 넣은 메시지가 출력될 거예요!\n",
    "\n",
    "**※ Colab에서는 이전에 import한 기록이 남아있을 수 있으니, `런타임 다시 시작`을 한 후에 아래 코드를 실행해야 메시지가 보입니다.**"
   ]
  },
  {
   "cell_type": "code",
   "execution_count": null,
   "metadata": {},
   "outputs": [],
   "source": [
    "from my_chatbot.responses import questions\n",
    "\n",
    "questions.ask_feeling()"
   ]
  },
  {
   "cell_type": "markdown",
   "metadata": {},
   "source": [
    "### 마법 2: 복잡한 경로를 간단하게 만들기\n",
    "`__init__.py` 파일에 미리 `import` 구문을 써두면, 아주 긴 경로를 짧게 줄여서 사용할 수 있습니다. `my_chatbot/greetings/__init__.py` 파일은 그대로 두고, 최상위 `my_chatbot/__init__.py` 파일을 수정해서 `say_hello` 함수를 바로 `import` 해봅시다."
   ]
  },
  {
   "cell_type": "code",
   "execution_count": null,
   "metadata": {},
   "outputs": [],
   "source": [
    "%%writefile my_chatbot/__init__.py\n",
    "\n",
    "print(\"나만의 챗봇 엔진을 시작합니다...\")\n",
    "\n",
    "# greetings 폴더의 hello 파일에서 say_hello 함수를 미리 가져와 준비해놓기\n",
    "from .greetings.hello import say_hello"
   ]
  },
  {
   "cell_type": "markdown",
   "metadata": {},
   "source": [
    "이렇게 하면 `my_chatbot.say_hello()`처럼 훨씬 간단하게 함수를 호출할 수 있게 됩니다. 정말 편리하죠?\n",
    "\n",
    "**※ 다시 한 번 `런타임 다시 시작`을 하고 아래 코드를 실행해보세요!**"
   ]
  },
  {
   "cell_type": "code",
   "execution_count": null,
   "metadata": {},
   "outputs": [],
   "source": [
    "import my_chatbot\n",
    "\n",
    "# 원래는 my_chatbot.greetings.hello.say_hello() 라고 길게 써야 했어요.\n",
    "# 하지만 __init__.py 마법 덕분에 아래처럼 간단하게 쓸 수 있습니다!\n",
    "my_chatbot.say_hello()"
   ]
  },
  {
   "cell_type": "markdown",
   "metadata": {},
   "source": [
    "## 5단계: 패키지 내부에서 서로의 기능 사용하기 (상대 경로)\n",
    "패키지 안의 다른 파일에 있는 함수를 쓰고 싶을 때가 있어요. 예를 들어, `questions.py`에서 질문을 한 뒤 `hello.py`의 인사말을 해주고 싶다면 어떻게 할까요?\n",
    "\n",
    "이럴 때 **상대 경로(relative path)**를 사용합니다.\n",
    "* `.` : 현재 폴더\n",
    "* `..` : 부모 폴더 (상위 폴더)\n",
    "\n",
    "`responses/questions.py` 입장에서 `greetings/hello.py`는, 한 단계 위(`..`)로 올라가서 `greetings` 폴더로 들어간 뒤 `hello` 파일을 찾으면 됩니다. 그래서 `from ..greetings.hello import say_hello` 라고 쓸 수 있어요.\n",
    "\n",
    "자, `questions.py` 파일을 수정해봅시다."
   ]
  },
  {
   "cell_type": "code",
   "execution_count": null,
   "metadata": {},
   "outputs": [],
   "source": [
    "%%writefile my_chatbot/responses/questions.py\n",
    "\n",
    "# 한 단계 상위 폴더(..)로 가서 greetings 폴더의 hello 파일에서 say_hello 함수를 가져옵니다.\n",
    "from ..greetings.hello import say_hello\n",
    "\n",
    "# 질문하는 기능을 담당하는 파일입니다.\n",
    "def ask_feeling():\n",
    "    # 먼저 인사를 하고,\n",
    "    say_hello()\n",
    "    # 그 다음에 질문을 합니다.\n",
    "    print(\"오늘 기분은 어떠세요? 😊\")"
   ]
  },
  {
   "cell_type": "markdown",
   "metadata": {},
   "source": [
    "이제 `ask_feeling` 함수를 호출하면 인사와 질문이 연달아 나오는지 확인해 보세요.\n",
    "\n",
    "**※ 또 `런타임 다시 시작`을 해야겠죠?**"
   ]
  },
  {
   "cell_type": "code",
   "execution_count": null,
   "metadata": {},
   "outputs": [],
   "source": [
    "from my_chatbot.responses.questions import ask_feeling\n",
    "\n",
    "ask_feeling()"
   ]
  },
  {
   "cell_type": "markdown",
   "metadata": {},
   "source": [
    "---"
   ]
  },
  {
   "cell_type": "markdown",
   "metadata": {},
   "source": [
    "## 🚀 혼자 해보는 연습 문제 🚀\n",
    "\n",
    "이제 배운 내용을 바탕으로 챗봇의 기능을 직접 확장해 보세요! \n",
    "각 문제 아래의 코드 셀에 비어있는 부분을 채워서 실행해보세요."
   ]
  },
  {
   "cell_type": "markdown",
   "metadata": {},
   "source": [
    "### 문제 1: 작별 인사 기능 추가하기\n",
    "\n",
    "`my_chatbot/greetings/` 폴더 안에 `goodbye.py` 파일을 만들고, \"다음에 또 만나요!\"라고 출력하는 `say_goodbye` 함수를 만들어보세요."
   ]
  },
  {
   "cell_type": "code",
   "execution_count": null,
   "metadata": {},
   "outputs": [],
   "source": [
    "%%writefile my_chatbot/greetings/goodbye.py\n",
    "\n",
    "def say_goodbye():\n",
    "    # 여기에 작별 인사를 출력하는 코드를 작성하세요\n",
    "    print(\"다음에 또 만나요! 👋\")"
   ]
  },
  {
   "cell_type": "markdown",
   "metadata": {},
   "source": [
    "### 문제 2: 작별 인사 함수 불러와서 실행하기\n",
    "\n",
    "방금 만든 `say_goodbye` 함수를 `import` 해서 실행시켜보세요. 함수를 직접 `import` 하는 방식을 사용해 보세요."
   ]
  },
  {
   "cell_type": "code",
   "execution_count": null,
   "metadata": {},
   "outputs": [],
   "source": [
    "# from ... import ... 구문을 사용해서 say_goodbye 함수를 직접 가져오세요.\n",
    "from my_chatbot.greetings.goodbye import say_goodbye\n",
    "\n",
    "# 함수를 호출해서 작별 인사가 잘 나오는지 확인하세요.\n",
    "say_goodbye()"
   ]
  },
  {
   "cell_type": "markdown",
   "metadata": {},
   "source": [
    "### 문제 3: 챗봇 제작자 정보 추가하기\n",
    "\n",
    "최상위 `my_chatbot/__init__.py` 파일에 `AUTHOR` 라는 변수를 만들고, 여러분의 이름을 문자열로 저장해보세요."
   ]
  },
  {
   "cell_type": "code",
   "execution_count": null,
   "metadata": {},
   "outputs": [],
   "source": [
    "%%writefile my_chatbot/__init__.py\n",
    "\n",
    "# 맨 윗줄에 AUTHOR 변수를 추가하고, 본인의 이름을 넣으세요.\n",
    "AUTHOR = \"홍길동\"\n",
    "\n",
    "print(\"나만의 챗봇 엔진을 시작합니다...\")\n",
    "from .greetings.hello import say_hello"
   ]
  },
  {
   "cell_type": "markdown",
   "metadata": {},
   "source": [
    "### 문제 4: 제작자 정보 출력하기\n",
    "\n",
    "`my_chatbot` 패키지를 `import` 한 뒤, 방금 만든 `AUTHOR` 변수를 출력해서 이름이 잘 나오는지 확인해보세요."
   ]
  },
  {
   "cell_type": "code",
   "execution_count": null,
   "metadata": {},
   "outputs": [],
   "source": [
    "# 런타임 다시 시작 후 실행!\n",
    "import my_chatbot\n",
    "\n",
    "# my_chatbot 패키지의 AUTHOR 변수를 출력하세요.\n",
    "print(f\"이 챗봇은 {my_chatbot.AUTHOR}님이 만들었습니다.\")\n"
   ]
  },
  {
   "cell_type": "markdown",
   "metadata": {},
   "source": [
    "### 문제 5: `__all__` 변수로 `import *` 제어하기\n",
    "`greetings` 폴더에서 `*` (별표)를 사용해 모든 것을 `import` 할 때 `hello` 모듈과 `goodbye` 모듈을 둘 다 가져올 수 있도록 `my_chatbot/greetings/__init__.py` 파일을 수정해보세요.\n",
    "\n",
    "`__all__`은 리스트( `[...]` ) 형태로 정의합니다."
   ]
  },
  {
   "cell_type": "code",
   "execution_count": null,
   "metadata": {},
   "outputs": [],
   "source": [
    "%%writefile my_chatbot/greetings/__init__.py\n",
    "\n",
    "# __all__ 변수에 import를 허용할 모듈 이름들을 문자열로 담아주세요.\n",
    "__all__ = ['hello', 'goodbye']"
   ]
  },
  {
   "cell_type": "markdown",
   "metadata": {},
   "source": [
    "### 문제 6: `import *` 테스트하기\n",
    "\n",
    "위에서 `__all__`을 설정했으니, 이제 `from my_chatbot.greetings import *` 가 잘 동작하는지 테스트해봅시다. `hello.say_hello()` 와 `goodbye.say_goodbye()` 가 모두 실행되어야 합니다."
   ]
  },
  {
   "cell_type": "code",
   "execution_count": null,
   "metadata": {},
   "outputs": [],
   "source": [
    "# 런타임 다시 시작 후 실행!\n",
    "from my_chatbot.greetings import *\n",
    "\n",
    "# hello 모듈의 함수를 호출해보세요.\n",
    "hello.say_hello()\n",
    "# goodbye 모듈의 함수를 호출해보세요.\n",
    "goodbye.say_goodbye()"
   ]
  },
  {
   "cell_type": "markdown",
   "metadata": {},
   "source": [
    "### 문제 7: 날씨 질문 기능 추가하기\n",
    "\n",
    "`my_chatbot/responses/` 폴더에 `ask_weather` 라는 함수를 추가해보세요. 이 함수는 `questions.py` 파일 안에 만들어주세요."
   ]
  },
  {
   "cell_type": "code",
   "execution_count": null,
   "metadata": {},
   "outputs": [],
   "source": [
    "# questions.py 파일 전체를 다시 작성합니다. 기존 내용은 유지해주세요.\n",
    "%%writefile my_chatbot/responses/questions.py\n",
    "\n",
    "from ..greetings.hello import say_hello\n",
    "\n",
    "def ask_feeling():\n",
    "    say_hello()\n",
    "    print(\"오늘 기분은 어떠세요? 😊\")\n",
    "\n",
    "# 여기에 ask_weather 함수를 새로 추가하세요.\n",
    "def ask_weather():\n",
    "    print(\"오늘 날씨는 어떤가요? ☀️\")"
   ]
  },
  {
   "cell_type": "markdown",
   "metadata": {},
   "source": [
    "### 문제 8: `say_goodbye` 함수를 `my_chatbot`에서 바로 사용하기\n",
    "현재 `my_chatbot.say_hello()` 는 사용할 수 있지만 `my_chatbot.say_goodbye()` 는 불가능합니다. `__init__.py` 파일을 수정해서 `say_goodbye` 함수도 `my_chatbot` 패키지에서 바로 사용할 수 있게 만들어보세요."
   ]
  },
  {
   "cell_type": "code",
   "execution_count": null,
   "metadata": {},
   "outputs": [],
   "source": [
    "%%writefile my_chatbot/__init__.py\n",
    "\n",
    "AUTHOR = \"홍길동\"\n",
    "print(\"나만의 챗봇 엔진을 시작합니다...\")\n",
    "\n",
    "from .greetings.hello import say_hello\n",
    "# 아래에 코드를 추가해서 goodbye 파일의 say_goodbye 함수를 가져오세요.\n",
    "from .greetings.goodbye import say_goodbye"
   ]
  },
  {
   "cell_type": "markdown",
   "metadata": {},
   "source": [
    "### 문제 9: `__init__.py` 수정 결과 테스트하기\n",
    "\n",
    "8번 문제에서 수정한 내용이 잘 적용되었는지 `my_chatbot.say_goodbye()` 를 호출해서 확인해보세요."
   ]
  },
  {
   "cell_type": "code",
   "execution_count": null,
   "metadata": {},
   "outputs": [],
   "source": [
    "# 런타임 다시 시작 후 실행!\n",
    "import my_chatbot\n",
    "\n",
    "# say_goodbye 함수를 호출해보세요.\n",
    "my_chatbot.say_goodbye()"
   ]
  },
  {
   "cell_type": "markdown",
   "metadata": {},
   "source": [
    "### 문제 10: 챗봇으로 간단한 대화 시나리오 만들기\n",
    "\n",
    "지금까지 만든 모든 함수를 조합해서 아래와 같은 간단한 대화 시나리오를 완성해보세요.\n",
    "1. `say_hello` 로 인사하기\n",
    "2. `ask_feeling` 으로 기분 묻기\n",
    "3. `ask_weather` 로 날씨 묻기\n",
    "4. `say_goodbye` 로 작별 인사하기"
   ]
  },
  {
   "cell_type": "code",
   "execution_count": null,
   "metadata": {},
   "outputs": [],
   "source": [
    "# 런타임 다시 시작 후 실행!\n",
    "from my_chatbot.greetings.hello import say_hello\n",
    "from my_chatbot.responses.questions import ask_feeling, ask_weather\n",
    "# goodbye 함수를 import 하는 코드를 추가하세요\n",
    "from my_chatbot.greetings.goodbye import say_goodbye\n",
    "\n",
    "print(\"--- 챗봇 대화 시작 ---\")\n",
    "say_hello()\n",
    "ask_feeling()\n",
    "ask_weather()\n",
    "# 작별 인사 함수를 호출하세요.\n",
    "say_goodbye()\n",
    "print(\"--- 챗봇 대화 종료 ---\")"
   ]
  },
  {
   "cell_type": "markdown",
   "metadata": {},
   "source": [
    "## 모든 문제를 해결하셨나요? 수고하셨습니다!\n",
    "\n",
    "오늘 여러분은 파이썬 패키지의 기본 개념을 배우고, 직접 챗봇의 기능을 체계적으로 정리하는 방법을 익혔습니다. 앞으로 더 복잡하고 멋진 프로그램을 만들 때 지금 배운 내용이 아주 튼튼한 기초가 될 거예요! 👍"
   ]
  }
 ],
 "metadata": {
  "colab": {
   "collapsed_sections": [],
   "provenance": []
  },
  "kernelspec": {
   "display_name": "Python 3",
   "name": "python3"
  },
  "language_info": {
   "name": "python"
  }
 },
 "nbformat": 4,
 "nbformat_minor": 0
}