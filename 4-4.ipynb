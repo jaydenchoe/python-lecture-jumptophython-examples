{
 "cells": [
  {
   "cell_type": "markdown",
   "metadata": {},
   "source": [
    "# 🤖 챗봇에게 시작부터 임무 주기: 프로그램의 입출력 🤖\n",
    "\n",
    "우리가 챗봇 프로그램을 시작할 때, 미리 어떤 말을 하거나 어떤 행동을 할지 알려줄 수 있다면 어떨까요?\n",
    "\n",
    "예를 들어, 프로그램을 실행하면서 \"안녕이라고 말해!\" 또는 \"오늘 날짜를 알려줘!\" 같은 **시작 인수(argument)**를 전달하는 거예요. 마치 로봇을 켜면서 \"오늘은 청소 모드로 시작해!\" 라고 명령하는 것과 같죠.\n",
    "\n",
    "오늘은 이렇게 프로그램을 실행하는 순간에 직접 정보를 전달하는 방법에 대해 배워볼게요!"
   ]
  },
  {
   "cell_type": "markdown",
   "metadata": {},
   "source": [
    "## 1. 시작 인수를 받는 마법의 도구: `sys` 모듈\n",
    "\n",
    "파이썬에서는 `sys` 라는 모듈(다양한 기능이 담긴 도구 상자)을 사용해서 프로그램에 전달된 시작 인수를 받을 수 있어요. `import sys` 라고 코드 맨 위에 써주면 이 도구 상자를 사용할 준비가 완료돼요.\n",
    "\n",
    "`sys.argv`는 프로그램이 실행될 때 전달된 인수들의 **리스트(list)**예요. 여기서 `argv`는 'argument values(인수 값들)'의 줄임말이랍니다.\n",
    "\n",
    "예를 들어, 터미널(명령 프롬프트)에서 이렇게 실행했다면:\n",
    "`python my_program.py hello world`\n",
    "\n",
    "`sys.argv` 리스트는 이렇게 생겼을 거예요:\n",
    "- `sys.argv[0]`: 'my_program.py' (프로그램 파일 이름)\n",
    "- `sys.argv[1]`: 'hello' (첫 번째 인수)\n",
    "- `sys.argv[2]`: 'world' (두 번째 인수)\n",
    "\n",
    "**가장 중요한 점!** `sys.argv`의 첫 번째([0]) 요소는 항상 프로그램의 이름이고, 우리가 전달한 진짜 인수는 두 번째([1])부터 시작된다는 것을 꼭 기억하세요!"
   ]
  },
  {
   "cell_type": "markdown",
   "metadata": {},
   "source": [
    "### 잠깐! 코랩에서 터미널 명령어는 어떻게 실행하나요?\n",
    "구글 코랩은 일반적인 터미널 환경이 아니기 때문에, `python my_program.py` 같은 명령어를 직접 실행할 수 없어요. 대신, 코드 셀에서 `!` 기호를 맨 앞에 붙여주면 터미널 명령처럼 실행할 수 있답니다!\n",
    "\n",
    "1.  먼저, 실행할 파이썬 코드를 파일로 저장해요. (`%%writefile 파일이름.py`)\n",
    "2.  그 다음, `!python 파일이름.py 인수1 인수2` 형태로 실행해서 결과를 확인해요."
   ]
  },
  {
   "cell_type": "code",
   "execution_count": null,
   "metadata": {},
   "outputs": [],
   "source": [
    "# 'chatbot_starter.py' 라는 이름의 파이썬 파일을 생성합니다.\n",
    "%%writefile chatbot_starter.py\n",
    "\n",
    "import sys\n",
    "\n",
    "print(\"--- 챗봇 프로그램 시작! ---\")\n",
    "print(f\"sys.argv에 들어있는 전체 값: {sys.argv}\")\n",
    "\n",
    "# 진짜 인수는 1번부터 시작해요.\n",
    "args = sys.argv[1:] # [1:]는 1번 인덱스부터 끝까지를 의미해요.\n",
    "print(f\"프로그램 이름 빼고, 전달된 진짜 인수: {args}\")\n",
    "\n",
    "print(\"\\n전달된 인수를 하나씩 출력해볼게요:\")\n",
    "for arg in args:\n",
    "    print(arg)\n"
   ]
  },
  {
   "cell_type": "code",
   "execution_count": null,
   "metadata": {},
   "outputs": [],
   "source": [
    "# 이제 위에서 만든 파일을 터미널에서 실행하는 것처럼 호출해봅시다!\n",
    "# !python [파일이름] [인수1] [인수2] ...\n",
    "!python chatbot_starter.py 안녕 나는 챗봇이야"
   ]
  },
  {
   "cell_type": "markdown",
   "metadata": {},
   "source": [
    "## 2. 챗봇의 행동 결정하기: 인수를 활용한 프로그램\n",
    "\n",
    "이제 `sys.argv`를 사용하는 방법을 알았으니, 챗봇이 시작 인수에 따라 다르게 행동하도록 만들어 볼까요?\n",
    "예를 들어, 첫 번째 인수로 \"인사\"가 들어오면 인사를 하고, \"노래\"가 들어오면 노래를 부르게 하는 거예요."
   ]
  },
  {
   "cell_type": "code",
   "execution_count": null,
   "metadata": {},
   "outputs": [],
   "source": [
    "%%writefile smart_chatbot.py\n",
    "\n",
    "import sys\n",
    "\n",
    "# 인수가 충분히 들어왔는지 확인\n",
    "if len(sys.argv) > 1:\n",
    "    command = sys.argv[1] # 첫 번째 진짜 인수를 command 변수에 저장\n",
    "\n",
    "    if command == \"인사\":\n",
    "        print(\"챗봇: 안녕하세요! 만나서 반갑습니다.\")\n",
    "    elif command == \"노래\":\n",
    "        print(\"챗봇: 🎵 반짝반짝 작은 별~ 아름답게 비치네~ 🎵\")\n",
    "    elif command == \"외쳐\":\n",
    "        # 두 번째 이후의 인수를 모두 대문자로 바꿔서 출력\n",
    "        message_parts = sys.argv[2:]\n",
    "        for part in message_parts:\n",
    "            print(part.upper(), end=' ') # .upper()는 대문자로 바꿔줘요\n",
    "        print()\n",
    "    else:\n",
    "        print(f\"챗봇: 음... '{command}'는 제가 모르는 명령어예요.\")\n",
    "else:\n",
    "    print(\"챗봇: 저에게 임무를 주세요! (예: 인사, 노래, 외쳐 [메시지])\")"
   ]
  },
  {
   "cell_type": "code",
   "execution_count": null,
   "metadata": {},
   "outputs": [],
   "source": [
    "# \"인사\" 임무를 줘볼까요?\n",
    "!python smart_chatbot.py 인사"
   ]
  },
  {
   "cell_type": "code",
   "execution_count": null,
   "metadata": {},
   "outputs": [],
   "source": [
    "# \"노래\" 임무를 줘볼까요?\n",
    "!python smart_chatbot.py 노래"
   ]
  },
  {
   "cell_type": "code",
   "execution_count": null,
   "metadata": {},
   "outputs": [],
   "source": [
    "# \"외쳐\" 임무와 함께 외칠 메시지를 전달해볼까요?\n",
    "!python smart_chatbot.py 외쳐 life is too short"
   ]
  },
  {
   "cell_type": "markdown",
   "metadata": {},
   "source": [
    "## ⭐️ 혼자 해보는 챗봇 임무 만들기 ⭐️\n",
    "\n",
    "이제 여러분이 직접 챗봇에게 다양한 시작 임무를 주는 프로그램을 만들어 볼 시간이에요!\n",
    "아래 문제들의 코드 셀에서 `___` 부분을 채워서 코드를 완성해보세요."
   ]
  },
  {
   "cell_type": "markdown",
   "metadata": {},
   "source": [
    "### 연습문제 1: 이름 부르기\n",
    "프로그램 실행 시 이름 하나를 인수로 받아, \"안녕, [이름]!\" 이라고 출력하는 `greeter.py` 파일을 만들어보세요."
   ]
  },
  {
   "cell_type": "code",
   "execution_count": null,
   "metadata": {},
   "outputs": [],
   "source": [
    "%%writefile greeter.py\n",
    "import sys\n",
    "name = sys.argv[___] # 진짜 첫 번째 인수는 몇 번 인덱스일까요?\n",
    "print(f\"안녕, {name}!\")\n",
    "\n",
    "# 아래 코드로 테스트해보세요\n",
    "!python greeter.py 길동"
   ]
  },
  {
   "cell_type": "markdown",
   "metadata": {},
   "source": [
    "### 연습문제 2: 간단한 덧셈 계산기\n",
    "숫자 두 개를 인수로 받아 두 수의 합을 출력하는 `adder.py`를 만들어보세요. (주의: `sys.argv`로 받은 값은 글자(str)이므로, `int()`로 숫자로 바꿔줘야 해요!)"
   ]
  },
  {
   "cell_type": "code",
   "execution_count": null,
   "metadata": {},
   "outputs": [],
   "source": [
    "%%writefile adder.py\n",
    "import sys\n",
    "num1 = int(sys.argv[___])\n",
    "num2 = int(sys.argv[___])\n",
    "result = num1 + num2\n",
    "print(f\"{num1} + {num2} = {result}\")\n",
    "\n",
    "# 아래 코드로 테스트해보세요\n",
    "!python adder.py 10 25"
   ]
  },
  {
   "cell_type": "markdown",
   "metadata": {},
   "source": [
    "### 연습문제 3: 인수 개수 세기\n",
    "전달된 인수가 총 몇 개인지 출력하는 `arg_counter.py`를 만들어보세요. (힌트: `sys.argv[1:]` 리스트의 길이를 세면 돼요!)"
   ]
  },
  {
   "cell_type": "code",
   "execution_count": null,
   "metadata": {},
   "outputs": [],
   "source": [
    "%%writefile arg_counter.py\n",
    "import sys\n",
    "args = sys.argv[1:]\n",
    "count = len(___)\n",
    "print(f\"총 {count}개의 인수가 전달되었습니다.\")\n",
    "\n",
    "# 아래 코드로 테스트해보세요\n",
    "!python arg_counter.py a b c d"
   ]
  },
  {
   "cell_type": "markdown",
   "metadata": {},
   "source": [
    "### 연습문제 4: 메시지 반복하기\n",
    "첫 번째 인수(문자열)를 두 번째 인수(숫자)만큼 반복해서 출력하는 `repeater.py`를 만들어보세요."
   ]
  },
  {
   "cell_type": "code",
   "execution_count": null,
   "metadata": {},
   "outputs": [],
   "source": [
    "%%writefile repeater.py\n",
    "import sys\n",
    "message = sys.argv[1]\n",
    "count = int(sys.argv[2])\n",
    "print(message * ___)\n",
    "\n",
    "# 아래 코드로 테스트해보세요\n",
    "!python repeater.py 파이썬! 3"
   ]
  },
  {
   "cell_type": "markdown",
   "metadata": {},
   "source": [
    "### 연습문제 5: 거꾸로 출력하기\n",
    "인수로 받은 단어를 거꾸로 뒤집어서 출력하는 `reverser.py`를 만들어보세요. (힌트: `단어[::-1]`는 단어를 거꾸로 뒤집어요!)"
   ]
  },
  {
   "cell_type": "code",
   "execution_count": null,
   "metadata": {},
   "outputs": [],
   "source": [
    "%%writefile reverser.py\n",
    "import sys\n",
    "word = sys.argv[1]\n",
    "reversed_word = word[___]\n",
    "print(f\"'{word}'를 거꾸로 하면 '{reversed_word}' 입니다.\")\n",
    "\n",
    "# 아래 코드로 테스트해보세요\n",
    "!python reverser.py hello"
   ]
  },
  {
   "cell_type": "markdown",
   "metadata": {},
   "source": [
    "### 연습문제 6: 파일에 인수 저장하기\n",
    "첫 번째 인수를 파일 이름으로, 두 번째 인수를 내용으로 하는 파일을 만드는 `file_writer.py`를 만들어보세요."
   ]
  },
  {
   "cell_type": "code",
   "execution_count": null,
   "metadata": {},
   "outputs": [],
   "source": [
    "%%writefile file_writer.py\n",
    "import sys\n",
    "filename = sys.argv[___]\n",
    "content = sys.argv[___]\n",
    "with open(filename, 'w') as f:\n",
    "    f.write(content)\n",
    "print(f\"'{filename}' 파일에 내용이 저장되었습니다.\")\n",
    "\n",
    "# 아래 코드로 테스트해보세요\n",
    "!python file_writer.py my_note.txt \"Hello Python\""
   ]
  },
  {
   "cell_type": "markdown",
   "metadata": {},
   "source": [
    "### 연습문제 7: 모든 인수 대문자로 출력\n",
    "전달된 모든 인수를 대문자로 바꿔서 한 줄에 출력하는 `shouter.py`를 만들어보세요."
   ]
  },
  {
   "cell_type": "code",
   "execution_count": null,
   "metadata": {},
   "outputs": [],
   "source": [
    "%%writefile shouter.py\n",
    "import sys\n",
    "args = sys.argv[1:]\n",
    "for arg in args:\n",
    "    print(arg.___(), end=' ')\n",
    "\n",
    "# 아래 코드로 테스트해보세요\n",
    "!python shouter.py i am hungry"
   ]
  },
  {
   "cell_type": "markdown",
   "metadata": {},
   "source": [
    "### 연습문제 8: 간단한 로그인\n",
    "첫 번째 인수가 \"admin\"이면 \"관리자님, 환영합니다!\"를, 그 외의 경우에는 \"방문자님, 환영합니다!\"를 출력하는 `login.py`를 만들어보세요."
   ]
  },
  {
   "cell_type": "code",
   "execution_count": null,
   "metadata": {},
   "outputs": [],
   "source": [
    "%%writefile login.py\n",
    "import sys\n",
    "username = sys.argv[1]\n",
    "if ___ == \"admin\":\n",
    "    print(\"관리자님, 환영합니다!\")\n",
    "else:\n",
    "    print(f\"{username}님, 환영합니다!\")\n",
    "\n",
    "# 아래 코드로 테스트해보세요\n",
    "!python login.py admin\n",
    "!python login.py guest"
   ]
  },
  {
   "cell_type": "markdown",
   "metadata": {},
   "source": [
    "### 연습문제 9: 인수로 구구단 출력\n",
    "숫자 하나를 인수로 받아, 해당 숫자의 구구단(1~9)을 출력하는 `gugudan.py`를 만들어보세요."
   ]
  },
  {
   "cell_type": "code",
   "execution_count": null,
   "metadata": {},
   "outputs": [],
   "source": [
    "%%writefile gugudan.py\n",
    "import sys\n",
    "dan = int(sys.argv[___])\n",
    "print(f\"--- {dan}단 --- \")\n",
    "for i in range(1, 10):\n",
    "    print(f\"{dan} x {i} = {dan * i}\")\n",
    "\n",
    "# 아래 코드로 테스트해보세요\n",
    "!python gugudan.py 7"
   ]
  },
  {
   "cell_type": "markdown",
   "metadata": {},
   "source": [
    "### 연습문제 10: 프로그램 정보 출력하기\n",
    "`sys.argv[0]`를 이용해서 실행된 프로그램의 파일 이름이 무엇인지 출력하는 `info.py`를 만들어보세요."
   ]
  },
  {
   "cell_type": "code",
   "execution_count": null,
   "metadata": {},
   "outputs": [],
   "source": [
    "%%writefile info.py\n",
    "import sys\n",
    "program_name = sys.argv[___] # 프로그램 이름은 몇 번 인덱스에 있을까요?\n",
    "print(f\"이 프로그램의 이름은 '{program_name}' 입니다.\")\n",
    "\n",
    "# 아래 코드로 테스트해보세요\n",
    "!python info.py"
   ]
  },
  {
   "cell_type": "markdown",
   "metadata": {},
   "source": [
    "## 훌륭해요! 이제 챗봇에게 원하는 임무를 척척 맡길 수 있겠네요! 🚀\n",
    "\n",
    "프로그램 실행 시 인수를 전달하는 방법은 매우 강력한 기능이에요. 사용자가 프로그램을 더 유연하고 다양하게 사용할 수 있게 만들어준답니다. 앞으로 더 복잡한 프로그램을 만들 때 아주 유용하게 쓰일 거예요!"
   ]
  }
 ],
 "metadata": {
  "kernelspec": {
   "display_name": "Python 3",
   "language": "python",
   "name": "python3"
  },
  "language_info": {
   "codemirror_mode": {
    "name": "ipython",
    "version": 3
   },
   "file_extension": ".py",
   "mimetype": "text/x-python",
   "name": "python",
   "nbconvert_exporter": "python",
   "pygments_lexer": "ipython3",
   "version": "3.10.6"
  }
 },
 "nbformat": 4,
 "nbformat_minor": 4
}