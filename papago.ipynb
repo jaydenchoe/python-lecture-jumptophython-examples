{
 "cells": [
  {
   "cell_type": "markdown",
   "metadata": {},
   "source": [
    "### 1. 라이브러리 설치\n",
    "\n",
    "먼저, 번역에 필요한 `googletrans` 라이브러리를 설치합니다. 주피터 노트북 셀에서 `!`를 앞에 붙이면 터미널 명령어를 실행할 수 있습니다."
   ]
  },
  {
   "cell_type": "code",
   "execution_count": null,
   "metadata": {},
   "outputs": [],
   "source": [
    "!pip install googletrans==4.0.0-rc1"
   ]
  },
  {
   "cell_type": "markdown",
   "metadata": {},
   "source": [
    "### 2. 번역기 실행 코드\n",
    "\n",
    "라이브러리 설치가 완료되면, 아래 셀에서 실제 번역 코드를 실행합니다. `googletrans` 라이브러리에서 `Translator`를 가져와 \"Life is like a box of chocolates.\"라는 문장을 한국어로 번역하고 결과를 출력합니다."
   ]
  },
  {
   "cell_type": "code",
   "execution_count": null,
   "metadata": {},
   "outputs": [],
   "source": [
    "from googletrans import Translator\n",
    "\n",
    "# 번역기 객체 생성\n",
    "translator = Translator()\n",
    "\n",
    "# 번역할 문장\n",
    "text_to_translate = \"Life is like a box of chocolates.\"\n",
    "\n",
    "# 영어(en)를 한국어(ko)로 번역\n",
    "translated_text = translator.translate(text_to_translate, src='en', dest='ko')\n",
    "\n",
    "# 결과 출력\n",
    "print(f\"원본: {text_to_translate}\")\n",
    "print(f\"번역 결과: {translated_text.text}\")"
   ]
  },
  {
   "cell_type": "markdown",
   "metadata": {},
   "source": [
    "### 실행 결과 예시\n",
    "\n",
    "위 코드를 실행하면 다음과 같은 결과가 셀 바로 아래에 나타납니다.\n",
    "\n",
    "```\n",
    "원본: Life is like a box of chocolates.\n",
    "번역 결과: 인생은 초콜릿 상자와 같다.\n",
    "```"
   ]
  }
 ],
 "metadata": {
  "kernelspec": {
   "display_name": "Python 3",
   "language": "python",
   "name": "python3"
  },
  "language_info": {
   "codemirror_mode": {
    "name": "ipython",
    "version": 3
   },
   "file_extension": ".py",
   "mimetype": "text/x-python",
   "name": "python",
   "nbconvert_exporter": "python",
   "pygments_lexer": "ipython3",
   "version": "3.9.7"
  }
 },
 "nbformat": 4,
 "nbformat_minor": 4
}