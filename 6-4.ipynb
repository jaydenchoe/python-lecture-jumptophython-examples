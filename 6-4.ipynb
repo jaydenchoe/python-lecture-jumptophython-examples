{
 "cells": [
  {
   "cell_type": "markdown",
   "metadata": {},
   "source": [
    "# 🐍 파이썬으로 나만의 똑똑한 메모장 챗봇 만들기 🤖\n",
    "\n",
    "안녕하세요! 코딩의 세계에 오신 것을 환영합니다. 🎉\n",
    "\n",
    "오늘은 파이썬의 가장 기본적인 문법들을 활용해서, 마치 챗봇과 대화하듯 메모를 저장하고 불러올 수 있는 '나만의 메모장 프로그램'을 만들어 볼 거예요. 이 과정을 통해 파일 입출력, 조건문 등 파이썬의 핵심 개념을 쉽고 재미있게 배울 수 있습니다. \n",
    "\n",
    "어렵지 않으니 차근차근 따라와 보세요! 😊"
   ]
  },
  {
   "cell_type": "markdown",
   "metadata": {},
   "source": [
    "## 1단계: 챗봇에게 명령 내리는 방법 배우기 (`sys.argv`)\n",
    "\n",
    "우리가 만든 프로그램(챗봇)에게 \"메모를 추가해줘\" 또는 \"메모를 보여줘\" 같은 명령을 내려야겠죠? 이때 사용하는 것이 바로 `sys.argv` 입니다.\n",
    "\n",
    "`sys.argv`는 우리가 프로그램을 실행할 때 전달하는 명령들을 리스트(list) 형태로 차곡차곡 담아두는 특별한 보관함이에요.\n",
    "\n",
    "- `sys.argv[0]` : 프로그램의 이름 (예: `memo.py`)\n",
    "- `sys.argv[1]` : 첫 번째 명령 (옵션)\n",
    "- `sys.argv[2]` : 두 번째 명령 (메모 내용 등)\n",
    "\n",
    "아래 코드를 실행해서 `sys.argv`가 어떻게 생겼는지 직접 확인해 보세요! 코랩 환경에서는 실제 명령을 내릴 수 없으니, `sys.argv`에 직접 값을 넣어주는 방식으로 실습해 보겠습니다."
   ]
  },
  {
   "cell_type": "code",
   "execution_count": null,
   "metadata": {},
   "outputs": [],
   "source": [
    "import sys\n",
    "\n",
    "# 원래는 터미널에서 'python memo.py -a \"Life is too short\"' 라고 실행해요.\n",
    "# 코랩에서는 아래처럼 sys.argv에 직접 리스트를 넣어주어 실행을 흉내 낼 수 있어요.\n",
    "sys.argv = ['memo.py', '-a', 'Life is too short']\n",
    "\n",
    "program_name = sys.argv[0] # 프로그램 이름\n",
    "option = sys.argv[1]       # 옵션 (-a는 'add'의 약자!)\n",
    "memo = sys.argv[2]         # 메모 내용\n",
    "\n",
    "print(f\"프로그램 이름: {program_name}\")\n",
    "print(f\"내가 내린 명령(옵션): {option}\")\n",
    "print(f\"저장할 메모 내용: {memo}\")"
   ]
  },
  {
   "cell_type": "markdown",
   "metadata": {},
   "source": [
    "## 2단계: 메모 추가하기 기능 만들기 ✍️\n",
    "\n",
    "이제 챗봇에게 메모를 파일에 저장하라고 시켜볼게요. \"-a\" 라는 명령을 받으면 메모를 'memo.txt' 파일에 추가(append)하는 기능을 만들 겁니다.\n",
    "\n",
    "파일을 다룰 때는 `open()` 함수를 사용해요.\n",
    "- `open('memo.txt', 'a')` : 'memo.txt' 파일을 '추가 모드(a, append)'로 열어줘! 라는 뜻이에요. 'a' 모드는 기존 내용 뒤에 새로운 내용을 계속 덧붙여줍니다.\n",
    "- `f.write()` : 파일에 글씨를 쓰는 명령어예요.\n",
    "- `f.write('\\n')` : 메모를 저장한 뒤 줄을 바꿔주는(엔터키) 역할을 해요. 이렇게 해야 다음 메모가 새 줄에 예쁘게 저장되겠죠?\n",
    "- `f.close()` : 파일 사용이 끝났으면 꼭 닫아줘야 해요."
   ]
  },
  {
   "cell_type": "code",
   "execution_count": null,
   "metadata": {},
   "outputs": [],
   "source": [
    "import sys\n",
    "\n",
    "# -a 옵션으로 메모를 추가하는 상황을 흉내내봐요.\n",
    "sys.argv = ['memo.py', '-a', 'Life is too short']\n",
    "\n",
    "option = sys.argv[1]\n",
    "\n",
    "# 만약 옵션이 '-a' 라면? (if 조건문)\n",
    "if option == '-a':\n",
    "    memo = sys.argv[2]\n",
    "    \n",
    "    f = open('memo.txt', 'a') # 파일을 추가 모드로 열기\n",
    "    f.write(memo)             # 메모 쓰기\n",
    "    f.write('\\n')              # 줄바꿈 문자 추가\n",
    "    f.close()                 # 파일 닫기\n",
    "    \n",
    "    print(\"🎉 메모가 'memo.txt' 파일에 성공적으로 저장되었습니다!\")\n",
    "\n",
    "# 아래 코드는 파일 내용을 확인하기 위한 코드입니다. 지금은 이해하지 않으셔도 괜찮아요!\n",
    "print(\"--- memo.txt 파일 내용 ---\")\n",
    "with open('memo.txt', 'r') as f:\n",
    "    print(f.read())"
   ]
  },
  {
   "cell_type": "markdown",
   "metadata": {},
   "source": [
    "한 번 더 실행해서 다른 메모를 추가해볼까요?"
   ]
  },
  {
   "cell_type": "code",
   "execution_count": null,
   "metadata": {},
   "outputs": [],
   "source": [
    "import sys\n",
    "\n",
    "# 이번엔 다른 메모를 추가해봅시다.\n",
    "sys.argv = ['memo.py', '-a', 'You need python']\n",
    "\n",
    "option = sys.argv[1]\n",
    "\n",
    "if option == '-a':\n",
    "    memo = sys.argv[2]\n",
    "    f = open('memo.txt', 'a')\n",
    "    f.write(memo)\n",
    "    f.write('\\n')\n",
    "    f.close()\n",
    "    print(\"🎉 메모가 'memo.txt' 파일에 성공적으로 저장되었습니다!\")\n",
    "\n",
    "\n",
    "print(\"--- memo.txt 파일 내용 ---\")\n",
    "with open('memo.txt', 'r') as f:\n",
    "    print(f.read())"
   ]
  },
  {
   "cell_type": "markdown",
   "metadata": {},
   "source": [
    "## 3단계: 메모 조회하기 기능 만들기 🧐\n",
    "\n",
    "메모를 저장했으니 이제 불러오는 기능도 있어야겠죠? \"-v\" 라는 명령을 받으면 'memo.txt' 파일의 모든 내용을 화면에 보여주는(view) 기능을 만들 거예요.\n",
    "\n",
    "- `open('memo.txt', 'r')` 또는 `open('memo.txt')` : 'memo.txt' 파일을 '읽기 모드(r, read)'로 열어줘! 라는 뜻이에요. 'r'은 생략 가능해요.\n",
    "- `f.read()` : 파일의 모든 내용을 한 번에 읽어오는 명령어예요."
   ]
  },
  {
   "cell_type": "code",
   "execution_count": null,
   "metadata": {},
   "outputs": [],
   "source": [
    "import sys\n",
    "\n",
    "# -v 옵션으로 메모를 조회하는 상황을 흉내내봐요.\n",
    "sys.argv = ['memo.py', '-v']\n",
    "\n",
    "option = sys.argv[1]\n",
    "\n",
    "# 만약 옵션이 '-v' 라면?\n",
    "if option == '-v':\n",
    "    f = open('memo.txt', 'r') # 파일을 읽기 모드로 열기\n",
    "    memo = f.read()           # 파일 내용 전체 읽기\n",
    "    f.close()                 # 파일 닫기\n",
    "    \n",
    "    print(\"--- 나의 메모장 ---\")\n",
    "    print(memo)"
   ]
  },
  {
   "cell_type": "markdown",
   "metadata": {},
   "source": [
    "## 4단계: 합체! 똑똑한 메모장 챗봇 완성 🤖✨\n",
    "\n",
    "이제 위에서 만든 '메모 추가' 기능과 '메모 조회' 기능을 하나로 합쳐봅시다. `if ... elif ...` 구문을 사용하면 사용자의 명령에 따라 챗봇이 스스로 판단해서 다른 행동을 하게 만들 수 있어요.\n",
    "\n",
    "- `if option == '-a':` : 만약 명령이 '-a' 라면 메모를 추가해!\n",
    "- `elif option == '-v':` : 그게 아니고 만약 명령이 '-v' 라면 메모를 보여줘!"
   ]
  },
  {
   "cell_type": "code",
   "execution_count": null,
   "metadata": {},
   "outputs": [],
   "source": [
    "import sys\n",
    "\n",
    "# -------------------------------------------------------------------\n",
    "# 여기를 바꿔보세요! \n",
    "# 1. 메모 추가: sys.argv = ['memo.py', '-a', 'new memo!']\n",
    "# 2. 메모 보기: sys.argv = ['memo.py', '-v']\n",
    "sys.argv = ['memo.py', '-a', '코딩은 재미있어']\n",
    "# -------------------------------------------------------------------\n",
    "\n",
    "\n",
    "# len(sys.argv) < 2 이면 프로그램이 옵션 없이 실행된 것이므로 안내 메시지를 보여주고 종료합니다.\n",
    "if len(sys.argv) < 2:\n",
    "    print(\"명령어를 입력해주세요. (예: -a 메모내용 또는 -v)\")\n",
    "    # sys.exit() # 프로그램 강제 종료. 코랩에서는 오류처럼 보일 수 있어 주석처리합니다.\n",
    "else:\n",
    "    option = sys.argv[1] # 사용자가 입력한 옵션\n",
    "\n",
    "    if option == '-a':\n",
    "        # -a 옵션으로 추가할 메모 내용이 없을 경우에 대한 처리\n",
    "        if len(sys.argv) < 3:\n",
    "            print(\"오류: 추가할 메모 내용을 입력하세요.\")\n",
    "        else:\n",
    "            memo = sys.argv[2]\n",
    "            f = open('memo.txt', 'a')\n",
    "            f.write(memo)\n",
    "            f.write('\\n')\n",
    "            f.close()\n",
    "            print(f\"'memo.txt'에 '{memo}' 메모를 추가했습니다.\")\n",
    "\n",
    "    elif option == '-v':\n",
    "        try: # 파일이 없을 때 발생하는 오류를 대비한 try-except 구문\n",
    "            f = open('memo.txt', 'r')\n",
    "            memo = f.read()\n",
    "            f.close()\n",
    "            print(\"--- 나의 메모장 전체 보기 ---\")\n",
    "            print(memo)\n",
    "        except FileNotFoundError: # 파일이 없을 경우 발생하는 에러\n",
    "            print(\"저장된 메모가 없습니다. 먼저 메모를 추가해주세요.\")\n",
    "            \n",
    "    else:\n",
    "        print(f\"알 수 없는 명령어입니다: {option}\")"
   ]
  },
  {
   "cell_type": "markdown",
   "metadata": {},
   "source": [
    "---"
   ]
  },
  {
   "cell_type": "markdown",
   "metadata": {},
   "source": [
    "## 🚀 혼자 해보기: 더 똑똑한 챗봇으로 업그레이드! (연습문제)\n",
    "\n",
    "이제 기본 기능은 모두 만들었어요. 아래의 연습 문제들을 해결하면서 여러분의 메모장 챗봇을 더 강력하게 만들어보세요! \n",
    "\n",
    "**힌트**: 대부분 바로 위 '완성 코드'를 조금만 수정하면 해결할 수 있어요. 빈칸 `________` 을 채워보세요!"
   ]
  },
  {
   "cell_type": "markdown",
   "metadata": {},
   "source": [
    "### 연습문제 1: 저장할 파일 이름 바꿔보기\n",
    "\n",
    "현재 메모는 `memo.txt`에 저장되고 있어요. 이것을 `my_note.txt` 라는 파일에 저장되도록 코드를 수정해보세요."
   ]
  },
  {
   "cell_type": "code",
   "execution_count": null,
   "metadata": {},
   "outputs": [],
   "source": [
    "import sys\n",
    "sys.argv = ['memo.py', '-a', '파일 이름을 바꿔서 저장해볼까?']\n",
    "\n",
    "filename = ________  # <--- 이 부분을 'my_note.txt' 로 바꿔보세요!\n",
    "\n",
    "option = sys.argv[1]\n",
    "\n",
    "if option == '-a':\n",
    "    memo = sys.argv[2]\n",
    "    f = open(filename, 'a') # 변수를 사용해서 파일을 열어요\n",
    "    f.write(memo)\n",
    "    f.write('\\n')\n",
    "    f.close()\n",
    "    print(f\"'{filename}'에 메모를 저장했습니다.\")\n",
    "elif option == '-v':\n",
    "    f = open(filename, 'r')\n",
    "    memo = f.read()\n",
    "    f.close()\n",
    "    print(memo)\n"
   ]
  },
  {
   "cell_type": "markdown",
   "metadata": {},
   "source": [
    "### 연습문제 2: 메모 삭제 기능 만들기 (`-d`)\n",
    "\n",
    "명령어 `-d` (delete)를 입력하면 `memo.txt` 파일의 모든 내용을 지워주는 기능을 추가해보세요. 파일을 '쓰기 모드(w, write)'로 열면 기존 내용이 모두 사라지는 원리를 이용하면 됩니다."
   ]
  },
  {
   "cell_type": "code",
   "execution_count": null,
   "metadata": {},
   "outputs": [],
   "source": [
    "import sys\n",
    "sys.argv = ['memo.py', '-d'] # 삭제 명령!\n",
    "\n",
    "option = sys.argv[1]\n",
    "\n",
    "if option == '-d':\n",
    "    f = open('memo.txt', ________) # <--- 내용을 모두 지우려면 어떤 모드('w' or 'a' or 'r')로 열어야 할까요?\n",
    "    f.close()\n",
    "    print(\"'memo.txt'의 모든 메모를 삭제했습니다.\")"
   ]
  },
  {
   "cell_type": "markdown",
   "metadata": {},
   "source": [
    "### 연습문제 3: 새로운 명령어 추가하기\n",
    "\n",
    "메모를 추가하는 옵션을 `-a` 대신 `--add` 로, 조회하는 옵션을 `-v` 대신 `--view` 로 바꿔보세요."
   ]
  },
  {
   "cell_type": "code",
   "execution_count": null,
   "metadata": {},
   "outputs": [],
   "source": [
    "import sys\n",
    "sys.argv = ['memo.py', '--add', '새로운 명령어로 추가하기']\n",
    "\n",
    "option = sys.argv[1]\n",
    "\n",
    "if option == ________: # <--- 여기에 새로운 추가 명령어를 넣어보세요.\n",
    "    memo = sys.argv[2]\n",
    "    f = open('memo.txt', 'a')\n",
    "    f.write(memo)\n",
    "    f.write('\\n')\n",
    "    f.close()\n",
    "    print(\"메모 추가 완료!\")\n",
    "\n",
    "elif option == ________: # <--- 여기에 새로운 조회 명령어를 넣어보세요.\n",
    "    f = open('memo.txt', 'r')\n",
    "    memo = f.read()\n",
    "    f.close()\n",
    "    print(memo)"
   ]
  },
  {
   "cell_type": "markdown",
   "metadata": {},
   "source": [
    "### 연습문제 4: 저장 확인 메시지 바꾸기\n",
    "\n",
    "메모를 추가한 뒤에 나오는 \"'memo.txt'에 ... 메모를 추가했습니다.\" 라는 메시지를 \"[나의 챗봇] 새로운 메모를 기억했어요!\" 로 바꿔보세요."
   ]
  },
  {
   "cell_type": "code",
   "execution_count": null,
   "metadata": {},
   "outputs": [],
   "source": [
    "import sys\n",
    "sys.argv = ['memo.py', '-a', '메시지를 바꿔보자']\n",
    "\n",
    "option = sys.argv[1]\n",
    "\n",
    "if option == '-a':\n",
    "    memo = sys.argv[2]\n",
    "    f = open('memo.txt', 'a')\n",
    "    f.write(memo)\n",
    "    f.write('\\n')\n",
    "    f.close()\n",
    "    print(________) # <--- 여기에 원하는 메시지를 자유롭게 써보세요!"
   ]
  },
  {
   "cell_type": "markdown",
   "metadata": {},
   "source": [
    "### 연습문제 5: 메모에 번호 붙여서 저장하기\n",
    "\n",
    "메모를 추가할 때마다 앞에 \"1. \", \"2. \" 와 같이 번호를 붙여서 저장해봅시다. 먼저 파일에 몇 줄이 있는지 세고, 그 다음 번호를 붙여 저장하면 되겠죠?"
   ]
  },
  {
   "cell_type": "code",
   "execution_count": null,
   "metadata": {},
   "outputs": [],
   "source": [
    "import sys\n",
    "sys.argv = ['memo.py', '-a', '번호를 붙여줘']\n",
    "\n",
    "option = sys.argv[1]\n",
    "\n",
    "if option == '-a':\n",
    "    # 1. 기존 메모가 몇 개인지 줄 수를 센다.\n",
    "    try:\n",
    "        f = open('memo.txt', 'r')\n",
    "        line_count = len(f.readlines()) # readlines()는 모든 줄을 리스트로 반환해요.\n",
    "        f.close()\n",
    "    except FileNotFoundError: # 파일이 처음 만들어지는 경우\n",
    "        line_count = 0\n",
    "    \n",
    "    # 2. 새로운 메모를 번호와 함께 저장한다.\n",
    "    memo = sys.argv[2]\n",
    "    f = open('memo.txt', 'a')\n",
    "    f.write(f\"{line_count + 1}. {memo}\\n\") # <--- f-string을 이용해 번호와 메모를 조합!\n",
    "    f.close()\n",
    "    \n",
    "    print(\"번호와 함께 메모를 저장했어요!\")\n",
    "\n",
    "    # 확인해보기\n",
    "    f = open('memo.txt', 'r')\n",
    "    print(\"--- 현재 메모 ---\")\n",
    "    print(f.read())\n",
    "    f.close()"
   ]
  },
  {
   "cell_type": "markdown",
   "metadata": {},
   "source": [
    "### 연습문제 6: 도움말 기능 만들기 (`-h`)\n",
    "\n",
    "옵션으로 `-h` (help)를 주면 프로그램 사용법을 알려주는 친절한 기능을 추가해 보세요."
   ]
  },
  {
   "cell_type": "code",
   "execution_count": null,
   "metadata": {},
   "outputs": [],
   "source": [
    "import sys\n",
    "sys.argv = ['memo.py', '-h'] # 도움말 요청!\n",
    "\n",
    "option = sys.argv[1]\n",
    "\n",
    "# ... (if, elif 코드는 생략)\n",
    "\n",
    "if option == '-a':\n",
    "    pass # 지금은 실행 안 할 거라서 pass\n",
    "elif option == '-v':\n",
    "    pass # 지금은 실행 안 할 거라서 pass\n",
    "elif option == ________: # <--- 도움말 옵션을 확인하는 조건을 추가하세요.\n",
    "    print(\"✨ 나만의 메모장 챗봇 사용법 ✨\")\n",
    "    print(\" - 메모 추가: -a '메모할 내용'\")\n",
    "    print(\" - 메모 보기: -v\")"
   ]
  },
  {
   "cell_type": "markdown",
   "metadata": {},
   "source": [
    "### 연습문제 7: 메모 맨 앞에 추가하기\n",
    "\n",
    "지금은 메모를 추가하면 항상 파일 맨 뒤에 붙습니다. 새로운 메모가 항상 맨 앞에 오도록 코드를 수정해보세요. (힌트: 기존 내용을 전부 읽어온 뒤, 새로운 메모와 합쳐서 다시 파일에 써야 해요.)"
   ]
  },
  {
   "cell_type": "code",
   "execution_count": null,
   "metadata": {},
   "outputs": [],
   "source": [
    "import sys\n",
    "sys.argv = ['memo.py', '-a', '이 메모는 맨 앞에 추가될 거예요']\n",
    "\n",
    "option = sys.argv[1]\n",
    "\n",
    "if option == '-a':\n",
    "    new_memo = sys.argv[2]\n",
    "    \n",
    "    # 1. 기존 메모 읽어오기\n",
    "    try:\n",
    "        f = open('memo.txt', 'r')\n",
    "        original_memo = f.read()\n",
    "        f.close()\n",
    "    except FileNotFoundError:\n",
    "        original_memo = \"\"\n",
    "    \n",
    "    # 2. 새로운 메모를 앞에, 기존 메모를 뒤에 붙여서 파일 전체를 다시 쓰기('w')\n",
    "    f = open('memo.txt', ________) # <--- 어떤 모드로 열어야 할까요?\n",
    "    f.write(new_memo + '\\n') # 새 메모 먼저 쓰기\n",
    "    f.write(________)        # 그 다음에 기존 메모 쓰기\n",
    "    f.close()\n",
    "    \n",
    "    print(\"메모를 맨 앞에 추가했습니다!\")"
   ]
  },
  {
   "cell_type": "markdown",
   "metadata": {},
   "source": [
    "### 연습문제 8: 특정 단어가 포함된 메모만 보기 (`-f`)\n",
    "\n",
    "옵션 `-f` (find)와 함께 단어를 입력하면, 그 단어가 포함된 줄만 찾아서 보여주는 검색 기능을 만들어보세요."
   ]
  },
  {
   "cell_type": "code",
   "execution_count": null,
   "metadata": {},
   "outputs": [],
   "source": [
    "import sys\n",
    "sys.argv = ['memo.py', '-f', 'python'] # 'python' 이란 단어 검색!\n",
    "\n",
    "# 미리 검색 대상이 될 메모들을 만들어 둡시다.\n",
    "with open('memo.txt', 'w') as f:\n",
    "    f.write(\"Life is too short\\n\")\n",
    "    f.write(\"You need python\\n\")\n",
    "    f.write(\"I am studying python programming\\n\")\n",
    "    f.write(\"Hello world\\n\")\n",
    "\n",
    "option = sys.argv[1]\n",
    "\n",
    "if option == '-f':\n",
    "    keyword = sys.argv[2]\n",
    "    f = open('memo.txt', 'r')\n",
    "    \n",
    "    print(f\"'{keyword}' 단어가 포함된 메모 검색 결과:\")\n",
    "    # for 반복문으로 파일의 각 줄을 하나씩 읽어요.\n",
    "    for line in f:\n",
    "        if ________ in ________: # <--- line(한 줄)에 keyword(검색어)가 포함되어 있는지 확인!\n",
    "            print(line, end='') # print는 기본적으로 줄바꿈을 하므로 end='' 추가\n",
    "            \n",
    "    f.close()"
   ]
  },
  {
   "cell_type": "markdown",
   "metadata": {},
   "source": [
    "### 연습문제 9: 메모 저장 날짜 기록하기\n",
    "\n",
    "메모를 추가할 때 현재 날짜와 시간을 함께 기록해봅시다. `datetime` 이라는 편리한 라이브러리를 사용해볼게요!"
   ]
  },
  {
   "cell_type": "code",
   "execution_count": null,
   "metadata": {},
   "outputs": [],
   "source": [
    "import sys\n",
    "import datetime # 날짜/시간을 다루는 라이브러리\n",
    "\n",
    "sys.argv = ['memo.py', '-a', '시간 기록하기']\n",
    "\n",
    "option = sys.argv[1]\n",
    "\n",
    "if option == '-a':\n",
    "    memo = sys.argv[2]\n",
    "    \n",
    "    # 현재 시간 가져오기\n",
    "    now = datetime.datetime.now()\n",
    "    timestamp = now.strftime('%Y-%m-%d %H:%M:%S') # 날짜/시간을 예쁜 문자열로 변환\n",
    "    \n",
    "    f = open('memo.txt', 'a')\n",
    "    # [시간] 메모 형식으로 저장\n",
    "    f.write(f\"[{________}] {________}\\n\") # <--- 빈칸에 timestamp와 memo를 넣어보세요.\n",
    "    f.close()\n",
    "    \n",
    "    print(\"시간과 함께 메모를 저장했습니다!\")"
   ]
  },
  {
   "cell_type": "markdown",
   "metadata": {},
   "source": [
    "### 연습문제 10: 메모 개수 세기 (`-c`)\n",
    "\n",
    "옵션 `-c` (count)를 주면 현재 파일에 저장된 메모가 총 몇 개인지 알려주는 기능을 만들어보세요. 파일을 열고 모든 줄의 개수를 세면 되겠죠?"
   ]
  },
  {
   "cell_type": "code",
   "execution_count": null,
   "metadata": {},
   "outputs": [],
   "source": [
    "import sys\n",
    "sys.argv = ['memo.py', '-c']\n",
    "\n",
    "option = sys.argv[1]\n",
    "\n",
    "if option == '-c':\n",
    "    try:\n",
    "        f = open('memo.txt', 'r')\n",
    "        lines = f.readlines() # 모든 줄을 리스트로 읽어오기\n",
    "        f.close()\n",
    "        \n",
    "        count = len(________) # <--- 리스트의 길이를 재는 len() 함수를 이용해 무엇의 길이를 재면 될까요?\n",
    "        print(f\"총 {count}개의 메모가 저장되어 있습니다.\")\n",
    "        \n",
    "    except FileNotFoundError:\n",
    "        print(\"저장된 메모가 없습니다.\")"
   ]
  }
 ],
 "metadata": {
  "colab": {
   "provenance": []
  },
  "kernelspec": {
   "display_name": "Python 3",
   "name": "python3"
  },
  "language_info": {
   "name": "python"
  }
 },
 "nbformat": 4,
 "nbformat_minor": 0
}