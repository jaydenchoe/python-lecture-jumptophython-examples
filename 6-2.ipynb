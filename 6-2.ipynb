{
 "cells": [
  {
   "cell_type": "markdown",
   "metadata": {},
   "source": [
    "# 🐍 파이썬 코딩 챌린지: 3과 5의 배수 총합 구하기\n",
    "\n",
    "코딩 실력을 키우는 가장 좋은 방법 중 하나는 문제를 직접 풀어보는 거예요. 전 세계의 많은 프로그래머들이 이용하는 **'프로젝트 오일러(Project Euler)'**라는 사이트의 첫 번째 문제를 함께 풀어보면서 파이썬 실력을 한 단계 업그레이드해 봅시다! 🎉\n",
    "\n",
    "--- \n",
    "### 오늘의 문제\n",
    "> 1000 미만의 자연수에서 3의 배수와 5의 배수의 총합을 구하라.\n",
    "\n",
    "예를 들어 10 미만의 자연수 중 3과 5의 배수는 3, 5, 6, 9가 있고, 이 숫자들의 총합은 23입니다. 우리는 이 범위를 1000으로 늘려서 풀어볼 거예요.\n",
    "\n",
    "문제를 풀기 위해 생각을 나눠봅시다.\n",
    "1.  **입력:** 1부터 999까지의 자연수가 필요해요.\n",
    "2.  **처리:** 이 숫자들 중에서 3의 배수 또는 5의 배수인 것들을 골라내서 전부 더해야 해요.\n",
    "3.  **출력:** 최종적으로 더해진 총합을 화면에 보여주면 됩니다."
   ]
  },
  {
   "cell_type": "markdown",
   "metadata": {},
   "source": [
    "## 1단계: 1부터 999까지의 숫자 만들기 (반복문)\n",
    "\n",
    "가장 먼저, 1부터 999까지의 숫자를 만들어 내야 문제를 풀 수 있겠죠? 파이썬의 **반복문**을 사용하면 이 작업을 아주 쉽게 할 수 있어요.\n",
    "\n",
    "파이썬에서는 `for` 반복문과 `range()` 함수를 함께 사용하는 것이 가장 일반적이고 편리한 방법입니다. `range(1, 1000)` 이라고 쓰면 '1부터 1000 바로 앞까지(즉, 999까지)의 숫자 범위를 만들라'는 뜻이 돼요."
   ]
  },
  {
   "cell_type": "code",
   "execution_count": null,
   "metadata": {},
   "outputs": [],
   "source": [
    "# range(1, 1000)은 1부터 999까지의 숫자를 만들어냅니다.\n",
    "# for 반복문은 이 숫자들을 처음부터 끝까지 하나씩 꺼내서 n이라는 변수에 담아줍니다.\n",
    "for n in range(1, 1000):\n",
    "  # 코드가 너무 길어지면 렉이 걸릴 수 있으니, 20까지만 출력해볼게요.\n",
    "  if n <= 20:\n",
    "    print(n)"
   ]
  },
  {
   "cell_type": "markdown",
   "metadata": {},
   "source": [
    "## 2단계: 3의 배수와 5의 배수 찾아내기 (나머지 연산자 `%`)\n",
    "\n",
    "이제 1부터 999까지의 숫자를 하나씩 살펴볼 수 있게 됐어요. 다음은 이 숫자가 '3의 배수' 또는 '5의 배수'인지 확인하는 방법입니다.\n",
    "\n",
    "어떤 숫자가 3의 배수라는 건, 그 숫자를 3으로 나누었을 때 **나머지가 0**이라는 뜻이죠. 파이썬에서는 `%` (나머지, Modulo) 연산자로 나머지를 쉽게 구할 수 있어요.\n",
    "\n",
    "-   `n % 3 == 0` : n을 3으로 나눈 나머지가 0과 같다 (즉, n은 3의 배수다)\n",
    "-   `n % 5 == 0` : n을 5으로 나눈 나머지가 0과 같다 (즉, n은 5의 배수다)"
   ]
  },
  {
   "cell_type": "code",
   "execution_count": null,
   "metadata": {},
   "outputs": [],
   "source": [
    "# 1부터 30까지의 숫자 중 3의 배수 또는 5의 배수를 찾아 출력해봅시다.\n",
    "for n in range(1, 31):\n",
    "  # if 조건문: 만약 ~ 라면, 아래 코드를 실행해!\n",
    "  # or: 둘 중 하나의 조건만 맞아도 참(True)으로 인정!\n",
    "  if n % 3 == 0 or n % 5 == 0:\n",
    "    print(n)"
   ]
  },
  {
   "cell_type": "markdown",
   "metadata": {},
   "source": [
    "## 3단계: 문제의 함정! 중복 더하기 (잘못된 풀이)\n",
    "\n",
    "이제 배수를 찾았으니 더하기만 하면 될까요? 여기에 함정이 하나 있습니다. **15**처럼 3의 배수이면서 동시에 5의 배수인 숫자들은 어떻게 해야 할까요? \n",
    "\n",
    "만약 아래 코드처럼 '3의 배수이면 더하고, 5의 배수이면 또 더하라'고 코드를 짜면, 15 같은 숫자는 **두 번 더해져서** 잘못된 결과가 나오게 됩니다."
   ]
  },
  {
   "cell_type": "code",
   "execution_count": null,
   "metadata": {},
   "outputs": [],
   "source": [
    "# 잘못된 결과를 내는 코드 예시\n",
    "result = 0\n",
    "for n in range(1, 1000):\n",
    "  # 만약 n이 3의 배수이면 result에 더한다.\n",
    "  if n % 3 == 0:\n",
    "    result = result + n\n",
    "  \n",
    "  # 만약 n이 5의 배수이면 result에 또 더한다. (15, 30 같은 수가 두 번 더해짐!)\n",
    "  if n % 5 == 0:\n",
    "    result = result + n\n",
    "\n",
    "print(\"잘못된 방법으로 계산된 값:\", result)"
   ]
  },
  {
   "cell_type": "markdown",
   "metadata": {},
   "source": [
    "## 4단계: `or`로 함정 피하기 (올바른 최종 풀이)\n",
    "\n",
    "이 중복 문제를 해결하는 가장 간단하고 우아한 방법은 2단계에서 미리 살펴본 `or` 연산자를 사용하는 것입니다. \n",
    "\n",
    "`if n % 3 == 0 or n % 5 == 0:`\n",
    "\n",
    "이렇게 조건을 걸면, 어떤 숫자가 3의 배수이거나 5의 배수이기만 하면 (설령 둘 다 해당하더라도) **단 한 번만** `if` 문 안의 코드를 실행합니다. 따라서 15, 30 같은 숫자들도 딱 한 번씩만 `result`에 더해지게 되죠."
   ]
  },
  {
   "cell_type": "code",
   "execution_count": null,
   "metadata": {},
   "outputs": [],
   "source": [
    "# 올바른 최종 코드\n",
    "result = 0 # 최종 합계를 저장할 변수를 0으로 시작\n",
    "\n",
    "for n in range(1, 1000):\n",
    "  # n이 3의 배수 '또는' 5의 배수인지 확인\n",
    "  if n % 3 == 0 or n % 5 == 0:\n",
    "    # 맞다면, result에 n을 더해준다. (result += n 은 result = result + n 과 같은 의미)\n",
    "    result += n\n",
    "\n",
    "print(\"최종 결과:\", result)"
   ]
  },
  {
   "cell_type": "markdown",
   "metadata": {},
   "source": [
    "---\n",
    "## ✏️ 실력쑥쑥! 혼자 해보는 10가지 연습문제\n",
    "\n",
    "이제 기본 원리를 배웠으니, 비슷한 문제들을 풀면서 완전히 내 것으로 만들어 봅시다! 아래 문제들의 빈칸을 채워 코드를 완성해보세요."
   ]
  },
  {
   "cell_type": "markdown",
   "metadata": {},
   "source": [
    "### 문제 1: 200 미만의 7의 배수의 총합\n",
    "오늘 배운 내용을 응용해서, 200 미만의 자연수 중 7의 배수의 총합을 구해보세요."
   ]
  },
  {
   "cell_type": "code",
   "execution_count": null,
   "metadata": {},
   "outputs": [],
   "source": [
    "total = 0\n",
    "# 1부터 199까지 반복하도록 range()의 빈칸을 채우세요.\n",
    "for i in range(1,      ):\n",
    "  # i가 7의 배수인지 확인하는 조건을 완성하세요.\n",
    "  if i % 7 ==      :\n",
    "    total += i\n",
    "\n",
    "print(\"200 미만 7의 배수 총합:\", total)"
   ]
  },
  {
   "cell_type": "markdown",
   "metadata": {},
   "source": [
    "### 문제 2: 3과 5의 배수는 총 몇 개?\n",
    "1000 미만의 자연수 중 3의 배수 또는 5의 배수의 '총합'이 아니라 '개수(count)'는 몇 개일까요?\n",
    "\n",
    "**힌트:** 숫자를 더하는 대신, 1씩 증가하는 `count` 변수를 사용하세요."
   ]
  },
  {
   "cell_type": "code",
   "execution_count": null,
   "metadata": {},
   "outputs": [],
   "source": [
    "count = 0\n",
    "for i in range(1, 1000):\n",
    "  if i % 3 == 0 or i % 5 == 0:\n",
    "    # 배수를 찾을 때마다 count 변수에 1을 더해주세요.\n",
    "    count = count + \n",
    "    \n",
    "print(\"1000 미만 3 또는 5의 배수의 개수:\", count)"
   ]
  },
  {
   "cell_type": "markdown",
   "metadata": {},
   "source": [
    "### 문제 3: 3과 5의 공배수(AND)의 합\n",
    "1000 미만의 자연수 중 3의 배수이면서 '그리고(AND)' 5의 배수인 숫자들의 총합을 구해보세요. (즉, 15의 배수의 총합)\n",
    "\n",
    "**힌트:** `or` 대신 `and` 연산자를 사용하면 두 가지 조건이 모두 참일 때만 코드를 실행해요."
   ]
  },
  {
   "cell_type": "code",
   "execution_count": null,
   "metadata": {},
   "outputs": [],
   "source": [
    "total = 0\n",
    "for i in range(1, 1000):\n",
    "  # i가 3의 배수이면서 동시에 5의 배수인 조건을 and를 사용해 만드세요.\n",
    "  if i % 3 == 0 and i % 5 == 0:\n",
    "    total += i\n",
    "    \n",
    "print(\"1000 미만 3과 5의 공배수의 총합:\", total)"
   ]
  },
  {
   "cell_type": "markdown",
   "metadata": {},
   "source": [
    "### 문제 4: 100 미만 짝수의 합\n",
    "100 미만의 자연수 중 모든 짝수(2의 배수)의 합을 구해보세요."
   ]
  },
  {
   "cell_type": "code",
   "execution_count": null,
   "metadata": {},
   "outputs": [],
   "source": [
    "total = 0\n",
    "for i in range(1, 100):\n",
    "  # 짝수인지 확인하는 조건을 채워보세요. 2로 나눈 나머지가 0!\n",
    "  if i % 2 ==      :\n",
    "    total += i\n",
    "\n",
    "print(\"100 미만 짝수의 합:\", total)"
   ]
  },
  {
   "cell_type": "markdown",
   "metadata": {},
   "source": [
    "### 문제 5: 100 미만 홀수의 합\n",
    "이번에는 100 미만의 자연수 중 모든 홀수의 합을 구해보세요.\n",
    "\n",
    "**힌트:** 홀수는 2로 나누었을 때 나머지가 1입니다. 같지 않다는 `!=` 기호로 `i % 2 != 0` 으로 표현할 수도 있어요."
   ]
  },
  {
   "cell_type": "code",
   "execution_count": null,
   "metadata": {},
   "outputs": [],
   "source": [
    "total = 0\n",
    "for i in range(1, 100):\n",
    "  # 홀수인지 확인하는 조건을 채워보세요. 2로 나눈 나머지가 1!\n",
    "  if i % 2 ==      :\n",
    "    total += i\n",
    "    \n",
    "print(\"100 미만 홀수의 합:\", total)"
   ]
  },
  {
   "cell_type": "markdown",
   "metadata": {},
   "source": [
    "### 문제 6: 사용자가 직접 정하는 배수 합계\n",
    "사용자에게 직접 숫자(`x`)와 한계(`limit`)를 입력받아, `limit` 미만의 `x`의 배수 총합을 구하는 프로그램을 만들어보세요.\n",
    "\n",
    "**힌트:** `input()`으로 받은 값은 `int()`로 숫자로 바꿔줘야 해요."
   ]
  },
  {
   "cell_type": "code",
   "execution_count": null,
   "metadata": {},
   "outputs": [],
   "source": [
    "x_str = input(\"어떤 수의 배수를 더할까요? \")\n",
    "limit_str = input(\"어디까지 더할까요? (이 숫자 미만) \")\n",
    "\n",
    "# 입력받은 글자를 int()를 사용해 숫자로 바꿔주세요.\n",
    "x = int(       )\n",
    "limit = int(       )\n",
    "total = 0\n",
    "\n",
    "for i in range(1, limit):\n",
    "  if i % x == 0:\n",
    "    total += i\n",
    "\n",
    "print(f\"{limit} 미만의 {x}의 배수 총합: {total}\")"
   ]
  },
  {
   "cell_type": "markdown",
   "metadata": {},
   "source": [
    "### 문제 7: X 또는 Y의 배수 합계\n",
    "사용자에게 두 숫자(`x`, `y`)와 한계(`limit`)를 입력받아, `limit` 미만의 `x` 또는 `y`의 배수 총합을 구해보세요. (오늘의 메인 문제와 똑같은 원리!)"
   ]
  },
  {
   "cell_type": "code",
   "execution_count": null,
   "metadata": {},
   "outputs": [],
   "source": [
    "x = int(input(\"첫 번째 숫자를 입력하세요: \"))\n",
    "y = int(input(\"두 번째 숫자를 입력하세요: \"))\n",
    "limit = int(input(\"한계값을 입력하세요: \"))\n",
    "total = 0\n",
    "\n",
    "for i in range(1, limit):\n",
    "  # i가 x의 배수이거나 또는 y의 배수인 조건을 완성하세요.\n",
    "  if i % x == 0 or             :\n",
    "    total += i\n",
    "\n",
    "print(f\"{limit} 미만의 {x} 또는 {y}의 배수 총합: {total}\")"
   ]
  },
  {
   "cell_type": "markdown",
   "metadata": {},
   "source": [
    "### 문제 8: 배수 목록 만들기\n",
    "100 미만의 3 또는 5의 배수를 더하는 대신, 어떤 숫자들이 있는지 **리스트(list)** 에 담아서 마지막에 리스트 전체를 출력해보세요.\n",
    "\n",
    "**힌트:** 비어있는 리스트 `my_list = []` 를 만들고, 조건에 맞는 숫자를 `.append()` 메소드로 추가하세요."
   ]
  },
  {
   "cell_type": "code",
   "execution_count": null,
   "metadata": {},
   "outputs": [],
   "source": [
    "my_list = [] # 비어있는 리스트 생성\n",
    "for i in range(1, 100):\n",
    "  if i % 3 == 0 or i % 5 == 0:\n",
    "    # my_list에 i를 추가하는 코드를 작성하세요.\n",
    "    my_list.append(   )\n",
    "    \n",
    "print(\"100 미만 3 또는 5의 배수 목록:\", my_list)"
   ]
  },
  {
   "cell_type": "markdown",
   "metadata": {},
   "source": [
    "### 문제 9: FizzBuzz 게임 맛보기\n",
    "1부터 30까지의 숫자를 출력하되, 3의 배수는 숫자 대신 \"Fizz\", 5의 배수는 \"Buzz\", 3과 5의 공배수는 \"FizzBuzz\"를 출력하는 유명한 FizzBuzz 문제를 풀어보세요.\n",
    "\n",
    "**힌트:** `if`, `elif`, `else`를 순서대로 잘 사용해야 해요. 가장 까다로운 조건(FizzBuzz)부터 확인하는 게 좋아요."
   ]
  },
  {
   "cell_type": "code",
   "execution_count": null,
   "metadata": {},
   "outputs": [],
   "source": [
    "for i in range(1, 31):\n",
    "  # 3과 5의 공배수 조건부터 확인!\n",
    "  if i % 3 == 0 and i % 5 == 0:\n",
    "    print(\"FizzBuzz\")\n",
    "  # 그 다음, 3의 배수인지 확인\n",
    "  elif i % 3 == 0:\n",
    "    print(      )\n",
    "  # 그 다음, 5의 배수인지 확인\n",
    "  elif i % 5 == 0:\n",
    "    print(      )\n",
    "  # 아무것도 해당하지 않으면 그냥 숫자를 출력\n",
    "  else:\n",
    "    print(i)"
   ]
  },
  {
   "cell_type": "markdown",
   "metadata": {},
   "source": [
    "### 문제 10: 제곱의 합 구하기\n",
    "1부터 10까지 각 숫자의 제곱(n * n)을 모두 더한 총합을 구해보세요. (1*1 + 2*2 + ... + 10*10)"
   ]
  },
  {
   "cell_type": "code",
   "execution_count": null,
   "metadata": {},
   "outputs": [],
   "source": [
    "total = 0\n",
    "for i in range(1, 11): # 1부터 10까지\n",
    "  # i의 제곱(i * i)을 total에 더하는 코드를 완성하세요.\n",
    "  square = i * i\n",
    "  total += \n",
    "  \n",
    "print(\"1부터 10까지 제곱의 합:\", total)"
   ]
  }
 ],
 "metadata": {
  "colab": {
   "collapsed_sections": [],
   "provenance": []
  },
  "kernelspec": {
   "display_name": "Python 3",
   "name": "python3"
  },
  "language_info": {
   "name": "python"
  }
 },
 "nbformat": 4,
 "nbformat_minor": 0
}