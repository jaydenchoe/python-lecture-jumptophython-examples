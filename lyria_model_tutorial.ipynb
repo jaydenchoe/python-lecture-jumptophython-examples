{
 "cells": [
  {
   "cell_type": "markdown",
   "metadata": {},
   "source": [
    "# 🎧 나만의 AI 작곡가! 파이썬으로 뮤직 DJ 챗봇 만들기 🎧\n",
    "\n",
    "안녕하세요! 코딩의 세계에 오신 것을 환영합니다. \n",
    "이 노트북에서는 파이썬의 아주 기본적인 문법을 사용해서, 여러분의 말에 따라 음악을 만들어주는 '뮤직 DJ 챗봇'을 만들어 볼 거예요. 어려운 코드는 모두 빼고, 정말 쉽고 재미있게 만들었으니 걱정 말고 따라오세요! \n",
    "\n",
    "우리는 구글의 최첨단 인공지능 음악 모델인 'Lyria'를 사용할 거예요. 우리가 DJ에게 \"신나는 댄스 음악 틀어줘!\"라고 말하면, Lyria가 실시간으로 멋진 음악을 작곡해주는 거죠. 자, 그럼 시작해볼까요? 🚀"
   ]
  },
  {
   "cell_type": "markdown",
   "metadata": {},
   "source": [
    "## 1단계: 뮤직 DJ를 부르기 위한 준비 (라이브러리 설치)\n",
    "\n",
    "우리의 컴퓨터가 구글의 인공지능 DJ와 대화하려면 특별한 통역사가 필요해요. 그 통역사의 이름은 `google-generativeai` 라이브러리입니다. 아래 코드 셀을 실행해서 우리의 코랩 환경에 이 통역사를 설치해 줄게요. \n",
    "\n",
    "**실행 방법:** 코드 셀을 마우스로 클릭한 후, 왼쪽에 나타나는 '▶️' 재생 버튼을 누르거나 키보드에서 `Shift` + `Enter` 키를 함께 누르세요."
   ]
  },
  {
   "cell_type": "code",
   "execution_count": null,
   "metadata": {},
   "outputs": [],
   "source": [
    "%pip install google-generativeai"
   ]
  },
  {
   "cell_type": "markdown",
   "metadata": {},
   "source": [
    "## 2단계: 나만의 비밀 통로 만들기 (API 키 설정)\n",
    "\n",
    "구글의 인공지능 DJ를 아무나 막 부를 수는 없어요. 우리만 사용할 수 있는 비밀 열쇠(API 키)가 필요하답니다. \n",
    "\n",
    "1. [여기](https://aistudio.google.com/app/apikey)를 클릭해서 여러분의 구글 계정으로 로그인하고 API 키를 발급받으세요. \n",
    "2. 발급받은 키를 복사해서 아래 코드의 `\"여러분의_API_키를_여기에_붙여넣으세요\"` 부분에 붙여넣어 주세요.\n",
    "\n",
    "이 키는 다른 사람에게 보여주면 안 되는 비밀번호와 같아요. 소중히 다뤄주세요! 😉"
   ]
  },
  {
   "cell_type": "code",
   "execution_count": null,
   "metadata": {},
   "outputs": [],
   "source": [
    "import google.generativeai as genai\n",
    "\n",
    "genai.configure(api_key=\"여러분의_API_키를_여기에_붙여넣으세요\")"
   ]
  },
  {
   "cell_type": "markdown",
   "metadata": {},
   "source": [
    "## 3단계: 변수 - DJ에게 보낼 쪽지를 담을 상자\n",
    "\n",
    "코딩에서는 데이터를 잠시 저장해 둘 공간이 필요한데, 이 공간을 **변수(variable)**라고 불러요. 마치 우리가 물건을 상자에 담아두는 것과 같죠. `이름 = 값` 형태로 만들 수 있어요.\n",
    "\n",
    "이제 우리가 DJ에게 어떤 음악을 틀어달라고 요청할지, 그 요청 내용을 `prompt_text`라는 변수(상자)에 담아볼게요. `prompt_text`라는 이름의 상자에 `'80년대 팝 음악'`이라는 글자를 담는 거예요."
   ]
  },
  {
   "cell_type": "code",
   "execution_count": null,
   "metadata": {},
   "outputs": [],
   "source": [
    "# 'prompt_text' 라는 이름의 변수를 만들고, 그 안에 '80s pop music' 이라는 문자열을 저장합니다.\n",
    "prompt_text = '80s pop music'\n",
    "\n",
    "# print() 함수는 변수 안에 무엇이 들어있는지 화면에 보여주는 역할을 합니다.\n",
    "print(prompt_text)"
   ]
  },
  {
   "cell_type": "markdown",
   "metadata": {},
   "source": [
    "## 4단계: 함수 - DJ를 부르는 마법 주문\n",
    "\n",
    "코딩에서 **함수(function)**는 '정해진 일을 수행하는 명령어 묶음'이에요. 예를 들어 `print()`는 괄호 안의 내용을 화면에 출력하라는 명령어 묶음이죠.\n",
    "\n",
    "아래 코드에서는 구글 DJ와 연결하고, 음악을 틀고, 멈추는 복잡한 과정들을 `play_music_for_a_while`이라는 간단한 이름의 함수로 묶어버렸어요. 이제 우리는 이 마법 주문만 외우면 DJ가 음악을 잠시 틀었다가 멈출 거예요. \n",
    "\n",
    "*(아래 코드는 약간 복잡해 보일 수 있지만, '아, 이런 마법 주문이 있구나!' 하고 넘어가도 괜찮아요. 우리는 이 주문을 사용하기만 할 거니까요!)*"
   ]
  },
  {
   "cell_type": "code",
   "execution_count": null,
   "metadata": {},
   "outputs": [],
   "source": [
    "import asyncio\n",
    "import time\n",
    "from google.genai import types\n",
    "\n",
    "# 복잡한 과정을 'play_music_for_a_while' 이라는 하나의 함수로 묶었어요.\n",
    "# 이 함수는 음악 장르(prompt)를 입력받아서 5초 동안 음악을 생성하는 척! 하고 메시지를 출력해줘요.\n",
    "# (실제로 스피커에서 소리가 나진 않아요. 우리는 DJ와 통신하는 방법을 배우는 중이랍니다!)\n",
    "async def play_music_for_a_while(prompt: str):\n",
    "    print(f'DJ에게 \"{prompt}\" 장르를 요청했어요. 잠시만 기다려주세요...')\n",
    "    try:\n",
    "        # client는 구글 AI와 통신하는 역할을 해요.\n",
    "        client = genai.Client(http_options={'api_version': 'v1alpha'})\n",
    "        # DJ와 실시간으로 통신할 수 있는 연결 통로(session)를 만들어요.\n",
    "        async with client.aio.live.music.connect(model='models/lyria-realtime-exp') as session:\n",
    "            print(\"✅ DJ와 연결 성공!\")\n",
    "            # DJ에게 어떤 음악을 틀어달라고 구체적으로 요청해요. (set_weighted_prompts)\n",
    "            await session.set_weighted_prompts(\n",
    "                prompts=[types.WeightedPrompt(text=prompt, weight=1.0)]\n",
    "            )\n",
    "            # 음악 재생을 시작하라고 명령해요. (play)\n",
    "            await session.play()\n",
    "            print(f'🎧 지금 \"{prompt}\" 스타일의 음악을 생성하고 있어요... (5초간)')\n",
    "\n",
    "            # 5초 동안 기다려요.\n",
    "            await asyncio.sleep(5)\n",
    "\n",
    "            # 음악 재생을 멈추라고 명령해요. (stop)\n",
    "            await session.stop()\n",
    "            print(\"⏹️ 음악 생성을 멈췄어요.\")\n",
    "            \n",
    "    except Exception as e:\n",
    "        print(f\"앗! 오류가 발생했어요: {e}\")\n",
    "        print(\"API 키가 정확한지 다시 한번 확인해주세요!\")\n",
    "\n",
    "# 위에서 만든 함수(마법 주문)를 외워볼까요?\n",
    "# 3단계에서 만들었던 prompt_text 변수를 괄호 안에 넣어줄게요.\n",
    "asyncio.run(play_music_for_a_while(prompt_text))"
   ]
  },
  {
   "cell_type": "markdown",
   "metadata": {},
   "source": [
    "## 5단계: 반복문과 조건문 - 진짜 챗봇처럼 대화하기\n",
    "\n",
    "이제 진짜 챗봇을 만들어 볼 시간이에요! 한 번만 명령하고 끝나는 게 아니라, 우리가 '종료'라고 말할 때까지 계속해서 명령을 받을 수 있게 만들 거예요.\n",
    "\n",
    "* **`while True:`** : '무한 반복'을 의미하는 마법의 주문이에요. 이 안에 있는 코드는 우리가 멈추기 전까지 계속 실행돼요.\n",
    "* **`input()`** : 사용자로부터 키보드 입력을 받을 수 있는 함수예요. 챗봇과 대화하는 창이 되는 셈이죠.\n",
    "* **`if`, `elif`, `else`** : '만약에 ~라면'이라는 뜻의 조건문이에요. 사용자의 입력에 따라 다른 행동을 하도록 만들 수 있어요.\n",
    "    * **`if`**: 만약에 입력이 '종료'라면?\n",
    "    * **`elif`**: 그게 아니고, 만약에 입력에 '빠르게'라는 말이 있다면?\n",
    "    * **`else`**: 그 외 나머지 모든 경우엔?"
   ]
  },
  {
   "cell_type": "code",
   "execution_count": null,
   "metadata": {},
   "outputs": [],
   "source": [
    "import asyncio\n",
    "from google.genai import types\n",
    "\n",
    "# 이 챗봇은 한번 실행하면 '종료'라고 입력할 때까지 끝나지 않아요.\n",
    "# 중지하고 싶으면 코드 셀 왼쪽의 '■' 정지 버튼을 눌러주세요.\n",
    "\n",
    "async def dj_chatbot():\n",
    "    print(\"=================================================\")\n",
    "    print(\"🎧 안녕하세요! 저는 당신만의 AI 뮤직 DJ입니다. 🎧\")\n",
    "    print(\"어떤 음악을 생성해 드릴까요?\")\n",
    "    print(\"예시: '신나는 힙합 비트', '슬픈 피아노 연주곡', '빠르게', '느리게'\")\n",
    "    print(\"그만하고 싶으시면 '종료'라고 입력해주세요.\")\n",
    "    print(\"=================================================\")\n",
    "\n",
    "    client = genai.Client(http_options={'api_version': 'v1alpha'})\n",
    "    try:\n",
    "        async with client.aio.live.music.connect(model='models/lyria-realtime-exp') as session:\n",
    "            print(\"✅ DJ와 연결되었습니다. 명령을 기다립니다...\")\n",
    "\n",
    "            # while True: 로 무한 반복 시작!\n",
    "            while True:\n",
    "                # input() 함수로 사용자에게 질문하고, 답변을 user_input 변수에 저장해요.\n",
    "                user_input = input(\"DJ에게 요청할 내용을 입력하세요: \")\n",
    "\n",
    "                # 만약(if) 사용자가 '종료'라고 입력했다면\n",
    "                if user_input == '종료':\n",
    "                    await session.stop()\n",
    "                    print(\"🎧 DJ 부스를 마감합니다. 이용해주셔서 감사합니다!\")\n",
    "                    break # break는 반복문을 탈출하라는 명령이에요.\n",
    "                \n",
    "                # 그게 아니고(elif) 사용자의 입력에 '빠르게'라는 단어가 포함되어 있다면\n",
    "                elif '빠르게' in user_input:\n",
    "                    print(\"🎶 음악의 속도(BPM)를 140으로 빠르게 조절할게요!\")\n",
    "                    # set_music_generation_config 함수로 음악의 속성(BPM)을 바꿔줘요.\n",
    "                    await session.set_music_generation_config(\n",
    "                        config=types.LiveMusicGenerationConfig(bpm=140)\n",
    "                    )\n",
    "                \n",
    "                # 그게 아니고(elif) 사용자의 입력에 '느리게'라는 단어가 포함되어 있다면\n",
    "                elif '느리게' in user_input:\n",
    "                    print(\"🎶 음악의 속도(BPM)를 70으로 느리게 조절할게요!\")\n",
    "                    await session.set_music_generation_config(\n",
    "                        config=types.LiveMusicGenerationConfig(bpm=70)\n",
    "                    )\n",
    "\n",
    "                # 위의 모든 경우가 아니라면 (else)\n",
    "                else:\n",
    "                    print(f'🎧 알겠습니다! \"{user_input}\" 스타일로 음악을 만들어 볼게요.')\n",
    "                    # 사용자가 입력한 내용을 그대로 음악 장르로 요청해요.\n",
    "                    await session.set_weighted_prompts(\n",
    "                        prompts=[types.WeightedPrompt(text=user_input, weight=1.0)]\n",
    "                    )\n",
    "                    await session.play()\n",
    "\n",
    "    except Exception as e:\n",
    "        print(f\"앗! 오류가 발생했어요: {e}\")\n",
    "        print(\"API 키가 정확한지 다시 한번 확인해주세요!\")\n",
    "\n",
    "# 챗봇 함수를 실행해요.\n",
    "asyncio.run(dj_chatbot())"
   ]
  },
  {
   "cell_type": "markdown",
   "metadata": {},
   "source": [
    "## 🥳 축하합니다! 🥳\n",
    "\n",
    "여러분은 방금 파이썬의 기본 문법인 **변수, 함수, 반복문, 조건문**을 모두 사용해서 AI 챗봇을 직접 만들어봤어요! 정말 대단해요! \n",
    "\n",
    "이제 배운 내용을 복습하면서 스스로 코드를 완성해보는 연습 문제를 풀어볼까요? 아래 문제들은 아주 작은 부분만 비워뒀으니, 자신감을 갖고 도전해보세요!"
   ]
  },
  {
   "cell_type": "markdown",
   "metadata": {},
   "source": [
    "---"
   ]
  },
  {
   "cell_type": "markdown",
   "metadata": {},
   "source": [
    "## ✏️ 혼자 해보는 연습 문제 ✏️"
   ]
  },
  {
   "cell_type": "markdown",
   "metadata": {},
   "source": [
    "### 문제 1: 다른 장르 음악 요청하기\n",
    "\n",
    "DJ에게 'Lo-Fi Hip Hop' 장르를 요청하는 코드를 완성해보세요. `____` 부분에 알맞은 내용을 채워 넣어 보세요."
   ]
  },
  {
   "cell_type": "code",
   "execution_count": null,
   "metadata": {},
   "outputs": [],
   "source": [
    "# 요청할 음악 장르를 prompt_genre 변수에 저장합니다.\n",
    "prompt_genre = \"Lo-Fi Hip Hop\"\n",
    "\n",
    "# 위에서 만들었던 play_music_for_a_while 함수를 사용해서 음악을 생성해봅시다.\n",
    "# 괄호 안에 어떤 변수를 넣어야 할까요?\n",
    "asyncio.run(play_music_for_a_while(____))"
   ]
  },
  {
   "cell_type": "markdown",
   "metadata": {},
   "source": [
    "### 문제 2: 프롬프트의 가중치(영향력) 조절하기\n",
    "\n",
    "프롬프트의 `weight` 값을 조절해서 DJ에게 이 요청이 얼마나 중요한지 알려줄 수 있어요. `weight` 값을 `2.0`으로 설정해서 '아주 강력하게' 요청해보세요."
   ]
  },
  {
   "cell_type": "code",
   "execution_count": null,
   "metadata": {},
   "outputs": [],
   "source": [
    "async def set_prompt_weight():\n",
    "    client = genai.Client(http_options={'api_version': 'v1alpha'})\n",
    "    async with client.aio.live.music.connect(model='models/lyria-realtime-exp') as session:\n",
    "        print(\"DJ에게 'Funk Drums'를 강력하게 요청합니다!\")\n",
    "        await session.set_weighted_prompts(\n",
    "            # text와 weight를 설정해주세요.\n",
    "            prompts=[types.WeightedPrompt(text=\"Funk Drums\", weight=____)]\n",
    "        )\n",
    "        await session.play()\n",
    "        await asyncio.sleep(3)\n",
    "        await session.stop()\n",
    "        print(\"요청 완료!\")\n",
    "\n",
    "asyncio.run(set_prompt_weight())"
   ]
  },
  {
   "cell_type": "markdown",
   "metadata": {},
   "source": [
    "### 문제 3: 음악 속도(BPM) 직접 정하기\n",
    "\n",
    "음악의 분당 비트 수(BPM)를 `100`으로 설정하는 코드를 완성해보세요."
   ]
  },
  {
   "cell_type": "code",
   "execution_count": null,
   "metadata": {},
   "outputs": [],
   "source": [
    "async def set_bpm():\n",
    "    client = genai.Client(http_options={'api_version': 'v1alpha'})\n",
    "    async with client.aio.live.music.connect(model='models/lyria-realtime-exp') as session:\n",
    "        print(\"음악 속도를 100 BPM으로 설정합니다.\")\n",
    "        await session.set_music_generation_config(\n",
    "            # config 안에 bpm을 설정해주세요.\n",
    "            config=types.LiveMusicGenerationConfig(____=100) \n",
    "        )\n",
    "        print(\"설정 완료!\")\n",
    "\n",
    "asyncio.run(set_bpm())"
   ]
  },
  {
   "cell_type": "markdown",
   "metadata": {},
   "source": [
    "### 문제 4: 두 가지 장르 섞어보기\n",
    "\n",
    "리스트(`[]`) 안에 여러 개의 `WeightedPrompt`를 넣으면 두 가지 이상의 장르를 섞을 수 있어요. 'Chillout'과 'Acoustic Guitar'를 섞어서 요청하는 코드를 완성해보세요."
   ]
  },
  {
   "cell_type": "code",
   "execution_count": null,
   "metadata": {},
   "outputs": [],
   "source": [
    "async def mix_prompts():\n",
    "    client = genai.Client(http_options={'api_version': 'v1alpha'})\n",
    "    async with client.aio.live.music.connect(model='models/lyria-realtime-exp') as session:\n",
    "        print(\"Chillout과 Acoustic Guitar를 섞어서 요청합니다.\")\n",
    "        await session.set_weighted_prompts(\n",
    "            prompts=[\n",
    "                types.WeightedPrompt(text=\"Chillout\", weight=1.0),\n",
    "                # 아래 ____ 부분을 채워 'Acoustic Guitar'를 추가해보세요.\n",
    "                types.WeightedPrompt(text=____, weight=1.0) \n",
    "            ]\n",
    "        )\n",
    "        await session.play()\n",
    "        await asyncio.sleep(3)\n",
    "        await session.stop()\n",
    "        print(\"요청 완료!\")\n",
    "\n",
    "asyncio.run(mix_prompts())"
   ]
  },
  {
   "cell_type": "markdown",
   "metadata": {},
   "source": [
    "### 문제 5: 음악의 밝기 조절하기\n",
    "\n",
    "음악의 밝기(`brightness`)를 조절할 수 있어요. 값이 1에 가까울수록 밝고 높은 톤의 소리가 나요. `brightness`를 `0.9`로 설정해서 아주 밝은 음악을 만들어 보세요."
   ]
  },
  {
   "cell_type": "code",
   "execution_count": null,
   "metadata": {},
   "outputs": [],
   "source": [
    "async def set_brightness():\n",
    "    client = genai.Client(http_options={'api_version': 'v1alpha'})\n",
    "    async with client.aio.live.music.connect(model='models/lyria-realtime-exp') as session:\n",
    "        print(\"음악의 밝기를 0.9로 설정합니다.\")\n",
    "        await session.set_music_generation_config(\n",
    "            config=types.LiveMusicGenerationConfig(____=0.9)\n",
    "        )\n",
    "        print(\"설정 완료!\")\n",
    "\n",
    "asyncio.run(set_brightness())"
   ]
  },
  {
   "cell_type": "markdown",
   "metadata": {},
   "source": [
    "### 문제 6: 음악의 밀도 조절하기\n",
    "\n",
    "음악의 밀도(`density`)는 음표나 소리가 얼마나 빽빽하게 채워져 있는지를 의미해요. `density`를 `0.2`로 설정해서 아주 미니멀하고 여백이 많은 음악을 만들어 보세요."
   ]
  },
  {
   "cell_type": "code",
   "execution_count": null,
   "metadata": {},
   "outputs": [],
   "source": [
    "async def set_density():\n",
    "    client = genai.Client(http_options={'api_version': 'v1alpha'})\n",
    "    async with client.aio.live.music.connect(model='models/lyria-realtime-exp') as session:\n",
    "        print(\"음악의 밀도를 0.2로 설정합니다.\")\n",
    "        await session.set_music_generation_config(\n",
    "            config=types.LiveMusicGenerationConfig(density=____)\n",
    "        )\n",
    "        print(\"설정 완료!\")\n",
    "\n",
    "asyncio.run(set_density())"
   ]
  },
  {
   "cell_type": "markdown",
   "metadata": {},
   "source": [
    "### 문제 7: 챗봇에 '밝게' 기능 추가하기\n",
    "\n",
    "5단계에서 만들었던 챗봇 코드에 '밝게'라고 입력하면 음악의 `brightness`를 0.9로 설정하는 기능을 추가해보세요. `elif` 조건문을 사용해야겠죠?"
   ]
  },
  {
   "cell_type": "code",
   "execution_count": null,
   "metadata": {},
   "outputs": [],
   "source": [
    "async def dj_chatbot_upgraded():\n",
    "    # ... (챗봇의 앞부분 코드는 동일합니다) ...\n",
    "    print(\"챗봇 업그레이드! '밝게'라고도 말해보세요.\")\n",
    "    client = genai.Client(http_options={'api_version': 'v1alpha'})\n",
    "    async with client.aio.live.music.connect(model='models/lyria-realtime-exp') as session:\n",
    "        while True:\n",
    "            user_input = input(\"DJ에게 요청할 내용을 입력하세요: \")\n",
    "\n",
    "            if user_input == '종료':\n",
    "                break\n",
    "            elif '빠르게' in user_input:\n",
    "                print(\"🎶 음악의 속도(BPM)를 140으로 빠르게 조절할게요!\")\n",
    "                await session.set_music_generation_config(config=types.LiveMusicGenerationConfig(bpm=140))\n",
    "            \n",
    "            # ==== 이 아래에 새로운 elif 문을 추가해서 '밝게' 기능을 완성하세요 ==== #\n",
    "            elif '____' in user_input:\n",
    "                print(\"🎶 음악의 분위기를 밝게 조절할게요!\")\n",
    "                await session.set_music_generation_config(config=types.LiveMusicGenerationConfig(brightness=0.9))\n",
    "            # ================================================================= #\n",
    "            \n",
    "            else:\n",
    "                print(f'🎧 알겠습니다! \"{user_input}\" 스타일로 음악을 만들어 볼게요.')\n",
    "                await session.set_weighted_prompts(prompts=[types.WeightedPrompt(text=user_input, weight=1.0)])\n",
    "                await session.play()\n",
    "        print(\"챗봇을 종료합니다.\")\n",
    "\n",
    "asyncio.run(dj_chatbot_upgraded())"
   ]
  },
  {
   "cell_type": "markdown",
   "metadata": {},
   "source": [
    "### 문제 8: 베이스 소리 끄기\n",
    "\n",
    "때로는 베이스 소리를 빼고 싶을 때도 있죠. `mute_bass` 값을 `True`로 설정해서 베이스 소리를 꺼보세요. (참/거짓을 의미하는 `True`와 `False`도 코딩에서 아주 중요해요!)"
   ]
  },
  {
   "cell_type": "code",
   "execution_count": null,
   "metadata": {},
   "outputs": [],
   "source": [
    "async def mute_the_bass():\n",
    "    client = genai.Client(http_options={'api_version': 'v1alpha'})\n",
    "    async with client.aio.live.music.connect(model='models/lyria-realtime-exp') as session:\n",
    "        print(\"베이스 소리를 끕니다.\")\n",
    "        await session.set_music_generation_config(\n",
    "            # mute_bass를 True로 설정해주세요. 파이썬에서는 첫 글자를 대문자로 써야해요.\n",
    "            config=types.LiveMusicGenerationConfig(mute_bass=____)\n",
    "        )\n",
    "        print(\"설정 완료!\")\n",
    "\n",
    "asyncio.run(mute_the_bass())"
   ]
  },
  {
   "cell_type": "markdown",
   "metadata": {},
   "source": [
    "### 문제 9: 음악의 스케일(조성) 정하기\n",
    "\n",
    "음악의 스케일(장조/단조)을 직접 정해줄 수도 있어요. `types.Scale`에 미리 정해진 값들이 있답니다. C Major (다장조) 스케일로 음악을 만들도록 설정해보세요. "
   ]
  },
  {
   "cell_type": "code",
   "execution_count": null,
   "metadata": {},
   "outputs": [],
   "source": [
    "async def set_the_scale():\n",
    "    client = genai.Client(http_options={'api_version': 'v1alpha'})\n",
    "    async with client.aio.live.music.connect(model='models/lyria-realtime-exp') as session:\n",
    "        print(\"음악 스케일을 C Major/A minor로 설정합니다.\")\n",
    "        await session.set_music_generation_config(\n",
    "            # scale 값을 C_MAJOR_A_MINOR 로 설정해 보세요.\n",
    "            config=types.LiveMusicGenerationConfig(scale=types.Scale.____)\n",
    "        )\n",
    "        print(\"설정 완료!\")\n",
    "        # 스케일이나 BPM을 바꾸면 컨텍스트를 리셋해주는 게 좋아요!\n",
    "        await session.reset_context()\n",
    "\n",
    "asyncio.run(set_the_scale())"
   ]
  },
  {
   "cell_type": "markdown",
   "metadata": {},
   "source": [
    "### 문제 10: 나만의 챗봇 기능 만들기!\n",
    "\n",
    "마지막 문제! 지금까지 배운 것들을 조합해서 여러분만의 새로운 명령어를 챗봇에 추가해보세요. 예를 들어, '드럼만'이라고 입력하면 베이스와 드럼만 나오도록 `only_bass_and_drums=True` 옵션을 주는 건 어떨까요? 자유롭게 상상해서 코드를 완성해보세요!"
   ]
  },
  {
   "cell_type": "code",
   "execution_count": null,
   "metadata": {},
   "outputs": [],
   "source": [
    "async def my_own_chatbot():\n",
    "    # ... (챗봇의 앞부분 코드는 동일합니다) ...\n",
    "    print(\"나만의 챗봇! '드럼만'이라고 말해보세요.\")\n",
    "    client = genai.Client(http_options={'api_version': 'v1alpha'})\n",
    "    async with client.aio.live.music.connect(model='models/lyria-realtime-exp') as session:\n",
    "        while True:\n",
    "            user_input = input(\"DJ에게 요청할 내용을 입력하세요: \")\n",
    "\n",
    "            if user_input == '종료':\n",
    "                break\n",
    "\n",
    "            # ==== 이 아래에 '드럼만'이라는 새로운 elif 문을 추가해보세요 ==== #\n",
    "            elif '____' in user_input:\n",
    "                print(\"🎶 베이스와 드럼만 남기고 연주할게요!\")\n",
    "                # only_bass_and_drums 옵션을 True로 설정해봅시다.\n",
    "                await session.set_music_generation_config(config=types.LiveMusicGenerationConfig(____=True))\n",
    "            # =========================================================== #\n",
    "\n",
    "            else:\n",
    "                # 다른 명령이 들어오면 원래대로 돌아오도록, 모든 옵션을 기본값으로 설정해주는 게 좋아요.\n",
    "                await session.set_music_generation_config(config=types.LiveMusicGenerationConfig(only_bass_and_drums=False))\n",
    "                print(f'🎧 알겠습니다! \"{user_input}\" 스타일로 음악을 만들어 볼게요.')\n",
    "                await session.set_weighted_prompts(prompts=[types.WeightedPrompt(text=user_input, weight=1.0)])\n",
    "                await session.play()\n",
    "        print(\"챗봇을 종료합니다.\")\n",
    "\n",
    "asyncio.run(my_own_chatbot())"
   ]
  }
 ],
 "metadata": {
  "colab": {
   "provenance": []
  },
  "kernelspec": {
   "display_name": "Python 3",
   "name": "python3"
  },
  "language_info": {
   "name": "python"
  }
 },
 "nbformat": 4,
 "nbformat_minor": 0
}