{
 "cells": [
  {
   "cell_type": "markdown",
   "metadata": {},
   "source": [
    "# 🤖<br>나만의 챗봇 만들기 with 파이썬\n",
    "\n",
    "**학습 목표:** 파이썬의 기초 문법, 특히 '타입 어노테이션'이라는 기능을 활용해서 간단한 챗봇을 만들어봅니다. 코딩이 처음이신 분들도 재미있게 따라 할 수 있도록 아주 쉬운 예제들로 구성했어요. 함께 즐거운 코딩의 세계로 빠져볼까요? 🚀"
   ]
  },
  {
   "cell_type": "markdown",
   "metadata": {},
   "source": [
    "## 1. 변수: 정보를 담는 그릇\n",
    "\n",
    "컴퓨터는 **변수(variable)** 라는 공간에 데이터를 저장해요. 마치 이름이 적힌 상자에 물건을 넣어두는 것과 같죠. 파이썬은 똑똑해서 상자 안에 숫자를 넣으면 '아, 이건 숫자 상자구나!', 글자를 넣으면 '이건 글자 상자구나!' 하고 스스로 알아차린답니다. 이런 특징을 **동적 타이핑(Dynamic Typing)**이라고 불러요. 정말 편리하죠?"
   ]
  },
  {
   "cell_type": "code",
   "execution_count": null,
   "metadata": {},
   "outputs": [],
   "source": [
    "# a라는 변수(상자)에 숫자 1을 담아볼게요.\n",
    "a = 1\n",
    "print(a)\n",
    "print(type(a)) # type() 함수는 변수의 종류(타입)가 무엇인지 알려줘요.\n",
    "\n",
    "print(\"-----\")\n",
    "\n",
    "# 이번엔 a라는 변수에 글자 \"안녕\"을 담아볼게요. 상자 안의 내용물이 바뀌었어요!\n",
    "a = \"안녕\"\n",
    "print(a)\n",
    "print(type(a)) # 타입이 어떻게 바뀌었는지 확인해보세요!"
   ]
  },
  {
   "cell_type": "markdown",
   "metadata": {},
   "source": [
    "## 2. 타입 어노테이션: 변수 사용 설명서\n",
    "\n",
    "동적 타이핑은 편리하지만, 코드가 길어지거나 다른 사람과 함께 작업할 때는 \"이 변수에는 어떤 종류의 데이터를 넣기로 약속했지?\" 헷갈릴 수 있어요. 😥\n",
    "\n",
    "그래서 파이썬에서는 **타입 어노테이션(Type Annotation)**이라는 기능을 제공해요. 변수 이름 뒤에 `: 타입` 형식으로 붙여서 \"이 변수에는 이런 종류의 데이터만 넣을 거야!\"라고 미리 알려주는 거죠. 일종의 '주석'이나 '힌트'라고 생각하면 쉬워요. 강제성은 없지만, 코드를 훨씬 이해하기 쉽게 만들어준답니다."
   ]
  },
  {
   "cell_type": "code",
   "execution_count": null,
   "metadata": {},
   "outputs": [],
   "source": [
    "# chatbot_name 이라는 변수에는 문자열(str)만 담을 거라고 미리 알려주기\n",
    "chatbot_name: str = \"코딩 친구 젬\"\n",
    "\n",
    "# user_age 라는 변수에는 정수(int)만 담을 거라고 미리 알려주기\n",
    "user_age: int = 17\n",
    "\n",
    "# known_users 라는 변수에는 리스트(list)를 담을 건데, 그 안에는 문자열(str)만 넣을 거라고 알려주기\n",
    "known_users: list[str] = [\"철수\", \"영희\", \"민준\"]\n",
    "\n",
    "print(f\"제 이름은 {chatbot_name}이에요.\")\n",
    "print(f\"당신의 나이는 {user_age}살이군요!\")\n",
    "print(f\"제가 아는 친구들은 {known_users}입니다.\")"
   ]
  },
  {
   "cell_type": "markdown",
   "metadata": {},
   "source": [
    "## 3. 함수: 명령어를 묶어주는 마법 상자\n",
    "\n",
    "**함수(Function)**는 특정 작업을 수행하는 코드 덩어리를 묶어서 이름을 붙여놓은 거예요. 필요할 때마다 그 이름을 부르기만 하면 되죠. 챗봇이 인사를 하거나, 질문에 답하는 등의 행동을 함수로 만들 수 있어요.\n",
    "\n",
    "함수에도 타입 어노테이션을 사용할 수 있어요.\n",
    "- **매개변수(Parameter)**: 함수에 전달하는 값. `이름: 타입` 형식으로 지정해요.\n",
    "- **반환값(Return value)**: 함수가 작업을 마친 후 돌려주는 값. `-> 타입` 형식으로 지정해요."
   ]
  },
  {
   "cell_type": "code",
   "execution_count": null,
   "metadata": {},
   "outputs": [],
   "source": [
    "# 'name'이라는 문자열(str)을 받아서, 인삿말 문자열(str)을 돌려주는 함수를 만들어볼게요.\n",
    "def create_greeting(name: str) -> str:\n",
    "    greeting = f\"안녕하세요, {name}님! 만나서 반가워요.\"\n",
    "    return greeting\n",
    "\n",
    "# 함수를 사용해볼까요?\n",
    "message = create_greeting(\"수강생\")\n",
    "print(message)"
   ]
  },
  {
   "cell_type": "markdown",
   "metadata": {},
   "source": [
    "## 4. `input()` 함수로 진짜 대화하기\n",
    "\n",
    "지금까지는 우리가 코드에 직접 이름을 입력했지만, `input()` 함수를 사용하면 사용자가 직접 키보드로 입력한 값을 받아올 수 있어요. 이걸로 진짜 챗봇처럼 만들어봐요!"
   ]
  },
  {
   "cell_type": "code",
   "execution_count": null,
   "metadata": {},
   "outputs": [],
   "source": [
    "def chatbot_talk():\n",
    "    # input() 함수는 항상 문자열(str) 타입으로 값을 받아와요.\n",
    "    user_name: str = input(\"당신의 이름은 무엇인가요? \")\n",
    "    \n",
    "    # 위에서 만든 인사 함수를 사용해볼게요.\n",
    "    greeting_message = create_greeting(user_name)\n",
    "    print(greeting_message)\n",
    "\n",
    "# 챗봇과 대화 시작!\n",
    "chatbot_talk()"
   ]
  },
  {
   "cell_type": "markdown",
   "metadata": {},
   "source": [
    "## 5. 조금 더 똑똑한 챗봇: `Optional` 타입\n",
    "\n",
    "만약 함수가 어떤 값을 반환할 수도 있고, 아무것도 반환하지 않을 수도 있다면 어떻게 표현할까요? 예를 들어, 사용자를 검색했는데 사용자가 있으면 정보를 주고, 없으면 \"없음\"을 알려주는 상황이에요.\n",
    "\n",
    "이럴 때 `Optional[타입]`을 사용해요. \"이 함수는 `타입`의 값을 주거나, 아무것도 주지 않을 수(None) 있어!\"라는 뜻이에요. `Optional`을 사용하려면 `typing` 모듈에서 가져와야 해요."
   ]
  },
  {
   "cell_type": "code",
   "execution_count": null,
   "metadata": {},
   "outputs": [],
   "source": [
    "# Optional을 사용하기 위해 typing 모듈에서 가져옵니다.\n",
    "from typing import Optional\n",
    "\n",
    "# 사용자 정보를 저장하는 딕셔너리(dictionary) 입니다. {이름: 나이}\n",
    "user_database: dict[str, int] = {\n",
    "    \"홍길동\": 20,\n",
    "    \"이순신\": 30,\n",
    "    \"강감찬\": 40\n",
    "}\n",
    "\n",
    "# 이름을 검색해서 나이를 찾아주는 함수\n",
    "# 나이를 찾으면 숫자(int)를, 못 찾으면 아무것도 없음(None)을 반환해요.\n",
    "def find_user_age(name: str) -> Optional[int]:\n",
    "    if name in user_database:\n",
    "        return user_database[name] # 이름을 찾으면 나이를 반환\n",
    "    else:\n",
    "        return None # 이름을 못 찾으면 None 반환\n",
    "\n",
    "# 사용자 찾아보기\n",
    "user_name_to_find = \"이순신\"\n",
    "age = find_user_age(user_name_to_find)\n",
    "\n",
    "if age is not None:\n",
    "    print(f\"{user_name_to_find}님의 나이는 {age}살입니다.\")\n",
    "else:\n",
    "    print(f\"{user_name_to_find}님은 등록되지 않은 사용자입니다.\")\n",
    "\n",
    "# 없는 사용자 찾아보기\n",
    "user_name_to_find = \"세종대왕\"\n",
    "age = find_user_age(user_name_to_find)\n",
    "\n",
    "if age is not None:\n",
    "    print(f\"{user_name_to_find}님의 나이는 {age}살입니다.\")\n",
    "else:\n",
    "    print(f\"{user_name_to_find}님은 등록되지 않은 사용자입니다.\")"
   ]
  },
  {
   "cell_type": "markdown",
   "metadata": {},
   "source": [
    "## 🥳 축하합니다!\n",
    "\n",
    "여러분은 방금 파이썬의 변수, 타입 어노테이션, 함수, 그리고 간단한 조건문까지 배우면서 나만의 챗봇 기초를 다졌어요! 이제 아래의 연습 문제들을 풀면서 배운 내용을 복습하고 응용하는 능력을 키워보세요. 정답은 없으니 자유롭게 코드를 수정하고 테스트해보세요!"
   ]
  },
  {
   "cell_type": "markdown",
   "metadata": {},
   "source": [
    "---"
   ]
  },
  {
   "cell_type": "markdown",
   "metadata": {},
   "source": [
    "## ✏️ 혼자 해보는 연습 문제"
   ]
  },
  {
   "cell_type": "markdown",
   "metadata": {},
   "source": [
    "### 문제 1: 내 나이 소개하기\n",
    "\n",
    "`my_age`라는 변수에 **정수(int) 타입**을 지정하고, 자신의 나이를 할당한 뒤 출력해보세요."
   ]
  },
  {
   "cell_type": "code",
   "execution_count": null,
   "metadata": {},
   "outputs": [],
   "source": [
    "# TODO: `___` 부분을 채워서 코드를 완성하세요.\n",
    "my_age: ___ = 25\n",
    "print(f\"저는 {my_age}살입니다.\")"
   ]
  },
  {
   "cell_type": "markdown",
   "metadata": {},
   "source": [
    "### 문제 2: 좋아하는 과일 알려주기\n",
    "\n",
    "`favorite_fruit` 라는 변수에 **문자열(str) 타입**을 지정하고, 좋아하는 과일 이름을 할당한 뒤 출력해보세요."
   ]
  },
  {
   "cell_type": "code",
   "execution_count": null,
   "metadata": {},
   "outputs": [],
   "source": [
    "# TODO: `___` 부분을 채워서 코드를 완성하세요.\n",
    "favorite_fruit: ___ = \"딸기\"\n",
    "print(f\"제가 가장 좋아하는 과일은 {favorite_fruit}입니다.\")"
   ]
  },
  {
   "cell_type": "markdown",
   "metadata": {},
   "source": [
    "### 문제 3: 두 숫자 더하기 함수\n",
    "\n",
    "두 개의 정수(`a`, `b`)를 받아서 더한 결과를 **정수(int)로 반환**하는 `add_numbers` 함수를 완성하세요."
   ]
  },
  {
   "cell_type": "code",
   "execution_count": null,
   "metadata": {},
   "outputs": [],
   "source": [
    "# TODO: `___` 부분을 채워서 함수의 타입 어노테이션을 완성하세요.\n",
    "def add_numbers(a: ___, b: ___) -> ___:\n",
    "    return a + b\n",
    "\n",
    "result = add_numbers(10, 5)\n",
    "print(f\"10 더하기 5는 {result}입니다.\")"
   ]
  },
  {
   "cell_type": "markdown",
   "metadata": {},
   "source": [
    "### 문제 4: 팀원 명단 만들기\n",
    "\n",
    "팀원들의 이름을 담을 `team_members` 변수를 **문자열을 담는 리스트(list[str])** 타입으로 만들고, 3명 이상의 팀원 이름을 넣어보세요."
   ]
  },
  {
   "cell_type": "code",
   "execution_count": null,
   "metadata": {},
   "outputs": [],
   "source": [
    "# TODO: `___` 부분을 채워서 변수의 타입과 값을 완성하세요.\n",
    "team_members: ___ = [\"김파이\", \"이코딩\", \"박노트\"]\n",
    "print(f\"우리 팀원은 {team_members} 입니다.\")"
   ]
  },
  {
   "cell_type": "markdown",
   "metadata": {},
   "source": [
    "### 문제 5: 과목별 점수 기록하기\n",
    "\n",
    "과목(문자열)과 점수(정수)를 함께 기록하는 `scores` 변수를 **키가 문자열이고 값이 정수인 딕셔너리(dict[str, int])** 타입으로 만들어 보세요."
   ]
  },
  {
   "cell_type": "code",
   "execution_count": null,
   "metadata": {},
   "outputs": [],
   "source": [
    "# TODO: `___` 부분을 채워서 변수의 타입과 값을 완성하세요.\n",
    "scores: ___ = {\"국어\": 95, \"영어\": 88}\n",
    "print(f\"나의 점수: {scores}\")"
   ]
  },
  {
   "cell_type": "markdown",
   "metadata": {},
   "source": [
    "### 문제 6: 간단한 인사 함수\n",
    "\n",
    "단순히 \"환영합니다!\" 라는 메시지만 출력하고 **아무것도 반환하지 않는** `welcome` 함수를 만들어보세요. (팁: 아무것도 반환하지 않는다는 표시는 `-> None` 입니다.)"
   ]
  },
  {
   "cell_type": "code",
   "execution_count": null,
   "metadata": {},
   "outputs": [],
   "source": [
    "# TODO: `___` 부분을 채워서 함수의 반환 타입을 완성하세요.\n",
    "def welcome() -> ___:\n",
    "    print(\"환영합니다!\")\n",
    "\n",
    "# 함수 호출\n",
    "welcome()"
   ]
  },
  {
   "cell_type": "markdown",
   "metadata": {},
   "source": [
    "### 문제 7: 번호로 학생 찾기\n",
    "\n",
    "학생 번호(정수)를 받아서 학생 이름을 반환하는 함수를 만들어보세요. 만약 학생이 없으면 `None`을 반환해야 합니다. **`Optional[str]`** 타입을 사용해보세요."
   ]
  },
  {
   "cell_type": "code",
   "execution_count": null,
   "metadata": {},
   "outputs": [],
   "source": [
    "from typing import Optional\n",
    "\n",
    "student_list = {1: \"철수\", 3: \"영희\"}\n",
    "\n",
    "# TODO: `___` 부분을 채워서 함수의 반환 타입을 완성하세요.\n",
    "def find_student(student_id: int) -> ___:\n",
    "    if student_id in student_list:\n",
    "        return student_list[student_id]\n",
    "    else:\n",
    "        return None\n",
    "\n",
    "print(f\"3번 학생: {find_student(3)}\")\n",
    "print(f\"2번 학생: {find_student(2)}\")"
   ]
  },
  {
   "cell_type": "markdown",
   "metadata": {},
   "source": [
    "### 문제 8: 숫자 또는 문자로 ID 받기\n",
    "\n",
    "`user_id` 변수에는 숫자(int)가 올 수도 있고, 문자열(str)이 올 수도 있습니다. **`Union[int, str]`** 타입을 사용해서 이 변수의 타입을 지정해보세요."
   ]
  },
  {
   "cell_type": "code",
   "execution_count": null,
   "metadata": {},
   "outputs": [],
   "source": [
    "from typing import Union\n",
    "\n",
    "# TODO: `___` 부분을 채워서 변수 타입을 완성하세요.\n",
    "user_id: ___\n",
    "\n",
    "user_id = 1004\n",
    "print(f\"사용자 ID: {user_id}, 타입: {type(user_id)}\")\n",
    "\n",
    "user_id = \"angel\"\n",
    "print(f\"사용자 ID: {user_id}, 타입: {type(user_id)}\")"
   ]
  },
  {
   "cell_type": "markdown",
   "metadata": {},
   "source": [
    "### 문제 9: 타입 힌트 보고 코드 수정하기\n",
    "\n",
    "아래 `say_hello` 함수는 이름(str)과 나이(int)를 받아서 인사말을 출력해야 합니다. 하지만 함수를 호출할 때 나이를 문자열(\"스무살\")로 잘못 전달하고 있어요. **타입 힌트에 맞게** 함수 호출 부분을 수정해보세요."
   ]
  },
  {
   "cell_type": "code",
   "execution_count": null,
   "metadata": {},
   "outputs": [],
   "source": [
    "def say_hello(name: str, age: int) -> None:\n",
    "    print(f\"안녕! 내 이름은 {name}, {age}살이야.\")\n",
    "\n",
    "# TODO: 아래 코드의 \"스무살\" 부분을 함수의 타입 힌트에 맞게 숫자로 바꿔보세요.\n",
    "say_hello(\"고길동\", 20)"
   ]
  },
  {
   "cell_type": "markdown",
   "metadata": {},
   "source": [
    "### 문제 10: 챗봇 응답 함수 업그레이드\n",
    "\n",
    "사용자의 메시지(문자열)를 받아서, 메시지에 '안녕'이 포함되어 있으면 \"안녕하세요!\"라고 답하고, '날씨'가 포함되어 있으면 \"오늘 날씨는 맑아요!\"라고 답하는 `get_response` 함수를 만들어보세요. 두 키워드가 모두 없으면 **아무것도 반환하지 않도록(None)** 하세요. (`Optional[str]` 활용)"
   ]
  },
  {
   "cell_type": "code",
   "execution_count": null,
   "metadata": {},
   "outputs": [],
   "source": [
    "from typing import Optional\n",
    "\n",
    "# TODO: `___` 부분을 채워서 함수를 완성하세요.\n",
    "def get_response(message: str) -> ___:\n",
    "    if \"안녕\" in message:\n",
    "        return \"안녕하세요!\"\n",
    "    if \"날씨\" in message:\n",
    "        return \"오늘 날씨는 맑아요!\"\n",
    "    return ___\n",
    "\n",
    "# 함수 테스트\n",
    "print(f\"'안녕' -> {get_response('안녕, 반가워!')}\")\n",
    "print(f\"'날씨' -> {get_response('오늘 날씨 어때?')}\")\n",
    "print(f\"'다른말' -> {get_response('점심 뭐 먹지?')}\")"
   ]
  }
 ],
 "metadata": {
  "colab": {
   "provenance": []
  },
  "kernelspec": {
   "display_name": "Python 3",
   "name": "python3"
  },
  "language_info": {
   "name": "python"
  }
 },
 "nbformat": 4,
 "nbformat_minor": 5
}