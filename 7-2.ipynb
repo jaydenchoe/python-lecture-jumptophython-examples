{
  "cells": [
    {
      "cell_type": "markdown",
      "metadata": {
        "id": "view-in-github",
        "colab_type": "text"
      },
      "source": [
        "<a href=\"https://colab.research.google.com/github/jaydenchoe/python-lecture-jumptophython-examples/blob/main/7-2.ipynb\" target=\"_parent\"><img src=\"https://colab.research.google.com/assets/colab-badge.svg\" alt=\"Open In Colab\"/></a>"
      ]
    },
    {
      "cell_type": "markdown",
      "metadata": {
        "id": "ZnLNVprgV3lg"
      },
      "source": [
        "# 🐍 파이썬 챗봇 만들기로 배우는 클로저와 데코레이터\n",
        "\n",
        "안녕하세요! 코딩의 세계에 오신 것을 환영합니다. 🎉\n",
        "\n",
        "이 노트북에서는 파이썬의 조금 특별한 기능인 **클로저(Closure)**와 **데코레이터(Decorator)**에 대해 배워볼 거예요. 이름이 조금 어려워 보일 수 있지만, 걱정 마세요! 아주 간단한 챗봇을 함께 만들면서 재미있게 이해할 수 있도록 도와드릴게요. 코딩 초보자도 쉽게 따라 할 수 있도록 모든 과정을 차근차근 설명할 거예요. 그럼, 신나는 챗봇 만들기 여정을 시작해 볼까요? 🤖"
      ]
    },
    {
      "cell_type": "markdown",
      "metadata": {
        "id": "T1BU2Wr1V3lh"
      },
      "source": [
        "## 1단계: 모든 것의 시작, 함수 (Function)\n",
        "\n",
        "챗봇을 만들기 전에, 파이썬에서 가장 기본이 되는 **함수**에 대해 알아볼게요. 함수는 특정 작업을 수행하는 코드 묶음이에요. 마치 커피 머신처럼, 원두(입력)를 넣으면 커피(결과)가 나오는 것과 같죠.\n",
        "\n",
        "우선, 간단하게 인사를 하는 함수를 만들어 볼까요? `def` 키워드를 사용해서 함수를 정의(define)할 수 있어요."
      ]
    },
    {
      "cell_type": "code",
      "execution_count": null,
      "metadata": {
        "id": "jsmaT7IrV3lh"
      },
      "outputs": [],
      "source": [
        "# 'hello_chatbot' 이라는 이름의 함수를 만들어요.\n",
        "def hello_chatbot():\n",
        "  print(\"안녕하세요! 저는 챗봇입니다. 🤖\")\n",
        "\n",
        "# 함수를 호출(실행)해 볼까요?\n",
        "hello_chatbot()"
      ]
    },
    {
      "cell_type": "markdown",
      "metadata": {
        "id": "h3-P07IIV3li"
      },
      "source": [
        "## 2단계: 외부 변수를 기억하는 똑똑한 함수, 클로저 (Closure)\n",
        "\n",
        "만약 우리가 여러 종류의 챗봇을 만들고 싶다면 어떨까요? 예를 들어, '파이'라는 챗봇과 '썬'이라는 챗봇이 각자 자기 이름을 말하게 하고 싶어요. 매번 새로운 함수를 만드는 건 비효율적이겠죠?\n",
        "\n",
        "이럴 때 **클로저**를 사용하면 아주 편리해요. 클로저는 **외부 함수의 변수를 기억하는 내부 함수**를 말해요. 말이 조금 어렵죠? 쉽게 말해, '챗봇을 만드는 공장' 함수를 만들고, 이 공장에서 각기 다른 이름을 가진 챗봇들을 찍어내는 것과 같아요.\n",
        "\n",
        "아래 코드를 보세요. `chatbot_factory`라는 함수(공장) 안에 `wrapper`라는 함수(챗봇)가 있어요. 공장 함수는 `wrapper` 함수를 반환하는데, 이때 `wrapper` 함수는 자기가 만들어질 때의 `name` 값을 계속 기억하고 있답니다! 이게 바로 클로저의 핵심이에요."
      ]
    },
    {
      "cell_type": "code",
      "execution_count": null,
      "metadata": {
        "id": "BUSZk0M8V3li"
      },
      "outputs": [],
      "source": [
        "# 챗봇을 만드는 공장 함수\n",
        "def chatbot_factory(name):\n",
        "  # 내부에 실제 챗봇의 행동을 정의하는 함수를 만들어요.\n",
        "  def wrapper(message):\n",
        "    # 외부 함수(chatbot_factory)의 변수 'name'을 기억해서 사용해요!\n",
        "    print(f\"{name}: {message}\")\n",
        "\n",
        "  # 내부 함수를 결과로 반환해요.\n",
        "  return wrapper\n",
        "\n",
        "# '파이'라는 이름을 가진 챗봇을 만들어요.\n",
        "bot_pi = chatbot_factory(\"파이\")\n",
        "\n",
        "# '썬'이라는 이름을 가진 챗봇을 만들어요.\n",
        "bot_sun = chatbot_factory(\"썬\")\n",
        "\n",
        "# 각 챗봇을 실행해 보세요.\n",
        "bot_pi(\"안녕! 클로저를 배우고 있어.\")\n",
        "bot_sun(\"만나서 반가워! 정말 신기하다.\")"
      ]
    },
    {
      "cell_type": "markdown",
      "metadata": {
        "id": "op8KYk0YV3li"
      },
      "source": [
        "## 3단계: 함수를 꾸며주는 마법, 데코레이터 (Decorator)\n",
        "\n",
        "이제 우리 챗봇에 새로운 기능을 추가해 볼까요? 예를 들어, 챗봇이 메시지를 보내는 데 얼마나 시간이 걸리는지 측정하고 싶어요. 모든 챗봇 함수를 수정하는 대신, **데코레이터**를 사용하면 기존 코드를 건드리지 않고 기능을 덧붙일 수 있어요.\n",
        "\n",
        "데코레이터는 이름처럼 함수를 '장식하는' 함수예요. 함수를 입력으로 받아서, 새로운 기능을 추가한 또 다른 함수를 반환하죠. 여기서도 클로저의 원리가 사용된답니다!\n",
        "\n",
        "아래 `time_checker` 함수가 바로 데코레이터예요. 이 함수는 다른 함수(`original_func`)를 인자로 받아서, 그 함수의 실행 시간을 재는 `wrapper` 함수를 만들어 반환해요."
      ]
    },
    {
      "cell_type": "code",
      "execution_count": null,
      "metadata": {
        "id": "tsMbbxbfV3li"
      },
      "outputs": [],
      "source": [
        "import time\n",
        "\n",
        "# 실행 시간을 측정하는 데코레이터 함수\n",
        "def time_checker(original_func):\n",
        "  def wrapper():\n",
        "    start_time = time.time()  # 시작 시간 기록\n",
        "    original_func()           # 원래 함수 실행\n",
        "    end_time = time.time()    # 종료 시간 기록\n",
        "    print(f\"(메시지 전송 시간: {end_time - start_time:.6f}초)\") # 걸린 시간 출력\n",
        "  return wrapper\n",
        "\n",
        "# 간단한 인사말을 하는 챗봇 함수\n",
        "def simple_chatbot():\n",
        "  print(\"단순 챗봇: 안녕하세요!\")\n",
        "\n",
        "# 데코레이터를 적용해 새로운 기능이 추가된 챗봇 함수를 만들어요.\n",
        "decorated_chatbot = time_checker(simple_chatbot)\n",
        "\n",
        "# 새로 만들어진 함수를 실행해 보세요.\n",
        "decorated_chatbot()"
      ]
    },
    {
      "cell_type": "markdown",
      "metadata": {
        "id": "t2ScsiomV3li"
      },
      "source": [
        "### @ 기호로 데코레이터 쉽게 사용하기\n",
        "\n",
        "매번 `decorated_chatbot = time_checker(simple_chatbot)` 와 같이 코드를 쓰는 건 조금 번거로울 수 있어요. 파이썬은 이 과정을 더 쉽게 만들어주는 마법 같은 기호 `@`를 제공해요.  함수 정의 바로 위에 `@데코레이터이름`을 붙여주면, 파이썬이 알아서 해당 함수를 데코레이터로 꾸며준답니다."
      ]
    },
    {
      "cell_type": "code",
      "execution_count": null,
      "metadata": {
        "id": "lF6iUDRHV3lj"
      },
      "outputs": [],
      "source": [
        "import time\n",
        "\n",
        "# 실행 시간을 측정하는 데코레이터 함수 (위와 동일)\n",
        "def time_checker(original_func):\n",
        "  def wrapper():\n",
        "    start_time = time.time()\n",
        "    original_func()\n",
        "    end_time = time.time()\n",
        "    print(f\"(메시지 전송 시간: {end_time - start_time:.6f}초)\")\n",
        "  return wrapper\n",
        "\n",
        "# @를 사용해서 데코레이터를 바로 적용해요!\n",
        "@time_checker\n",
        "def simple_chatbot_with_at():\n",
        "  print(\"단순 챗봇: @를 사용하니 정말 편하네요!\")\n",
        "\n",
        "# 이제 함수를 그냥 호출하기만 하면 돼요.\n",
        "simple_chatbot_with_at()"
      ]
    },
    {
      "cell_type": "markdown",
      "metadata": {
        "id": "1OCMhFU4V3lj"
      },
      "source": [
        "## 4단계: 어떤 상황에도 대처하는 만능 데코레이터 만들기\n",
        "\n",
        "그런데 만약 우리 챗봇 함수가 사용자로부터 메시지(`msg`) 같은 입력값(인자)을 받는다면 어떻게 될까요? 위에서 만든 `time_checker`는 인자를 처리할 수 없어서 오류가 발생할 거예요.\n",
        "\n",
        "데코레이터는 어떤 함수가 들어올지 모르기 때문에, 모든 종류의 인자를 처리할 수 있도록 만들어야 해요. 이때 사용하는 비장의 무기가 바로 `*args`와 `**kwargs`입니다.\n",
        "- `*args`: 여러 개의 일반 인자들을 튜플(tuple)로 묶어서 받아줘요.\n",
        "- `**kwargs`: `name='파이'`처럼 키워드가 있는 인자들을 딕셔너리(dictionary)로 묶어서 받아줘요.\n",
        "\n",
        "이 두 가지를 사용하면 어떤 형태의 인자가 들어와도 유연하게 대처할 수 있는 만능 데코레이터를 만들 수 있답니다!"
      ]
    },
    {
      "cell_type": "code",
      "execution_count": null,
      "metadata": {
        "id": "7XemhEqUV3lj"
      },
      "outputs": [],
      "source": [
        "import time\n",
        "\n",
        "# *args, **kwargs를 사용해 업그레이드된 데코레이터\n",
        "def smart_time_checker(original_func):\n",
        "  # wrapper 함수가 어떤 인자든 받을 수 있도록 *args, **kwargs를 추가해요.\n",
        "  def wrapper(*args, **kwargs):\n",
        "    start_time = time.time()\n",
        "    # 받은 인자들을 그대로 원래 함수에 전달해 줘요.\n",
        "    result = original_func(*args, **kwargs)\n",
        "    end_time = time.time()\n",
        "    print(f\"(메시지 전송 시간: {end_time - start_time:.6f}초)\")\n",
        "    return result # 원래 함수의 결과값도 그대로 반환해 줘요.\n",
        "  return wrapper\n",
        "\n",
        "@smart_time_checker\n",
        "def advanced_chatbot(name, message):\n",
        "  print(f\"{name}: {message}\")\n",
        "\n",
        "# 인자가 있는 함수에도 데코레이터가 잘 동작하는 것을 확인해 보세요!\n",
        "advanced_chatbot(\"만능 챗봇\", \"데코레이터, 이제 문제 없어!\")"
      ]
    },
    {
      "cell_type": "markdown",
      "metadata": {
        "id": "XUoC0NPIV3lj"
      },
      "source": [
        "# 📝 혼자 해보는 연습 문제\n",
        "\n",
        "이제 배운 내용을 바탕으로 간단한 연습 문제를 풀어보며 실력을 다져볼 시간이에요!\n",
        "각 문제의 코드 셀에서 `___` 부분을 채워서 코드를 완성하고 실행해 보세요. 정답은 맨 아래에 있으니, 꼭 먼저 스스로 풀어보세요! 화이팅! 💪"
      ]
    },
    {
      "cell_type": "markdown",
      "metadata": {
        "id": "87zKq_LiV3lj"
      },
      "source": [
        "### **문제 1: 간단한 함수 만들기**\n",
        "\n",
        "챗봇의 점심 메뉴 추천 기능을 함수로 만들어 보세요. `recommend_lunch` 함수를 호출하면 \"오늘 점심은 맛있는 파스타 어떠세요? 🍝\"가 출력되도록 `___` 부분을 채워주세요."
      ]
    },
    {
      "cell_type": "code",
      "execution_count": null,
      "metadata": {
        "id": "7TAcyaALV3lj"
      },
      "outputs": [],
      "source": [
        "def recommend_lunch():\n",
        "  recommendation = \"오늘 점심은 맛있는 파스타 어떠세요? 🍝\"\n",
        "  print(___)\n",
        "\n",
        "# 함수 호출 테스트\n",
        "recommend_lunch()"
      ]
    },
    {
      "cell_type": "markdown",
      "metadata": {
        "id": "Tbn5mNVtV3lj"
      },
      "source": [
        "### **문제 2: 인자를 받는 함수 만들기**\n",
        "\n",
        "사용자의 이름을 받아서 맞춤 인사를 해주는 함수를 만들어보세요. `greet_user` 함수가 `name`을 인자로 받아서 \"안녕하세요, [이름]님! 반갑습니다.\" 라고 출력하도록 `___` 부분을 채워주세요."
      ]
    },
    {
      "cell_type": "code",
      "execution_count": null,
      "metadata": {
        "id": "ZpcnAkGOV3lj"
      },
      "outputs": [],
      "source": [
        "def greet_user(name):\n",
        "  print(f\"안녕하세요, {___}님! 반갑습니다.\")\n",
        "\n",
        "# 함수 호출 테스트\n",
        "greet_user(\"홍길동\")"
      ]
    },
    {
      "cell_type": "markdown",
      "metadata": {
        "id": "a42RCuHHV3lj"
      },
      "source": [
        "### **문제 3: 클로저 팩토리 함수 만들기**\n",
        "\n",
        "다양한 언어로 인사하는 챗봇을 만드는 공장 함수 `language_factory`를 만들어보세요. 이 함수는 `language`와 `greeting`을 인자로 받아서, 특정 언어로 인사말을 출력하는 클로저 함수를 반환해야 합니다. `___` 부분을 채워 클로저를 완성하세요."
      ]
    },
    {
      "cell_type": "code",
      "execution_count": null,
      "metadata": {
        "id": "dvcGh4g7V3lj"
      },
      "outputs": [],
      "source": [
        "def language_factory(language, greeting):\n",
        "  def closure(name):\n",
        "    print(f\"({language}) {greeting}, {name}!\")\n",
        "  return ___\n",
        "\n",
        "# 테스트 (아래 코드는 수정하지 마세요)\n",
        "english_bot = language_factory(\"English\", \"Hello\")\n",
        "spanish_bot = language_factory(\"Spanish\", \"Hola\")\n",
        "\n",
        "english_bot(\"Tom\")\n",
        "spanish_bot(\"Maria\")"
      ]
    },
    {
      "cell_type": "markdown",
      "metadata": {
        "id": "vEzgRxu9V3lj"
      },
      "source": [
        "### **문제 4: 클로저 사용하기**\n",
        "\n",
        "문제 3에서 만든 `language_factory`를 사용해서, 한국어와 프랑스어로 인사하는 챗봇 `korean_bot`과 `french_bot`을 만들어 보세요. `___`에 알맞은 인자를 넣어 챗봇을 생성하세요."
      ]
    },
    {
      "cell_type": "code",
      "execution_count": null,
      "metadata": {
        "id": "LDGc92wxV3lj"
      },
      "outputs": [],
      "source": [
        "def language_factory(language, greeting):\n",
        "  def closure(name):\n",
        "    print(f\"({language}) {greeting}, {name}!\")\n",
        "  return closure\n",
        "\n",
        "# 한국어 챗봇 만들기\n",
        "korean_bot = language_factory(___, ___)\n",
        "\n",
        "# 프랑스어 챗봇 만들기\n",
        "french_bot = language_factory(___, ___)\n",
        "\n",
        "# 테스트 (아래 코드는 수정하지 마세요)\n",
        "korean_bot(\"철수\")\n",
        "french_bot(\"Sophie\")"
      ]
    },
    {
      "cell_type": "markdown",
      "metadata": {
        "id": "2tGdj8zPV3lj"
      },
      "source": [
        "### **문제 5: 간단한 데코레이터 만들기**\n",
        "\n",
        "함수 실행 전에는 \"챗봇이 응답을 시작합니다...\"를, 실행 후에는 \"...챗봇 응답이 종료되었습니다.\"를 출력하는 `start_end_decorator`를 만들어 보세요. `___` 부분을 채워 데코레이터를 완성하세요."
      ]
    },
    {
      "cell_type": "code",
      "execution_count": null,
      "metadata": {
        "id": "qfQjUx-2V3lj"
      },
      "outputs": [],
      "source": [
        "def start_end_decorator(func):\n",
        "  def wrapper():\n",
        "    print(\"챗봇이 응답을 시작합니다...\")\n",
        "    ___  # 원래 함수를 이 위치에서 호출해야 해요\n",
        "    print(\"...챗봇 응답이 종료되었습니다.\")\n",
        "  return wrapper\n",
        "\n",
        "# 테스트 (아래 코드는 수정하지 마세요)\n",
        "@start_end_decorator\n",
        "def tell_joke():\n",
        "  print(\"세상에서 가장 뜨거운 과일이 뭔지 아세요? 천도복숭아래요! ㅎㅎ\")\n",
        "\n",
        "tell_joke()"
      ]
    },
    {
      "cell_type": "markdown",
      "metadata": {
        "id": "vhvopwfFV3lj"
      },
      "source": [
        "### **문제 6: 데코레이터 적용하기**\n",
        "\n",
        "문제 5에서 만든 `start_end_decorator`를 날씨를 알려주는 `tell_weather` 함수에 `@` 기호를 사용해 적용해 보세요."
      ]
    },
    {
      "cell_type": "code",
      "execution_count": null,
      "metadata": {
        "id": "YBRLUVRuV3lj"
      },
      "outputs": [],
      "source": [
        "def start_end_decorator(func):\n",
        "  def wrapper():\n",
        "    print(\"챗봇이 응답을 시작합니다...\")\n",
        "    func()\n",
        "    print(\"...챗봇 응답이 종료되었습니다.\")\n",
        "  return wrapper\n",
        "\n",
        "# ___ 부분을 채워 데코레이터를 적용하세요.\n",
        "___\n",
        "def tell_weather():\n",
        "  print(\"오늘 날씨는 아주 맑습니다! ☀️\")\n",
        "\n",
        "# 테스트\n",
        "tell_weather()"
      ]
    },
    {
      "cell_type": "markdown",
      "metadata": {
        "id": "hFaYFMtiV3lj"
      },
      "source": [
        "### **문제 7: 인자를 처리하는 데코레이터 만들기**\n",
        "\n",
        "문제 5의 `start_end_decorator`가 인자를 받을 수 있도록 `*args`, `**kwargs`를 사용해서 업그레이드해 보세요."
      ]
    },
    {
      "cell_type": "code",
      "execution_count": null,
      "metadata": {
        "id": "HvJuTNx_V3lj"
      },
      "outputs": [],
      "source": [
        "def smart_start_end_decorator(func):\n",
        "  # wrapper가 인자를 받을 수 있도록 ___ 부분을 채우세요.\n",
        "  def wrapper(___):\n",
        "    print(\"챗봇이 응답을 시작합니다...\")\n",
        "    # func에 인자를 전달하도록 ___ 부분을 채우세요.\n",
        "    func(___)\n",
        "    print(\"...챗봇 응답이 종료되었습니다.\")\n",
        "  return wrapper\n",
        "\n",
        "# 테스트 (아래 코드는 수정하지 마세요)\n",
        "@smart_start_end_decorator\n",
        "def echo_message(message):\n",
        "  print(f\"따라하기: {message}\")\n",
        "\n",
        "echo_message(\"파이썬은 정말 재미있어!\")"
      ]
    },
    {
      "cell_type": "markdown",
      "metadata": {
        "id": "dkrYexVnV3lk"
      },
      "source": [
        "### **문제 8: 데코레이터와 인자 함께 사용하기**\n",
        "\n",
        "문제 7에서 만든 `smart_start_end_decorator`를 사용해서, 두 숫자를 더한 결과를 알려주는 `add_numbers` 함수를 꾸며보세요. `@`를 사용해서 데코레이터를 적용하고 함수를 호출하여 테스트하세요."
      ]
    },
    {
      "cell_type": "code",
      "execution_count": null,
      "metadata": {
        "id": "vuQs_OLRV3lk"
      },
      "outputs": [],
      "source": [
        "def smart_start_end_decorator(func):\n",
        "  def wrapper(*args, **kwargs):\n",
        "    print(\"챗봇이 응답을 시작합니다...\")\n",
        "    func(*args, **kwargs)\n",
        "    print(\"...챗봇 응답이 종료되었습니다.\")\n",
        "  return wrapper\n",
        "\n",
        "# 데코레이터를 적용하세요.\n",
        "___\n",
        "def add_numbers(a, b):\n",
        "  print(f\"{a} + {b} = {a + b} 입니다.\")\n",
        "\n",
        "# 함수를 호출하여 테스트하세요.\n",
        "___(10, 20)"
      ]
    },
    {
      "cell_type": "markdown",
      "metadata": {
        "id": "OQ8hGsJHV3lk"
      },
      "source": [
        "### **문제 9: 함수 호출 횟수를 세는 데코레이터 만들기**\n",
        "\n",
        "조금 더 어려운 문제입니다! 함수가 총 몇 번 호출되었는지 세는 `call_counter` 데코레이터를 만들어 보세요. 클로저의 특징을 이용해서 `wrapper` 함수 바깥에 `count` 변수를 선언하고, `wrapper` 안에서 이 변수를 수정해야 합니다. (힌트: `nonlocal` 키워드가 필요할 수 있어요!)"
      ]
    },
    {
      "cell_type": "code",
      "execution_count": null,
      "metadata": {
        "id": "pKi3KViDV3lk"
      },
      "outputs": [],
      "source": [
        "def call_counter(func):\n",
        "  count = 0\n",
        "  def wrapper(*args, **kwargs):\n",
        "    nonlocal ___\n",
        "    count += 1\n",
        "    print(f\"(이 함수는 총 {count}번 호출되었습니다.)\")\n",
        "    return func(*args, **kwargs)\n",
        "  return wrapper\n",
        "\n",
        "# 테스트 (아래 코드는 수정하지 마세요)\n",
        "@call_counter\n",
        "def say_hello():\n",
        "  print(\"Hello!\")\n",
        "\n",
        "say_hello()\n",
        "say_hello()\n",
        "say_hello()"
      ]
    },
    {
      "cell_type": "markdown",
      "metadata": {
        "id": "Ag5FYu5-V3lk"
      },
      "source": [
        "### **문제 10: 여러 데코레이터 함께 사용하기**\n",
        "\n",
        "우리가 만든 `smart_start_end_decorator`와 `call_counter` 데코레이터를 한 함수에 모두 적용해 봅시다. 데코레이터는 위에 쓴 것부터 차례대로 적용됩니다. `say_hooray` 함수에 두 데코레이터를 모두 적용해서 실행 결과를 확인해 보세요."
      ]
    },
    {
      "cell_type": "code",
      "execution_count": null,
      "metadata": {
        "id": "HU_Cf401V3lk"
      },
      "outputs": [],
      "source": [
        "def call_counter(func):\n",
        "  count = 0\n",
        "  def wrapper(*args, **kwargs):\n",
        "    nonlocal count\n",
        "    count += 1\n",
        "    print(f\"(이 함수는 총 {count}번 호출되었습니다.)\")\n",
        "    return func(*args, **kwargs)\n",
        "  return wrapper\n",
        "\n",
        "def smart_start_end_decorator(func):\n",
        "  def wrapper(*args, **kwargs):\n",
        "    print(\"챗봇이 응답을 시작합니다...\")\n",
        "    func(*args, **kwargs)\n",
        "    print(\"...챗봇 응답이 종료되었습니다.\")\n",
        "  return wrapper\n",
        "\n",
        "# 두 데코레이터를 모두 적용하세요.\n",
        "___\n",
        "___\n",
        "def say_hooray():\n",
        "  print(\"만세! 데코레이터를 정복했어요!\")\n",
        "\n",
        "# 테스트\n",
        "say_hooray()\n",
        "print(\"-\"*20)\n",
        "say_hooray()"
      ]
    },
    {
      "cell_type": "markdown",
      "metadata": {
        "id": "xKgKG1gKV3lk"
      },
      "source": [
        "---\n",
        "\n",
        "# ⚙️ 연습 문제 정답\n",
        "\n",
        "**문제 1 정답**\n",
        "```python\n",
        "print(recommendation)\n",
        "```\n",
        "\n",
        "**문제 2 정답**\n",
        "```python\n",
        "print(f\"안녕하세요, {name}님! 반갑습니다.\")\n",
        "```\n",
        "\n",
        "**문제 3 정답**\n",
        "```python\n",
        "return closure\n",
        "```\n",
        "\n",
        "**문제 4 정답**\n",
        "```python\n",
        "korean_bot = language_factory(\"한국어\", \"안녕하세요\")\n",
        "french_bot = language_factory(\"French\", \"Bonjour\")\n",
        "```\n",
        "\n",
        "**문제 5 정답**\n",
        "```python\n",
        "func() # 원래 함수 호출\n",
        "```\n",
        "\n",
        "**문제 6 정답**\n",
        "```python\n",
        "@start_end_decorator\n",
        "```\n",
        "\n",
        "**문제 7 정답**\n",
        "```python\n",
        "def wrapper(*args, **kwargs):\n",
        "  ...\n",
        "  func(*args, **kwargs)\n",
        "  ...\n",
        "```\n",
        "\n",
        "**문제 8 정답**\n",
        "```python\n",
        "@smart_start_end_decorator\n",
        "...\n",
        "add_numbers(10, 20)\n",
        "```\n",
        "\n",
        "**문제 9 정답**\n",
        "```python\n",
        "nonlocal count\n",
        "```\n",
        "\n",
        "**문제 10 정답**\n",
        "```python\n",
        "@smart_start_end_decorator\n",
        "@call_counter\n",
        "```"
      ]
    }
  ],
  "metadata": {
    "colab": {
      "provenance": [],
      "include_colab_link": true
    },
    "kernelspec": {
      "display_name": "Python 3",
      "name": "python3"
    },
    "language_info": {
      "name": "python"
    }
  },
  "nbformat": 4,
  "nbformat_minor": 0
}