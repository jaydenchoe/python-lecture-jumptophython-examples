{
 "cells": [
  {
   "cell_type": "markdown",
   "metadata": {},
   "source": [
    "# 🤖 챗봇과 대화하기: 사용자의 입력을 받고 출력하기 🤖\n",
    "\n",
    "지난 시간에는 함수를 만들어 챗봇에게 말을 시켜봤어요. 하지만 진짜 대화는 서로 말을 주고받는 것이겠죠? \n",
    "\n",
    "오늘은 사용자인 우리가 챗봇에게 말을 거는 방법(**입력**)과, 챗봇이 그에 맞춰 대답하는 방법(**출력**)에 대해 배워볼 거예요. 이제 챗봇과 진짜 친구가 될 시간이에요! 🥳"
   ]
  },
  {
   "cell_type": "markdown",
   "metadata": {},
   "source": [
    "## 1. 챗봇에게 내 이름 알려주기: `input()`\n",
    "\n",
    "프로그램이 사용자로부터 무언가를 물어보고, 키보드로 입력받고 싶을 때 `input()` 함수를 사용해요. 마치 챗봇이 우리에게 질문하고 대답을 기다리는 것과 같아요.\n",
    "\n",
    "`input()` 괄호 안에 질문을 넣어주면, 그 질문을 화면에 보여주고 우리의 입력을 기다린답니다. "
   ]
  },
  {
   "cell_type": "code",
   "execution_count": null,
   "metadata": {},
   "outputs": [],
   "source": [
    "# input() 함수를 사용해서 챗봇이 이름을 물어보게 합시다.\n",
    "# 우리가 입력한 이름은 user_name 이라는 변수에 저장될 거예요.\n",
    "user_name = input(\"챗봇: 안녕! 이름이 뭐야? \")\n",
    "\n",
    "# f-string을 사용해서 입력받은 이름으로 인사해볼까요?\n",
    "print(f\"챗봇: 와, {user_name}! 정말 멋진 이름이구나.\")\n",
    "print(f\"챗봇: 만나서 반가워, {user_name}!\")"
   ]
  },
  {
   "cell_type": "markdown",
   "metadata": {},
   "source": [
    "## 2. \"숫자 5\" vs 숫자 5: 자료형 변환하기\n",
    "\n",
    "아주 중요한 점이 있어요! `input()`으로 받은 모든 것은 컴퓨터가 **글자(문자열, str)**로 받아들여요. 설령 우리가 숫자 `100`을 입력했더라도, 컴퓨터는 그걸 '1', '0', '0' 이라는 글자들의 조합으로 생각해요.\n",
    "\n",
    "그래서 숫자 계산을 하려면, 입력받은 글자를 진짜 **숫자(정수 int, 실수 float)**로 변신시켜 줘야 해요. 이걸 **형 변환(Type Casting)**이라고 불러요. \n",
    "\n",
    "- `int()`: 글자를 정수(Integer)로 변신! \n",
    "- `float()`: 글자를 실수(Float, 소수점이 있는 수)로 변신! "
   ]
  },
  {
   "cell_type": "code",
   "execution_count": 1,
   "metadata": {},
   "outputs": [
    {
     "name": "stdout",
     "output_type": "stream",
     "text": [
      "입력받은 값의 타입: <class 'str'>\n"
     ]
    },
    {
     "ename": "ValueError",
     "evalue": "invalid literal for int() with base 10: ''",
     "output_type": "error",
     "traceback": [
      "\u001b[31m---------------------------------------------------------------------------\u001b[39m",
      "\u001b[31mValueError\u001b[39m                                Traceback (most recent call last)",
      "\u001b[36mCell\u001b[39m\u001b[36m \u001b[39m\u001b[32mIn[1]\u001b[39m\u001b[32m, line 8\u001b[39m\n\u001b[32m      5\u001b[39m \u001b[38;5;28mprint\u001b[39m(\u001b[33mf\u001b[39m\u001b[33m\"\u001b[39m\u001b[33m입력받은 값의 타입: \u001b[39m\u001b[38;5;132;01m{\u001b[39;00m\u001b[38;5;28mtype\u001b[39m(user_age_str)\u001b[38;5;132;01m}\u001b[39;00m\u001b[33m\"\u001b[39m)\n\u001b[32m      7\u001b[39m \u001b[38;5;66;03m# int()를 사용해서 진짜 숫자로 변신시켜줘요!\u001b[39;00m\n\u001b[32m----> \u001b[39m\u001b[32m8\u001b[39m user_age_int = \u001b[38;5;28;43mint\u001b[39;49m\u001b[43m(\u001b[49m\u001b[43muser_age_str\u001b[49m\u001b[43m)\u001b[49m\n\u001b[32m      9\u001b[39m \u001b[38;5;28mprint\u001b[39m(\u001b[33mf\u001b[39m\u001b[33m\"\u001b[39m\u001b[33m숫자로 변신한 값의 타입: \u001b[39m\u001b[38;5;132;01m{\u001b[39;00m\u001b[38;5;28mtype\u001b[39m(user_age_int)\u001b[38;5;132;01m}\u001b[39;00m\u001b[33m\"\u001b[39m)\n\u001b[32m     11\u001b[39m \u001b[38;5;66;03m# 이제 덧셈 계산을 할 수 있어요.\u001b[39;00m\n",
      "\u001b[31mValueError\u001b[39m: invalid literal for int() with base 10: ''"
     ]
    }
   ],
   "source": [
    "# 챗봇이 나이를 물어보게 하고, 덧셈을 해봅시다.\n",
    "user_age_str = input(\"챗봇: 실례지만, 나이가 어떻게 되니? \")\n",
    "\n",
    "# user_age_str은 아직 글자(\"20\" 같은) 상태예요.\n",
    "print(f\"입력받은 값의 타입: {type(user_age_str)}\")\n",
    "\n",
    "# int()를 사용해서 진짜 숫자로 변신시켜줘요!\n",
    "user_age_int = int(user_age_str)\n",
    "print(f\"숫자로 변신한 값의 타입: {type(user_age_int)}\")\n",
    "\n",
    "# 이제 덧셈 계산을 할 수 있어요.\n",
    "next_year_age = user_age_int + 1\n",
    "print(f\"챗봇: 그렇구나! 그럼 내년에는 {next_year_age}살이 되겠네!\")"
   ]
  },
  {
   "cell_type": "markdown",
   "metadata": {},
   "source": [
    "### 한번에 변신시키기!\n",
    "\n",
    "코드를 더 짧게 쓰고 싶다면, `input()`을 받자마자 바로 `int()`나 `float()`로 감싸줄 수 있어요. "
   ]
  },
  {
   "cell_type": "code",
   "execution_count": null,
   "metadata": {},
   "outputs": [],
   "source": [
    "# input()으로 키를 입력받고, 바로 float()로 변신!\n",
    "user_height_cm = float(input(\"챗봇: 키는 몇 cm야? (예: 175.5) \"))\n",
    "\n",
    "# m 단위로 바꿔서 출력해볼까요?\n",
    "user_height_m = user_height_cm / 100\n",
    "print(f\"챗봇: 와! {user_height_cm}cm 라니! 미터(m)로 바꾸면 {user_height_m}m 구나!\")"
   ]
  },
  {
   "cell_type": "markdown",
   "metadata": {},
   "source": [
    "## 3. 챗봇의 말투를 바꿔보자: `print()` 더 알아보기\n",
    "\n",
    "`print()` 함수는 우리가 생각하는 것보다 더 똑똑해요! 몇 가지 옵션을 추가해서 출력 형식을 예쁘게 바꿀 수 있답니다.\n",
    "\n",
    "### 쉼표(`,`)로 이어 말하기\n",
    "`print()` 안에 여러 개의 값을 쉼표로 구분해서 넣으면, 각각의 값 사이에 띄어쓰기를 넣어서 출력해줘요. "
   ]
  },
  {
   "cell_type": "code",
   "execution_count": null,
   "metadata": {},
   "outputs": [],
   "source": [
    "print(\"챗봇:\", \"나는\", \"파이썬을\", \"좋아해\")"
   ]
  },
  {
   "cell_type": "markdown",
   "metadata": {},
   "source": [
    "### 구분자(separator)를 내 마음대로! `sep`\n",
    "쉼표로 값을 구분할 때, 그 사이를 띄어쓰기 말고 다른 글자로 채우고 싶다면 `sep` 옵션을 사용해요. "
   ]
  },
  {
   "cell_type": "code",
   "execution_count": null,
   "metadata": {},
   "outputs": [],
   "source": [
    "# sep=\"-\" 를 사용해서 날짜를 출력해볼까요?\n",
    "print(\"2025\", \"09\", \"13\", sep=\"-\")\n",
    "\n",
    "# sep=\"->\" 를 사용해서 경로를 표시해볼까요?\n",
    "print(\"서울\", \"대전\", \"대구\", \"부산\", sep=\" -> \")"
   ]
  },
  {
   "cell_type": "markdown",
   "metadata": {},
   "source": [
    "### 줄 바꾸지 않고 계속 말하기! `end`\n",
    "원래 `print()` 함수는 말을 한번 하고 나면 무조건 줄을 바꿔요. 만약 줄을 바꾸지 않고 다음 `print()` 내용이 바로 옆에 이어지게 하고 싶다면 `end` 옵션을 사용해요. "
   ]
  },
  {
   "cell_type": "code",
   "execution_count": null,
   "metadata": {},
   "outputs": [],
   "source": [
    "print(\"챗봇: 하나씩 세어볼게. \", end=\"\") # end=\"\"는 줄바꿈을 하지 말라는 뜻!\n",
    "print(\"하나! \", end=\"\")\n",
    "print(\"둘! \", end=\"\")\n",
    "print(\"셋! 다 셌다!\")"
   ]
  },
  {
   "cell_type": "markdown",
   "metadata": {},
   "source": [
    "## ⭐️ 혼자 해보는 챗봇과 대화하기 ⭐️\n",
    "\n",
    "이제 배운 내용을 활용해서 챗봇과 더 재미있는 대화를 나눠봐요!\n",
    "아래 문제들의 코드 셀에서 `___` 부분을 채워서 코드를 완성해보세요!"
   ]
  },
  {
   "cell_type": "markdown",
   "metadata": {},
   "source": [
    "### 연습문제 1: 좋아하는 색깔 묻기\n",
    "`input()`을 사용해서 사용자에게 좋아하는 색깔을 물어보고, \"___색이라니, 정말 예쁜 색이네요!\" 라고 답하는 코드를 완성하세요."
   ]
  },
  {
   "cell_type": "code",
   "execution_count": null,
   "metadata": {},
   "outputs": [],
   "source": [
    "fav_color = ___(\"챗봇: 가장 좋아하는 색깔이 뭐예요? \")\n",
    "print(f\"챗봇: {fav_color}색이라니, 정말 예쁜 색이네요!\")"
   ]
  },
  {
   "cell_type": "markdown",
   "metadata": {},
   "source": [
    "### 연습문제 2: 간단한 구구단\n",
    "사용자에게 구구단 몇 단을 원하는지 숫자로 입력받으세요. 그 다음, 입력받은 숫자에 9를 곱한 결과를 출력하는 코드를 완성하세요."
   ]
  },
  {
   "cell_type": "code",
   "execution_count": null,
   "metadata": {},
   "outputs": [],
   "source": [
    "dan_str = input(\"챗봇: 구구단 몇 단을 외워줄까? \")\n",
    "# 입력받은 글자를 숫자로 바꿔주세요!\n",
    "dan_int = ___ (dan_str)\n",
    "result = dan_int * 9\n",
    "print(f\"챗봇: {dan_int} 곱하기 9는 {result} 입니다!\")"
   ]
  },
  {
   "cell_type": "markdown",
   "metadata": {},
   "source": [
    "### 연습문제 3: 섭씨를 화씨로 바꾸기\n",
    "사용자에게 섭씨(Celsius) 온도를 숫자로 입력받아 화씨(Fahrenheit) 온도로 변환하여 출력하세요. (화씨 = 섭씨 * 1.8 + 32)"
   ]
  },
  {
   "cell_type": "code",
   "execution_count": null,
   "metadata": {},
   "outputs": [],
   "source": [
    "# 소수점이 나올 수 있으니 float으로 변환하는게 좋아요!\n",
    "celsius = ___(input(\"챗봇: 섭씨 온도를 알려주세요 (예: 25.5): \"))\n",
    "fahrenheit = celsius * 1.8 + 32\n",
    "print(f\"챗봇: 섭씨 {celsius}도는 화씨 {fahrenheit}도 입니다.\")"
   ]
  },
  {
   "cell_type": "markdown",
   "metadata": {},
   "source": [
    "### 연습문제 4: 전화번호 출력하기\n",
    "`print` 함수의 `sep` 옵션을 사용해서 010, 1234, 5678을 입력하면 `010-1234-5678` 형태로 출력되도록 코드를 완성하세요."
   ]
  },
  {
   "cell_type": "code",
   "execution_count": null,
   "metadata": {},
   "outputs": [],
   "source": [
    "part1 = \"010\"\n",
    "part2 = \"1234\"\n",
    "part3 = \"5678\"\n",
    "print(part1, part2, part3, sep=___)"
   ]
  },
  {
   "cell_type": "markdown",
   "metadata": {},
   "source": [
    "### 연습문제 5: 로딩 메시지 만들기\n",
    "`print` 함수의 `end` 옵션을 사용해서 \"로딩중... 10%... 50%... 100% 완료!\"가 한 줄에 출력되도록 코드를 완성하세요."
   ]
  },
  {
   "cell_type": "code",
   "execution_count": null,
   "metadata": {},
   "outputs": [],
   "source": [
    "print(\"로딩중... \", end=\"\")\n",
    "print(\"10%... \", ___)\n",
    "print(\"50%... \", end=\"\")\n",
    "print(\"100% 완료!\")"
   ]
  },
  {
   "cell_type": "markdown",
   "metadata": {},
   "source": [
    "### 연습문제 6: 두 숫자 입력받아 더하기\n",
    "사용자에게 첫 번째 숫자와 두 번째 숫자를 차례로 입력받으세요. 그 다음 두 숫자의 합을 출력하는 코드를 완성하세요."
   ]
  },
  {
   "cell_type": "code",
   "execution_count": null,
   "metadata": {},
   "outputs": [],
   "source": [
    "num1 = int(input(\"챗봇: 첫 번째 숫자를 입력해줘: \"))\n",
    "num2 = ___(input(\"챗봇: 두 번째 숫자를 입력해줘: \"))\n",
    "total = num1 + ___\n",
    "print(f\"챗봇: {num1} 더하기 {num2}는 {total}이야!\")"
   ]
  },
  {
   "cell_type": "markdown",
   "metadata": {},
   "source": [
    "### 연습문제 7: 이메일 주소 만들기\n",
    "사용자에게 아이디와 도메인을 따로 입력받으세요. 그 다음, `print`와 `sep` 옵션을 사용해서 `아이디@도메인` 형태의 완전한 이메일 주소를 출력하세요."
   ]
  },
  {
   "cell_type": "code",
   "execution_count": null,
   "metadata": {},
   "outputs": [],
   "source": [
    "user_id = input(\"아이디를 입력하세요: \")\n",
    "domain = input(\"도메인을 입력하세요: \")\n",
    "print(user_id, domain, sep=___)"
   ]
  },
  {
   "cell_type": "markdown",
   "metadata": {},
   "source": [
    "### 연습문제 8: 태어난 연도 물어보기\n",
    "사용자에게 태어난 연도를 입력받으세요. 그리고 그 값을 숫자로 변환해서 `birth_year` 변수에 저장하는 코드를 한 줄로 완성하세요."
   ]
  },
  {
   "cell_type": "code",
   "execution_count": null,
   "metadata": {},
   "outputs": [],
   "source": [
    "# input으로 받고 int로 변환하는 과정을 한 줄에 써보세요!\n",
    "birth_year = ___(input(\"챗봇: 몇 년도에 태어났니? \"))\n",
    "\n",
    "print(f\"챗봇: {birth_year}년생이구나! 반가워!\")"
   ]
  },
  {
   "cell_type": "markdown",
   "metadata": {},
   "source": [
    "### 연습문제 9: 문장 이어 붙이기\n",
    "아래 세 개의 `print`문이 한 줄에 \"파이썬은 정말 재미있어!\" 라고 출력되도록 `end` 옵션을 알맞게 채워 넣으세요."
   ]
  },
  {
   "cell_type": "code",
   "execution_count": null,
   "metadata": {},
   "outputs": [],
   "source": [
    "print(\"파이썬은 \", end=___)\n",
    "print(\"정말 \", end=___)\n",
    "print(\"재미있어!\")"
   ]
  },
  {
   "cell_type": "markdown",
   "metadata": {},
   "source": [
    "### 연습문제 10: 자기소개 챗봇\n",
    "사용자에게 이름, 나이, 사는 곳을 차례로 `input`으로 입력받으세요. 그 다음, 입력받은 정보들을 이용해서 한 문장으로 자기소개를 출력하는 코드를 완성하세요."
   ]
  },
  {
   "cell_type": "code",
   "execution_count": null,
   "metadata": {},
   "outputs": [],
   "source": [
    "name = input(\"챗봇: 이름이 뭐야? \")\n",
    "age = input(\"챗봇: 몇 살이야? \")\n",
    "city = ___( \"챗봇: 어디에 살아? \")\n",
    "\n",
    "print(f\"챗봇: 안녕! 내 이름은 {name}이고, 나이는 {age}살이야. 지금은 {city}에 살고 있어.\")"
   ]
  },
  {
   "cell_type": "markdown",
   "metadata": {},
   "source": [
    "## 모든 문제를 해결하셨나요? 정말 대단해요! 🌟\n",
    "\n",
    "이제 여러분은 챗봇과 자유롭게 대화할 수 있는 기본적인 방법을 모두 배웠어요. 사용자의 입력을 받고, 그에 맞게 대답하는 프로그램을 얼마든지 만들 수 있답니다. 앞으로 우리가 만들 챗봇이 얼마나 더 똑똑해질지 기대되지 않나요?"
   ]
  }
 ],
 "metadata": {
  "kernelspec": {
   "display_name": "base",
   "language": "python",
   "name": "python3"
  },
  "language_info": {
   "codemirror_mode": {
    "name": "ipython",
    "version": 3
   },
   "file_extension": ".py",
   "mimetype": "text/x-python",
   "name": "python",
   "nbconvert_exporter": "python",
   "pygments_lexer": "ipython3",
   "version": "3.12.2"
  }
 },
 "nbformat": 4,
 "nbformat_minor": 4
}
