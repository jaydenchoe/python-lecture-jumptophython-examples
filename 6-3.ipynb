{
 "cells": [
  {
   "cell_type": "markdown",
   "metadata": {},
   "source": [
    "# 🐍 파이썬으로 웹사이트 기능 구현하기: 게시판 페이지 계산 (Paging)\n",
    "\n",
    "안녕하세요! 이번에는 실제 웹사이트 개발에서 아주 흔하게 사용되는 '게시판 페이징(Paging)' 기능을 파이썬으로 구현해보겠습니다. 👩‍💻\n",
    "\n",
    "게시판이나 쇼핑몰 상품 목록처럼 아주 긴 목록을 보여줄 때, 한 페이지에 모든 것을 다 보여주면 너무 길고 느려지겠죠? 그래서 보통 10개나 20개씩 끊어서 여러 페이지에 나눠서 보여줍니다. 이때 '총 페이지 수가 몇 개가 될지' 계산하는 로직이 바로 페이징의 핵심입니다.\n",
    "\n",
    "--- \n",
    "### 오늘의 문제\n",
    "> 게시물의 총 개수(`m`)와 한 페이지에 보여 줄 게시물 수(`n`)가 주어졌을 때, 총 몇 페이지가 필요한지 계산하는 함수 `get_total_page(m, n)`를 만들어라.\n",
    "\n",
    "예를 들어, 이런 경우들을 생각해볼 수 있어요.\n",
    "\n",
    "| 게시물 총 개수(m) | 페이지당 게시물 수(n) | 필요한 총 페이지 수 | \n",
    "|---|---|---|\n",
    "| 5개 | 10개 | 1 페이지 |\n",
    "| 15개 | 10개 | 2 페이지 |\n",
    "| 25개 | 10개 | 3 페이지 |\n",
    "| 30개 | 10개 | 3 페이지 |"
   ]
  },
  {
   "cell_type": "markdown",
   "metadata": {},
   "source": [
    "## 1단계: 간단한 생각, 하지만 실패하는 첫 번째 시도\n",
    "\n",
    "가장 먼저 떠오르는 간단한 계산법은 무엇일까요? 아마 '총 개수를 페이지당 개수로 나눈 몫에 1을 더하면 되지 않을까?' 라는 생각일 거예요. 왜냐하면 나누고 남은 \"나머지\" 게시물들을 보여줄 1페이지가 추가로 필요하니까요.\n",
    "\n",
    "파이썬에서는 나눗셈의 몫만 깔끔하게 가져오는 `//` (정수 나누기) 연산자가 있습니다. 이 연산자를 사용해 첫 번째 아이디어를 코드로 구현해봅시다."
   ]
  },
  {
   "cell_type": "code",
   "execution_count": null,
   "metadata": {},
   "outputs": [],
   "source": [
    "# 첫 번째 아이디어: (총 개수 // 페이지당 개수) + 1\n",
    "def get_total_page(m, n):\n",
    "  # m을 n으로 나눈 몫에 1을 더한다.\n",
    "  return m // n + 1\n",
    "\n",
    "# 테스트 케이스\n",
    "print(f\"게시물 5개, 페이지당 10개일 때: {get_total_page(5, 10)} 페이지\")   # 예상: 1, 결과: 1 (성공)\n",
    "print(f\"게시물 15개, 페이지당 10개일 때: {get_total_page(15, 10)} 페이지\")  # 예상: 2, 결과: 2 (성공)\n",
    "print(f\"게시물 25개, 페이지당 10개일 때: {get_total_page(25, 10)} 페이지\")  # 예상: 3, 결과: 3 (성공)\n",
    "print(f\"게시물 30개, 페이지당 10개일 때: {get_total_page(30, 10)} 페이지\")  # 예상: 3, 결과: 4 (실패!)"
   ]
  },
  {
   "cell_type": "markdown",
   "metadata": {},
   "source": [
    "### 왜 실패했을까?\n",
    "앞선 세 개의 테스트는 잘 통과했지만, 마지막 `get_total_page(30, 10)`에서 문제가 발생했습니다. 총 게시물 30개를 한 페이지에 10개씩 보여주면 정확히 **3페이지**가 필요한데, 우리 코드는 **4페이지**라는 잘못된 결과를 내놓았죠.\n",
    "\n",
    "실패의 원인은 **나머지가 0일 때**도 무조건 1을 더해주었기 때문입니다. 즉, 게시물들이 페이지에 딱 맞게 나누어 떨어지는 경우를 따로 처리해줘야 한다는 것을 알 수 있습니다."
   ]
  },
  {
   "cell_type": "markdown",
   "metadata": {},
   "source": [
    "## 2단계: `if` 조건문으로 예외 처리하기 (올바른 최종 풀이)\n",
    "\n",
    "프로그래밍에서는 이렇게 특정 조건에 따라 다르게 동작해야 할 때 `if` 문을 사용합니다. 우리는 '나머지가 0인지 아닌지'를 기준으로 로직을 나누면 됩니다.\n",
    "\n",
    "나머지를 구하는 연산자는 바로 `%` 였죠?\n",
    "\n",
    "-   **만약 `m % n == 0` 이면 (나머지가 0이면):** 페이지는 딱 맞게 떨어지므로, 총 페이지 수는 `m // n` 입니다.\n",
    "-   **그렇지 않으면 (`else`):** 나머지 게시물들을 담을 추가 페이지가 필요하므로, 총 페이지 수는 `m // n + 1` 입니다."
   ]
  },
  {
   "cell_type": "code",
   "execution_count": null,
   "metadata": {},
   "outputs": [],
   "source": [
    "# 올바른 최종 코드\n",
    "def get_total_page(m, n):\n",
    "  # 만약 총 게시물(m)을 페이지당 개수(n)로 나눈 나머지가 0이라면,\n",
    "  if m % n == 0:\n",
    "    # 몫을 그대로 리턴한다.\n",
    "    return m // n\n",
    "  # 그렇지 않다면 (나머지가 1이라도 있다면)\n",
    "  else:\n",
    "    # 몫에 1을 더해서 리턴한다.\n",
    "    return m // n + 1\n",
    "\n",
    "# 다시 테스트 해보기\n",
    "print(f\"게시물 5개, 페이지당 10개일 때: {get_total_page(5, 10)} 페이지\")   # 예상: 1, 결과: 1 (성공)\n",
    "print(f\"게시물 15개, 페이지당 10개일 때: {get_total_page(15, 10)} 페이지\")  # 예상: 2, 결과: 2 (성공)\n",
    "print(f\"게시물 25개, 페이지당 10개일 때: {get_total_page(25, 10)} 페이지\")  # 예상: 3, 결과: 3 (성공)\n",
    "print(f\"게시물 30개, 페이지당 10개일 때: {get_total_page(30, 10)} 페이지\")  # 예상: 3, 결과: 3 (성공!)"
   ]
  },
  {
   "cell_type": "markdown",
   "metadata": {},
   "source": [
    "---\n",
    "## ✏️ 실력쑥쑥! 혼자 해보는 10가지 연습문제\n",
    "\n",
    "페이징의 원리를 이제 이해했으니, 비슷한 상황에 적용해보는 연습을 해봅시다! 아래 문제들의 빈칸을 채워 코드를 완성해보세요."
   ]
  },
  {
   "cell_type": "markdown",
   "metadata": {},
   "source": [
    "### 문제 1: 딱 떨어지는 경우 테스트\n",
    "총 100명의 학생을 한 반에 25명씩 배정하려고 합니다. 총 몇 개의 반이 필요할까요? `get_total_page` 함수를 이용해 계산해보세요."
   ]
  },
  {
   "cell_type": "code",
   "execution_count": null,
   "metadata": {},
   "outputs": [],
   "source": [
    "total_students = 100\n",
    "students_per_class = 25\n",
    "\n",
    "# get_total_page 함수의 빈칸에 알맞은 변수를 넣으세요.\n",
    "total_classes = get_total_page(             ,             )\n",
    "print(f\"총 {total_classes}개의 반이 필요합니다.\")"
   ]
  },
  {
   "cell_type": "markdown",
   "metadata": {},
   "source": [
    "### 문제 2: 나머지가 있는 경우 테스트\n",
    "총 101명의 학생을 한 반에 25명씩 배정하려고 합니다. 이번에는 몇 개의 반이 필요할까요?"
   ]
  },
  {
   "cell_type": "code",
   "execution_count": null,
   "metadata": {},
   "outputs": [],
   "source": [
    "total_students = 101\n",
    "students_per_class = 25\n",
    "\n",
    "# 이번에도 알맞은 변수를 넣어 호출해보세요.\n",
    "total_classes = get_total_page(             ,             )\n",
    "print(f\"총 {total_classes}개의 반이 필요합니다.\")"
   ]
  },
  {
   "cell_type": "markdown",
   "metadata": {},
   "source": [
    "### 문제 3: 빵 포장하기\n",
    "빵 75개를 한 상자에 8개씩 담으려고 합니다. 필요한 상자는 총 몇 개일까요?"
   ]
  },
  {
   "cell_type": "code",
   "execution_count": null,
   "metadata": {},
   "outputs": [],
   "source": [
    "total_breads = 75\n",
    "breads_per_box = 8\n",
    "\n",
    "total_boxes = get_total_page(             ,             )\n",
    "print(f\"총 {total_boxes}개의 상자가 필요합니다.\")"
   ]
  },
  {
   "cell_type": "markdown",
   "metadata": {},
   "source": [
    "### 문제 4: 버스 좌석 배정\n",
    "45인승 버스가 있습니다. 130명의 단체 손님을 태우려면 버스가 최소 몇 대 필요할까요?"
   ]
  },
  {
   "cell_type": "code",
   "execution_count": null,
   "metadata": {},
   "outputs": [],
   "source": [
    "total_people = 130\n",
    "bus_capacity = 45\n",
    "\n",
    "needed_buses = get_total_page(             ,             )\n",
    "print(f\"최소 {needed_buses}대의 버스가 필요합니다.\")"
   ]
  },
  {
   "cell_type": "markdown",
   "metadata": {},
   "source": [
    "### 문제 5: 남은 인원 구하기\n",
    "총 80명의 학생을 7명씩 한 조로 나눌 때, 마지막 조는 몇 명으로 구성될까요? (단, 마지막 조가 7명으로 딱 떨어질 경우 7을 출력)\n",
    "\n",
    "**힌트:** 나머지를 구하는 `%` 연산자를 사용하세요. 나머지가 0일 때만 따로 처리해주면 됩니다."
   ]
  },
  {
   "cell_type": "code",
   "execution_count": null,
   "metadata": {},
   "outputs": [],
   "source": [
    "def get_last_group_members(m, n):\n",
    "  # m을 n으로 나눈 나머지가 0인지 확인하세요.\n",
    "  if m % n ==       :\n",
    "    return n # 딱 떨어지면 조의 최대 인원인 n을 리턴\n",
    "  else:\n",
    "    # 나머지가 있다면, 그 나머지가 마지막 조의 인원입니다.\n",
    "    return m % \n",
    "\n",
    "last_group = get_last_group_members(80, 7)\n",
    "print(f\"마지막 조는 {last_group}명 입니다.\")\n",
    "\n",
    "last_group_perfect = get_last_group_members(84, 7) # 딱 떨어지는 경우 테스트\n",
    "print(f\"(테스트) 84명을 7명씩 나누면 마지막 조는 {last_group_perfect}명 입니다.\")"
   ]
  },
  {
   "cell_type": "markdown",
   "metadata": {},
   "source": [
    "### 문제 6: 딱 맞게 포장했나요?\n",
    "물건의 총 개수(`m`)와 한 상자에 담을 개수(`n`)를 받아, 물건이 상자에 딱 맞게 나누어 떨어지는지(`True`) 아닌지(`False`)를 반환하는 `is_perfect_fit` 함수를 만들어보세요."
   ]
  },
  {
   "cell_type": "code",
   "execution_count": null,
   "metadata": {},
   "outputs": [],
   "source": [
    "def is_perfect_fit(m, n):\n",
    "  # m을 n으로 나눈 나머지가 0과 같은지 비교하여 결과를 바로 리턴할 수 있습니다.\n",
    "  return m % n == \n",
    "\n",
    "print(f\"물건 100개를 10개씩 담으면 딱 맞는가? {is_perfect_fit(100, 10)}\")\n",
    "print(f\"물건 101개를 10개씩 담으면 딱 맞는가? {is_perfect_fit(101, 10)}\")"
   ]
  },
  {
   "cell_type": "markdown",
   "metadata": {},
   "source": [
    "### 문제 7: 0개일 때 처리하기\n",
    "만약 게시물이 0개(`m = 0`)라면 총 페이지는 몇 페이지가 되어야 할까요? 보통은 게시물이 없어도 1페이지는 보여줍니다. 현재 함수는 0을 반환합니다. `get_total_page(0, 10)` 의 결과가 1이 나오도록 함수를 수정해보세요."
   ]
  },
  {
   "cell_type": "code",
   "execution_count": null,
   "metadata": {},
   "outputs": [],
   "source": [
    "def get_total_page_v2(m, n):\n",
    "  # 만약 m이 0이라면, 바로 1을 리턴하도록 맨 위에 조건을 추가하세요.\n",
    "  if m ==       :\n",
    "    return 1\n",
    "  \n",
    "  if m % n == 0:\n",
    "    return m // n\n",
    "  else:\n",
    "    return m // n + 1\n",
    "\n",
    "print(f\"게시물 0개, 페이지당 10개일 때: {get_total_page_v2(0, 10)} 페이지\")"
   ]
  },
  {
   "cell_type": "markdown",
   "metadata": {},
   "source": [
    "### 문제 8: 페이지 계산기 만들기\n",
    "`input()`을 사용해서 사용자에게 직접 '총 게시물 수'와 '페이지당 보여줄 개수'를 입력받아, 총 페이지 수를 계산해주는 미니 계산기를 만들어보세요."
   ]
  },
  {
   "cell_type": "code",
   "execution_count": null,
   "metadata": {},
   "outputs": [],
   "source": [
    "# input()으로 받은 값은 int()를 이용해 숫자로 바꿔줘야 합니다.\n",
    "m_input = int(input(\"총 게시물 수를 입력하세요: \"))\n",
    "n_input = int(input(\"페이지당 몇 개씩 보여줄까요?: \"))\n",
    "\n",
    "# get_total_page 함수에 위에서 입력받은 변수들을 넣어주세요.\n",
    "pages = get_total_page(         ,         )\n",
    "print(f\"결과: 총 {pages} 페이지가 필요합니다.\")"
   ]
  },
  {
   "cell_type": "markdown",
   "metadata": {},
   "source": [
    "### 문제 9: 필요한 상자와 남은 물건 개수\n",
    "물건 개수와 상자당 용량을 입력받아, \"필요한 상자는 X개, 마지막 상자에는 Y개의 물건이 들어갑니다.\" 라고 출력하는 함수를 만들어보세요.\n",
    "**힌트:** 문제 5번과 `get_total_page` 함수를 함께 활용하세요."
   ]
  },
  {
   "cell_type": "code",
   "execution_count": null,
   "metadata": {},
   "outputs": [],
   "source": [
    "def packaging_calculator(items, capacity):\n",
    "  # get_total_page 함수를 이용해 필요한 상자 수를 계산하세요.\n",
    "  needed_boxes = get_total_page(items, capacity)\n",
    "  \n",
    "  # 문제 5번에서 만든 get_last_group_members 함수를 이용해 마지막 상자 내용물을 계산하세요.\n",
    "  last_box_items = get_last_group_members(items, capacity)\n",
    "  \n",
    "  print(f\"필요한 상자는 {needed_boxes}개, 마지막 상자에는 {last_box_items}개의 물건이 들어갑니다.\")\n",
    "\n",
    "# 125개 물건을 12개씩 포장하는 경우를 테스트해보세요.\n",
    "packaging_calculator(      ,      )"
   ]
  },
  {
   "cell_type": "markdown",
   "metadata": {},
   "source": [
    "### 문제 10: 수련회 방 배정\n",
    "수련회에 참가한 학생 `s`명에게 방을 배정해야 합니다. 한 방에는 최대 `c`명까지 들어갈 수 있습니다. 필요한 최소 방의 개수를 계산하는 함수를 완성하세요. (우리가 만든 `get_total_page`와 기능이 완전히 동일한 함수를 직접 만들어보는 연습입니다!)"
   ]
  },
  {
   "cell_type": "code",
   "execution_count": null,
   "metadata": {},
   "outputs": [],
   "source": [
    "def calculate_rooms(students, capacity):\n",
    "  # 학생들이 방에 딱 맞게 나누어 떨어지는 경우\n",
    "  if students % capacity == 0:\n",
    "    # 필요한 방의 개수는? (몫)\n",
    "    return students // capacity\n",
    "  # 학생들이 딱 맞게 나누어 떨어지지 않는 경우\n",
    "  else:\n",
    "    # 필요한 방의 개수는? (몫 + 1)\n",
    "    return \n",
    "    \n",
    "print(f\"학생 90명, 방 1개당 8명일 때 필요한 방: {calculate_rooms(90, 8)}개\")"
   ]
  }
 ],
 "metadata": {
  "colab": {
   "collapsed_sections": [],
   "provenance": []
  },
  "kernelspec": {
   "display_name": "Python 3",
   "name": "python3"
  },
  "language_info": {
   "name": "python"
  }
 },
 "nbformat": 4,
 "nbformat_minor": 0
}