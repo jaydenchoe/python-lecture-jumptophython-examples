{
 "cells": [
  {
   "cell_type": "markdown",
   "metadata": {},
   "source": [
    "# 🤖 파이썬 챗봇 만들기로 배우는 이터레이터와 제너레이터\n",
    "\n",
    "안녕하세요! 코딩의 세계에 오신 것을 환영합니다. 오늘은 파이썬의 특별한 기능인 **이터레이터**와 **제너레이터**에 대해 배워볼 거예요. 이름이 조금 어렵게 들릴 수 있지만, 아주 간단한 챗봇을 만들면서 재미있게 알아볼 예정이니 걱정 마세요! 이 개념들을 알면 메모리를 아끼고 데이터를 효율적으로 처리하는 멋진 코드를 짤 수 있답니다. 😊"
   ]
  },
  {
   "cell_type": "markdown",
   "metadata": {},
   "source": [
    "## 1. 반복 가능한 객체 (Iterable)\n",
    "\n",
    "가장 먼저 알아볼 친구는 '반복 가능한 객체(iterable)'예요. 이름 그대로 'for'문을 사용해서 하나씩 꺼내볼 수 있는 것들을 말해요. 우리에게 가장 익숙한 **리스트**가 대표적인 예시죠.\n",
    "\n",
    "우리 챗봇이 할 수 있는 답변들을 리스트에 담아볼까요? 이 리스트가 바로 '반복 가능한 객체'입니다."
   ]
  },
  {
   "cell_type": "code",
   "execution_count": null,
   "metadata": {},
   "outputs": [],
   "source": [
    "# 챗봇의 답변이 담긴 리스트입니다. 이것이 바로 '반복 가능한(iterable)' 객체예요.\n",
    "chatbot_responses = [\"안녕하세요!\", \"오늘 날씨 좋네요!\", \"무엇을 도와드릴까요?\", \"다음에 또 만나요!\"]\n",
    "\n",
    "# for 반복문을 사용해서 리스트에 있는 답변을 하나씩 출력해볼게요.\n",
    "print(\"챗봇 답변 목록:\")\n",
    "for response in chatbot_responses:\n",
    "    print(response)"
   ]
  },
  {
   "cell_type": "markdown",
   "metadata": {},
   "source": [
    "## 2. 이터레이터 (Iterator)\n",
    "\n",
    "그렇다면 '이터레이터(iterator)'는 무엇일까요? 이터레이터는 **데이터를 하나씩 차례대로 꺼내올 수 있는 특별한 객체**예요. 마치 과자 상자에서 과자를 하나씩 꺼내 먹는 것과 같아요. 🍪\n",
    "\n",
    "`next()`라는 함수를 쓸 때마다 값을 하나씩 내어주고, 더 이상 줄 값이 없으면 `StopIteration`이라는 신호를 보내죠.\n",
    "\n",
    "중요한 점은, 리스트 같은 '반복 가능한 객체'는 아직 '이터레이터'가 아니라는 거예요. 하지만 `iter()` 함수를 사용하면 아주 쉽게 이터레이터로 변신시킬 수 있습니다!\n",
    "\n",
    "리스트를 바로 `next()`로 꺼내려고 하면 에러가 나지만, `iter()`로 변신시키면 `next()`로 하나씩 꺼낼 수 있게 됩니다."
   ]
  },
  {
   "cell_type": "code",
   "execution_count": null,
   "metadata": {},
   "outputs": [],
   "source": [
    "chatbot_responses = [\"안녕하세요!\", \"오늘 날씨 좋네요!\", \"무엇을 도와드릴까요?\"]\n",
    "\n",
    "# iter() 함수를 사용해서 리스트를 이터레이터로 변신시켜요!\n",
    "response_iterator = iter(chatbot_responses)\n",
    "\n",
    "print(\"이터레이터로 답변 하나씩 꺼내보기:\")\n",
    "\n",
    "# next() 함수를 호출할 때마다 다음 답변을 가져옵니다.\n",
    "print(next(response_iterator))\n",
    "print(next(response_iterator))\n",
    "print(next(response_iterator))\n",
    "\n",
    "# 모든 답변을 꺼내고 나면 어떻게 될까요? \n",
    "# 아래 코드의 주석(#)을 지우고 실행하면 StopIteration 에러를 확인할 수 있어요.\n",
    "# print(next(response_iterator))"
   ]
  },
  {
   "cell_type": "markdown",
   "metadata": {},
   "source": [
    "### ⚠️ 이터레이터는 한 번만 사용 가능!\n",
    "\n",
    "이터레이터의 중요한 특징 중 하나는 **일회용**이라는 점이에요. `for` 문이나 `next()`로 모든 값을 한 번 다 꺼내고 나면, 그 이터레이터는 비어버려서 다시 사용할 수 없어요. 마치 다 먹은 과자 상자처럼요!"
   ]
  },
  {
   "cell_type": "code",
   "execution_count": null,
   "metadata": {},
   "outputs": [],
   "source": [
    "chatbot_responses = [\"안녕!\", \"반가워!\", \"잘 가!\"]\n",
    "response_iterator = iter(chatbot_responses)\n",
    "\n",
    "print(\"--- 첫 번째 반복 --- \")\n",
    "for response in response_iterator:\n",
    "    print(response)\n",
    "\n",
    "print(\"\\n--- 두 번째 반복 --- \")\n",
    "# 이미 모든 값을 꺼냈기 때문에, 아래 반복문은 아무것도 출력하지 않아요.\n",
    "for response in response_iterator:\n",
    "    print(response)\n",
    "\n",
    "print(\"텅 비었습니다!\")"
   ]
  },
  {
   "cell_type": "markdown",
   "metadata": {},
   "source": [
    "## 3. 제너레이터 (Generator)\n",
    "\n",
    "이터레이터를 직접 만드는 건 조금 복잡할 수 있어요. 그래서 파이썬은 **제너레이터**라는 아주 편리한 도구를 제공해요. 제너레이터는 **이터레이터를 아주 쉽게 만들 수 있는 특별한 함수**입니다.\n",
    "\n",
    "일반 함수는 값을 반환할 때 `return`을 쓰지만, 제너레이터 함수는 `yield`라는 키워드를 사용해요. `yield`를 만나면 함수는 잠시 실행을 멈추고 값을 바깥으로 전달해줘요. 그리고 다음에 다시 호출되면 멈췄던 지점부터 다시 실행을 시작하죠. 정말 똑똑하지 않나요? 🧠\n",
    "\n",
    "`yield`는 마치 \"이 값을 잠시 줄게, 다음에 부르면 이어서 할게!\"라고 말하는 것과 같아요."
   ]
  },
  {
   "cell_type": "code",
   "execution_count": null,
   "metadata": {},
   "outputs": [],
   "source": [
    "# yield 키워드를 사용한 제너레이터 함수 정의하기\n",
    "def chatbot_response_generator():\n",
    "    print(\"(챗봇이 첫 번째 답변을 생각 중... 🤔)\")\n",
    "    yield \"안녕하세요! 챗봇입니다.\"\n",
    "    print(\"(챗봇이 두 번째 답변을 생각 중... 🤔)\")\n",
    "    yield \"무엇이 궁금하신가요?\"\n",
    "    print(\"(챗봇이 마지막 답변을 생각 중... 🤔)\")\n",
    "    yield \"이용해주셔서 감사합니다.\"\n",
    "\n",
    "# 제너레이터 함수를 호출하면 제너레이터 객체가 만들어져요.\n",
    "chatbot_gen = chatbot_response_generator()\n",
    "\n",
    "print(type(chatbot_gen)) # 타입이 'generator'라고 나와요!\n",
    "\n",
    "# next()를 호출할 때마다 yield를 만날 때까지 코드가 실행되고 값이 반환됩니다.\n",
    "print(\"\\n--- 챗봇과 대화 시작 ---\")\n",
    "print(f\"나: 안녕?  / 챗봇: {next(chatbot_gen)}\")\n",
    "print(f\"나: 파이썬 / 챗봇: {next(chatbot_gen)}\")\n",
    "print(f\"나: 고마워 / 챗봇: {next(chatbot_gen)}\")"
   ]
  },
  {
   "cell_type": "markdown",
   "metadata": {},
   "source": [
    "## 4. 제너레이터는 왜 좋을까요? (메모리 효율성 ✨)\n",
    "\n",
    "제너레이터의 가장 큰 장점은 **메모리를 효율적으로 사용**한다는 점이에요. '느긋한 계산법(Lazy Evaluation)'이라고도 부르는데, 필요할 때가 되어서야 비로소 값을 계산해서 만들어주기 때문이죠.\n",
    "\n",
    "예를 들어, 챗봇 답변이 100만 개나 된다고 상상해보세요.\n",
    "- **리스트**는 100만 개의 답변을 전부 메모리에 올려놓고 시작해야 해요. (메모리 낭비! 😵)\n",
    "- **제너레이터**는 우리가 `next()`로 달라고 할 때마다 답변을 '하나씩' 만들어서 줘요. (메모리 절약! 😄)\n",
    "\n",
    "아래 코드로 그 차이를 확인해볼게요. `time.sleep(1)`은 1초 동안 멈추는 코드로, 답변을 만드는 데 시간이 오래 걸리는 상황을 흉내 낸 것입니다."
   ]
  },
  {
   "cell_type": "code",
   "execution_count": null,
   "metadata": {},
   "outputs": [],
   "source": [
    "import time\n",
    "\n",
    "def slow_response(response_text):\n",
    "    print(f\"'({response_text})' 답변 생성 중... (1초 소요)\")\n",
    "    time.sleep(1) # 1초간 멈춤\n",
    "    return response_text\n",
    "\n",
    "print(\"--- 1. 리스트를 사용할 경우 ---\")\n",
    "# 리스트는 처음에 모든 값을 만들어 메모리에 저장해요. \n",
    "# 따라서 3개의 답변을 만드느라 총 3초가 걸립니다.\n",
    "response_list = [slow_response(\"안녕\"), slow_response(\"만나서 반가워\"), slow_response(\"잘 가\")]\n",
    "print(\"리스트 생성 완료! 이제 첫 번째 답변을 확인해볼까요?\")\n",
    "print(f\"첫 번째 답변: {response_list[0]}\")\n",
    "\n",
    "print(\"\\n--- 2. 제너레이터를 사용할 경우 ---\")\n",
    "# 제너레이터는 '어떻게 만들지'에 대한 방법만 알고 있어요. (실행 시간 0초!)\n",
    "response_generator = (slow_response(res) for res in [\"안녕\", \"만나서 반가워\", \"잘 가\"])\n",
    "print(\"제너레이터 생성 완료! 이제 첫 번째 답변을 요청해볼까요?\")\n",
    "# next()를 호출하는 '지금' 비로소 첫 번째 값을 만들기 시작해요. (1초 소요)\n",
    "print(f\"첫 번째 답변: {next(response_generator)}\")\n",
    "\n",
    "print(\"\\n결론: 제너레이터를 쓰면 필요할 때만 일을 하므로 훨씬 효율적이에요! 👍\")"
   ]
  },
  {
   "cell_type": "markdown",
   "metadata": {},
   "source": [
    "# ⭐️ 혼자 해보는 챗봇 연습 문제 ⭐️\n",
    "\n",
    "이제 배운 내용을 바탕으로 간단한 문제들을 풀어보며 실력을 다져봐요! 각 코드 셀의 빈칸(`...` 또는 `___`)을 채워 코드를 완성해보세요."
   ]
  },
  {
   "cell_type": "markdown",
   "metadata": {},
   "source": [
    "### 문제 1: 리스트를 이터레이터로 변환하기\n",
    "\n",
    "아래 `greetings` 리스트를 `iter()` 함수를 사용해 이터레이터로 만들고, `my_iterator` 변수에 저장해보세요."
   ]
  },
  {
   "cell_type": "code",
   "execution_count": null,
   "metadata": {},
   "outputs": [],
   "source": [
    "greetings = [\"Hi\", \"Hello\", \"Good day\"]\n",
    "\n",
    "# 이 곳에 코드를 작성하여 greetings 리스트를 이터레이터로 만드세요.\n",
    "my_iterator = ...\n",
    "\n",
    "print(my_iterator)\n",
    "print(type(my_iterator))"
   ]
  },
  {
   "cell_type": "markdown",
   "metadata": {},
   "source": [
    "### 문제 2: 이터레이터에서 값 꺼내기\n",
    "\n",
    "`next()` 함수를 두 번 호출해서 `number_iterator`에서 숫자 10과 20을 차례대로 출력해보세요."
   ]
  },
  {
   "cell_type": "code",
   "execution_count": null,
   "metadata": {},
   "outputs": [],
   "source": [
    "numbers = [10, 20, 30]\n",
    "number_iterator = iter(numbers)\n",
    "\n",
    "# next() 함수를 사용해 첫 번째 값을 출력하세요.\n",
    "print(...)\n",
    "\n",
    "# next() 함수를 사용해 두 번째 값을 출력하세요.\n",
    "print(...)"
   ]
  },
  {
   "cell_type": "markdown",
   "metadata": {},
   "source": [
    "### 문제 3: 간단한 제너레이터 함수 만들기\n",
    "\n",
    "숫자 1, 2, 3을 차례대로 `yield`하는 `count_up_generator`라는 이름의 제너레이터 함수를 만들어보세요."
   ]
  },
  {
   "cell_type": "code",
   "execution_count": null,
   "metadata": {},
   "outputs": [],
   "source": [
    "# 이 곳에 제너레이터 함수를 정의하세요.\n",
    "def ...():\n",
    "    yield 1\n",
    "    ...\n",
    "    ...\n",
    "\n",
    "# 제너레이터를 테스트하는 코드\n",
    "counter = count_up_generator()\n",
    "print(next(counter))\n",
    "print(next(counter))\n",
    "print(next(counter))"
   ]
  },
  {
   "cell_type": "markdown",
   "metadata": {},
   "source": [
    "### 문제 4: 제너레이터와 `for` 반복문\n",
    "\n",
    "채팅 이모티콘을 `yield`하는 제너레이터가 있습니다. `for` 반복문을 사용해서 제너레이터가 가진 모든 이모티콘을 출력해보세요."
   ]
  },
  {
   "cell_type": "code",
   "execution_count": null,
   "metadata": {},
   "outputs": [],
   "source": [
    "def emoticon_generator():\n",
    "    yield \":)\"\n",
    "    yield \":D\"\n",
    "    yield \">:(\"\n",
    "\n",
    "emoticons = emoticon_generator()\n",
    "\n",
    "# for 문을 사용해 emoticons에 있는 모든 값을 출력하세요.\n",
    "for ... in ...:\n",
    "    print(e)"
   ]
  },
  {
   "cell_type": "markdown",
   "metadata": {},
   "source": [
    "### 문제 5: `range`를 사용하는 제너레이터\n",
    "\n",
    "`for` 반복문과 `range` 함수를 사용해서 0부터 4까지의 숫자를 `yield`하는 제너레이터 함수를 완성해보세요."
   ]
  },
  {
   "cell_type": "code",
   "execution_count": null,
   "metadata": {},
   "outputs": [],
   "source": [
    "def number_gen_from_zero_to_four():\n",
    "    for i in range(5):\n",
    "        # 이 곳에 코드를 작성해 숫자 i를 반환하게 하세요.\n",
    "        ...\n",
    "\n",
    "# 테스트 코드\n",
    "for num in number_gen_from_zero_to_four():\n",
    "    print(num)"
   ]
  },
  {
   "cell_type": "markdown",
   "metadata": {},
   "source": [
    "### 문제 6: 제너레이터 표현식 만들기\n",
    "\n",
    "리스트 컴프리헨션과 비슷하지만 `[]` 대신 `()`를 사용하면 제너레이터를 만들 수 있습니다. 0, 1, 4, 9 (0~3의 제곱)를 만들어내는 제너레이터 표현식을 완성해보세요."
   ]
  },
  {
   "cell_type": "code",
   "execution_count": null,
   "metadata": {},
   "outputs": [],
   "source": [
    "# 빈칸을 채워 0, 1, 2, 3의 제곱을 생성하는 제너레이터를 만드세요.\n",
    "square_generator = (i * i for i in range(4))\n",
    "\n",
    "# 테스트 코드\n",
    "print(type(square_generator))\n",
    "for num in square_generator:\n",
    "    print(num)"
   ]
  },
  {
   "cell_type": "markdown",
   "metadata": {},
   "source": [
    "### 문제 7: 챗봇 질문 제너레이터\n",
    "\n",
    "챗봇이 사용자에게 할 질문들을 `yield`하는 제너레이터를 만들고, `next()`를 사용해 첫 번째 질문을 출력해보세요."
   ]
  },
  {
   "cell_type": "code",
   "execution_count": null,
   "metadata": {},
   "outputs": [],
   "source": [
    "def question_generator():\n",
    "    yield \"이름이 무엇인가요?\"\n",
    "    yield \"몇 살이세요?\"\n",
    "    yield \"가장 좋아하는 색은 무엇인가요?\"\n",
    "\n",
    "q_gen = question_generator()\n",
    "\n",
    "# 첫 번째 질문을 꺼내서 출력하세요.\n",
    "first_question = ...\n",
    "print(first_question)"
   ]
  },
  {
   "cell_type": "markdown",
   "metadata": {},
   "source": [
    "### 문제 8: `yield` 키워드 채우기\n",
    "\n",
    "과일 이름을 하나씩 반환하는 제너레이터 함수입니다. `return` 대신 올바른 키워드를 빈칸에 채워넣어 제너레이터로 만들어보세요."
   ]
  },
  {
   "cell_type": "code",
   "execution_count": null,
   "metadata": {},
   "outputs": [],
   "source": [
    "def fruit_generator():\n",
    "    ___ \"사과\"\n",
    "    ___ \"바나나\"\n",
    "    ___ \"딸기\"\n",
    "\n",
    "# 테스트 코드\n",
    "for fruit in fruit_generator():\n",
    "    print(fruit)"
   ]
  },
  {
   "cell_type": "markdown",
   "metadata": {},
   "source": [
    "### 문제 9: 리스트를 제너레이터로 바꾸기\n",
    "\n",
    "아래 코드는 1부터 10까지의 짝수를 담는 리스트를 만듭니다. 대괄호(`[]`)를 소괄호(`()`)로 바꿔서 메모리를 아끼는 제너레이터로 만들어보세요."
   ]
  },
  {
   "cell_type": "code",
   "execution_count": null,
   "metadata": {},
   "outputs": [],
   "source": [
    "# 아래 코드를 제너레이터 표현식으로 바꿔보세요.\n",
    "even_numbers = [i for i in range(1, 11) if i % 2 == 0]\n",
    "\n",
    "# 테스트 코드\n",
    "print(type(even_numbers))\n",
    "for num in even_numbers:\n",
    "    print(num)"
   ]
  },
  {
   "cell_type": "markdown",
   "metadata": {},
   "source": [
    "### 문제 10: 느긋한(Lazy) 제너레이터의 첫 값 얻기\n",
    "\n",
    "아래 `slow_generator`는 값을 만드는 데 1초씩 걸립니다. `next()`를 사용해서 이 제너레이터의 *첫 번째* 값만 효율적으로 얻어보세요."
   ]
  },
  {
   "cell_type": "code",
   "execution_count": null,
   "metadata": {},
   "outputs": [],
   "source": [
    "import time\n",
    "\n",
    "def slow_word_generator():\n",
    "    print(\"첫 단어 생각 중...\")\n",
    "    time.sleep(1)\n",
    "    yield \"파이썬은\"\n",
    "    print(\"두 번째 단어 생각 중...\")\n",
    "    time.sleep(1)\n",
    "    yield \"재미있다\"\n",
    "\n",
    "slow_gen = slow_word_generator()\n",
    "\n",
    "# 이 제너레이터의 첫 번째 값만 얻어서 출력해보세요.\n",
    "first_word = ...\n",
    "print(first_word)"
   ]
  }
 ],
 "metadata": {
  "colab": {
   "collapsed_sections": [],
   "provenance": []
  },
  "kernelspec": {
   "display_name": "Python 3",
   "name": "python3"
  },
  "language_info": {
   "name": "python"
  }
 },
 "nbformat": 4,
 "nbformat_minor": 4
}