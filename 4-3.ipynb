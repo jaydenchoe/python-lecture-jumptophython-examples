{
 "cells": [
  {
   "cell_type": "markdown",
   "metadata": {},
   "source": [
    "# 🤖 챗봇의 기억 저장소: 파일 읽고 쓰기 💾\n",
    "\n",
    "지금까지 우리 챗봇은 대화가 끝나면 모든 것을 잊어버렸어요. 마치 단기 기억상실증에 걸린 것처럼요! 😅\n",
    "\n",
    "오늘은 챗봇에게 **기억력**을 선물해 줄 거예요. 사용자와 나눈 대화를 **파일(file)**에 저장하고, 필요할 때 다시 읽어오는 방법을 배워볼게요. 이제 우리 챗봇은 어제의 대화를 기억하는 똑똑한 친구가 될 수 있어요!"
   ]
  },
  {
   "cell_type": "markdown",
   "metadata": {},
   "source": [
    "## 1. 챗봇의 일기장 만들기: 파일 생성과 쓰기(w)\n",
    "\n",
    "먼저, 챗봇이 대화 내용을 기록할 일기장 파일을 만들어볼까요? 파이썬에서는 `open()`이라는 함수를 사용해서 파일을 만들거나 열 수 있어요. \n",
    "\n",
    "파일을 열 때는 어떤 목적으로 열 건지 **'모드(mode)'**를 정해줘야 해요. \n",
    "* `'w'`: **쓰기(Write) 모드**. 파일에 새로운 내용을 쓸 때 사용해요. 만약 파일이 이미 있다면? 앗, 원래 있던 내용은 모두 지워지고 새로 써져요! 파일이 없다면 새로 만들어줘요. \n",
    "* `'r'`: **읽기(Read) 모드**. 파일에 있는 내용을 읽을 때 사용해요.\n",
    "* `'a'`: **추가(Append) 모드**. 파일의 맨 마지막에 새로운 내용을 덧붙일 때 사용해요. (원래 내용이 지워지지 않아요!) \n",
    "\n",
    "파일을 다 사용한 후에는 꼭 `close()`로 닫아주는 습관을 들이는 게 좋아요! "
   ]
  },
  {
   "cell_type": "code",
   "execution_count": null,
   "metadata": {},
   "outputs": [],
   "source": [
    "# 'chatbot_log.txt' 라는 이름의 파일을 쓰기 모드('w')로 열어요.\n",
    "# f 는 이 파일을 다룰 수 있는 리모컨(파일 객체)이라고 생각하면 쉬워요.\n",
    "f = open(\"chatbot_log.txt\", 'w')\n",
    "\n",
    "# f.write()를 사용해서 파일에 내용을 적어요.\n",
    "# '\\n'은 줄바꿈을 의미하는 특수문자예요.\n",
    "f.write(\"챗봇과의 대화를 시작합니다.\\n\")\n",
    "f.write(\"사용자: 안녕?\\n\")\n",
    "f.write(\"챗봇: 안녕하세요!\\n\")\n",
    "\n",
    "# 리모컨 사용이 끝났으면 파일을 닫아줘요.\n",
    "f.close()\n",
    "\n",
    "print(\"챗봇의 대화 기록이 'chatbot_log.txt' 파일에 저장되었습니다!\")\n",
    "# 왼쪽 폴더 아이콘을 눌러서 파일이 만들어졌는지, 내용은 잘 저장됐는지 확인해보세요!"
   ]
  },
  {
   "cell_type": "markdown",
   "metadata": {},
   "source": [
    "## 2. 챗봇의 옛날 일기 읽기: 파일 읽기(r)\n",
    "\n",
    "자, 이제 챗봇이 저장해 둔 대화 기록을 다시 읽어와서 \"어제 이런 대화를 했었지!\" 하고 기억하게 만들어 볼까요? 이번에는 읽기 모드 `'r'`을 사용할 거예요.\n",
    "\n",
    "파일을 읽는 방법은 여러 가지가 있어요.\n",
    "* `readline()`: 파일의 내용을 **한 줄씩** 읽어와요. \n",
    "* `readlines()`: 파일의 모든 줄을 읽어서, 각 줄을 요소로 하는 **리스트**로 만들어줘요. \n",
    "* `read()`: 파일의 **모든 내용**을 하나의 커다란 문자열로 통째로 읽어와요. "
   ]
  },
  {
   "cell_type": "code",
   "execution_count": null,
   "metadata": {},
   "outputs": [],
   "source": [
    "print(\"--- readline() 으로 한 줄씩 읽기 ---\")\n",
    "f = open(\"chatbot_log.txt\", 'r')\n",
    "line1 = f.readline() # 첫 번째 줄 읽기\n",
    "line2 = f.readline() # 두 번째 줄 읽기\n",
    "print(line1, end=\"\") # print는 자체적으로 줄바꿈을 하므로 end=\"\" 추가\n",
    "print(line2, end=\"\")\n",
    "f.close()\n",
    "\n",
    "print(\"\\n--- readlines() 로 모든 줄을 리스트로 읽기 ---\")\n",
    "f = open(\"chatbot_log.txt\", 'r')\n",
    "lines = f.readlines()\n",
    "print(lines)\n",
    "for line in lines:\n",
    "    print(line, end=\"\")\n",
    "f.close()\n",
    "\n",
    "print(\"\\n--- read() 로 통째로 읽기 ---\")\n",
    "f = open(\"chatbot_log.txt\", 'r')\n",
    "all_content = f.read()\n",
    "print(all_content)\n",
    "f.close()"
   ]
  },
  {
   "cell_type": "markdown",
   "metadata": {},
   "source": [
    "## 3. 대화 이어가기: 파일에 내용 추가하기(a)\n",
    "\n",
    "챗봇과 대화를 더 나누었어요. 이 내용을 기존 대화 기록에 이어서 저장하고 싶어요. 이때 쓰기 모드 `'w'`를 쓰면 기존 내용이 다 날아가 버리겠죠? \n",
    "\n",
    "이럴 때 필요한 것이 바로 **추가 모드 `'a'`** 입니다! `'a'` 모드로 파일을 열면, 파일의 맨 끝에서부터 새로운 내용을 추가할 수 있어요. "
   ]
  },
  {
   "cell_type": "code",
   "execution_count": null,
   "metadata": {},
   "outputs": [],
   "source": [
    "# chatbot_log.txt 파일을 추가 모드('a')로 열어요.\n",
    "f = open(\"chatbot_log.txt\", 'a')\n",
    "\n",
    "# 새로운 대화 내용을 파일 맨 끝에 추가해요.\n",
    "f.write(\"사용자: 오늘 날씨 어때?\\n\")\n",
    "f.write(\"챗봇: 오늘은 날씨가 아주 맑아요!\\n\")\n",
    "\n",
    "f.close()\n",
    "\n",
    "print(\"'chatbot_log.txt' 파일에 새로운 대화가 추가되었습니다!\")\n",
    "\n",
    "# 정말 추가되었는지, 전체 내용을 다시 읽어서 확인해볼까요?\n",
    "f_read = open(\"chatbot_log.txt\", 'r')\n",
    "full_log = f_read.read()\n",
    "print(\"\\n--- 전체 대화 기록 ---\")\n",
    "print(full_log)"
   ]
  },
  {
   "cell_type": "markdown",
   "metadata": {},
   "source": [
    "## 4. 깜빡하고 문을 안 닫아도 괜찮아: `with`\n",
    "\n",
    "파일을 `open()` 한 다음에는 항상 `close()`로 닫아줘야 해요. 하지만 깜빡하기 쉽겠죠? \n",
    "\n",
    "파이썬은 이런 실수를 방지할 수 있도록 `with` 라는 아주 편리한 기능을 제공해요. `with`를 사용해서 파일을 열면, `with` 블록(들여쓰기 된 부분)의 코드가 모두 실행된 후에 **자동으로 파일을 닫아줘요**. \n",
    "\n",
    "앞으로는 `with`를 사용하는 것이 더 안전하고 좋은 습관이에요!"
   ]
  },
  {
   "cell_type": "code",
   "execution_count": null,
   "metadata": {},
   "outputs": [],
   "source": [
    "# with open(\"파일명\", \"모드\") as 파일리모컨:\n",
    "with open(\"memo.txt\", \"w\") as f:\n",
    "    f.write(\"with문을 사용하면 코드가 더 깔끔해져요.\\n\")\n",
    "    f.write(\"close()를 신경쓰지 않아도 된답니다.\\n\")\n",
    "\n",
    "# with 블록이 끝났으므로 파일은 자동으로 닫혔어요!\n",
    "\n",
    "# 파일이 잘 써졌는지 읽어서 확인해볼까요?\n",
    "with open(\"memo.txt\", \"r\") as f:\n",
    "    memo_content = f.read()\n",
    "    print(memo_content)"
   ]
  },
  {
   "cell_type": "markdown",
   "metadata": {},
   "source": [
    "## ⭐️ 혼자 해보는 챗봇 기억력 강화 훈련 ⭐️\n",
    "\n",
    "이제 챗봇의 기억력을 직접 강화시켜줄 시간이에요!\n",
    "아래 문제들의 코드 셀에서 `___` 부분을 채워서 코드를 완성해보세요!"
   ]
  },
  {
   "cell_type": "markdown",
   "metadata": {},
   "source": [
    "### 연습문제 1: 자기소개 파일 만들기\n",
    " `with`를 사용해서 \"profile.txt\" 파일을 만들고, \"이름: 챗봇이\\n나이: 1살\\n\" 내용을 작성해보세요. 모드는 무엇을 써야 할까요?"
   ]
  },
  {
   "cell_type": "code",
   "execution_count": null,
   "metadata": {},
   "outputs": [],
   "source": [
    "with open(\"profile.txt\", ___) as f:\n",
    "    f.write(\"이름: 챗봇이\\n\")\n",
    "    f.write(\"나이: 1살\\n\")\n",
    "\n",
    "print(\"profile.txt 파일 생성 완료!\")"
   ]
  },
  {
   "cell_type": "markdown",
   "metadata": {},
   "source": [
    "### 연습문제 2: 자기소개 파일 읽기\n",
    "방금 만든 \"profile.txt\" 파일의 내용을 `read()`를 사용해서 통째로 읽어온 후, `profile_info` 변수에 저장하고 출력해보세요."
   ]
  },
  {
   "cell_type": "code",
   "execution_count": null,
   "metadata": {},
   "outputs": [],
   "source": [
    "with open(\"profile.txt\", ___) as f:\n",
    "    profile_info = f.___()\n",
    "\n",
    "print(\"--- 챗봇 자기소개 ---\")\n",
    "print(profile_info)"
   ]
  },
  {
   "cell_type": "markdown",
   "metadata": {},
   "source": [
    "### 연습문제 3: 좋아하는 것 추가하기\n",
    "\"profile.txt\" 파일에 `with`와 **추가 모드**를 사용해서 \"취미: 코딩하기\\n\" 라는 내용을 덧붙여보세요."
   ]
  },
  {
   "cell_type": "code",
   "execution_count": null,
   "metadata": {},
   "outputs": [],
   "source": [
    "with open(\"profile.txt\", ___) as f:\n",
    "    f.write(\"취미: 코딩하기\\n\")\n",
    "\n",
    "# 정말 추가됐는지 확인!\n",
    "with open(\"profile.txt\", \"r\") as f:\n",
    "    print(f.read())"
   ]
  },
  {
   "cell_type": "markdown",
   "metadata": {},
   "source": [
    "### 연습문제 4: 한 줄씩 읽어서 출력하기\n",
    "아래 `lines_to_write` 리스트의 각 항목을 한 줄씩 \"todo_list.txt\" 파일에 쓴 다음, `readlines()`로 읽어서 한 줄씩 출력해보세요."
   ]
  },
  {
   "cell_type": "code",
   "execution_count": null,
   "metadata": {},
   "outputs": [],
   "source": [
    "lines_to_write = [\"파이썬 공부하기\\n\", \"운동하기\\n\", \"책 읽기\\n\"]\n",
    "\n",
    "with open(\"todo_list.txt\", \"w\") as f:\n",
    "    f.writelines(lines_to_write) # writelines는 리스트를 파일에 써줘요!\n",
    "\n",
    "print(\"--- 오늘의 할 일 ---\")\n",
    "with open(\"todo_list.txt\", ___) as f:\n",
    "    todo_items = f.___()\n",
    "    for item in todo_items:\n",
    "        print(item, end=\"\")"
   ]
  },
  {
   "cell_type": "markdown",
   "metadata": {},
   "source": [
    "### 연습문제 5: 파일에서 첫 줄만 읽기\n",
    "\"todo_list.txt\" 파일을 열어서 가장 첫 번째 할 일(첫 번째 줄)만 읽어온 후, `first_todo` 변수에 저장하고 출력해보세요."
   ]
  },
  {
   "cell_type": "code",
   "execution_count": null,
   "metadata": {},
   "outputs": [],
   "source": [
    "with open(\"todo_list.txt\", \"r\") as f:\n",
    "    first_todo = f.___()\n",
    "\n",
    "print(f\"가장 먼저 할 일은: {first_todo}\")"
   ]
  },
  {
   "cell_type": "markdown",
   "metadata": {},
   "source": [
    "### 연습문제 6: 사용자 입력받아 파일에 쓰기\n",
    "`input()`으로 사용자에게 오늘의 기분을 물어보고, 그 답변을 \"diary.txt\" 파일에 **추가 모드**로 저장하는 코드를 완성하세요."
   ]
  },
  {
   "cell_type": "code",
   "execution_count": null,
   "metadata": {},
   "outputs": [],
   "source": [
    "user_feeling = input(\"오늘 기분은 어땠나요? \")\n",
    "\n",
    "with open(\"diary.txt\", ___) as f:\n",
    "    f.write(user_feeling + \"\\n\") # 줄바꿈 문자를 더해줘요\n",
    "\n",
    "print(\"오늘의 일기가 저장되었습니다.\")"
   ]
  },
  {
   "cell_type": "markdown",
   "metadata": {},
   "source": [
    "### 연습문제 7: 파일 전체 내용 출력하기\n",
    "지금까지 작성된 \"diary.txt\" 파일의 모든 내용을 읽어서 화면에 출력하는 코드를 완성하세요."
   ]
  },
  {
   "cell_type": "code",
   "execution_count": null,
   "metadata": {},
   "outputs": [],
   "source": [
    "with open(\"diary.txt\", ___) as f:\n",
    "    full_diary = f.___()\n",
    "\n",
    "print(\"--- 나의 일기장 ---\")\n",
    "print(full_diary)"
   ]
  },
  {
   "cell_type": "markdown",
   "metadata": {},
   "source": [
    "### 연습문제 8: 반복문으로 파일 쓰기\n",
    "`for` 반복문을 사용해서 숫자 1부터 5까지, 각 숫자를 \"number.txt\" 파일의 새로운 줄에 쓰는 코드를 완성하세요. (예: 1\\n, 2\\n, ...)"
   ]
  },
  {
   "cell_type": "code",
   "execution_count": null,
   "metadata": {},
   "outputs": [],
   "source": [
    "with open(\"number.txt\", ___) as f:\n",
    "    for i in range(1, 6):\n",
    "        f.write(str(i) + \"\\n\") # 숫자를 글자로 바꿔서 써야해요!\n",
    "\n",
    "print(\"number.txt 파일이 생성되었습니다.\")"
   ]
  },
  {
   "cell_type": "markdown",
   "metadata": {},
   "source": [
    "### 연습문제 9: 파일 객체로 바로 반복하기\n",
    "\"number.txt\" 파일을 `with`로 열고, 파일 객체 `f`를 `for`문에 바로 사용해서 파일의 내용을 한 줄씩 출력하는 코드를 완성하세요."
   ]
  },
  {
   "cell_type": "code",
   "execution_count": null,
   "metadata": {},
   "outputs": [],
   "source": [
    "with open(\"number.txt\", \"r\") as f:\n",
    "    for line in ___:\n",
    "        print(line, end=\"\")"
   ]
  },
  {
   "cell_type": "markdown",
   "metadata": {},
   "source": [
    "### 연습문제 10: 한글 파일 다루기 (인코딩)\n",
    "`with`를 사용해서 \"korean.txt\" 파일에 \"파이썬은 재미있어요!\"라고 써보세요. 한글이 깨지지 않게 하려면 어떤 옵션을 추가해야 할까요? "
   ]
  },
  {
   "cell_type": "code",
   "execution_count": null,
   "metadata": {},
   "outputs": [],
   "source": [
    "# open() 함수에 encoding=\"utf-8\" 옵션을 추가해요!\n",
    "with open(\"korean.txt\", \"w\", encoding=___) as f:\n",
    "    f.write(\"파이썬은 재미있어요!\")\n",
    "\n",
    "# 잘 써졌는지 읽어서 확인!\n",
    "with open(\"korean.txt\", \"r\", encoding=\"utf-8\") as f:\n",
    "    content = f.read()\n",
    "    print(content)"
   ]
  },
  {
   "cell_type": "markdown",
   "metadata": {},
   "source": [
    "## 짝짝짝! 챗봇에게 완벽한 기억력을 선물했네요! 🧠✨\n",
    "\n",
    "이제 여러분은 파일을 자유자재로 다루는 방법을 배웠습니다. 이 기술을 이용하면 단순히 대화를 저장하는 것뿐만 아니라, 설정 파일, 데이터 로그, 사용자 정보 등 아주 다양한 정보를 프로그램이 기억하게 만들 수 있답니다. 정말 강력한 무기를 손에 넣은 거예요!"
   ]
  }
 ],
 "metadata": {
  "kernelspec": {
   "display_name": "Python 3",
   "language": "python",
   "name": "python3"
  },
  "language_info": {
   "codemirror_mode": {
    "name": "ipython",
    "version": 3
   },
   "file_extension": ".py",
   "mimetype": "text/x-python",
   "name": "python",
   "nbconvert_exporter": "python",
   "pygments_lexer": "ipython3",
   "version": "3.10.6"
  }
 },
 "nbformat": 4,
 "nbformat_minor": 4
}