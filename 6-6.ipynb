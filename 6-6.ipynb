{
 "cells": [
  {
   "cell_type": "markdown",
   "metadata": {},
   "source": [
    "# 🤖 FileBot: 나만의 파이썬 파일 탐정 챗봇 만들기\n",
    "\n",
    "안녕하세요! 코딩의 세계에 오신 것을 환영합니다. 🎉\n",
    "\n",
    "오늘은 아주 간단한 '파일 탐정 챗봇'을 함께 만들어보면서 파이썬의 기초 문법을 쉽고 재미있게 배워볼 거예요. 우리가 만들 챗봇은 우리가 지정하는 폴더(디렉터리) 안에 어떤 파이썬 파일(`.py`)들이 숨어있는지 찾아주는 똑똑한 친구랍니다. \n",
    "\n",
    "이 과정을 통해 여러분은 컴퓨터에게 어떻게 일을 시키는지, 그리고 파이썬이라는 언어가 얼마나 유용한지 직접 체험하게 될 거예요. 겁먹지 말고, 차근차근 따라오세요!"
   ]
  },
  {
   "cell_type": "markdown",
   "metadata": {},
   "source": [
    "## 1단계: 챗봇에게 인사하는 법 가르치기 (함수 `def`와 `print`)\n",
    "\n",
    "가장 먼저, 우리 챗봇이 인사를 할 수 있도록 만들어 봅시다. 파이썬에서는 특정 행동을 묶어서 '함수'라는 이름표를 붙여줄 수 있어요. `def`라는 키워드는 'define(정의하다)'의 줄임말로, 새로운 함수를 만들 때 사용합니다. `print()` 함수는 괄호 안의 내용을 화면에 보여주는 역할을 하죠. 마치 챗봇의 입과 같아요."
   ]
  },
  {
   "cell_type": "code",
   "execution_count": null,
   "metadata": {},
   "outputs": [],
   "source": [
    "# 'greet'라는 이름의 함수를 만들고, 호출하면 인사를 출력하도록 가르쳐봅시다.\n",
    "def greet():\n",
    "  print(\"안녕하세요! 저는 파이썬 파일을 찾아주는 FileBot입니다. 🤖\")\n",
    "  print(\"어느 폴더를 검색해볼까요?\")\n",
    "\n",
    "# greet 함수를 호출해서 챗봇이 말하게 해봅시다.\n",
    "greet()"
   ]
  },
  {
   "cell_type": "markdown",
   "metadata": {},
   "source": [
    "## 2단계: 챗봇이 우리 말을 알아듣게 하기 (`os` 모듈과 파일 목록 보기)\n",
    "\n",
    "이제 챗봇이 진짜로 폴더 안을 들여다보게 만들어야겠죠? 이때 필요한 도구가 바로 `os` 모듈입니다. '모듈'은 다른 사람들이 미리 만들어 놓은 유용한 기능들의 모음이에요. `os` 모듈은 운영체제(Operating System)와 관련된 기능들을 가지고 있어서, 파일이나 폴더를 다룰 수 있게 해줍니다.\n",
    "\n",
    "`os.listdir(폴더이름)` 함수는 해당 폴더 안에 있는 파일과 다른 폴더들의 목록을 쫙 보여줍니다. \n",
    "\n",
    "**잠깐!** 구글 코랩은 우리 컴퓨터가 아니라 구글 컴퓨터에서 실행돼요. 그래서 실습을 위해 가짜 파일과 폴더를 직접 만들어줘야 합니다. 아래 코드를 실행해서 실습 환경을 만들어 보세요!"
   ]
  },
  {
   "cell_type": "code",
   "execution_count": null,
   "metadata": {},
   "outputs": [],
   "source": [
    "import os # os 모듈을 사용하겠다고 선언합니다.\n",
    "\n",
    "# 실습용 폴더와 파일을 만들어 봅시다.\n",
    "if not os.path.exists('my_project'):\n",
    "    os.makedirs('my_project/utils')\n",
    "\n",
    "with open('my_project/main_chatbot.py', 'w') as f:\n",
    "    f.write('# This is the main file.')\n",
    "with open('my_project/config.txt', 'w') as f:\n",
    "    f.write('settings')\n",
    "with open('my_project/utils/helper.py', 'w') as f:\n",
    "    f.write('# Helper functions here.')\n",
    "\n",
    "print(\"'my_project' 폴더와 그 안의 파일들을 성공적으로 만들었습니다! 이제 실습을 시작할 수 있어요.\")"
   ]
  },
  {
   "cell_type": "markdown",
   "metadata": {},
   "source": [
    "자, 이제 준비가 끝났습니다. `os.listdir()`를 이용해서 `my_project` 폴더 안에 무엇이 들어있는지 챗봇에게 물어보겠습니다."
   ]
  },
  {
   "cell_type": "code",
   "execution_count": null,
   "metadata": {},
   "outputs": [],
   "source": [
    "import os\n",
    "\n",
    "def look_inside_folder(dirname): # dirname 이라는 이름으로 폴더 경로를 받습니다.\n",
    "  print(f\"'{dirname}' 폴더를 확인해볼게요!\")\n",
    "  try:\n",
    "    filenames = os.listdir(dirname) # 폴더 안의 파일/폴더 목록을 가져옵니다.\n",
    "    print(\"찾은 파일 및 폴더 목록:\")\n",
    "    for filename in filenames: # 목록에 있는 각 항목을 하나씩 출력합니다.\n",
    "      print(filename)\n",
    "  except FileNotFoundError:\n",
    "    print(f\"앗! '{dirname}' 폴더를 찾을 수 없어요. 이름을 다시 확인해주세요.\")\n",
    "\n",
    "# 'my_project' 폴더를 보도록 함수를 호출해봅시다.\n",
    "look_inside_folder('my_project')"
   ]
  },
  {
   "cell_type": "markdown",
   "metadata": {},
   "source": [
    "## 3단계: 파이썬 파일만 쏙쏙 골라내기 (`for`, `if`, `os.path.splitext`)\n",
    "\n",
    "모든 파일을 보여주는 것도 좋지만, 우리의 목표는 파이썬 파일(`.py`)만 찾는 것입니다. 그러려면 몇 가지 기술이 더 필요해요.\n",
    "\n",
    "- **`for` 반복문**: 목록에 있는 항목들을 하나씩 차례대로 꺼내서 살펴볼 때 사용합니다.\n",
    "- **`os.path.join()`**: '폴더 경로'와 '파일 이름'을 합쳐서 완전한 전체 경로로 만들어 줍니다. 예를 들어 `'my_project'`와 `'main_chatbot.py'`를 합치면 `'my_project/main_chatbot.py'`가 되죠.\n",
    "- **`os.path.splitext()`**: 파일 이름을 '이름 부분'과 '확장자 부분'으로 쪼개주는 똑똑한 기능입니다. 예를 들어 `'main_chatbot.py'`는 `('main_chatbot', '.py')`로 나눠줘요. 우리는 뒤쪽 확장자만 확인하면 되겠죠?\n",
    "- **`if` 조건문**: '만약 ~라면 ...해라'처럼 특정 조건이 맞을 때만 코드를 실행시키고 싶을 때 사용합니다."
   ]
  },
  {
   "cell_type": "code",
   "execution_count": null,
   "metadata": {},
   "outputs": [],
   "source": [
    "import os\n",
    "\n",
    "def find_python_files(dirname):\n",
    "  print(f\"\\n'{dirname}' 폴더에서 파이썬 파일을 검색합니다...\")\n",
    "  filenames = os.listdir(dirname)\n",
    "  for filename in filenames:\n",
    "    full_filename = os.path.join(dirname, filename) # 전체 경로 만들기\n",
    "    \n",
    "    # 파일 이름에서 확장자만 떼어내기\n",
    "    ext = os.path.splitext(full_filename)[-1] # ex) ('main_chatbot', '.py') 에서 '.py'만 가져옴\n",
    "    \n",
    "    # 만약 확장자가 '.py'와 같다면, 화면에 출력하기\n",
    "    if ext == '.py':\n",
    "      print(f\"  [발견!] {full_filename}\")\n",
    "\n",
    "find_python_files('my_project')\n"
   ]
  },
  {
   "cell_type": "markdown",
   "metadata": {},
   "source": [
    "## 4단계: 숨어있는 폴더까지 샅샅이 뒤지기 (재귀 함수)\n",
    "\n",
    "어? 그런데 `my_project/utils` 폴더 안에 있는 `helper.py` 파일은 찾지 못했네요. 현재 코드는 딱 한 단계의 폴더만 보기 때문이에요. 폴더 안에 또 다른 폴더가 있을 때, 그 속까지 들어가서 보게 하려면 어떻게 해야 할까요?\n",
    "\n",
    "바로 **'재귀(Recursion)'**라는 기법을 사용하면 됩니다. 조금 어렵게 들릴 수 있지만, 개념은 간단해요. **함수가 자기 자신을 다시 부르는 것**입니다. \n",
    "\n",
    "1. 폴더 안을 살펴본다.\n",
    "2. 만약 **파일**을 만나면, 파이썬 파일인지 확인한다.\n",
    "3. 만약 **또 다른 폴더**를 만나면, **지금까지 했던 똑같은 방법으로 그 폴더 안을 다시 살펴본다(자기 자신 호출)**.\n",
    "\n",
    "`os.path.isdir(경로)` 함수는 해당 경로가 폴더이면 `True`(맞다), 아니면 `False`(아니다)를 알려줘서 파일과 폴더를 구분할 수 있게 해줍니다."
   ]
  },
  {
   "cell_type": "code",
   "execution_count": null,
   "metadata": {},
   "outputs": [],
   "source": [
    "import os\n",
    "\n",
    "def search_recursively(dirname):\n",
    "  try: # 권한이 없는 폴더에 접근할 때 오류가 나지 않도록 방어\n",
    "    filenames = os.listdir(dirname)\n",
    "    for filename in filenames:\n",
    "      full_filename = os.path.join(dirname, filename)\n",
    "      \n",
    "      # 만약 폴더(directory)라면?\n",
    "      if os.path.isdir(full_filename):\n",
    "        # 똑같은 함수를 다시 호출해서 그 폴더 속으로 들어간다!\n",
    "        search_recursively(full_filename) \n",
    "      # 폴더가 아니라 파일이라면?\n",
    "      else:\n",
    "        ext = os.path.splitext(full_filename)[-1]\n",
    "        if ext == '.py':\n",
    "          print(f\"  [꼼꼼히 발견!] {full_filename}\")\n",
    "  except PermissionError:\n",
    "    pass # 권한이 없으면 그냥 조용히 넘어간다\n",
    "\n",
    "print(\"모든 하위 폴더까지 꼼꼼하게 검색을 시작합니다!\")\n",
    "search_recursively('my_project')"
   ]
  },
  {
   "cell_type": "markdown",
   "metadata": {},
   "source": [
    "## 5단계: 전문가처럼 검색하기 (`os.walk`)\n",
    "\n",
    "재귀 함수는 아주 강력한 도구이지만, 파이썬에는 이런 종류의 작업을 훨씬 더 쉽게 해주는 '마법 지팡이' 같은 기능이 있습니다. 바로 `os.walk()` 입니다. \n",
    "\n",
    "`os.walk(시작폴더)`는 시작 폴더부터 시작해서 모든 하위 폴더들을 알아서 방문하면서, 각 폴더마다 **(1) 현재 폴더 경로, (2) 현재 폴더 안에 있는 하위 폴더 목록, (3) 현재 폴더 안에 있는 파일 목록**을 차례대로 알려줍니다. 우리는 그냥 받아서 파일 목록만 확인하면 되니 코드가 훨씬 간단해져요!"
   ]
  },
  {
   "cell_type": "code",
   "execution_count": null,
   "metadata": {},
   "outputs": [],
   "source": [
    "import os\n",
    "\n",
    "print(\"전문가의 방법, os.walk로 검색을 시작합니다!\")\n",
    "start_dir = 'my_project'\n",
    "\n",
    "# os.walk는 path, dirs, files 세 가지 정보를 한 번에 줍니다.\n",
    "for path, dirs, files in os.walk(start_dir):\n",
    "  # 우리는 파일 목록(files)에만 관심이 있어요.\n",
    "  for filename in files:\n",
    "    ext = os.path.splitext(filename)[-1] # os.walk는 파일 이름만 주므로 전체 경로가 필요 없어요.\n",
    "    if ext == '.py':\n",
    "      full_path = os.path.join(path, filename)\n",
    "      print(f\"  [os.walk로 발견!] {full_path}\")"
   ]
  },
  {
   "cell_type": "markdown",
   "metadata": {},
   "source": [
    "축하합니다! 여러분은 이제 파이썬으로 특정 폴더와 그 하위 폴더를 모두 탐색해서 원하는 조건의 파일을 찾아내는 챗봇의 핵심 기능을 만들 수 있게 되었습니다. 정말 대단해요! 🥳\n",
    "\n",
    "이제 배운 내용을 복습하고 응용해볼 수 있는 몇 가지 연습문제를 풀어봅시다."
   ]
  },
  {
   "cell_type": "markdown",
   "metadata": {},
   "source": [
    "---"
   ]
  },
  {
   "cell_type": "markdown",
   "metadata": {},
   "source": [
    "## 📝 혼자 해보는 연습문제\n",
    "\n",
    "아래 문제들은 여러분이 배운 내용을 잘 이해했는지 확인하기 위한 것입니다. 빈칸 `___`을 채우거나 살짝 코드를 수정해서 직접 실행해보세요!"
   ]
  },
  {
   "cell_type": "markdown",
   "metadata": {},
   "source": [
    "### 문제 1: 챗봇의 인사말 바꾸기\n",
    "FileBot의 첫인사를 더 친근하게 바꿔보세요. 예를 들어 \"안녕! 나는 파일 탐험가 FileBot이야!\" 처럼요."
   ]
  },
  {
   "cell_type": "code",
   "execution_count": null,
   "metadata": {},
   "outputs": [],
   "source": [
    "def friendly_greet():\n",
    "  # 아래의 print() 안의 문자열을 원하는 인사말로 바꿔보세요.\n",
    "  print(\"___\")\n",
    "\n",
    "friendly_greet()"
   ]
  },
  {
   "cell_type": "markdown",
   "metadata": {},
   "source": [
    "### 문제 2: 파이썬 파일 대신 텍스트 파일(`.txt`) 찾기\n",
    "우리가 만든 `my_project` 폴더에는 `config.txt` 파일이 있습니다. 파이썬 파일이 아니라 `.txt` 확장자를 가진 파일을 찾도록 코드를 수정해보세요."
   ]
  },
  {
   "cell_type": "code",
   "execution_count": null,
   "metadata": {},
   "outputs": [],
   "source": [
    "import os\n",
    "\n",
    "start_dir = 'my_project'\n",
    "\n",
    "for path, dirs, files in os.walk(start_dir):\n",
    "  for filename in files:\n",
    "    ext = os.path.splitext(filename)[-1]\n",
    "    # 아래 if 조건문에서 '.py'를 다른 확장자로 바꿔보세요.\n",
    "    if ext == '___':\n",
    "      print(f\"텍스트 파일 발견: {os.path.join(path, filename)}\")"
   ]
  },
  {
   "cell_type": "markdown",
   "metadata": {},
   "source": [
    "### 문제 3: 찾은 파일 개수 세기\n",
    "파일을 찾을 때마다 개수를 세어서, 검색이 끝난 후 총 몇 개의 파일을 찾았는지 알려주도록 코드를 만들어보세요."
   ]
  },
  {
   "cell_type": "code",
   "execution_count": null,
   "metadata": {},
   "outputs": [],
   "source": [
    "import os\n",
    "\n",
    "file_count = 0 # 파일 개수를 저장할 변수를 0으로 시작\n",
    "start_dir = 'my_project'\n",
    "\n",
    "for path, dirs, files in os.walk(start_dir):\n",
    "  for filename in files:\n",
    "    if filename.endswith('.py'): # .endswith()는 더 쉬운 방법이에요!\n",
    "      print(f\"파이썬 파일 발견: {os.path.join(path, filename)}\")\n",
    "      # 파일을 찾을 때마다 file_count를 1씩 증가시키세요.\n",
    "      file_count = ___\n",
    "\n",
    "print(f\"\\n검색 완료! 총 {file_count}개의 파이썬 파일을 찾았습니다.\")"
   ]
  },
  {
   "cell_type": "markdown",
   "metadata": {},
   "source": [
    "### 문제 4: 특정 단어가 포함된 파일 찾기\n",
    "파일 이름에 'main'이라는 단어가 포함된 파일만 찾아보세요. 문자열 안에 특정 글자가 있는지 확인할 때는 `in` 키워드를 사용하면 편리합니다. (예: `'main' in 'main_chatbot.py'`는 `True`가 됩니다)"
   ]
  },
  {
   "cell_type": "code",
   "execution_count": null,
   "metadata": {},
   "outputs": [],
   "source": [
    "import os\n",
    "\n",
    "start_dir = 'my_project'\n",
    "\n",
    "for path, dirs, files in os.walk(start_dir):\n",
    "  for filename in files:\n",
    "    # 아래 if 조건문을 완성해서 파일 이름(filename)에 'main'이 포함되어 있는지 확인하세요.\n",
    "    if '___' in filename:\n",
    "      print(f\"'main'을 포함하는 파일 발견: {os.path.join(path, filename)}\")"
   ]
  },
  {
   "cell_type": "markdown",
   "metadata": {},
   "source": [
    "### 문제 5: 폴더 이름만 출력하기\n",
    "`os.walk`는 파일 목록뿐만 아니라 폴더 목록(dirs)도 알려줍니다. 이것을 이용해 `my_project` 안의 모든 하위 폴더 이름을 출력해보세요."
   ]
  },
  {
   "cell_type": "code",
   "execution_count": null,
   "metadata": {},
   "outputs": [],
   "source": [
    "import os\n",
    "\n",
    "start_dir = 'my_project'\n",
    "\n",
    "print(f\"'{start_dir}'의 모든 하위 폴더 목록:\")\n",
    "for path, dirs, files in os.walk(start_dir):\n",
    "  # 현재 경로(path)에 있는 폴더 목록(dirs)을 하나씩 출력해봅시다.\n",
    "  for dirname in ___: \n",
    "    print(f\" - {os.path.join(path, dirname)}\")"
   ]
  },
  {
   "cell_type": "markdown",
   "metadata": {},
   "source": [
    "### 문제 6: 대문자로 소리쳐 말하기\n",
    "챗봇이 찾은 파일 경로를 모두 대문자로 출력해서, 마치 소리치는 것처럼 보이게 만들어보세요. 문자열 뒤에 `.upper()`를 붙이면 대문자로 바꿀 수 있습니다."
   ]
  },
  {
   "cell_type": "code",
   "execution_count": null,
   "metadata": {},
   "outputs": [],
   "source": [
    "import os\n",
    "\n",
    "start_dir = 'my_project'\n",
    "\n",
    "for path, dirs, files in os.walk(start_dir):\n",
    "  for filename in files:\n",
    "    if filename.endswith('.py'):\n",
    "      full_path = os.path.join(path, filename)\n",
    "      # full_path를 대문자로 바꿔서 출력하세요.\n",
    "      print(___.upper())"
   ]
  },
  {
   "cell_type": "markdown",
   "metadata": {},
   "source": [
    "### 문제 7: 검색할 폴더를 직접 입력받기\n",
    "`input()` 함수를 사용하면 사용자에게 직접 글자를 입력받을 수 있습니다. 챗봇이 어느 폴더를 검색할지 물어보고, 사용자가 입력한 폴더를 검색하도록 만들어보세요."
   ]
  },
  {
   "cell_type": "code",
   "execution_count": null,
   "metadata": {},
   "outputs": [],
   "source": [
    "import os\n",
    "\n",
    "# input() 함수로 사용자에게 폴더 이름을 입력받아 search_target 변수에 저장하세요.\n",
    "search_target = input(\"어느 폴더를 검색할까요? (예: my_project) \")\n",
    "\n",
    "print(f\"\\n'{search_target}' 폴더를 검색합니다.\")\n",
    "if not os.path.exists(search_target):\n",
    "  print(\"그런 폴더는 존재하지 않아요!\")\n",
    "else:\n",
    "  for path, dirs, files in os.walk(___):\n",
    "    for filename in files:\n",
    "      if filename.endswith('.py'):\n",
    "        print(f\"  발견! {os.path.join(path, filename)}\")"
   ]
  },
  {
   "cell_type": "markdown",
   "metadata": {},
   "source": [
    "### 문제 8: 파일과 폴더 구분하기\n",
    "`my_project` 폴더를 `os.listdir`로 확인하고, 각 항목이 파일인지 폴더인지 구분해서 출력해보세요. `os.path.isdir()` 함수를 사용하면 됩니다."
   ]
  },
  {
   "cell_type": "code",
   "execution_count": null,
   "metadata": {},
   "outputs": [],
   "source": [
    "import os\n",
    "\n",
    "target_dir = 'my_project'\n",
    "items = os.listdir(target_dir)\n",
    "\n",
    "for item in items:\n",
    "  full_path = os.path.join(target_dir, item)\n",
    "  # 만약 full_path가 폴더(directory)라면\n",
    "  if os.path.isdir(___):\n",
    "    print(f\"[폴더] {item}\")\n",
    "  # 폴더가 아니라면\n",
    "  else:\n",
    "    print(f\"[파일] {item}\")"
   ]
  },
  {
   "cell_type": "markdown",
   "metadata": {},
   "source": [
    "### 문제 9: 챗봇의 마무리 인사\n",
    "모든 검색이 끝난 후에 챗봇이 \"탐색 완료! 도움이 되셨나요?\" 와 같은 끝인사를 하도록 만들어보세요."
   ]
  },
  {
   "cell_type": "code",
   "execution_count": null,
   "metadata": {},
   "outputs": [],
   "source": [
    "import os\n",
    "\n",
    "print(\"검색을 시작합니다...\")\n",
    "start_dir = 'my_project'\n",
    "found_anything = False\n",
    "\n",
    "for path, dirs, files in os.walk(start_dir):\n",
    "  for filename in files:\n",
    "    if filename.endswith('.py'):\n",
    "        print(f\"- {os.path.join(path, filename)}\")\n",
    "        found_anything = True\n",
    "\n",
    "if not found_anything:\n",
    "    print(\"파이썬 파일을 하나도 찾지 못했어요.\")\n",
    "\n",
    "# 여기에 챗봇의 마무리 인사를 추가해보세요.\n",
    "print(\"___\")"
   ]
  },
  {
   "cell_type": "markdown",
   "metadata": {},
   "source": [
    "### 문제 10: 나만의 함수 만들기\n",
    "지금까지 배운 내용을 조합해서, 폴더 이름과 찾고 싶은 파일 확장자를 입력받으면 해당 파일만 찾아주는 `find_my_files` 라는 이름의 함수를 직접 만들어보세요."
   ]
  },
  {
   "cell_type": "code",
   "execution_count": null,
   "metadata": {},
   "outputs": [],
   "source": [
    "import os\n",
    "\n",
    "# 폴더 이름(directory)과 확장자(extension)를 받는 함수를 정의하세요.\n",
    "def find_my_files(directory, extension):\n",
    "  print(f\"'{directory}' 폴더에서 '{extension}' 파일을 찾습니다.\")\n",
    "  for path, dirs, files in os.walk(directory):\n",
    "    for filename in files:\n",
    "      # 파일 이름이 우리가 찾는 확장자(extension)로 끝나는지 확인하세요.\n",
    "      if filename.endswith(___):\n",
    "        print(f\"  찾았다! {os.path.join(path, filename)}\")\n",
    "\n",
    "# 만든 함수를 호출해서 .txt 파일을 찾아봅시다.\n",
    "find_my_files('my_project', '.txt')\n",
    "\n",
    "# 만든 함수를 다시 호출해서 .py 파일을 찾아봅시다.\n",
    "find_my_files('my_project', '.py')"
   ]
  }
 ],
 "metadata": {
  "colab": {
   "provenance": []
  },
  "kernelspec": {
   "display_name": "Python 3",
   "name": "python3"
  },
  "language_info": {
   "name": "python"
  }
 },
 "nbformat": 4,
 "nbformat_minor": 0
}